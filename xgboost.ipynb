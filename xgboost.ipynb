{
 "cells": [
  {
   "cell_type": "code",
   "execution_count": 20,
   "metadata": {},
   "outputs": [],
   "source": [
    "# 1. Install libomp: brew install libomp\n",
    "# 2. export environment variables for xgboost: export LIBRARY_PATH=\"/opt/homebrew/opt/libomp/lib:$LIBRARY_PATH\"\n",
    "import numpy as np\n",
    "import pandas as pd\n",
    "import matplotlib.pyplot as plt\n",
    "import yfinance as yf\n",
    "\n",
    "# PyPortfolioOpt\n",
    "from pypfopt import risk_models, expected_returns\n",
    "from pypfopt import black_litterman\n",
    "from pypfopt import BlackLittermanModel, plotting\n",
    "from pypfopt import EfficientFrontier, objective_functions\n",
    "from pypfopt.discrete_allocation import DiscreteAllocation\n",
    "\n",
    "# XGBoost\n",
    "import xgboost as xgb\n",
    "\n",
    "# Exempelvis för att tysta varningar:\n",
    "import warnings\n",
    "warnings.filterwarnings(\"ignore\")"
   ]
  },
  {
   "cell_type": "markdown",
   "metadata": {},
   "source": [
    "# FGI Data gathering"
   ]
  },
  {
   "cell_type": "code",
   "execution_count": 21,
   "metadata": {},
   "outputs": [
    {
     "name": "stdout",
     "output_type": "stream",
     "text": [
      "            FGI\n",
      "Date           \n",
      "2011-01-03   68\n",
      "2011-01-04   68\n",
      "2011-01-05   67\n",
      "2011-01-06   64\n",
      "2011-01-07   63\n"
     ]
    }
   ],
   "source": [
    "# Normal FGI\n",
    "df_fgi = pd.read_csv(\n",
    "    \"datasets/FGIfromGithub2011-2020.csv\",\n",
    "    usecols=[\"Date\",\"Fear Greed\"],  # vi vill bara ha datum och FGI\n",
    "    parse_dates=[\"Date\"]\n",
    ")\n",
    "df_fgi.rename(columns={\"Fear Greed\": \"FGI\"}, inplace=True)\n",
    "df_fgi.set_index(\"Date\", inplace=True)  # sätt datumet som index\n",
    "df_fgi.sort_index(inplace=True)         # sortera på datum\n",
    "print(df_fgi.head())"
   ]
  },
  {
   "cell_type": "code",
   "execution_count": 22,
   "metadata": {},
   "outputs": [
    {
     "name": "stdout",
     "output_type": "stream",
     "text": [
      "            FGI_crypto Fng_classification\n",
      "Date                                     \n",
      "2018-02-01          30               Fear\n",
      "2018-02-02          15       Extreme Fear\n",
      "2018-02-03          40               Fear\n",
      "2018-02-04          24       Extreme Fear\n",
      "2018-02-05          11       Extreme Fear\n"
     ]
    }
   ],
   "source": [
    "# Crypto FGI\n",
    "df_fgi_crypto = pd.read_csv(\n",
    "    \"datasets/CryptoFEI.csv\",\n",
    "    parse_dates=[\"Date\"],\n",
    "    dayfirst=True  # talar om att '17-02-2025' är 17:e februari\n",
    ")\n",
    "df_fgi_crypto.rename(columns={\"Fng_value\": \"FGI_crypto\"}, inplace=True)\n",
    "df_fgi_crypto.set_index(\"Date\", inplace=True)\n",
    "df_fgi_crypto.sort_index(inplace=True)\n",
    "print(df_fgi_crypto.head())"
   ]
  },
  {
   "cell_type": "code",
   "execution_count": null,
   "metadata": {},
   "outputs": [
    {
     "name": "stdout",
     "output_type": "stream",
     "text": [
      "                     gold_silver_ratio\n",
      "DateTime                              \n",
      "1693-12-31 00:00:28              14.83\n",
      "1694-12-31 00:00:28              14.87\n",
      "1695-12-31 00:00:28              15.02\n",
      "1696-12-31 00:00:28              15.00\n",
      "1697-12-31 00:00:28              15.20\n"
     ]
    }
   ],
   "source": [
    "# Gold and silver ratio\n",
    "df_goldsilver = pd.read_csv(\n",
    "    \"datasets/Gold-Silver-Ratio-since-1693.csv\",\n",
    "    sep=\";\", \n",
    "    decimal=\",\",         # om kommatecken är decimalavskiljare\n",
    "    parse_dates=[\"DateTime\"]\n",
    ")\n",
    "\n",
    "# Byt gärna kolumnnamn\n",
    "df_goldsilver.rename(columns={\"Gold/Silver\": \"gold_silver_ratio\"}, inplace=True)\n",
    "\n",
    "# Sätt index till datum\n",
    "df_goldsilver.set_index(\"DateTime\", inplace=True)\n",
    "df_goldsilver.sort_index(inplace=True)\n",
    "df_goldsilver = df_goldsilver[df_goldsilver.index >= \"2010\"]\n",
    "print(df_goldsilver.head())"
   ]
  },
  {
   "cell_type": "markdown",
   "metadata": {},
   "source": [
    "# Data gathering for ETFs"
   ]
  },
  {
   "cell_type": "code",
   "execution_count": 24,
   "metadata": {},
   "outputs": [
    {
     "name": "stderr",
     "output_type": "stream",
     "text": [
      "[*********************100%***********************]  4 of 4 completed\n"
     ]
    },
    {
     "name": "stdout",
     "output_type": "stream",
     "text": [
      "Ticker            BND         GLD       HODL         SPY\n",
      "Date                                                    \n",
      "2025-04-04  73.820000  279.720001  23.750000  505.279999\n",
      "2025-04-07  72.930000  273.709991  22.080000  504.380005\n",
      "2025-04-08  72.510002  275.200012  21.709999  496.480011\n",
      "2025-04-09  72.680000  285.380005  23.250000  548.619995\n",
      "2025-04-10  72.099998  292.350006  22.500000  524.580017\n"
     ]
    }
   ],
   "source": [
    "ETFs = [\"SPY\", \"BND\", \"GLD\", \"HODL\"] # Maybe change HODL\n",
    "ohlc = yf.download(ETFs, period=\"15y\")\n",
    "closing_prices = ohlc[\"Close\"].dropna(how=\"all\")\n",
    "print(closing_prices.tail())"
   ]
  }
 ],
 "metadata": {
  "kernelspec": {
   "display_name": "bl-env",
   "language": "python",
   "name": "python3"
  },
  "language_info": {
   "codemirror_mode": {
    "name": "ipython",
    "version": 3
   },
   "file_extension": ".py",
   "mimetype": "text/x-python",
   "name": "python",
   "nbconvert_exporter": "python",
   "pygments_lexer": "ipython3",
   "version": "3.11.11"
  }
 },
 "nbformat": 4,
 "nbformat_minor": 2
}
