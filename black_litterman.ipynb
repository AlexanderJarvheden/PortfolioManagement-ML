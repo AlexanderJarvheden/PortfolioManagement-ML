{
 "cells": [
  {
   "cell_type": "markdown",
   "metadata": {},
   "source": [
    "Source: https://github.com/robertmartin8/PyPortfolioOpt/blob/master/cookbook/4-Black-Litterman-Allocation.ipynb "
   ]
  },
  {
   "cell_type": "markdown",
   "metadata": {},
   "source": [
    "# Downloading data"
   ]
  },
  {
   "cell_type": "code",
   "execution_count": 250,
   "metadata": {},
   "outputs": [],
   "source": [
    "# see install.md to get this working\n",
    "import numpy as np\n",
    "import pandas as pd\n",
    "import matplotlib.pyplot as plt\n",
    "import yfinance as yf\n",
    "\n",
    "# PyPortfolioOpt\n",
    "from pypfopt import risk_models, expected_returns\n",
    "from pypfopt import black_litterman\n",
    "from pypfopt import BlackLittermanModel, plotting\n",
    "from pypfopt import EfficientFrontier, objective_functions\n",
    "\n",
    "from xgb import Trainer"
   ]
  },
  {
   "cell_type": "code",
   "execution_count": null,
   "metadata": {},
   "outputs": [
    {
     "name": "stderr",
     "output_type": "stream",
     "text": [
      "[*********************100%***********************]  4 of 4 completed\n"
     ]
    },
    {
     "data": {
      "text/html": [
       "<div>\n",
       "<style scoped>\n",
       "    .dataframe tbody tr th:only-of-type {\n",
       "        vertical-align: middle;\n",
       "    }\n",
       "\n",
       "    .dataframe tbody tr th {\n",
       "        vertical-align: top;\n",
       "    }\n",
       "\n",
       "    .dataframe thead th {\n",
       "        text-align: right;\n",
       "    }\n",
       "</style>\n",
       "<table border=\"1\" class=\"dataframe\">\n",
       "  <thead>\n",
       "    <tr style=\"text-align: right;\">\n",
       "      <th>Ticker</th>\n",
       "      <th>BND</th>\n",
       "      <th>GLD</th>\n",
       "      <th>HODL</th>\n",
       "      <th>SPY</th>\n",
       "    </tr>\n",
       "    <tr>\n",
       "      <th>Date</th>\n",
       "      <th></th>\n",
       "      <th></th>\n",
       "      <th></th>\n",
       "      <th></th>\n",
       "    </tr>\n",
       "  </thead>\n",
       "  <tbody>\n",
       "    <tr>\n",
       "      <th>2025-04-22</th>\n",
       "      <td>72.379997</td>\n",
       "      <td>311.109985</td>\n",
       "      <td>25.9200</td>\n",
       "      <td>527.250000</td>\n",
       "    </tr>\n",
       "    <tr>\n",
       "      <th>2025-04-23</th>\n",
       "      <td>72.529999</td>\n",
       "      <td>303.649994</td>\n",
       "      <td>26.4800</td>\n",
       "      <td>535.419983</td>\n",
       "    </tr>\n",
       "    <tr>\n",
       "      <th>2025-04-24</th>\n",
       "      <td>72.940002</td>\n",
       "      <td>308.070007</td>\n",
       "      <td>26.4900</td>\n",
       "      <td>546.690002</td>\n",
       "    </tr>\n",
       "    <tr>\n",
       "      <th>2025-04-25</th>\n",
       "      <td>73.180000</td>\n",
       "      <td>304.730011</td>\n",
       "      <td>26.9900</td>\n",
       "      <td>550.640015</td>\n",
       "    </tr>\n",
       "    <tr>\n",
       "      <th>2025-04-28</th>\n",
       "      <td>73.315002</td>\n",
       "      <td>308.680389</td>\n",
       "      <td>26.6099</td>\n",
       "      <td>548.859619</td>\n",
       "    </tr>\n",
       "  </tbody>\n",
       "</table>\n",
       "</div>"
      ],
      "text/plain": [
       "Ticker            BND         GLD     HODL         SPY\n",
       "Date                                                  \n",
       "2025-04-22  72.379997  311.109985  25.9200  527.250000\n",
       "2025-04-23  72.529999  303.649994  26.4800  535.419983\n",
       "2025-04-24  72.940002  308.070007  26.4900  546.690002\n",
       "2025-04-25  73.180000  304.730011  26.9900  550.640015\n",
       "2025-04-28  73.315002  308.680389  26.6099  548.859619"
      ]
     },
     "execution_count": 251,
     "metadata": {},
     "output_type": "execute_result"
    }
   ],
   "source": [
    "ETFs = [\"SPY\", \"BND\", \"GLD\", \"HODL.PA\"]\n",
    "ohlc = yf.download(ETFs, period=\"15y\")  # Open, High, Low, Close\n",
    "closing_prices = ohlc[\"Close\"]\n",
    "closing_prices.tail()\n",
    "\n",
    "# Shows closing prices for the ETFs the last 5 days.\n"
   ]
  },
  {
   "cell_type": "code",
   "execution_count": 252,
   "metadata": {},
   "outputs": [
    {
     "name": "stderr",
     "output_type": "stream",
     "text": [
      "[*********************100%***********************]  1 of 1 completed\n"
     ]
    },
    {
     "data": {
      "text/html": [
       "<div>\n",
       "<style scoped>\n",
       "    .dataframe tbody tr th:only-of-type {\n",
       "        vertical-align: middle;\n",
       "    }\n",
       "\n",
       "    .dataframe tbody tr th {\n",
       "        vertical-align: top;\n",
       "    }\n",
       "\n",
       "    .dataframe thead th {\n",
       "        text-align: right;\n",
       "    }\n",
       "</style>\n",
       "<table border=\"1\" class=\"dataframe\">\n",
       "  <thead>\n",
       "    <tr style=\"text-align: right;\">\n",
       "      <th>Ticker</th>\n",
       "      <th>SPY</th>\n",
       "    </tr>\n",
       "    <tr>\n",
       "      <th>Date</th>\n",
       "      <th></th>\n",
       "    </tr>\n",
       "  </thead>\n",
       "  <tbody>\n",
       "    <tr>\n",
       "      <th>2010-04-28</th>\n",
       "      <td>90.719147</td>\n",
       "    </tr>\n",
       "    <tr>\n",
       "      <th>2010-04-29</th>\n",
       "      <td>91.843834</td>\n",
       "    </tr>\n",
       "    <tr>\n",
       "      <th>2010-04-30</th>\n",
       "      <td>90.286003</td>\n",
       "    </tr>\n",
       "    <tr>\n",
       "      <th>2010-05-03</th>\n",
       "      <td>91.456276</td>\n",
       "    </tr>\n",
       "    <tr>\n",
       "      <th>2010-05-04</th>\n",
       "      <td>89.305702</td>\n",
       "    </tr>\n",
       "  </tbody>\n",
       "</table>\n",
       "</div>"
      ],
      "text/plain": [
       "Ticker            SPY\n",
       "Date                 \n",
       "2010-04-28  90.719147\n",
       "2010-04-29  91.843834\n",
       "2010-04-30  90.286003\n",
       "2010-05-03  91.456276\n",
       "2010-05-04  89.305702"
      ]
     },
     "execution_count": 252,
     "metadata": {},
     "output_type": "execute_result"
    }
   ],
   "source": [
    "# Get closing prices, and show 5 latest ones. \n",
    "stock_prices = yf.download(\"SPY\", period=\"15y\")[\"Close\"].dropna()\n",
    "stock_prices.head()"
   ]
  },
  {
   "cell_type": "code",
   "execution_count": 253,
   "metadata": {},
   "outputs": [
    {
     "name": "stderr",
     "output_type": "stream",
     "text": [
      "[*********************100%***********************]  1 of 1 completed\n"
     ]
    },
    {
     "data": {
      "text/html": [
       "<div>\n",
       "<style scoped>\n",
       "    .dataframe tbody tr th:only-of-type {\n",
       "        vertical-align: middle;\n",
       "    }\n",
       "\n",
       "    .dataframe tbody tr th {\n",
       "        vertical-align: top;\n",
       "    }\n",
       "\n",
       "    .dataframe thead th {\n",
       "        text-align: right;\n",
       "    }\n",
       "</style>\n",
       "<table border=\"1\" class=\"dataframe\">\n",
       "  <thead>\n",
       "    <tr style=\"text-align: right;\">\n",
       "      <th>Ticker</th>\n",
       "      <th>GLD</th>\n",
       "    </tr>\n",
       "    <tr>\n",
       "      <th>Date</th>\n",
       "      <th></th>\n",
       "    </tr>\n",
       "  </thead>\n",
       "  <tbody>\n",
       "    <tr>\n",
       "      <th>2010-04-28</th>\n",
       "      <td>114.309998</td>\n",
       "    </tr>\n",
       "    <tr>\n",
       "      <th>2010-04-29</th>\n",
       "      <td>114.279999</td>\n",
       "    </tr>\n",
       "    <tr>\n",
       "      <th>2010-04-30</th>\n",
       "      <td>115.360001</td>\n",
       "    </tr>\n",
       "    <tr>\n",
       "      <th>2010-05-03</th>\n",
       "      <td>115.730003</td>\n",
       "    </tr>\n",
       "    <tr>\n",
       "      <th>2010-05-04</th>\n",
       "      <td>114.870003</td>\n",
       "    </tr>\n",
       "  </tbody>\n",
       "</table>\n",
       "</div>"
      ],
      "text/plain": [
       "Ticker             GLD\n",
       "Date                  \n",
       "2010-04-28  114.309998\n",
       "2010-04-29  114.279999\n",
       "2010-04-30  115.360001\n",
       "2010-05-03  115.730003\n",
       "2010-05-04  114.870003"
      ]
     },
     "execution_count": 253,
     "metadata": {},
     "output_type": "execute_result"
    }
   ],
   "source": [
    "gold_prices = yf.download(\"GLD\", period=\"15y\")[\"Close\"].dropna()\n",
    "gold_prices.head()"
   ]
  },
  {
   "cell_type": "code",
   "execution_count": 254,
   "metadata": {},
   "outputs": [
    {
     "name": "stderr",
     "output_type": "stream",
     "text": [
      "[*********************100%***********************]  1 of 1 completed\n"
     ]
    },
    {
     "data": {
      "text/html": [
       "<div>\n",
       "<style scoped>\n",
       "    .dataframe tbody tr th:only-of-type {\n",
       "        vertical-align: middle;\n",
       "    }\n",
       "\n",
       "    .dataframe tbody tr th {\n",
       "        vertical-align: top;\n",
       "    }\n",
       "\n",
       "    .dataframe thead th {\n",
       "        text-align: right;\n",
       "    }\n",
       "</style>\n",
       "<table border=\"1\" class=\"dataframe\">\n",
       "  <thead>\n",
       "    <tr style=\"text-align: right;\">\n",
       "      <th>Ticker</th>\n",
       "      <th>BND</th>\n",
       "    </tr>\n",
       "    <tr>\n",
       "      <th>Date</th>\n",
       "      <th></th>\n",
       "    </tr>\n",
       "  </thead>\n",
       "  <tbody>\n",
       "    <tr>\n",
       "      <th>2010-04-28</th>\n",
       "      <td>51.789410</td>\n",
       "    </tr>\n",
       "    <tr>\n",
       "      <th>2010-04-29</th>\n",
       "      <td>51.808899</td>\n",
       "    </tr>\n",
       "    <tr>\n",
       "      <th>2010-04-30</th>\n",
       "      <td>51.958668</td>\n",
       "    </tr>\n",
       "    <tr>\n",
       "      <th>2010-05-03</th>\n",
       "      <td>51.930614</td>\n",
       "    </tr>\n",
       "    <tr>\n",
       "      <th>2010-05-04</th>\n",
       "      <td>52.080776</td>\n",
       "    </tr>\n",
       "  </tbody>\n",
       "</table>\n",
       "</div>"
      ],
      "text/plain": [
       "Ticker            BND\n",
       "Date                 \n",
       "2010-04-28  51.789410\n",
       "2010-04-29  51.808899\n",
       "2010-04-30  51.958668\n",
       "2010-05-03  51.930614\n",
       "2010-05-04  52.080776"
      ]
     },
     "execution_count": 254,
     "metadata": {},
     "output_type": "execute_result"
    }
   ],
   "source": [
    "bond_prices = yf.download(\"BND\", period=\"15y\")[\"Close\"].dropna()\n",
    "bond_prices.head()"
   ]
  },
  {
   "cell_type": "code",
   "execution_count": 255,
   "metadata": {},
   "outputs": [
    {
     "name": "stderr",
     "output_type": "stream",
     "text": [
      "[*********************100%***********************]  1 of 1 completed\n"
     ]
    },
    {
     "data": {
      "text/html": [
       "<div>\n",
       "<style scoped>\n",
       "    .dataframe tbody tr th:only-of-type {\n",
       "        vertical-align: middle;\n",
       "    }\n",
       "\n",
       "    .dataframe tbody tr th {\n",
       "        vertical-align: top;\n",
       "    }\n",
       "\n",
       "    .dataframe thead th {\n",
       "        text-align: right;\n",
       "    }\n",
       "</style>\n",
       "<table border=\"1\" class=\"dataframe\">\n",
       "  <thead>\n",
       "    <tr style=\"text-align: right;\">\n",
       "      <th>Ticker</th>\n",
       "      <th>HODL</th>\n",
       "    </tr>\n",
       "    <tr>\n",
       "      <th>Date</th>\n",
       "      <th></th>\n",
       "    </tr>\n",
       "  </thead>\n",
       "  <tbody>\n",
       "    <tr>\n",
       "      <th>2024-01-11</th>\n",
       "      <td>13.230</td>\n",
       "    </tr>\n",
       "    <tr>\n",
       "      <th>2024-01-12</th>\n",
       "      <td>12.405</td>\n",
       "    </tr>\n",
       "    <tr>\n",
       "      <th>2024-01-16</th>\n",
       "      <td>12.300</td>\n",
       "    </tr>\n",
       "    <tr>\n",
       "      <th>2024-01-17</th>\n",
       "      <td>12.145</td>\n",
       "    </tr>\n",
       "    <tr>\n",
       "      <th>2024-01-18</th>\n",
       "      <td>11.605</td>\n",
       "    </tr>\n",
       "  </tbody>\n",
       "</table>\n",
       "</div>"
      ],
      "text/plain": [
       "Ticker        HODL\n",
       "Date              \n",
       "2024-01-11  13.230\n",
       "2024-01-12  12.405\n",
       "2024-01-16  12.300\n",
       "2024-01-17  12.145\n",
       "2024-01-18  11.605"
      ]
     },
     "execution_count": 255,
     "metadata": {},
     "output_type": "execute_result"
    }
   ],
   "source": [
    "crypto_prices = yf.download(\"HODL\", period=\"15y\")[\"Close\"].dropna()\n",
    "crypto_prices.head()"
   ]
  },
  {
   "cell_type": "code",
   "execution_count": 256,
   "metadata": {},
   "outputs": [
    {
     "data": {
      "text/plain": [
       "{'SPY': 481714784600,\n",
       " 'BND': 122936437056,\n",
       " 'GLD': 77500318000,\n",
       " 'HODL': 1200295500}"
      ]
     },
     "execution_count": 256,
     "metadata": {},
     "output_type": "execute_result"
    }
   ],
   "source": [
    "# Only fetches market caps for SPY and GLD\n",
    "\n",
    "# mcaps = {}\n",
    "# for t in ETFs:\n",
    "#     try:\n",
    "#         mcaps[t] = yf.Ticker(t).info[\"marketCap\"]\n",
    "#     except KeyError:\n",
    "#         print(f\"Inget market cap för {t}\")\n",
    "# mcaps\n",
    "\n",
    "# Using hardcoded values instead:\n",
    "mcaps = {\n",
    "    \"SPY\": 481_714_784_600,     # manuellt från https://www.nasdaq.com/market-activity/etf/spy\n",
    "    \"BND\": 122_936_437_056,     # manuellt från https://www.nasdaq.com/market-activity/etf/bnd\n",
    "    \"GLD\": 77_500_318_000,      # manuellt från https://www.nasdaq.com/market-activity/etf/gld\n",
    "    \"HODL\": 1_200_295_500        # manuellt från https://www.nasdaq.com/market-activity/etf/hodl\n",
    "}\n",
    "mcaps"
   ]
  },
  {
   "cell_type": "markdown",
   "metadata": {},
   "source": [
    "# Constructing the prior"
   ]
  },
  {
   "cell_type": "code",
   "execution_count": 257,
   "metadata": {},
   "outputs": [
    {
     "data": {
      "text/html": [
       "<div>\n",
       "<style scoped>\n",
       "    .dataframe tbody tr th:only-of-type {\n",
       "        vertical-align: middle;\n",
       "    }\n",
       "\n",
       "    .dataframe tbody tr th {\n",
       "        vertical-align: top;\n",
       "    }\n",
       "\n",
       "    .dataframe thead th {\n",
       "        text-align: right;\n",
       "    }\n",
       "</style>\n",
       "<table border=\"1\" class=\"dataframe\">\n",
       "  <thead>\n",
       "    <tr style=\"text-align: right;\">\n",
       "      <th>Ticker</th>\n",
       "      <th>BND</th>\n",
       "      <th>GLD</th>\n",
       "      <th>HODL</th>\n",
       "      <th>SPY</th>\n",
       "    </tr>\n",
       "    <tr>\n",
       "      <th>Ticker</th>\n",
       "      <th></th>\n",
       "      <th></th>\n",
       "      <th></th>\n",
       "      <th></th>\n",
       "    </tr>\n",
       "  </thead>\n",
       "  <tbody>\n",
       "    <tr>\n",
       "      <th>BND</th>\n",
       "      <td>0.003007</td>\n",
       "      <td>0.002193</td>\n",
       "      <td>-0.000004</td>\n",
       "      <td>0.000088</td>\n",
       "    </tr>\n",
       "    <tr>\n",
       "      <th>GLD</th>\n",
       "      <td>0.002193</td>\n",
       "      <td>0.024017</td>\n",
       "      <td>0.000892</td>\n",
       "      <td>0.001318</td>\n",
       "    </tr>\n",
       "    <tr>\n",
       "      <th>HODL</th>\n",
       "      <td>-0.000004</td>\n",
       "      <td>0.000892</td>\n",
       "      <td>0.026047</td>\n",
       "      <td>0.003191</td>\n",
       "    </tr>\n",
       "    <tr>\n",
       "      <th>SPY</th>\n",
       "      <td>0.000088</td>\n",
       "      <td>0.001318</td>\n",
       "      <td>0.003191</td>\n",
       "      <td>0.030236</td>\n",
       "    </tr>\n",
       "  </tbody>\n",
       "</table>\n",
       "</div>"
      ],
      "text/plain": [
       "Ticker       BND       GLD      HODL       SPY\n",
       "Ticker                                        \n",
       "BND     0.003007  0.002193 -0.000004  0.000088\n",
       "GLD     0.002193  0.024017  0.000892  0.001318\n",
       "HODL   -0.000004  0.000892  0.026047  0.003191\n",
       "SPY     0.000088  0.001318  0.003191  0.030236"
      ]
     },
     "execution_count": 257,
     "metadata": {},
     "output_type": "execute_result"
    }
   ],
   "source": [
    "# Covariance matrix between all assets\n",
    "cov_matrix = risk_models.CovarianceShrinkage(closing_prices).ledoit_wolf()\n",
    "cov_matrix"
   ]
  },
  {
   "cell_type": "code",
   "execution_count": 258,
   "metadata": {},
   "outputs": [
    {
     "name": "stdout",
     "output_type": "stream",
     "text": [
      "4.435169329253352\n"
     ]
    }
   ],
   "source": [
    "# Risk aversion\n",
    "delta = black_litterman.market_implied_risk_aversion(stock_prices)\n",
    "print(delta)"
   ]
  },
  {
   "cell_type": "code",
   "execution_count": 259,
   "metadata": {},
   "outputs": [
    {
     "data": {
      "text/plain": [
       "<Axes: >"
      ]
     },
     "execution_count": 259,
     "metadata": {},
     "output_type": "execute_result"
    },
    {
     "data": {
      "image/png": "[encoded data removed]",
      "text/plain": [
       "<Figure size 640x480 with 2 Axes>"
      ]
     },
     "metadata": {},
     "output_type": "display_data"
    }
   ],
   "source": [
    "plotting.plot_covariance(cov_matrix, plot_correlation=True)"
   ]
  },
  {
   "cell_type": "code",
   "execution_count": 260,
   "metadata": {},
   "outputs": [
    {
     "data": {
      "text/plain": [
       "Ticker\n",
       "BND     0.003776\n",
       "GLD     0.017956\n",
       "HODL    0.010625\n",
       "SPY     0.095291\n",
       "dtype: float64"
      ]
     },
     "execution_count": 260,
     "metadata": {},
     "output_type": "execute_result"
    }
   ],
   "source": [
    "# Prior implied returns (Pi), N×1 column vector\n",
    "market_prior = black_litterman.market_implied_prior_returns(mcaps, delta, cov_matrix)\n",
    "market_prior"
   ]
  },
  {
   "cell_type": "code",
   "execution_count": 261,
   "metadata": {},
   "outputs": [
    {
     "data": {
      "text/plain": [
       "<Axes: ylabel='Ticker'>"
      ]
     },
     "execution_count": 261,
     "metadata": {},
     "output_type": "execute_result"
    },
    {
     "data": {
      "image/png": "[encoded data removed]",
      "text/plain": [
       "<Figure size 1000x500 with 1 Axes>"
      ]
     },
     "metadata": {},
     "output_type": "display_data"
    }
   ],
   "source": [
    "market_prior.plot.barh(figsize=(10,5))"
   ]
  },
  {
   "cell_type": "markdown",
   "metadata": {},
   "source": [
    "# Views\n",
    "Q contains the magnitude of each view, while P maps the views to the assets they belong to."
   ]
  },
  {
   "cell_type": "code",
   "execution_count": 262,
   "metadata": {},
   "outputs": [],
   "source": [
    "# # Absolute views, this should be coming from XGBoost, placeholder values atm\n",
    "# viewdict = {\n",
    "#     \"SPY\": 0.08,      # t.ex. +8% förväntad avkastning\n",
    "#     \"BND\": 0.03,      \n",
    "#     \"GLD\": 0.01,      \n",
    "#     \"HODL\": 0.20,\n",
    "# }"
   ]
  },
  {
   "cell_type": "markdown",
   "metadata": {},
   "source": [
    "# View confidence\n",
    "Using Idzorek's method\n",
    " - Maybe we can use some error term to evaluate the confidence levels?"
   ]
  },
  {
   "cell_type": "code",
   "execution_count": 263,
   "metadata": {},
   "outputs": [],
   "source": [
    "# # Placeholder values:\n",
    "# confidences = [0.6, 0.5, 0.3, 0.7]"
   ]
  },
  {
   "cell_type": "code",
   "execution_count": 264,
   "metadata": {},
   "outputs": [],
   "source": [
    "# # Using idzorek method (specifying our own confidence levels)\n",
    "# # You can also create omega yourself by creating a diagonal matrix based on the views variances\n",
    "# bl_idzorek = BlackLittermanModel(cov_matrix, pi=market_prior, absolute_views=viewdict, omega=\"idzorek\", view_confidences=confidences)"
   ]
  },
  {
   "cell_type": "code",
   "execution_count": 265,
   "metadata": {},
   "outputs": [],
   "source": [
    "# # Posterior estimate of returns\n",
    "# ret_bl = bl_idzorek.bl_returns()\n",
    "# ret_bl"
   ]
  },
  {
   "cell_type": "code",
   "execution_count": 266,
   "metadata": {},
   "outputs": [],
   "source": [
    "# # Visualization how this compares to the prior and our views:\n",
    "# rets_df = pd.DataFrame([market_prior, ret_bl, pd.Series(viewdict)], \n",
    "#              index=[\"Prior\", \"Posterior\", \"Views\"]).T\n",
    "# rets_df"
   ]
  },
  {
   "cell_type": "code",
   "execution_count": 267,
   "metadata": {},
   "outputs": [],
   "source": [
    "# rets_df.plot.bar(figsize=(12,8))\n",
    "# # \"Notice that the posterior is often between the prior and the views. \n",
    "# # This supports the fact that the BL method is essentially a Bayesian weighted-average of the prior and views,\n",
    "# # where the weight is determined by the confidence.\""
   ]
  },
  {
   "cell_type": "code",
   "execution_count": 268,
   "metadata": {},
   "outputs": [],
   "source": [
    "# # Posterior covariance estimate:\n",
    "# cov_bl = bl_idzorek.bl_cov()\n",
    "# plotting.plot_covariance(cov_bl)"
   ]
  },
  {
   "cell_type": "markdown",
   "metadata": {},
   "source": [
    "# Portfolio allocation"
   ]
  },
  {
   "cell_type": "code",
   "execution_count": 269,
   "metadata": {},
   "outputs": [],
   "source": [
    "# from pypfopt import EfficientFrontier, objective_functions"
   ]
  },
  {
   "cell_type": "code",
   "execution_count": 270,
   "metadata": {},
   "outputs": [],
   "source": [
    "# ef = EfficientFrontier(ret_bl, cov_bl)\n",
    "# #ef.add_objective(objective_functions.L2_reg)\n",
    "# ef.max_sharpe() # to maximize sharpe ratio, can be changed\n",
    "# weights = ef.clean_weights()\n",
    "# weights"
   ]
  },
  {
   "cell_type": "code",
   "execution_count": 271,
   "metadata": {},
   "outputs": [],
   "source": [
    "# pd.Series(weights).plot.pie(figsize=(10,10))"
   ]
  },
  {
   "cell_type": "code",
   "execution_count": 272,
   "metadata": {},
   "outputs": [],
   "source": [
    "# # Example of how much to spend in each asset based on capital\n",
    "# from pypfopt import DiscreteAllocation\n",
    "\n",
    "# da = DiscreteAllocation(weights, closing_prices.iloc[-1], total_portfolio_value=10000)\n",
    "# # alloc, leftover = da.lp_portfolio() funkar ej\n",
    "# alloc, leftover = da.greedy_portfolio()\n",
    "# print(f\"Leftover: ${leftover:.2f}\")\n",
    "# alloc #antal andelar\n",
    "df_crypto = pd.read_csv(\"merged2.csv\", parse_dates=[\"Date\"])"
   ]
  },
  {
   "cell_type": "code",
   "execution_count": 273,
   "metadata": {},
   "outputs": [
    {
     "data": {
      "text/plain": [
       "({'SPY': 0.0, 'BND': 0.0, 'GLD': 0.0, 'HODL': 0.12935605645179749},\n",
       " [0.0, 0.0, 0.0, 0.40313419699668884])"
      ]
     },
     "execution_count": 273,
     "metadata": {},
     "output_type": "execute_result"
    }
   ],
   "source": [
    "import pandas as pd\n",
    "from xgb import Trainer\n",
    "\n",
    "SCALE   = 1.0          # =1 om du vill använda size oförändrat\n",
    "trainer = Trainer.load(\"models\")     # joblib-filen du sparade\n",
    "\n",
    "viewdict, confidences = {}, []\n",
    "\n",
    "for ticker in ETFs:                         # [\"SPY\", \"BND\", \"GLD\", \"HODL\"]\n",
    "    if ticker == \"HODL\":\n",
    "        # ── läs merged2.csv, sortera, ta sista 8 rader ──────────────\n",
    "        df_crypto = (\n",
    "            pd.read_csv(\"merged2.csv\", parse_dates=[\"Date\"])\n",
    "              .sort_values(\"Date\")\n",
    "              .tail(8)\n",
    "        )\n",
    "        action, size, confidence = trainer.predict(df_crypto)\n",
    "        viewdict[ticker]  = size * SCALE\n",
    "        confidences.append(confidence)\n",
    "    else:\n",
    "        viewdict[ticker]  = 0.0        # neutral vy\n",
    "        confidences.append(0.0)        # låg vikt\n",
    "\n",
    "viewdict, confidences\n"
   ]
  },
  {
   "cell_type": "code",
   "execution_count": 274,
   "metadata": {},
   "outputs": [
    {
     "data": {
      "text/plain": [
       "OrderedDict([('BND', 0.12631),\n",
       "             ('GLD', 0.07963),\n",
       "             ('HODL', 0.2991),\n",
       "             ('SPY', 0.49495)])"
      ]
     },
     "execution_count": 274,
     "metadata": {},
     "output_type": "execute_result"
    }
   ],
   "source": [
    "\n",
    "# Black‑Litterman with Idzorek confidences\n",
    "bl_idzorek = BlackLittermanModel(\n",
    "    cov_matrix,\n",
    "    pi=market_prior,\n",
    "    absolute_views=viewdict,\n",
    "    omega=\"idzorek\",\n",
    "    view_confidences=confidences,\n",
    ")\n",
    "\n",
    "ret_bl = bl_idzorek.bl_returns()\n",
    "cov_bl = bl_idzorek.bl_cov()\n",
    "\n",
    "# Efficient frontier\n",
    "ef = EfficientFrontier(ret_bl, cov_bl)\n",
    "ef.max_sharpe()\n",
    "weights = ef.clean_weights()\n",
    "weights\n",
    "\n",
    "#OrderedDict([('BND', 0.1263),\n",
    "             #('GLD', 0.07962),\n",
    "            # ('HODL', 0.29918),\n",
    "            # ('SPY', 0.49489)])"
   ]
  },
  {
   "cell_type": "code",
   "execution_count": 275,
   "metadata": {},
   "outputs": [
    {
     "data": {
      "text/plain": [
       "<Axes: >"
      ]
     },
     "execution_count": 275,
     "metadata": {},
     "output_type": "execute_result"
    },
    {
     "data": {
      "image/png": "[encoded data removed]",
      "text/plain": [
       "<Figure size 800x800 with 1 Axes>"
      ]
     },
     "metadata": {},
     "output_type": "display_data"
    }
   ],
   "source": [
    "\n",
    "pd.Series(weights).plot.pie(figsize=(8,8), autopct='%1.1f%%')\n"
   ]
  }
 ],
 "metadata": {
  "kernelspec": {
   "display_name": "bl-env",
   "language": "python",
   "name": "python3"
  },
  "language_info": {
   "codemirror_mode": {
    "name": "ipython",
    "version": 3
   },
   "file_extension": ".py",
   "mimetype": "text/x-python",
   "name": "python",
   "nbconvert_exporter": "python",
   "pygments_lexer": "ipython3",
   "version": "3.11.0"
  }
 },
 "nbformat": 4,
 "nbformat_minor": 2
}
