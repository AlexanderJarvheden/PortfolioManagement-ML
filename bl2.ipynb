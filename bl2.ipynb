{
 "cells": [
  {
   "cell_type": "code",
   "execution_count": 1,
   "id": "cf8bf517",
   "metadata": {},
   "outputs": [
    {
     "name": "stderr",
     "output_type": "stream",
     "text": [
      "/Users/alexanderjarvheden/Projects/FearGreed-rebalancingPortfolioModel/FGI/lib/python3.9/site-packages/urllib3/__init__.py:35: NotOpenSSLWarning: urllib3 v2 only supports OpenSSL 1.1.1+, currently the 'ssl' module is compiled with 'LibreSSL 2.8.3'. See: https://github.com/urllib3/urllib3/issues/3020\n",
      "  warnings.warn(\n",
      "/var/folders/6h/tflctw7s3jb8k6w65jmxt4440000gn/T/ipykernel_43829/1711228976.py:38: SettingWithCopyWarning: \n",
      "A value is trying to be set on a copy of a slice from a DataFrame.\n",
      "Try using .loc[row_indexer,col_indexer] = value instead\n",
      "\n",
      "See the caveats in the documentation: https://pandas.pydata.org/pandas-docs/stable/user_guide/indexing.html#returning-a-view-versus-a-copy\n",
      "  df['SPY_FGI'] = df['rating'].map(rating_map)\n",
      "/var/folders/6h/tflctw7s3jb8k6w65jmxt4440000gn/T/ipykernel_43829/1711228976.py:39: SettingWithCopyWarning: \n",
      "A value is trying to be set on a copy of a slice from a DataFrame.\n",
      "Try using .loc[row_indexer,col_indexer] = value instead\n",
      "\n",
      "See the caveats in the documentation: https://pandas.pydata.org/pandas-docs/stable/user_guide/indexing.html#returning-a-view-versus-a-copy\n",
      "  df['BND_FGI'] = df['BND_FGI'].map(rating_map)\n"
     ]
    },
    {
     "name": "stdout",
     "output_type": "stream",
     "text": [
      "SPY historical data\n",
      "BND historical data\n",
      "GLD historical data\n",
      "hodl historical data\n",
      "[INFO] Trained regressor — Test MSE: 0.000300\n",
      "           Date  FGI      Close  Change %\n",
      "669  2025-01-10    2  18.340500  0.771973\n",
      "670  2025-01-13    3  17.916000 -1.452682\n",
      "671  2025-01-14    3  18.602699 -0.271806\n",
      "672  2025-01-15    3  19.548800  2.942600\n",
      "673  2025-01-16    3  19.972200  1.948396\n",
      "674  2025-01-17    3  20.603600  1.394174\n",
      "675  2025-01-21    4  20.292700  1.944162\n",
      "-0.0010086564443825658 0.055034795243107115\n",
      "[INFO] Trained regressor — Test MSE: 0.000006\n",
      "-6.430582887264072e-05 0.026534103878116992\n",
      "[INFO] Trained regressor — Test MSE: 0.000076\n",
      "0.0003312975797506096 0.03668688265151541\n",
      "[INFO] Trained regressor — Test MSE: 0.000034\n",
      "-6.60311006445036e-05 0.011243029921858263\n",
      "Views: {'SPY': np.float64(0.0003312975797506096), 'BND': np.float64(-6.430582887264072e-05), 'GLD': np.float64(-6.60311006445036e-05), 'HODL.PA': np.float64(-0.0010086564443825658)}\n",
      "Conf: [np.float64(0.03668688265151541), np.float64(0.026534103878116992), np.float64(0.011243029921858263), np.float64(0.055034795243107115)]\n"
     ]
    }
   ],
   "source": [
    "%run Financial_data.ipynb"
   ]
  },
  {
   "cell_type": "code",
   "execution_count": 2,
   "id": "368834b5",
   "metadata": {},
   "outputs": [
    {
     "data": {
      "text/html": [
       "<div>\n",
       "<style scoped>\n",
       "    .dataframe tbody tr th:only-of-type {\n",
       "        vertical-align: middle;\n",
       "    }\n",
       "\n",
       "    .dataframe tbody tr th {\n",
       "        vertical-align: top;\n",
       "    }\n",
       "\n",
       "    .dataframe thead th {\n",
       "        text-align: right;\n",
       "    }\n",
       "</style>\n",
       "<table border=\"1\" class=\"dataframe\">\n",
       "  <thead>\n",
       "    <tr style=\"text-align: right;\">\n",
       "      <th></th>\n",
       "      <th>BND</th>\n",
       "      <th>GLD</th>\n",
       "      <th>HODL.PA</th>\n",
       "      <th>SPY</th>\n",
       "    </tr>\n",
       "    <tr>\n",
       "      <th>Date</th>\n",
       "      <th></th>\n",
       "      <th></th>\n",
       "      <th></th>\n",
       "      <th></th>\n",
       "    </tr>\n",
       "  </thead>\n",
       "  <tbody>\n",
       "    <tr>\n",
       "      <th>2022-05-05</th>\n",
       "      <td>68.541466</td>\n",
       "      <td>175.130005</td>\n",
       "      <td>15.010000</td>\n",
       "      <td>396.066406</td>\n",
       "    </tr>\n",
       "    <tr>\n",
       "      <th>2022-05-06</th>\n",
       "      <td>68.251236</td>\n",
       "      <td>175.419998</td>\n",
       "      <td>15.010000</td>\n",
       "      <td>393.702332</td>\n",
       "    </tr>\n",
       "    <tr>\n",
       "      <th>2022-05-09</th>\n",
       "      <td>68.559624</td>\n",
       "      <td>172.880005</td>\n",
       "      <td>9.900000</td>\n",
       "      <td>381.097046</td>\n",
       "    </tr>\n",
       "    <tr>\n",
       "      <th>2022-05-10</th>\n",
       "      <td>68.759109</td>\n",
       "      <td>171.419998</td>\n",
       "      <td>9.870000</td>\n",
       "      <td>381.977570</td>\n",
       "    </tr>\n",
       "    <tr>\n",
       "      <th>2022-05-11</th>\n",
       "      <td>68.994965</td>\n",
       "      <td>172.820007</td>\n",
       "      <td>9.870000</td>\n",
       "      <td>375.909393</td>\n",
       "    </tr>\n",
       "    <tr>\n",
       "      <th>...</th>\n",
       "      <td>...</td>\n",
       "      <td>...</td>\n",
       "      <td>...</td>\n",
       "      <td>...</td>\n",
       "    </tr>\n",
       "    <tr>\n",
       "      <th>2025-05-12</th>\n",
       "      <td>72.320000</td>\n",
       "      <td>298.190002</td>\n",
       "      <td>16.697599</td>\n",
       "      <td>582.989990</td>\n",
       "    </tr>\n",
       "    <tr>\n",
       "      <th>2025-05-13</th>\n",
       "      <td>72.290001</td>\n",
       "      <td>299.459991</td>\n",
       "      <td>16.721300</td>\n",
       "      <td>586.840027</td>\n",
       "    </tr>\n",
       "    <tr>\n",
       "      <th>2025-05-14</th>\n",
       "      <td>72.040001</td>\n",
       "      <td>293.160004</td>\n",
       "      <td>16.712900</td>\n",
       "      <td>587.590027</td>\n",
       "    </tr>\n",
       "    <tr>\n",
       "      <th>2025-05-15</th>\n",
       "      <td>72.430000</td>\n",
       "      <td>297.839996</td>\n",
       "      <td>16.450100</td>\n",
       "      <td>590.460022</td>\n",
       "    </tr>\n",
       "    <tr>\n",
       "      <th>2025-05-16</th>\n",
       "      <td>72.480003</td>\n",
       "      <td>294.239990</td>\n",
       "      <td>16.719801</td>\n",
       "      <td>594.200012</td>\n",
       "    </tr>\n",
       "  </tbody>\n",
       "</table>\n",
       "<p>753 rows × 4 columns</p>\n",
       "</div>"
      ],
      "text/plain": [
       "                  BND         GLD    HODL.PA         SPY\n",
       "Date                                                    \n",
       "2022-05-05  68.541466  175.130005  15.010000  396.066406\n",
       "2022-05-06  68.251236  175.419998  15.010000  393.702332\n",
       "2022-05-09  68.559624  172.880005   9.900000  381.097046\n",
       "2022-05-10  68.759109  171.419998   9.870000  381.977570\n",
       "2022-05-11  68.994965  172.820007   9.870000  375.909393\n",
       "...               ...         ...        ...         ...\n",
       "2025-05-12  72.320000  298.190002  16.697599  582.989990\n",
       "2025-05-13  72.290001  299.459991  16.721300  586.840027\n",
       "2025-05-14  72.040001  293.160004  16.712900  587.590027\n",
       "2025-05-15  72.430000  297.839996  16.450100  590.460022\n",
       "2025-05-16  72.480003  294.239990  16.719801  594.200012\n",
       "\n",
       "[753 rows x 4 columns]"
      ]
     },
     "execution_count": 2,
     "metadata": {},
     "output_type": "execute_result"
    }
   ],
   "source": [
    "# ────────────────────────────────────────────────────────────────\n",
    "#  BLACK-LITTERMAN: bygg views från färdiga matriser (weekly)\n",
    "# ────────────────────────────────────────────────────────────────\n",
    "import numpy as np, pandas as pd, matplotlib.pyplot as plt\n",
    "import yfinance as yf\n",
    "from pypfopt import risk_models, black_litterman, BlackLittermanModel, EfficientFrontier\n",
    "\n",
    "\n",
    "# ▸ 0. SÄKERHETSKOLL  --------------------------------------------------\n",
    "\n",
    "\n",
    "# missing = [name for name in needed if name not in globals()]\n",
    "# if missing:\n",
    "#     raise RuntimeError(\n",
    "#         f\"Variabler saknas i minnet: {missing}. \"\n",
    "#         \"Kör först financial_data.ipynb så att de skapas.\"\n",
    "#     )\n",
    "\n",
    "# ▸ 1. SKAPA closing_prices-matris från dina DataFrames  --------------\n",
    "def to_series(df, name):\n",
    "    s = df.set_index(\"Date\")[\"Close\"]\n",
    "    s.index = pd.to_datetime(s.index)\n",
    "    return s.rename(name)\n",
    "\n",
    "closing_prices = pd.concat(\n",
    "    [\n",
    "        to_series(df_bnd,  \"BND\"),\n",
    "        to_series(df_gld,  \"GLD\"),\n",
    "        to_series(df_hodl, \"HODL.PA\"),\n",
    "        to_series(df_spy,  \"SPY\"),\n",
    "    ],\n",
    "    axis=1,\n",
    ").sort_index()\n",
    "closing_prices = closing_prices.dropna()\n",
    "closing_prices\n"
   ]
  },
  {
   "cell_type": "code",
   "execution_count": 3,
   "id": "fa596eae",
   "metadata": {},
   "outputs": [
    {
     "name": "stdout",
     "output_type": "stream",
     "text": [
      "OrderedDict([('BND', 0.6649), ('GLD', 0.10605), ('HODL.PA', 0.01296), ('SPY', 0.21609)])\n",
      "Views: {'SPY': np.float64(0.0003312975797506096), 'BND': np.float64(-6.430582887264072e-05), 'GLD': np.float64(-6.60311006445036e-05), 'HODL.PA': np.float64(-0.0010086564443825658)}\n",
      "Conf: [np.float64(0.03668688265151541), np.float64(0.026534103878116992), np.float64(0.011243029921858263), np.float64(0.055034795243107115)]\n",
      "\n",
      "OPTIMERAD PORTFÖLJ (weekly BL):\n",
      "  BND    :  66.5 %\n",
      "  GLD    :  10.6 %\n",
      "  HODL.PA:   1.3 %\n",
      "  SPY    :  21.6 %\n"
     ]
    },
    {
     "data": {
      "image/png": "[encoded data removed]",
      "text/plain": [
       "<Figure size 600x600 with 1 Axes>"
      ]
     },
     "metadata": {},
     "output_type": "display_data"
    }
   ],
   "source": [
    "mcaps = {\n",
    "    \"SPY\": 46_483_000_000_000, \n",
    "    \"BND\": 140_700_000_000_000,\n",
    "    \"GLD\":  22_335_000_000_000,\n",
    "    \"HODL.PA\": 2_970_000_000_000,\n",
    "}\n",
    "cov   = risk_models.CovarianceShrinkage(closing_prices).ledoit_wolf()\n",
    "delta = black_litterman.market_implied_risk_aversion(closing_prices[\"SPY\"])\n",
    "pi    = black_litterman.market_implied_prior_returns(mcaps, delta, cov)\n",
    "\n",
    "bl = BlackLittermanModel(\n",
    "    cov,\n",
    "    pi=pi,\n",
    "    absolute_views=viewdict,\n",
    "    omega=\"idzorek\",\n",
    "    view_confidences=confidences,\n",
    "    risk_aversion=delta,\n",
    ")\n",
    "ef = EfficientFrontier(bl.bl_returns(), bl.bl_cov())\n",
    "ef.max_sharpe()\n",
    "weights = ef.clean_weights()\n",
    "\n",
    "print(weights)\n",
    "\n",
    "print(\"Views:\", viewdict)\n",
    "print(\"Conf:\", confidences)\n",
    "\n",
    "print(\"\\nOPTIMERAD PORTFÖLJ (weekly BL):\")\n",
    "for k, v in weights.items():\n",
    "    print(f\"  {k:7s}: {v*100:5.1f} %\")\n",
    "\n",
    "# (valfritt) visa fördelningen\n",
    "pd.Series(weights).plot.pie(figsize=(6,6), autopct='%1.1f%%')\n",
    "plt.ylabel(\"\")\n",
    "plt.title(\"Black-Litterman allocation (veckovis)\")\n",
    "plt.show()\n"
   ]
  },
  {
   "cell_type": "code",
   "execution_count": 4,
   "id": "d81726ed",
   "metadata": {},
   "outputs": [],
   "source": [
    "closing_prices = closing_prices.reset_index()\n",
    "closing_prices['Date'] = closing_prices['Date'].dt.strftime('%Y-%m-%d')  # Ensure same format\n",
    "closing_prices = pd.merge(closing_prices, df_bnd_ml, on=['Date', 'Date'])"
   ]
  },
  {
   "cell_type": "code",
   "execution_count": 5,
   "id": "472d1ac3",
   "metadata": {},
   "outputs": [
    {
     "name": "stdout",
     "output_type": "stream",
     "text": [
      "[INFO] Trained regressor — Test MSE: 0.000006\n",
      "[INFO] Trained regressor — Test MSE: 0.000034\n",
      "[INFO] Trained regressor — Test MSE: 0.000300\n",
      "[INFO] Trained regressor — Test MSE: 0.000076\n"
     ]
    }
   ],
   "source": [
    "from xgb import Trainer\n",
    "import plotly.graph_objs as go\n",
    "\n",
    "ASSETS = [df_bnd_ml, df_gld_ml, df_hodl_ml, df_spy_ml]\n",
    "\n",
    "bnd_trainer = Trainer().fit(df_bnd_ml)\n",
    "gld_trainer = Trainer().fit(df_gld_ml)\n",
    "crypto_trainer = Trainer().fit(df_hodl_ml)\n",
    "spy_trainer = Trainer().fit(df_spy_ml)\n",
    "\n",
    "trainers = [bnd_trainer, gld_trainer, crypto_trainer, spy_trainer]\n",
    "tickers = [\"BND\", \"GLD\", \"HODL.PA\", \"SPY\"]\n",
    "\n",
    "def calculate_portfolio_returns(n):\n",
    "    portfolio_returns_over_time = []\n",
    "    benchmark_returns_over_time = []\n",
    "    dates = []\n",
    "\n",
    "    returns = 1.0\n",
    "    benchmark = 1.0\n",
    "    # benchmark = 1.0 + (\n",
    "    #     (closing_prices[\"SPY\"].iloc[len(closing_prices.values)-1] - closing_prices[\"SPY\"].iloc[n]) / closing_prices[\"SPY\"].iloc[n] * 0.6\n",
    "    #     +(closing_prices[\"BND\"].iloc[len(closing_prices.values)-1] - closing_prices[\"BND\"].iloc[n]) / closing_prices[\"BND\"].iloc[n] * 0.4\n",
    "    #     )\n",
    "    global weights\n",
    "    print(\"Investment period starts at: \", closing_prices['Date'].iloc[n])\n",
    "    print(\"Investment period ends at: \", closing_prices['Date'].iloc[len(closing_prices.values)-1])\n",
    "    for date in range(n, len(closing_prices.values)):\n",
    "        views, confidences = {}, []\n",
    "        for i, etf in enumerate(ASSETS):\n",
    "            mu, conf = trainers[i].predict(etf.iloc[date-8:date])\n",
    "            views[tickers[i]] = mu\n",
    "            confidences.append(conf)\n",
    "        bl = BlackLittermanModel(\n",
    "            cov,\n",
    "            pi=pi,\n",
    "            absolute_views=views,\n",
    "            omega=\"idzorek\",\n",
    "            view_confidences=confidences,\n",
    "            risk_aversion=delta,\n",
    "        )\n",
    "        ef = EfficientFrontier(bl.bl_returns(), bl.bl_cov())\n",
    "        ef.max_sharpe()\n",
    "        weights = ef.clean_weights()\n",
    "        # returns += sum([((closing_prices[etf].iloc[date] - closing_prices[etf].iloc[date - 1]) / closing_prices[etf].iloc[date - 1]) * weight for etf, weight in weights.items()])\n",
    "        \n",
    "        benchmark_daily_return = (\n",
    "            ((closing_prices[\"SPY\"].iloc[date] - closing_prices[\"SPY\"].iloc[date - 1]) / closing_prices[\"SPY\"].iloc[date - 1]) * 0.6\n",
    "            + ((closing_prices[\"BND\"].iloc[date] - closing_prices[\"BND\"].iloc[date - 1]) / closing_prices[\"BND\"].iloc[date - 1]) * 0.4\n",
    "        )\n",
    "        benchmark *= (1 + benchmark_daily_return)\n",
    "\n",
    "        daily_return = sum([((closing_prices[etf].iloc[date] - closing_prices[etf].iloc[date - 1]) / closing_prices[etf].iloc[date - 1]) * weight for etf, weight in weights.items()])\n",
    "        returns *= (1 + daily_return)\n",
    "\n",
    "        # portfolio_returns_over_time.append(round((returns-1)*100,2))\n",
    "        # benchmark_returns_over_time.append(round((benchmark-1)*100,2))\n",
    "        portfolio_returns_over_time.append(round((returns-1),2))\n",
    "        benchmark_returns_over_time.append(round((benchmark-1),2))\n",
    "        dates.append(closing_prices['Date'].iloc[date])\n",
    "\n",
    "    print(\"Portfolio returns was: \", round((returns-1)*100,2), \"%\")\n",
    "    print(\"Benchmark was: \", round((benchmark-1)*100,2), \"%\")\n",
    "    print(\"Current weights are: \", weights)\n",
    "\n",
    "    # plt.figure(figsize=(12, 6))\n",
    "    # plt.plot(dates, portfolio_returns_over_time, label=\"Portfolio\", linewidth=2)\n",
    "    # plt.plot(dates, benchmark_returns_over_time, label=\"Benchmark (60/40 SPY/BND)\", linestyle='--')\n",
    "    # plt.xlabel(\"Date\")\n",
    "    # plt.ylabel(\"Cumulative Return\")\n",
    "    # plt.title(\"Portfolio vs Benchmark Cumulative Returns\")\n",
    "    # plt.legend()\n",
    "    # plt.grid(True)\n",
    "    # plt.tight_layout()\n",
    "    # plt.show()\n",
    "    \n",
    "    # --- Interactive Plot ---\n",
    "    # fig = go.Figure()\n",
    "    # fig.add_trace(go.Scatter(x=dates, y=portfolio_returns_over_time, mode='lines', name='Portfolio'))\n",
    "    # fig.add_trace(go.Scatter(x=dates, y=benchmark_returns_over_time, mode='lines', name='Benchmark (60/40 SPY/BND)'))\n",
    "\n",
    "    # fig.update_layout(\n",
    "    #     title='Portfolio vs Benchmark Cumulative Returns',\n",
    "    #     xaxis_title='Date',\n",
    "    #     yaxis_title='Cumulative Return',\n",
    "    #     xaxis=dict(rangeslider_visible=True),\n",
    "    #     legend=dict(x=0.01, y=0.99),\n",
    "    #     template=\"plotly_white\",\n",
    "    #     height=600,\n",
    "    # )\n",
    "\n",
    "    # Select indices for bubble labels (approx. 12 total)\n",
    "    step = max(1, len(dates) // 7)\n",
    "    label_indices = list(range(0, len(dates), step))\n",
    "    # fig.show()\n",
    "    fig = go.Figure()\n",
    "\n",
    "    # Portfolio line and markers (without text labels)\n",
    "    fig.add_trace(go.Scatter(\n",
    "        x=dates,\n",
    "        y=portfolio_returns_over_time,\n",
    "        mode='lines',\n",
    "        name='Portfolio',\n",
    "        line=dict(width=2, color='red'),\n",
    "        marker=dict(size=6),\n",
    "        hovertemplate='Date: %{x}<br>Return: %{y:.1%}<extra></extra>'\n",
    "    ))\n",
    "\n",
    "    # Benchmark line and markers\n",
    "    fig.add_trace(go.Scatter(\n",
    "        x=dates,\n",
    "        y=benchmark_returns_over_time,\n",
    "        mode='lines',\n",
    "        name='Benchmark (60/40 SPY/BND)',\n",
    "        line=dict(width=2, color='blue'),\n",
    "        marker=dict(size=6),\n",
    "        hovertemplate='Date: %{x}<br>Return: %{y:.1%}<extra></extra>'\n",
    "    ))\n",
    "\n",
    "    # Add annotations (comment bubbles) for Portfolio values at label indices\n",
    "    for i in label_indices:\n",
    "        fig.add_annotation(\n",
    "            x=dates[i],\n",
    "            y=portfolio_returns_over_time[i],\n",
    "            text=f\"<b>{portfolio_returns_over_time[i]:.1%}</b>\",\n",
    "            showarrow=True,\n",
    "            arrowhead=2,\n",
    "            ax=0,\n",
    "            ay=60,  # vertical offset for the text above the point\n",
    "            bgcolor=\"rgba(255, 0, 0, 0.7)\",  # semi-transparent red bg\n",
    "            bordercolor=\"red\",\n",
    "            font=dict(color=\"white\", size=12),\n",
    "            align=\"center\",\n",
    "            arrowcolor=\"red\",\n",
    "            opacity=1,\n",
    "            captureevents=True\n",
    "        )\n",
    "\n",
    "    # Add annotations (comment bubbles) for Benchmark values at label indices\n",
    "    for i in label_indices:\n",
    "        fig.add_annotation(\n",
    "            x=dates[i],\n",
    "            y=benchmark_returns_over_time[i],\n",
    "            text=f\"<b>{benchmark_returns_over_time[i]:.1%}</b>\",\n",
    "            showarrow=True,\n",
    "            arrowhead=2,\n",
    "            ax=0,\n",
    "            ay=-60,  # vertical offset for text below the point\n",
    "            bgcolor=\"rgba(0, 0, 255, 0.7)\",  # semi-transparent blue bg\n",
    "            bordercolor=\"blue\",\n",
    "            font=dict(color=\"white\", size=12),\n",
    "            align=\"center\",\n",
    "            arrowcolor=\"blue\",\n",
    "            opacity=1,\n",
    "            captureevents=True\n",
    "        )\n",
    "\n",
    "    fig.update_layout(\n",
    "        title='Portfolio vs Benchmark Cumulative Returns',\n",
    "        xaxis_title='Date',\n",
    "        yaxis_title='Cumulative Return',\n",
    "        yaxis=dict(tickformat=\".00%\"),\n",
    "        legend=dict(x=0.01, y=0.99),\n",
    "        template=\"plotly_white\",\n",
    "        height=700,\n",
    "    )\n",
    "\n",
    "    fig.show()\n",
    "\n",
    "\n",
    "    return returns-1, benchmark-1\n"
   ]
  },
  {
   "cell_type": "code",
   "execution_count": 6,
   "id": "2b6b603e",
   "metadata": {},
   "outputs": [
    {
     "name": "stdout",
     "output_type": "stream",
     "text": [
      "Investment period starts at:  2024-07-25\n",
      "Investment period ends at:  2025-02-12\n",
      "Portfolio returns was:  6.05 %\n",
      "Benchmark was:  7.86 %\n",
      "Current weights are:  OrderedDict([('BND', 0.6649), ('GLD', 0.10605), ('HODL.PA', 0.01296), ('SPY', 0.21609)])\n"
     ]
    },
    {
     "data": {
      "application/vnd.plotly.v1+json": {
       "config": {
        "plotlyServerURL": "https://plot.ly"
       },
       "data": [
        {
         "hovertemplate": "Date: %{x}<br>Return: %{y:.1%}<extra></extra>",
         "line": {
          "color": "red",
          "width": 2
         },
         "marker": {
          "size": 6
         },
         "mode": "lines",
         "name": "Portfolio",
         "type": "scatter",
         "x": [
          "2024-07-25",
          "2024-07-26",
          "2024-07-29",
          "2024-07-30",
          "2024-07-31",
          "2024-08-01",
          "2024-08-02",
          "2024-08-05",
          "2024-08-06",
          "2024-08-07",
          "2024-08-08",
          "2024-08-09",
          "2024-08-12",
          "2024-08-13",
          "2024-08-14",
          "2024-08-15",
          "2024-08-16",
          "2024-08-19",
          "2024-08-20",
          "2024-08-21",
          "2024-08-22",
          "2024-08-23",
          "2024-08-26",
          "2024-08-27",
          "2024-08-28",
          "2024-08-29",
          "2024-08-30",
          "2024-09-03",
          "2024-09-04",
          "2024-09-05",
          "2024-09-06",
          "2024-09-09",
          "2024-09-10",
          "2024-09-11",
          "2024-09-12",
          "2024-09-13",
          "2024-09-16",
          "2024-09-17",
          "2024-09-18",
          "2024-09-19",
          "2024-09-20",
          "2024-09-23",
          "2024-09-24",
          "2024-09-25",
          "2024-09-26",
          "2024-09-27",
          "2024-09-30",
          "2024-10-01",
          "2024-10-02",
          "2024-10-03",
          "2024-10-04",
          "2024-10-07",
          "2024-10-08",
          "2024-10-09",
          "2024-10-10",
          "2024-10-11",
          "2024-10-14",
          "2024-10-15",
          "2024-10-16",
          "2024-10-17",
          "2024-10-18",
          "2024-10-21",
          "2024-10-22",
          "2024-10-23",
          "2024-10-24",
          "2024-10-25",
          "2024-10-28",
          "2024-10-29",
          "2024-10-30",
          "2024-10-31",
          "2024-11-01",
          "2024-11-04",
          "2024-11-05",
          "2024-11-06",
          "2024-11-07",
          "2024-11-08",
          "2024-11-11",
          "2024-11-12",
          "2024-11-13",
          "2024-11-14",
          "2024-11-15",
          "2024-11-18",
          "2024-11-19",
          "2024-11-20",
          "2024-11-21",
          "2024-11-22",
          "2024-11-25",
          "2024-11-26",
          "2024-11-27",
          "2024-11-29",
          "2024-12-02",
          "2024-12-03",
          "2024-12-04",
          "2024-12-05",
          "2024-12-06",
          "2024-12-09",
          "2024-12-10",
          "2024-12-11",
          "2024-12-12",
          "2024-12-13",
          "2024-12-16",
          "2024-12-17",
          "2024-12-18",
          "2024-12-19",
          "2024-12-20",
          "2024-12-23",
          "2024-12-24",
          "2024-12-27",
          "2024-12-30",
          "2024-12-31",
          "2025-01-02",
          "2025-01-03",
          "2025-01-06",
          "2025-01-07",
          "2025-01-08",
          "2025-01-10",
          "2025-01-13",
          "2025-01-14",
          "2025-01-15",
          "2025-01-16",
          "2025-01-17",
          "2025-01-21",
          "2025-01-22",
          "2025-01-23",
          "2025-01-24",
          "2025-01-27",
          "2025-01-28",
          "2025-01-29",
          "2025-01-30",
          "2025-01-31",
          "2025-02-03",
          "2025-02-04",
          "2025-02-05",
          "2025-02-06",
          "2025-02-07",
          "2025-02-10",
          "2025-02-11",
          "2025-02-12"
         ],
         "y": [
          0,
          0,
          0.01,
          0.01,
          0.02,
          0.01,
          0.02,
          0.01,
          0,
          0,
          0.01,
          0.01,
          0.01,
          0.02,
          0.02,
          0.02,
          0.03,
          0.03,
          0.03,
          0.03,
          0.03,
          0.03,
          0.03,
          0.03,
          0.03,
          0.03,
          0.03,
          0.03,
          0.03,
          0.03,
          0.03,
          0.03,
          0.04,
          0.04,
          0.04,
          0.05,
          0.05,
          0.05,
          0.04,
          0.05,
          0.05,
          0.05,
          0.05,
          0.05,
          0.05,
          0.05,
          0.05,
          0.05,
          0.05,
          0.05,
          0.04,
          0.04,
          0.04,
          0.04,
          0.04,
          0.04,
          0.05,
          0.05,
          0.05,
          0.05,
          0.05,
          0.04,
          0.05,
          0.04,
          0.04,
          0.04,
          0.04,
          0.04,
          0.04,
          0.04,
          0.04,
          0.04,
          0.04,
          0.04,
          0.05,
          0.05,
          0.05,
          0.04,
          0.04,
          0.04,
          0.04,
          0.04,
          0.04,
          0.04,
          0.05,
          0.05,
          0.05,
          0.05,
          0.05,
          0.06,
          0.06,
          0.06,
          0.06,
          0.06,
          0.07,
          0.06,
          0.06,
          0.06,
          0.06,
          0.05,
          0.06,
          0.06,
          0.04,
          0.04,
          0.04,
          0.04,
          0.05,
          0.04,
          0.04,
          0.04,
          0.04,
          0.04,
          0.05,
          0.04,
          0.04,
          0.04,
          0.03,
          0.04,
          0.05,
          0.05,
          0.05,
          0.06,
          0.06,
          0.06,
          0.06,
          0.06,
          0.06,
          0.06,
          0.06,
          0.06,
          0.06,
          0.06,
          0.07,
          0.07,
          0.06,
          0.07,
          0.07,
          0.06
         ]
        },
        {
         "hovertemplate": "Date: %{x}<br>Return: %{y:.1%}<extra></extra>",
         "line": {
          "color": "blue",
          "width": 2
         },
         "marker": {
          "size": 6
         },
         "mode": "lines",
         "name": "Benchmark (60/40 SPY/BND)",
         "type": "scatter",
         "x": [
          "2024-07-25",
          "2024-07-26",
          "2024-07-29",
          "2024-07-30",
          "2024-07-31",
          "2024-08-01",
          "2024-08-02",
          "2024-08-05",
          "2024-08-06",
          "2024-08-07",
          "2024-08-08",
          "2024-08-09",
          "2024-08-12",
          "2024-08-13",
          "2024-08-14",
          "2024-08-15",
          "2024-08-16",
          "2024-08-19",
          "2024-08-20",
          "2024-08-21",
          "2024-08-22",
          "2024-08-23",
          "2024-08-26",
          "2024-08-27",
          "2024-08-28",
          "2024-08-29",
          "2024-08-30",
          "2024-09-03",
          "2024-09-04",
          "2024-09-05",
          "2024-09-06",
          "2024-09-09",
          "2024-09-10",
          "2024-09-11",
          "2024-09-12",
          "2024-09-13",
          "2024-09-16",
          "2024-09-17",
          "2024-09-18",
          "2024-09-19",
          "2024-09-20",
          "2024-09-23",
          "2024-09-24",
          "2024-09-25",
          "2024-09-26",
          "2024-09-27",
          "2024-09-30",
          "2024-10-01",
          "2024-10-02",
          "2024-10-03",
          "2024-10-04",
          "2024-10-07",
          "2024-10-08",
          "2024-10-09",
          "2024-10-10",
          "2024-10-11",
          "2024-10-14",
          "2024-10-15",
          "2024-10-16",
          "2024-10-17",
          "2024-10-18",
          "2024-10-21",
          "2024-10-22",
          "2024-10-23",
          "2024-10-24",
          "2024-10-25",
          "2024-10-28",
          "2024-10-29",
          "2024-10-30",
          "2024-10-31",
          "2024-11-01",
          "2024-11-04",
          "2024-11-05",
          "2024-11-06",
          "2024-11-07",
          "2024-11-08",
          "2024-11-11",
          "2024-11-12",
          "2024-11-13",
          "2024-11-14",
          "2024-11-15",
          "2024-11-18",
          "2024-11-19",
          "2024-11-20",
          "2024-11-21",
          "2024-11-22",
          "2024-11-25",
          "2024-11-26",
          "2024-11-27",
          "2024-11-29",
          "2024-12-02",
          "2024-12-03",
          "2024-12-04",
          "2024-12-05",
          "2024-12-06",
          "2024-12-09",
          "2024-12-10",
          "2024-12-11",
          "2024-12-12",
          "2024-12-13",
          "2024-12-16",
          "2024-12-17",
          "2024-12-18",
          "2024-12-19",
          "2024-12-20",
          "2024-12-23",
          "2024-12-24",
          "2024-12-27",
          "2024-12-30",
          "2024-12-31",
          "2025-01-02",
          "2025-01-03",
          "2025-01-06",
          "2025-01-07",
          "2025-01-08",
          "2025-01-10",
          "2025-01-13",
          "2025-01-14",
          "2025-01-15",
          "2025-01-16",
          "2025-01-17",
          "2025-01-21",
          "2025-01-22",
          "2025-01-23",
          "2025-01-24",
          "2025-01-27",
          "2025-01-28",
          "2025-01-29",
          "2025-01-30",
          "2025-01-31",
          "2025-02-03",
          "2025-02-04",
          "2025-02-05",
          "2025-02-06",
          "2025-02-07",
          "2025-02-10",
          "2025-02-11",
          "2025-02-12"
         ],
         "y": [
          0,
          0.01,
          0.01,
          0,
          0.02,
          0.01,
          0,
          -0.02,
          -0.01,
          -0.02,
          0,
          0,
          0,
          0.01,
          0.01,
          0.02,
          0.03,
          0.03,
          0.03,
          0.04,
          0.03,
          0.04,
          0.04,
          0.04,
          0.03,
          0.03,
          0.04,
          0.03,
          0.03,
          0.03,
          0.02,
          0.02,
          0.03,
          0.03,
          0.04,
          0.04,
          0.04,
          0.04,
          0.04,
          0.05,
          0.05,
          0.05,
          0.05,
          0.05,
          0.05,
          0.05,
          0.06,
          0.05,
          0.05,
          0.05,
          0.05,
          0.04,
          0.05,
          0.05,
          0.05,
          0.06,
          0.06,
          0.06,
          0.06,
          0.06,
          0.06,
          0.06,
          0.06,
          0.05,
          0.05,
          0.05,
          0.05,
          0.05,
          0.05,
          0.04,
          0.04,
          0.04,
          0.05,
          0.06,
          0.07,
          0.07,
          0.07,
          0.07,
          0.07,
          0.06,
          0.06,
          0.06,
          0.06,
          0.06,
          0.07,
          0.07,
          0.07,
          0.08,
          0.08,
          0.08,
          0.08,
          0.08,
          0.09,
          0.09,
          0.09,
          0.08,
          0.08,
          0.09,
          0.08,
          0.08,
          0.08,
          0.08,
          0.06,
          0.06,
          0.06,
          0.07,
          0.07,
          0.07,
          0.06,
          0.06,
          0.06,
          0.06,
          0.07,
          0.06,
          0.06,
          0.05,
          0.05,
          0.05,
          0.07,
          0.06,
          0.07,
          0.08,
          0.08,
          0.08,
          0.08,
          0.08,
          0.08,
          0.08,
          0.08,
          0.08,
          0.07,
          0.08,
          0.08,
          0.09,
          0.08,
          0.08,
          0.08,
          0.08
         ]
        }
       ],
       "layout": {
        "annotations": [
         {
          "align": "center",
          "arrowcolor": "red",
          "arrowhead": 2,
          "ax": 0,
          "ay": 60,
          "bgcolor": "rgba(255, 0, 0, 0.7)",
          "bordercolor": "red",
          "captureevents": true,
          "font": {
           "color": "white",
           "size": 12
          },
          "opacity": 1,
          "showarrow": true,
          "text": "<b>-0.0%</b>",
          "x": "2024-07-25",
          "y": 0
         },
         {
          "align": "center",
          "arrowcolor": "red",
          "arrowhead": 2,
          "ax": 0,
          "ay": 60,
          "bgcolor": "rgba(255, 0, 0, 0.7)",
          "bordercolor": "red",
          "captureevents": true,
          "font": {
           "color": "white",
           "size": 12
          },
          "opacity": 1,
          "showarrow": true,
          "text": "<b>3.0%</b>",
          "x": "2024-08-21",
          "y": 0.03
         },
         {
          "align": "center",
          "arrowcolor": "red",
          "arrowhead": 2,
          "ax": 0,
          "ay": 60,
          "bgcolor": "rgba(255, 0, 0, 0.7)",
          "bordercolor": "red",
          "captureevents": true,
          "font": {
           "color": "white",
           "size": 12
          },
          "opacity": 1,
          "showarrow": true,
          "text": "<b>4.0%</b>",
          "x": "2024-09-18",
          "y": 0.04
         },
         {
          "align": "center",
          "arrowcolor": "red",
          "arrowhead": 2,
          "ax": 0,
          "ay": 60,
          "bgcolor": "rgba(255, 0, 0, 0.7)",
          "bordercolor": "red",
          "captureevents": true,
          "font": {
           "color": "white",
           "size": 12
          },
          "opacity": 1,
          "showarrow": true,
          "text": "<b>5.0%</b>",
          "x": "2024-10-15",
          "y": 0.05
         },
         {
          "align": "center",
          "arrowcolor": "red",
          "arrowhead": 2,
          "ax": 0,
          "ay": 60,
          "bgcolor": "rgba(255, 0, 0, 0.7)",
          "bordercolor": "red",
          "captureevents": true,
          "font": {
           "color": "white",
           "size": 12
          },
          "opacity": 1,
          "showarrow": true,
          "text": "<b>5.0%</b>",
          "x": "2024-11-11",
          "y": 0.05
         },
         {
          "align": "center",
          "arrowcolor": "red",
          "arrowhead": 2,
          "ax": 0,
          "ay": 60,
          "bgcolor": "rgba(255, 0, 0, 0.7)",
          "bordercolor": "red",
          "captureevents": true,
          "font": {
           "color": "white",
           "size": 12
          },
          "opacity": 1,
          "showarrow": true,
          "text": "<b>6.0%</b>",
          "x": "2024-12-09",
          "y": 0.06
         },
         {
          "align": "center",
          "arrowcolor": "red",
          "arrowhead": 2,
          "ax": 0,
          "ay": 60,
          "bgcolor": "rgba(255, 0, 0, 0.7)",
          "bordercolor": "red",
          "captureevents": true,
          "font": {
           "color": "white",
           "size": 12
          },
          "opacity": 1,
          "showarrow": true,
          "text": "<b>4.0%</b>",
          "x": "2025-01-08",
          "y": 0.04
         },
         {
          "align": "center",
          "arrowcolor": "red",
          "arrowhead": 2,
          "ax": 0,
          "ay": 60,
          "bgcolor": "rgba(255, 0, 0, 0.7)",
          "bordercolor": "red",
          "captureevents": true,
          "font": {
           "color": "white",
           "size": 12
          },
          "opacity": 1,
          "showarrow": true,
          "text": "<b>7.0%</b>",
          "x": "2025-02-06",
          "y": 0.07
         },
         {
          "align": "center",
          "arrowcolor": "blue",
          "arrowhead": 2,
          "ax": 0,
          "ay": -60,
          "bgcolor": "rgba(0, 0, 255, 0.7)",
          "bordercolor": "blue",
          "captureevents": true,
          "font": {
           "color": "white",
           "size": 12
          },
          "opacity": 1,
          "showarrow": true,
          "text": "<b>-0.0%</b>",
          "x": "2024-07-25",
          "y": 0
         },
         {
          "align": "center",
          "arrowcolor": "blue",
          "arrowhead": 2,
          "ax": 0,
          "ay": -60,
          "bgcolor": "rgba(0, 0, 255, 0.7)",
          "bordercolor": "blue",
          "captureevents": true,
          "font": {
           "color": "white",
           "size": 12
          },
          "opacity": 1,
          "showarrow": true,
          "text": "<b>4.0%</b>",
          "x": "2024-08-21",
          "y": 0.04
         },
         {
          "align": "center",
          "arrowcolor": "blue",
          "arrowhead": 2,
          "ax": 0,
          "ay": -60,
          "bgcolor": "rgba(0, 0, 255, 0.7)",
          "bordercolor": "blue",
          "captureevents": true,
          "font": {
           "color": "white",
           "size": 12
          },
          "opacity": 1,
          "showarrow": true,
          "text": "<b>4.0%</b>",
          "x": "2024-09-18",
          "y": 0.04
         },
         {
          "align": "center",
          "arrowcolor": "blue",
          "arrowhead": 2,
          "ax": 0,
          "ay": -60,
          "bgcolor": "rgba(0, 0, 255, 0.7)",
          "bordercolor": "blue",
          "captureevents": true,
          "font": {
           "color": "white",
           "size": 12
          },
          "opacity": 1,
          "showarrow": true,
          "text": "<b>6.0%</b>",
          "x": "2024-10-15",
          "y": 0.06
         },
         {
          "align": "center",
          "arrowcolor": "blue",
          "arrowhead": 2,
          "ax": 0,
          "ay": -60,
          "bgcolor": "rgba(0, 0, 255, 0.7)",
          "bordercolor": "blue",
          "captureevents": true,
          "font": {
           "color": "white",
           "size": 12
          },
          "opacity": 1,
          "showarrow": true,
          "text": "<b>7.0%</b>",
          "x": "2024-11-11",
          "y": 0.07
         },
         {
          "align": "center",
          "arrowcolor": "blue",
          "arrowhead": 2,
          "ax": 0,
          "ay": -60,
          "bgcolor": "rgba(0, 0, 255, 0.7)",
          "bordercolor": "blue",
          "captureevents": true,
          "font": {
           "color": "white",
           "size": 12
          },
          "opacity": 1,
          "showarrow": true,
          "text": "<b>8.0%</b>",
          "x": "2024-12-09",
          "y": 0.08
         },
         {
          "align": "center",
          "arrowcolor": "blue",
          "arrowhead": 2,
          "ax": 0,
          "ay": -60,
          "bgcolor": "rgba(0, 0, 255, 0.7)",
          "bordercolor": "blue",
          "captureevents": true,
          "font": {
           "color": "white",
           "size": 12
          },
          "opacity": 1,
          "showarrow": true,
          "text": "<b>6.0%</b>",
          "x": "2025-01-08",
          "y": 0.06
         },
         {
          "align": "center",
          "arrowcolor": "blue",
          "arrowhead": 2,
          "ax": 0,
          "ay": -60,
          "bgcolor": "rgba(0, 0, 255, 0.7)",
          "bordercolor": "blue",
          "captureevents": true,
          "font": {
           "color": "white",
           "size": 12
          },
          "opacity": 1,
          "showarrow": true,
          "text": "<b>9.0%</b>",
          "x": "2025-02-06",
          "y": 0.09
         }
        ],
        "height": 700,
        "legend": {
         "x": 0.01,
         "y": 0.99
        },
        "template": {
         "data": {
          "bar": [
           {
            "error_x": {
             "color": "#2a3f5f"
            },
            "error_y": {
             "color": "#2a3f5f"
            },
            "marker": {
             "line": {
              "color": "white",
              "width": 0.5
             },
             "pattern": {
              "fillmode": "overlay",
              "size": 10,
              "solidity": 0.2
             }
            },
            "type": "bar"
           }
          ],
          "barpolar": [
           {
            "marker": {
             "line": {
              "color": "white",
              "width": 0.5
             },
             "pattern": {
              "fillmode": "overlay",
              "size": 10,
              "solidity": 0.2
             }
            },
            "type": "barpolar"
           }
          ],
          "carpet": [
           {
            "aaxis": {
             "endlinecolor": "#2a3f5f",
             "gridcolor": "#C8D4E3",
             "linecolor": "#C8D4E3",
             "minorgridcolor": "#C8D4E3",
             "startlinecolor": "#2a3f5f"
            },
            "baxis": {
             "endlinecolor": "#2a3f5f",
             "gridcolor": "#C8D4E3",
             "linecolor": "#C8D4E3",
             "minorgridcolor": "#C8D4E3",
             "startlinecolor": "#2a3f5f"
            },
            "type": "carpet"
           }
          ],
          "choropleth": [
           {
            "colorbar": {
             "outlinewidth": 0,
             "ticks": ""
            },
            "type": "choropleth"
           }
          ],
          "contour": [
           {
            "colorbar": {
             "outlinewidth": 0,
             "ticks": ""
            },
            "colorscale": [
             [
              0,
              "#0d0887"
             ],
             [
              0.1111111111111111,
              "#46039f"
             ],
             [
              0.2222222222222222,
              "#7201a8"
             ],
             [
              0.3333333333333333,
              "#9c179e"
             ],
             [
              0.4444444444444444,
              "#bd3786"
             ],
             [
              0.5555555555555556,
              "#d8576b"
             ],
             [
              0.6666666666666666,
              "#ed7953"
             ],
             [
              0.7777777777777778,
              "#fb9f3a"
             ],
             [
              0.8888888888888888,
              "#fdca26"
             ],
             [
              1,
              "#f0f921"
             ]
            ],
            "type": "contour"
           }
          ],
          "contourcarpet": [
           {
            "colorbar": {
             "outlinewidth": 0,
             "ticks": ""
            },
            "type": "contourcarpet"
           }
          ],
          "heatmap": [
           {
            "colorbar": {
             "outlinewidth": 0,
             "ticks": ""
            },
            "colorscale": [
             [
              0,
              "#0d0887"
             ],
             [
              0.1111111111111111,
              "#46039f"
             ],
             [
              0.2222222222222222,
              "#7201a8"
             ],
             [
              0.3333333333333333,
              "#9c179e"
             ],
             [
              0.4444444444444444,
              "#bd3786"
             ],
             [
              0.5555555555555556,
              "#d8576b"
             ],
             [
              0.6666666666666666,
              "#ed7953"
             ],
             [
              0.7777777777777778,
              "#fb9f3a"
             ],
             [
              0.8888888888888888,
              "#fdca26"
             ],
             [
              1,
              "#f0f921"
             ]
            ],
            "type": "heatmap"
           }
          ],
          "heatmapgl": [
           {
            "colorbar": {
             "outlinewidth": 0,
             "ticks": ""
            },
            "colorscale": [
             [
              0,
              "#0d0887"
             ],
             [
              0.1111111111111111,
              "#46039f"
             ],
             [
              0.2222222222222222,
              "#7201a8"
             ],
             [
              0.3333333333333333,
              "#9c179e"
             ],
             [
              0.4444444444444444,
              "#bd3786"
             ],
             [
              0.5555555555555556,
              "#d8576b"
             ],
             [
              0.6666666666666666,
              "#ed7953"
             ],
             [
              0.7777777777777778,
              "#fb9f3a"
             ],
             [
              0.8888888888888888,
              "#fdca26"
             ],
             [
              1,
              "#f0f921"
             ]
            ],
            "type": "heatmapgl"
           }
          ],
          "histogram": [
           {
            "marker": {
             "pattern": {
              "fillmode": "overlay",
              "size": 10,
              "solidity": 0.2
             }
            },
            "type": "histogram"
           }
          ],
          "histogram2d": [
           {
            "colorbar": {
             "outlinewidth": 0,
             "ticks": ""
            },
            "colorscale": [
             [
              0,
              "#0d0887"
             ],
             [
              0.1111111111111111,
              "#46039f"
             ],
             [
              0.2222222222222222,
              "#7201a8"
             ],
             [
              0.3333333333333333,
              "#9c179e"
             ],
             [
              0.4444444444444444,
              "#bd3786"
             ],
             [
              0.5555555555555556,
              "#d8576b"
             ],
             [
              0.6666666666666666,
              "#ed7953"
             ],
             [
              0.7777777777777778,
              "#fb9f3a"
             ],
             [
              0.8888888888888888,
              "#fdca26"
             ],
             [
              1,
              "#f0f921"
             ]
            ],
            "type": "histogram2d"
           }
          ],
          "histogram2dcontour": [
           {
            "colorbar": {
             "outlinewidth": 0,
             "ticks": ""
            },
            "colorscale": [
             [
              0,
              "#0d0887"
             ],
             [
              0.1111111111111111,
              "#46039f"
             ],
             [
              0.2222222222222222,
              "#7201a8"
             ],
             [
              0.3333333333333333,
              "#9c179e"
             ],
             [
              0.4444444444444444,
              "#bd3786"
             ],
             [
              0.5555555555555556,
              "#d8576b"
             ],
             [
              0.6666666666666666,
              "#ed7953"
             ],
             [
              0.7777777777777778,
              "#fb9f3a"
             ],
             [
              0.8888888888888888,
              "#fdca26"
             ],
             [
              1,
              "#f0f921"
             ]
            ],
            "type": "histogram2dcontour"
           }
          ],
          "mesh3d": [
           {
            "colorbar": {
             "outlinewidth": 0,
             "ticks": ""
            },
            "type": "mesh3d"
           }
          ],
          "parcoords": [
           {
            "line": {
             "colorbar": {
              "outlinewidth": 0,
              "ticks": ""
             }
            },
            "type": "parcoords"
           }
          ],
          "pie": [
           {
            "automargin": true,
            "type": "pie"
           }
          ],
          "scatter": [
           {
            "fillpattern": {
             "fillmode": "overlay",
             "size": 10,
             "solidity": 0.2
            },
            "type": "scatter"
           }
          ],
          "scatter3d": [
           {
            "line": {
             "colorbar": {
              "outlinewidth": 0,
              "ticks": ""
             }
            },
            "marker": {
             "colorbar": {
              "outlinewidth": 0,
              "ticks": ""
             }
            },
            "type": "scatter3d"
           }
          ],
          "scattercarpet": [
           {
            "marker": {
             "colorbar": {
              "outlinewidth": 0,
              "ticks": ""
             }
            },
            "type": "scattercarpet"
           }
          ],
          "scattergeo": [
           {
            "marker": {
             "colorbar": {
              "outlinewidth": 0,
              "ticks": ""
             }
            },
            "type": "scattergeo"
           }
          ],
          "scattergl": [
           {
            "marker": {
             "colorbar": {
              "outlinewidth": 0,
              "ticks": ""
             }
            },
            "type": "scattergl"
           }
          ],
          "scattermapbox": [
           {
            "marker": {
             "colorbar": {
              "outlinewidth": 0,
              "ticks": ""
             }
            },
            "type": "scattermapbox"
           }
          ],
          "scatterpolar": [
           {
            "marker": {
             "colorbar": {
              "outlinewidth": 0,
              "ticks": ""
             }
            },
            "type": "scatterpolar"
           }
          ],
          "scatterpolargl": [
           {
            "marker": {
             "colorbar": {
              "outlinewidth": 0,
              "ticks": ""
             }
            },
            "type": "scatterpolargl"
           }
          ],
          "scatterternary": [
           {
            "marker": {
             "colorbar": {
              "outlinewidth": 0,
              "ticks": ""
             }
            },
            "type": "scatterternary"
           }
          ],
          "surface": [
           {
            "colorbar": {
             "outlinewidth": 0,
             "ticks": ""
            },
            "colorscale": [
             [
              0,
              "#0d0887"
             ],
             [
              0.1111111111111111,
              "#46039f"
             ],
             [
              0.2222222222222222,
              "#7201a8"
             ],
             [
              0.3333333333333333,
              "#9c179e"
             ],
             [
              0.4444444444444444,
              "#bd3786"
             ],
             [
              0.5555555555555556,
              "#d8576b"
             ],
             [
              0.6666666666666666,
              "#ed7953"
             ],
             [
              0.7777777777777778,
              "#fb9f3a"
             ],
             [
              0.8888888888888888,
              "#fdca26"
             ],
             [
              1,
              "#f0f921"
             ]
            ],
            "type": "surface"
           }
          ],
          "table": [
           {
            "cells": {
             "fill": {
              "color": "#EBF0F8"
             },
             "line": {
              "color": "white"
             }
            },
            "header": {
             "fill": {
              "color": "#C8D4E3"
             },
             "line": {
              "color": "white"
             }
            },
            "type": "table"
           }
          ]
         },
         "layout": {
          "annotationdefaults": {
           "arrowcolor": "#2a3f5f",
           "arrowhead": 0,
           "arrowwidth": 1
          },
          "autotypenumbers": "strict",
          "coloraxis": {
           "colorbar": {
            "outlinewidth": 0,
            "ticks": ""
           }
          },
          "colorscale": {
           "diverging": [
            [
             0,
             "#8e0152"
            ],
            [
             0.1,
             "#c51b7d"
            ],
            [
             0.2,
             "#de77ae"
            ],
            [
             0.3,
             "#f1b6da"
            ],
            [
             0.4,
             "#fde0ef"
            ],
            [
             0.5,
             "#f7f7f7"
            ],
            [
             0.6,
             "#e6f5d0"
            ],
            [
             0.7,
             "#b8e186"
            ],
            [
             0.8,
             "#7fbc41"
            ],
            [
             0.9,
             "#4d9221"
            ],
            [
             1,
             "#276419"
            ]
           ],
           "sequential": [
            [
             0,
             "#0d0887"
            ],
            [
             0.1111111111111111,
             "#46039f"
            ],
            [
             0.2222222222222222,
             "#7201a8"
            ],
            [
             0.3333333333333333,
             "#9c179e"
            ],
            [
             0.4444444444444444,
             "#bd3786"
            ],
            [
             0.5555555555555556,
             "#d8576b"
            ],
            [
             0.6666666666666666,
             "#ed7953"
            ],
            [
             0.7777777777777778,
             "#fb9f3a"
            ],
            [
             0.8888888888888888,
             "#fdca26"
            ],
            [
             1,
             "#f0f921"
            ]
           ],
           "sequentialminus": [
            [
             0,
             "#0d0887"
            ],
            [
             0.1111111111111111,
             "#46039f"
            ],
            [
             0.2222222222222222,
             "#7201a8"
            ],
            [
             0.3333333333333333,
             "#9c179e"
            ],
            [
             0.4444444444444444,
             "#bd3786"
            ],
            [
             0.5555555555555556,
             "#d8576b"
            ],
            [
             0.6666666666666666,
             "#ed7953"
            ],
            [
             0.7777777777777778,
             "#fb9f3a"
            ],
            [
             0.8888888888888888,
             "#fdca26"
            ],
            [
             1,
             "#f0f921"
            ]
           ]
          },
          "colorway": [
           "#636efa",
           "#EF553B",
           "#00cc96",
           "#ab63fa",
           "#FFA15A",
           "#19d3f3",
           "#FF6692",
           "#B6E880",
           "#FF97FF",
           "#FECB52"
          ],
          "font": {
           "color": "#2a3f5f"
          },
          "geo": {
           "bgcolor": "white",
           "lakecolor": "white",
           "landcolor": "white",
           "showlakes": true,
           "showland": true,
           "subunitcolor": "#C8D4E3"
          },
          "hoverlabel": {
           "align": "left"
          },
          "hovermode": "closest",
          "mapbox": {
           "style": "light"
          },
          "paper_bgcolor": "white",
          "plot_bgcolor": "white",
          "polar": {
           "angularaxis": {
            "gridcolor": "#EBF0F8",
            "linecolor": "#EBF0F8",
            "ticks": ""
           },
           "bgcolor": "white",
           "radialaxis": {
            "gridcolor": "#EBF0F8",
            "linecolor": "#EBF0F8",
            "ticks": ""
           }
          },
          "scene": {
           "xaxis": {
            "backgroundcolor": "white",
            "gridcolor": "#DFE8F3",
            "gridwidth": 2,
            "linecolor": "#EBF0F8",
            "showbackground": true,
            "ticks": "",
            "zerolinecolor": "#EBF0F8"
           },
           "yaxis": {
            "backgroundcolor": "white",
            "gridcolor": "#DFE8F3",
            "gridwidth": 2,
            "linecolor": "#EBF0F8",
            "showbackground": true,
            "ticks": "",
            "zerolinecolor": "#EBF0F8"
           },
           "zaxis": {
            "backgroundcolor": "white",
            "gridcolor": "#DFE8F3",
            "gridwidth": 2,
            "linecolor": "#EBF0F8",
            "showbackground": true,
            "ticks": "",
            "zerolinecolor": "#EBF0F8"
           }
          },
          "shapedefaults": {
           "line": {
            "color": "#2a3f5f"
           }
          },
          "ternary": {
           "aaxis": {
            "gridcolor": "#DFE8F3",
            "linecolor": "#A2B1C6",
            "ticks": ""
           },
           "baxis": {
            "gridcolor": "#DFE8F3",
            "linecolor": "#A2B1C6",
            "ticks": ""
           },
           "bgcolor": "white",
           "caxis": {
            "gridcolor": "#DFE8F3",
            "linecolor": "#A2B1C6",
            "ticks": ""
           }
          },
          "title": {
           "x": 0.05
          },
          "xaxis": {
           "automargin": true,
           "gridcolor": "#EBF0F8",
           "linecolor": "#EBF0F8",
           "ticks": "",
           "title": {
            "standoff": 15
           },
           "zerolinecolor": "#EBF0F8",
           "zerolinewidth": 2
          },
          "yaxis": {
           "automargin": true,
           "gridcolor": "#EBF0F8",
           "linecolor": "#EBF0F8",
           "ticks": "",
           "title": {
            "standoff": 15
           },
           "zerolinecolor": "#EBF0F8",
           "zerolinewidth": 2
          }
         }
        },
        "title": {
         "text": "Portfolio vs Benchmark Cumulative Returns"
        },
        "xaxis": {
         "title": {
          "text": "Date"
         }
        },
        "yaxis": {
         "tickformat": ".00%",
         "title": {
          "text": "Cumulative Return"
         }
        }
       }
      }
     },
     "metadata": {},
     "output_type": "display_data"
    },
    {
     "name": "stdout",
     "output_type": "stream",
     "text": [
      "Investment period starts at:  2023-08-03\n",
      "Investment period ends at:  2025-02-12\n",
      "Portfolio returns was:  18.1 %\n",
      "Benchmark was:  23.87 %\n",
      "Current weights are:  OrderedDict([('BND', 0.6649), ('GLD', 0.10605), ('HODL.PA', 0.01296), ('SPY', 0.21609)])\n"
     ]
    },
    {
     "data": {
      "application/vnd.plotly.v1+json": {
       "config": {
        "plotlyServerURL": "https://plot.ly"
       },
       "data": [
        {
         "hovertemplate": "Date: %{x}<br>Return: %{y:.1%}<extra></extra>",
         "line": {
          "color": "red",
          "width": 2
         },
         "marker": {
          "size": 6
         },
         "mode": "lines",
         "name": "Portfolio",
         "type": "scatter",
         "x": [
          "2023-08-03",
          "2023-08-04",
          "2023-08-07",
          "2023-08-08",
          "2023-08-09",
          "2023-08-10",
          "2023-08-11",
          "2023-08-14",
          "2023-08-15",
          "2023-08-16",
          "2023-08-17",
          "2023-08-18",
          "2023-08-21",
          "2023-08-22",
          "2023-08-23",
          "2023-08-24",
          "2023-08-25",
          "2023-08-28",
          "2023-08-29",
          "2023-08-30",
          "2023-08-31",
          "2023-09-01",
          "2023-09-05",
          "2023-09-06",
          "2023-09-07",
          "2023-09-08",
          "2023-09-11",
          "2023-09-12",
          "2023-09-13",
          "2023-09-14",
          "2023-09-15",
          "2023-09-18",
          "2023-09-19",
          "2023-09-20",
          "2023-09-21",
          "2023-09-22",
          "2023-09-25",
          "2023-09-26",
          "2023-09-27",
          "2023-09-28",
          "2023-09-29",
          "2023-10-02",
          "2023-10-03",
          "2023-10-04",
          "2023-10-05",
          "2023-10-06",
          "2023-10-09",
          "2023-10-10",
          "2023-10-11",
          "2023-10-12",
          "2023-10-13",
          "2023-10-16",
          "2023-10-17",
          "2023-10-18",
          "2023-10-19",
          "2023-10-20",
          "2023-10-23",
          "2023-10-24",
          "2023-10-25",
          "2023-10-26",
          "2023-10-27",
          "2023-10-30",
          "2023-10-31",
          "2023-11-01",
          "2023-11-02",
          "2023-11-03",
          "2023-11-06",
          "2023-11-07",
          "2023-11-08",
          "2023-11-09",
          "2023-11-10",
          "2023-11-13",
          "2023-11-14",
          "2023-11-15",
          "2023-11-16",
          "2023-11-17",
          "2023-11-20",
          "2023-11-21",
          "2023-11-22",
          "2023-11-24",
          "2023-11-27",
          "2023-11-28",
          "2023-11-29",
          "2023-11-30",
          "2023-12-01",
          "2023-12-04",
          "2023-12-05",
          "2023-12-06",
          "2023-12-07",
          "2023-12-08",
          "2023-12-11",
          "2023-12-12",
          "2023-12-13",
          "2023-12-14",
          "2023-12-15",
          "2023-12-18",
          "2023-12-19",
          "2023-12-20",
          "2023-12-21",
          "2023-12-22",
          "2023-12-27",
          "2023-12-28",
          "2023-12-29",
          "2024-01-02",
          "2024-01-03",
          "2024-01-04",
          "2024-01-05",
          "2024-01-08",
          "2024-01-09",
          "2024-01-10",
          "2024-01-11",
          "2024-01-12",
          "2024-01-16",
          "2024-01-17",
          "2024-01-18",
          "2024-01-19",
          "2024-01-22",
          "2024-01-23",
          "2024-01-24",
          "2024-01-25",
          "2024-01-26",
          "2024-01-29",
          "2024-01-30",
          "2024-01-31",
          "2024-02-01",
          "2024-02-02",
          "2024-02-05",
          "2024-02-06",
          "2024-02-07",
          "2024-02-08",
          "2024-02-09",
          "2024-02-12",
          "2024-02-13",
          "2024-02-14",
          "2024-02-15",
          "2024-02-16",
          "2024-02-20",
          "2024-02-21",
          "2024-02-22",
          "2024-02-23",
          "2024-02-26",
          "2024-02-27",
          "2024-02-28",
          "2024-02-29",
          "2024-03-01",
          "2024-03-04",
          "2024-03-05",
          "2024-03-06",
          "2024-03-07",
          "2024-03-08",
          "2024-03-11",
          "2024-03-12",
          "2024-03-13",
          "2024-03-14",
          "2024-03-15",
          "2024-03-18",
          "2024-03-19",
          "2024-03-20",
          "2024-03-21",
          "2024-03-22",
          "2024-03-25",
          "2024-03-26",
          "2024-03-27",
          "2024-03-28",
          "2024-04-02",
          "2024-04-03",
          "2024-04-04",
          "2024-04-05",
          "2024-04-08",
          "2024-04-09",
          "2024-04-10",
          "2024-04-11",
          "2024-04-12",
          "2024-04-15",
          "2024-04-16",
          "2024-04-17",
          "2024-04-18",
          "2024-04-19",
          "2024-04-22",
          "2024-04-23",
          "2024-04-24",
          "2024-04-25",
          "2024-04-26",
          "2024-04-29",
          "2024-04-30",
          "2024-05-02",
          "2024-05-03",
          "2024-05-06",
          "2024-05-07",
          "2024-05-08",
          "2024-05-09",
          "2024-05-10",
          "2024-05-13",
          "2024-05-14",
          "2024-05-15",
          "2024-05-16",
          "2024-05-17",
          "2024-05-20",
          "2024-05-21",
          "2024-05-22",
          "2024-05-23",
          "2024-05-24",
          "2024-05-28",
          "2024-05-29",
          "2024-05-30",
          "2024-05-31",
          "2024-06-03",
          "2024-06-04",
          "2024-06-05",
          "2024-06-06",
          "2024-06-07",
          "2024-06-10",
          "2024-06-11",
          "2024-06-12",
          "2024-06-13",
          "2024-06-14",
          "2024-06-17",
          "2024-06-18",
          "2024-06-20",
          "2024-06-21",
          "2024-06-24",
          "2024-06-25",
          "2024-06-26",
          "2024-06-27",
          "2024-06-28",
          "2024-07-01",
          "2024-07-02",
          "2024-07-03",
          "2024-07-05",
          "2024-07-08",
          "2024-07-09",
          "2024-07-10",
          "2024-07-11",
          "2024-07-12",
          "2024-07-15",
          "2024-07-16",
          "2024-07-17",
          "2024-07-18",
          "2024-07-19",
          "2024-07-22",
          "2024-07-23",
          "2024-07-24",
          "2024-07-25",
          "2024-07-26",
          "2024-07-29",
          "2024-07-30",
          "2024-07-31",
          "2024-08-01",
          "2024-08-02",
          "2024-08-05",
          "2024-08-06",
          "2024-08-07",
          "2024-08-08",
          "2024-08-09",
          "2024-08-12",
          "2024-08-13",
          "2024-08-14",
          "2024-08-15",
          "2024-08-16",
          "2024-08-19",
          "2024-08-20",
          "2024-08-21",
          "2024-08-22",
          "2024-08-23",
          "2024-08-26",
          "2024-08-27",
          "2024-08-28",
          "2024-08-29",
          "2024-08-30",
          "2024-09-03",
          "2024-09-04",
          "2024-09-05",
          "2024-09-06",
          "2024-09-09",
          "2024-09-10",
          "2024-09-11",
          "2024-09-12",
          "2024-09-13",
          "2024-09-16",
          "2024-09-17",
          "2024-09-18",
          "2024-09-19",
          "2024-09-20",
          "2024-09-23",
          "2024-09-24",
          "2024-09-25",
          "2024-09-26",
          "2024-09-27",
          "2024-09-30",
          "2024-10-01",
          "2024-10-02",
          "2024-10-03",
          "2024-10-04",
          "2024-10-07",
          "2024-10-08",
          "2024-10-09",
          "2024-10-10",
          "2024-10-11",
          "2024-10-14",
          "2024-10-15",
          "2024-10-16",
          "2024-10-17",
          "2024-10-18",
          "2024-10-21",
          "2024-10-22",
          "2024-10-23",
          "2024-10-24",
          "2024-10-25",
          "2024-10-28",
          "2024-10-29",
          "2024-10-30",
          "2024-10-31",
          "2024-11-01",
          "2024-11-04",
          "2024-11-05",
          "2024-11-06",
          "2024-11-07",
          "2024-11-08",
          "2024-11-11",
          "2024-11-12",
          "2024-11-13",
          "2024-11-14",
          "2024-11-15",
          "2024-11-18",
          "2024-11-19",
          "2024-11-20",
          "2024-11-21",
          "2024-11-22",
          "2024-11-25",
          "2024-11-26",
          "2024-11-27",
          "2024-11-29",
          "2024-12-02",
          "2024-12-03",
          "2024-12-04",
          "2024-12-05",
          "2024-12-06",
          "2024-12-09",
          "2024-12-10",
          "2024-12-11",
          "2024-12-12",
          "2024-12-13",
          "2024-12-16",
          "2024-12-17",
          "2024-12-18",
          "2024-12-19",
          "2024-12-20",
          "2024-12-23",
          "2024-12-24",
          "2024-12-27",
          "2024-12-30",
          "2024-12-31",
          "2025-01-02",
          "2025-01-03",
          "2025-01-06",
          "2025-01-07",
          "2025-01-08",
          "2025-01-10",
          "2025-01-13",
          "2025-01-14",
          "2025-01-15",
          "2025-01-16",
          "2025-01-17",
          "2025-01-21",
          "2025-01-22",
          "2025-01-23",
          "2025-01-24",
          "2025-01-27",
          "2025-01-28",
          "2025-01-29",
          "2025-01-30",
          "2025-01-31",
          "2025-02-03",
          "2025-02-04",
          "2025-02-05",
          "2025-02-06",
          "2025-02-07",
          "2025-02-10",
          "2025-02-11",
          "2025-02-12"
         ],
         "y": [
          0,
          0,
          0,
          0,
          0,
          0,
          -0.01,
          -0.01,
          -0.01,
          -0.01,
          -0.02,
          -0.02,
          -0.02,
          -0.02,
          -0.01,
          -0.01,
          -0.01,
          -0.01,
          0,
          0,
          0,
          0,
          -0.01,
          -0.01,
          -0.01,
          -0.01,
          -0.01,
          -0.01,
          -0.01,
          -0.01,
          -0.01,
          -0.01,
          -0.01,
          -0.01,
          -0.02,
          -0.02,
          -0.02,
          -0.03,
          -0.03,
          -0.03,
          -0.03,
          -0.04,
          -0.04,
          -0.04,
          -0.04,
          -0.04,
          -0.03,
          -0.03,
          -0.02,
          -0.03,
          -0.03,
          -0.03,
          -0.03,
          -0.03,
          -0.04,
          -0.04,
          -0.04,
          -0.03,
          -0.04,
          -0.04,
          -0.04,
          -0.04,
          -0.03,
          -0.03,
          -0.02,
          -0.01,
          -0.02,
          -0.01,
          -0.01,
          -0.02,
          -0.01,
          -0.01,
          0,
          0,
          0,
          0,
          0.01,
          0.01,
          0.01,
          0.01,
          0.01,
          0.02,
          0.02,
          0.02,
          0.03,
          0.02,
          0.02,
          0.03,
          0.03,
          0.03,
          0.02,
          0.03,
          0.04,
          0.05,
          0.05,
          0.05,
          0.05,
          0.05,
          0.05,
          0.05,
          0.06,
          0.06,
          0.05,
          0.05,
          0.05,
          0.04,
          0.04,
          0.05,
          0.05,
          0.05,
          0.05,
          0.05,
          0.05,
          0.04,
          0.05,
          0.05,
          0.05,
          0.05,
          0.05,
          0.05,
          0.05,
          0.06,
          0.06,
          0.06,
          0.06,
          0.06,
          0.05,
          0.06,
          0.06,
          0.06,
          0.06,
          0.06,
          0.05,
          0.05,
          0.06,
          0.05,
          0.05,
          0.05,
          0.06,
          0.06,
          0.06,
          0.06,
          0.06,
          0.06,
          0.07,
          0.07,
          0.07,
          0.08,
          0.08,
          0.08,
          0.08,
          0.08,
          0.08,
          0.08,
          0.07,
          0.07,
          0.08,
          0.08,
          0.08,
          0.08,
          0.08,
          0.08,
          0.09,
          0.09,
          0.08,
          0.09,
          0.08,
          0.08,
          0.08,
          0.09,
          0.08,
          0.08,
          0.08,
          0.07,
          0.07,
          0.07,
          0.07,
          0.07,
          0.07,
          0.07,
          0.07,
          0.07,
          0.07,
          0.07,
          0.06,
          0.07,
          0.08,
          0.08,
          0.08,
          0.08,
          0.09,
          0.08,
          0.08,
          0.09,
          0.1,
          0.09,
          0.1,
          0.1,
          0.1,
          0.1,
          0.09,
          0.09,
          0.09,
          0.08,
          0.09,
          0.09,
          0.1,
          0.1,
          0.1,
          0.1,
          0.09,
          0.09,
          0.1,
          0.1,
          0.11,
          0.11,
          0.11,
          0.11,
          0.11,
          0.11,
          0.11,
          0.11,
          0.1,
          0.11,
          0.1,
          0.1,
          0.1,
          0.11,
          0.12,
          0.11,
          0.11,
          0.12,
          0.12,
          0.13,
          0.12,
          0.13,
          0.13,
          0.12,
          0.12,
          0.12,
          0.12,
          0.11,
          0.11,
          0.12,
          0.12,
          0.12,
          0.13,
          0.13,
          0.13,
          0.12,
          0.12,
          0.11,
          0.12,
          0.13,
          0.13,
          0.14,
          0.14,
          0.14,
          0.14,
          0.15,
          0.15,
          0.15,
          0.14,
          0.15,
          0.15,
          0.15,
          0.15,
          0.15,
          0.15,
          0.15,
          0.15,
          0.15,
          0.15,
          0.15,
          0.15,
          0.16,
          0.16,
          0.16,
          0.17,
          0.17,
          0.16,
          0.17,
          0.17,
          0.17,
          0.17,
          0.17,
          0.17,
          0.17,
          0.17,
          0.17,
          0.17,
          0.16,
          0.16,
          0.16,
          0.16,
          0.16,
          0.16,
          0.16,
          0.16,
          0.17,
          0.17,
          0.17,
          0.17,
          0.16,
          0.16,
          0.16,
          0.16,
          0.16,
          0.16,
          0.16,
          0.16,
          0.16,
          0.15,
          0.16,
          0.16,
          0.16,
          0.17,
          0.17,
          0.17,
          0.16,
          0.16,
          0.16,
          0.15,
          0.16,
          0.16,
          0.16,
          0.17,
          0.17,
          0.17,
          0.17,
          0.17,
          0.18,
          0.18,
          0.18,
          0.18,
          0.18,
          0.19,
          0.18,
          0.18,
          0.19,
          0.18,
          0.17,
          0.18,
          0.18,
          0.16,
          0.16,
          0.16,
          0.16,
          0.16,
          0.16,
          0.16,
          0.16,
          0.16,
          0.16,
          0.16,
          0.16,
          0.16,
          0.15,
          0.15,
          0.15,
          0.17,
          0.17,
          0.17,
          0.18,
          0.18,
          0.18,
          0.18,
          0.18,
          0.18,
          0.18,
          0.18,
          0.18,
          0.18,
          0.18,
          0.19,
          0.19,
          0.18,
          0.19,
          0.19,
          0.18
         ]
        },
        {
         "hovertemplate": "Date: %{x}<br>Return: %{y:.1%}<extra></extra>",
         "line": {
          "color": "blue",
          "width": 2
         },
         "marker": {
          "size": 6
         },
         "mode": "lines",
         "name": "Benchmark (60/40 SPY/BND)",
         "type": "scatter",
         "x": [
          "2023-08-03",
          "2023-08-04",
          "2023-08-07",
          "2023-08-08",
          "2023-08-09",
          "2023-08-10",
          "2023-08-11",
          "2023-08-14",
          "2023-08-15",
          "2023-08-16",
          "2023-08-17",
          "2023-08-18",
          "2023-08-21",
          "2023-08-22",
          "2023-08-23",
          "2023-08-24",
          "2023-08-25",
          "2023-08-28",
          "2023-08-29",
          "2023-08-30",
          "2023-08-31",
          "2023-09-01",
          "2023-09-05",
          "2023-09-06",
          "2023-09-07",
          "2023-09-08",
          "2023-09-11",
          "2023-09-12",
          "2023-09-13",
          "2023-09-14",
          "2023-09-15",
          "2023-09-18",
          "2023-09-19",
          "2023-09-20",
          "2023-09-21",
          "2023-09-22",
          "2023-09-25",
          "2023-09-26",
          "2023-09-27",
          "2023-09-28",
          "2023-09-29",
          "2023-10-02",
          "2023-10-03",
          "2023-10-04",
          "2023-10-05",
          "2023-10-06",
          "2023-10-09",
          "2023-10-10",
          "2023-10-11",
          "2023-10-12",
          "2023-10-13",
          "2023-10-16",
          "2023-10-17",
          "2023-10-18",
          "2023-10-19",
          "2023-10-20",
          "2023-10-23",
          "2023-10-24",
          "2023-10-25",
          "2023-10-26",
          "2023-10-27",
          "2023-10-30",
          "2023-10-31",
          "2023-11-01",
          "2023-11-02",
          "2023-11-03",
          "2023-11-06",
          "2023-11-07",
          "2023-11-08",
          "2023-11-09",
          "2023-11-10",
          "2023-11-13",
          "2023-11-14",
          "2023-11-15",
          "2023-11-16",
          "2023-11-17",
          "2023-11-20",
          "2023-11-21",
          "2023-11-22",
          "2023-11-24",
          "2023-11-27",
          "2023-11-28",
          "2023-11-29",
          "2023-11-30",
          "2023-12-01",
          "2023-12-04",
          "2023-12-05",
          "2023-12-06",
          "2023-12-07",
          "2023-12-08",
          "2023-12-11",
          "2023-12-12",
          "2023-12-13",
          "2023-12-14",
          "2023-12-15",
          "2023-12-18",
          "2023-12-19",
          "2023-12-20",
          "2023-12-21",
          "2023-12-22",
          "2023-12-27",
          "2023-12-28",
          "2023-12-29",
          "2024-01-02",
          "2024-01-03",
          "2024-01-04",
          "2024-01-05",
          "2024-01-08",
          "2024-01-09",
          "2024-01-10",
          "2024-01-11",
          "2024-01-12",
          "2024-01-16",
          "2024-01-17",
          "2024-01-18",
          "2024-01-19",
          "2024-01-22",
          "2024-01-23",
          "2024-01-24",
          "2024-01-25",
          "2024-01-26",
          "2024-01-29",
          "2024-01-30",
          "2024-01-31",
          "2024-02-01",
          "2024-02-02",
          "2024-02-05",
          "2024-02-06",
          "2024-02-07",
          "2024-02-08",
          "2024-02-09",
          "2024-02-12",
          "2024-02-13",
          "2024-02-14",
          "2024-02-15",
          "2024-02-16",
          "2024-02-20",
          "2024-02-21",
          "2024-02-22",
          "2024-02-23",
          "2024-02-26",
          "2024-02-27",
          "2024-02-28",
          "2024-02-29",
          "2024-03-01",
          "2024-03-04",
          "2024-03-05",
          "2024-03-06",
          "2024-03-07",
          "2024-03-08",
          "2024-03-11",
          "2024-03-12",
          "2024-03-13",
          "2024-03-14",
          "2024-03-15",
          "2024-03-18",
          "2024-03-19",
          "2024-03-20",
          "2024-03-21",
          "2024-03-22",
          "2024-03-25",
          "2024-03-26",
          "2024-03-27",
          "2024-03-28",
          "2024-04-02",
          "2024-04-03",
          "2024-04-04",
          "2024-04-05",
          "2024-04-08",
          "2024-04-09",
          "2024-04-10",
          "2024-04-11",
          "2024-04-12",
          "2024-04-15",
          "2024-04-16",
          "2024-04-17",
          "2024-04-18",
          "2024-04-19",
          "2024-04-22",
          "2024-04-23",
          "2024-04-24",
          "2024-04-25",
          "2024-04-26",
          "2024-04-29",
          "2024-04-30",
          "2024-05-02",
          "2024-05-03",
          "2024-05-06",
          "2024-05-07",
          "2024-05-08",
          "2024-05-09",
          "2024-05-10",
          "2024-05-13",
          "2024-05-14",
          "2024-05-15",
          "2024-05-16",
          "2024-05-17",
          "2024-05-20",
          "2024-05-21",
          "2024-05-22",
          "2024-05-23",
          "2024-05-24",
          "2024-05-28",
          "2024-05-29",
          "2024-05-30",
          "2024-05-31",
          "2024-06-03",
          "2024-06-04",
          "2024-06-05",
          "2024-06-06",
          "2024-06-07",
          "2024-06-10",
          "2024-06-11",
          "2024-06-12",
          "2024-06-13",
          "2024-06-14",
          "2024-06-17",
          "2024-06-18",
          "2024-06-20",
          "2024-06-21",
          "2024-06-24",
          "2024-06-25",
          "2024-06-26",
          "2024-06-27",
          "2024-06-28",
          "2024-07-01",
          "2024-07-02",
          "2024-07-03",
          "2024-07-05",
          "2024-07-08",
          "2024-07-09",
          "2024-07-10",
          "2024-07-11",
          "2024-07-12",
          "2024-07-15",
          "2024-07-16",
          "2024-07-17",
          "2024-07-18",
          "2024-07-19",
          "2024-07-22",
          "2024-07-23",
          "2024-07-24",
          "2024-07-25",
          "2024-07-26",
          "2024-07-29",
          "2024-07-30",
          "2024-07-31",
          "2024-08-01",
          "2024-08-02",
          "2024-08-05",
          "2024-08-06",
          "2024-08-07",
          "2024-08-08",
          "2024-08-09",
          "2024-08-12",
          "2024-08-13",
          "2024-08-14",
          "2024-08-15",
          "2024-08-16",
          "2024-08-19",
          "2024-08-20",
          "2024-08-21",
          "2024-08-22",
          "2024-08-23",
          "2024-08-26",
          "2024-08-27",
          "2024-08-28",
          "2024-08-29",
          "2024-08-30",
          "2024-09-03",
          "2024-09-04",
          "2024-09-05",
          "2024-09-06",
          "2024-09-09",
          "2024-09-10",
          "2024-09-11",
          "2024-09-12",
          "2024-09-13",
          "2024-09-16",
          "2024-09-17",
          "2024-09-18",
          "2024-09-19",
          "2024-09-20",
          "2024-09-23",
          "2024-09-24",
          "2024-09-25",
          "2024-09-26",
          "2024-09-27",
          "2024-09-30",
          "2024-10-01",
          "2024-10-02",
          "2024-10-03",
          "2024-10-04",
          "2024-10-07",
          "2024-10-08",
          "2024-10-09",
          "2024-10-10",
          "2024-10-11",
          "2024-10-14",
          "2024-10-15",
          "2024-10-16",
          "2024-10-17",
          "2024-10-18",
          "2024-10-21",
          "2024-10-22",
          "2024-10-23",
          "2024-10-24",
          "2024-10-25",
          "2024-10-28",
          "2024-10-29",
          "2024-10-30",
          "2024-10-31",
          "2024-11-01",
          "2024-11-04",
          "2024-11-05",
          "2024-11-06",
          "2024-11-07",
          "2024-11-08",
          "2024-11-11",
          "2024-11-12",
          "2024-11-13",
          "2024-11-14",
          "2024-11-15",
          "2024-11-18",
          "2024-11-19",
          "2024-11-20",
          "2024-11-21",
          "2024-11-22",
          "2024-11-25",
          "2024-11-26",
          "2024-11-27",
          "2024-11-29",
          "2024-12-02",
          "2024-12-03",
          "2024-12-04",
          "2024-12-05",
          "2024-12-06",
          "2024-12-09",
          "2024-12-10",
          "2024-12-11",
          "2024-12-12",
          "2024-12-13",
          "2024-12-16",
          "2024-12-17",
          "2024-12-18",
          "2024-12-19",
          "2024-12-20",
          "2024-12-23",
          "2024-12-24",
          "2024-12-27",
          "2024-12-30",
          "2024-12-31",
          "2025-01-02",
          "2025-01-03",
          "2025-01-06",
          "2025-01-07",
          "2025-01-08",
          "2025-01-10",
          "2025-01-13",
          "2025-01-14",
          "2025-01-15",
          "2025-01-16",
          "2025-01-17",
          "2025-01-21",
          "2025-01-22",
          "2025-01-23",
          "2025-01-24",
          "2025-01-27",
          "2025-01-28",
          "2025-01-29",
          "2025-01-30",
          "2025-01-31",
          "2025-02-03",
          "2025-02-04",
          "2025-02-05",
          "2025-02-06",
          "2025-02-07",
          "2025-02-10",
          "2025-02-11",
          "2025-02-12"
         ],
         "y": [
          0,
          0,
          0,
          0,
          0,
          -0.01,
          -0.01,
          0,
          -0.01,
          -0.02,
          -0.02,
          -0.02,
          -0.02,
          -0.02,
          -0.01,
          -0.02,
          -0.02,
          -0.01,
          0,
          0,
          0,
          0,
          0,
          -0.01,
          -0.01,
          -0.01,
          0,
          -0.01,
          -0.01,
          0,
          -0.01,
          -0.01,
          -0.01,
          -0.02,
          -0.03,
          -0.03,
          -0.03,
          -0.04,
          -0.04,
          -0.04,
          -0.04,
          -0.04,
          -0.05,
          -0.04,
          -0.04,
          -0.04,
          -0.03,
          -0.03,
          -0.02,
          -0.03,
          -0.03,
          -0.03,
          -0.03,
          -0.04,
          -0.05,
          -0.05,
          -0.05,
          -0.05,
          -0.06,
          -0.06,
          -0.06,
          -0.06,
          -0.06,
          -0.05,
          -0.03,
          -0.02,
          -0.02,
          -0.02,
          -0.02,
          -0.03,
          -0.02,
          -0.02,
          0,
          0,
          0,
          0,
          0.01,
          0.01,
          0.01,
          0.01,
          0.01,
          0.01,
          0.01,
          0.01,
          0.02,
          0.02,
          0.02,
          0.02,
          0.02,
          0.02,
          0.02,
          0.03,
          0.04,
          0.05,
          0.05,
          0.05,
          0.05,
          0.05,
          0.05,
          0.05,
          0.06,
          0.06,
          0.06,
          0.05,
          0.05,
          0.04,
          0.04,
          0.05,
          0.05,
          0.05,
          0.06,
          0.06,
          0.05,
          0.05,
          0.05,
          0.06,
          0.06,
          0.06,
          0.06,
          0.07,
          0.07,
          0.07,
          0.07,
          0.07,
          0.08,
          0.08,
          0.07,
          0.08,
          0.08,
          0.08,
          0.08,
          0.08,
          0.07,
          0.08,
          0.08,
          0.08,
          0.08,
          0.08,
          0.09,
          0.09,
          0.09,
          0.09,
          0.09,
          0.09,
          0.1,
          0.1,
          0.09,
          0.1,
          0.11,
          0.1,
          0.1,
          0.11,
          0.11,
          0.1,
          0.1,
          0.1,
          0.11,
          0.11,
          0.11,
          0.12,
          0.11,
          0.11,
          0.12,
          0.12,
          0.11,
          0.11,
          0.1,
          0.11,
          0.11,
          0.11,
          0.1,
          0.1,
          0.09,
          0.08,
          0.08,
          0.08,
          0.08,
          0.07,
          0.08,
          0.09,
          0.09,
          0.08,
          0.09,
          0.09,
          0.08,
          0.09,
          0.1,
          0.1,
          0.11,
          0.11,
          0.11,
          0.11,
          0.11,
          0.12,
          0.13,
          0.12,
          0.12,
          0.12,
          0.13,
          0.12,
          0.12,
          0.12,
          0.12,
          0.12,
          0.11,
          0.12,
          0.12,
          0.13,
          0.13,
          0.14,
          0.13,
          0.13,
          0.14,
          0.14,
          0.15,
          0.15,
          0.15,
          0.15,
          0.15,
          0.15,
          0.15,
          0.15,
          0.15,
          0.15,
          0.15,
          0.15,
          0.15,
          0.16,
          0.16,
          0.17,
          0.17,
          0.17,
          0.17,
          0.18,
          0.18,
          0.18,
          0.17,
          0.17,
          0.16,
          0.17,
          0.17,
          0.15,
          0.15,
          0.16,
          0.16,
          0.15,
          0.17,
          0.16,
          0.15,
          0.13,
          0.13,
          0.13,
          0.14,
          0.15,
          0.15,
          0.16,
          0.17,
          0.18,
          0.18,
          0.19,
          0.19,
          0.19,
          0.18,
          0.19,
          0.19,
          0.19,
          0.19,
          0.19,
          0.19,
          0.18,
          0.18,
          0.18,
          0.17,
          0.18,
          0.18,
          0.19,
          0.19,
          0.2,
          0.2,
          0.2,
          0.2,
          0.21,
          0.21,
          0.21,
          0.21,
          0.21,
          0.21,
          0.21,
          0.21,
          0.21,
          0.21,
          0.2,
          0.21,
          0.2,
          0.21,
          0.21,
          0.21,
          0.21,
          0.22,
          0.21,
          0.22,
          0.22,
          0.22,
          0.21,
          0.21,
          0.21,
          0.21,
          0.21,
          0.21,
          0.21,
          0.21,
          0.19,
          0.2,
          0.2,
          0.21,
          0.22,
          0.23,
          0.23,
          0.23,
          0.23,
          0.23,
          0.22,
          0.21,
          0.22,
          0.22,
          0.22,
          0.22,
          0.23,
          0.23,
          0.24,
          0.24,
          0.24,
          0.24,
          0.24,
          0.25,
          0.25,
          0.25,
          0.25,
          0.24,
          0.25,
          0.24,
          0.24,
          0.24,
          0.24,
          0.21,
          0.21,
          0.22,
          0.23,
          0.23,
          0.23,
          0.22,
          0.22,
          0.21,
          0.22,
          0.23,
          0.22,
          0.22,
          0.2,
          0.2,
          0.21,
          0.22,
          0.22,
          0.23,
          0.24,
          0.24,
          0.25,
          0.24,
          0.24,
          0.24,
          0.24,
          0.24,
          0.24,
          0.23,
          0.24,
          0.25,
          0.25,
          0.24,
          0.24,
          0.24,
          0.24
         ]
        }
       ],
       "layout": {
        "annotations": [
         {
          "align": "center",
          "arrowcolor": "red",
          "arrowhead": 2,
          "ax": 0,
          "ay": 60,
          "bgcolor": "rgba(255, 0, 0, 0.7)",
          "bordercolor": "red",
          "captureevents": true,
          "font": {
           "color": "white",
           "size": 12
          },
          "opacity": 1,
          "showarrow": true,
          "text": "<b>-0.0%</b>",
          "x": "2023-08-03",
          "y": 0
         },
         {
          "align": "center",
          "arrowcolor": "red",
          "arrowhead": 2,
          "ax": 0,
          "ay": 60,
          "bgcolor": "rgba(255, 0, 0, 0.7)",
          "bordercolor": "red",
          "captureevents": true,
          "font": {
           "color": "white",
           "size": 12
          },
          "opacity": 1,
          "showarrow": true,
          "text": "<b>-4.0%</b>",
          "x": "2023-10-19",
          "y": -0.04
         },
         {
          "align": "center",
          "arrowcolor": "red",
          "arrowhead": 2,
          "ax": 0,
          "ay": 60,
          "bgcolor": "rgba(255, 0, 0, 0.7)",
          "bordercolor": "red",
          "captureevents": true,
          "font": {
           "color": "white",
           "size": 12
          },
          "opacity": 1,
          "showarrow": true,
          "text": "<b>5.0%</b>",
          "x": "2024-01-09",
          "y": 0.05
         },
         {
          "align": "center",
          "arrowcolor": "red",
          "arrowhead": 2,
          "ax": 0,
          "ay": 60,
          "bgcolor": "rgba(255, 0, 0, 0.7)",
          "bordercolor": "red",
          "captureevents": true,
          "font": {
           "color": "white",
           "size": 12
          },
          "opacity": 1,
          "showarrow": true,
          "text": "<b>9.0%</b>",
          "x": "2024-03-27",
          "y": 0.09
         },
         {
          "align": "center",
          "arrowcolor": "red",
          "arrowhead": 2,
          "ax": 0,
          "ay": 60,
          "bgcolor": "rgba(255, 0, 0, 0.7)",
          "bordercolor": "red",
          "captureevents": true,
          "font": {
           "color": "white",
           "size": 12
          },
          "opacity": 1,
          "showarrow": true,
          "text": "<b>11.0%</b>",
          "x": "2024-06-17",
          "y": 0.11
         },
         {
          "align": "center",
          "arrowcolor": "red",
          "arrowhead": 2,
          "ax": 0,
          "ay": 60,
          "bgcolor": "rgba(255, 0, 0, 0.7)",
          "bordercolor": "red",
          "captureevents": true,
          "font": {
           "color": "white",
           "size": 12
          },
          "opacity": 1,
          "showarrow": true,
          "text": "<b>15.0%</b>",
          "x": "2024-09-04",
          "y": 0.15
         },
         {
          "align": "center",
          "arrowcolor": "red",
          "arrowhead": 2,
          "ax": 0,
          "ay": 60,
          "bgcolor": "rgba(255, 0, 0, 0.7)",
          "bordercolor": "red",
          "captureevents": true,
          "font": {
           "color": "white",
           "size": 12
          },
          "opacity": 1,
          "showarrow": true,
          "text": "<b>16.0%</b>",
          "x": "2024-11-19",
          "y": 0.16
         },
         {
          "align": "center",
          "arrowcolor": "red",
          "arrowhead": 2,
          "ax": 0,
          "ay": 60,
          "bgcolor": "rgba(255, 0, 0, 0.7)",
          "bordercolor": "red",
          "captureevents": true,
          "font": {
           "color": "white",
           "size": 12
          },
          "opacity": 1,
          "showarrow": true,
          "text": "<b>19.0%</b>",
          "x": "2025-02-11",
          "y": 0.19
         },
         {
          "align": "center",
          "arrowcolor": "blue",
          "arrowhead": 2,
          "ax": 0,
          "ay": -60,
          "bgcolor": "rgba(0, 0, 255, 0.7)",
          "bordercolor": "blue",
          "captureevents": true,
          "font": {
           "color": "white",
           "size": 12
          },
          "opacity": 1,
          "showarrow": true,
          "text": "<b>-0.0%</b>",
          "x": "2023-08-03",
          "y": 0
         },
         {
          "align": "center",
          "arrowcolor": "blue",
          "arrowhead": 2,
          "ax": 0,
          "ay": -60,
          "bgcolor": "rgba(0, 0, 255, 0.7)",
          "bordercolor": "blue",
          "captureevents": true,
          "font": {
           "color": "white",
           "size": 12
          },
          "opacity": 1,
          "showarrow": true,
          "text": "<b>-5.0%</b>",
          "x": "2023-10-19",
          "y": -0.05
         },
         {
          "align": "center",
          "arrowcolor": "blue",
          "arrowhead": 2,
          "ax": 0,
          "ay": -60,
          "bgcolor": "rgba(0, 0, 255, 0.7)",
          "bordercolor": "blue",
          "captureevents": true,
          "font": {
           "color": "white",
           "size": 12
          },
          "opacity": 1,
          "showarrow": true,
          "text": "<b>5.0%</b>",
          "x": "2024-01-09",
          "y": 0.05
         },
         {
          "align": "center",
          "arrowcolor": "blue",
          "arrowhead": 2,
          "ax": 0,
          "ay": -60,
          "bgcolor": "rgba(0, 0, 255, 0.7)",
          "bordercolor": "blue",
          "captureevents": true,
          "font": {
           "color": "white",
           "size": 12
          },
          "opacity": 1,
          "showarrow": true,
          "text": "<b>12.0%</b>",
          "x": "2024-03-27",
          "y": 0.12
         },
         {
          "align": "center",
          "arrowcolor": "blue",
          "arrowhead": 2,
          "ax": 0,
          "ay": -60,
          "bgcolor": "rgba(0, 0, 255, 0.7)",
          "bordercolor": "blue",
          "captureevents": true,
          "font": {
           "color": "white",
           "size": 12
          },
          "opacity": 1,
          "showarrow": true,
          "text": "<b>15.0%</b>",
          "x": "2024-06-17",
          "y": 0.15
         },
         {
          "align": "center",
          "arrowcolor": "blue",
          "arrowhead": 2,
          "ax": 0,
          "ay": -60,
          "bgcolor": "rgba(0, 0, 255, 0.7)",
          "bordercolor": "blue",
          "captureevents": true,
          "font": {
           "color": "white",
           "size": 12
          },
          "opacity": 1,
          "showarrow": true,
          "text": "<b>18.0%</b>",
          "x": "2024-09-04",
          "y": 0.18
         },
         {
          "align": "center",
          "arrowcolor": "blue",
          "arrowhead": 2,
          "ax": 0,
          "ay": -60,
          "bgcolor": "rgba(0, 0, 255, 0.7)",
          "bordercolor": "blue",
          "captureevents": true,
          "font": {
           "color": "white",
           "size": 12
          },
          "opacity": 1,
          "showarrow": true,
          "text": "<b>22.0%</b>",
          "x": "2024-11-19",
          "y": 0.22
         },
         {
          "align": "center",
          "arrowcolor": "blue",
          "arrowhead": 2,
          "ax": 0,
          "ay": -60,
          "bgcolor": "rgba(0, 0, 255, 0.7)",
          "bordercolor": "blue",
          "captureevents": true,
          "font": {
           "color": "white",
           "size": 12
          },
          "opacity": 1,
          "showarrow": true,
          "text": "<b>24.0%</b>",
          "x": "2025-02-11",
          "y": 0.24
         }
        ],
        "height": 700,
        "legend": {
         "x": 0.01,
         "y": 0.99
        },
        "template": {
         "data": {
          "bar": [
           {
            "error_x": {
             "color": "#2a3f5f"
            },
            "error_y": {
             "color": "#2a3f5f"
            },
            "marker": {
             "line": {
              "color": "white",
              "width": 0.5
             },
             "pattern": {
              "fillmode": "overlay",
              "size": 10,
              "solidity": 0.2
             }
            },
            "type": "bar"
           }
          ],
          "barpolar": [
           {
            "marker": {
             "line": {
              "color": "white",
              "width": 0.5
             },
             "pattern": {
              "fillmode": "overlay",
              "size": 10,
              "solidity": 0.2
             }
            },
            "type": "barpolar"
           }
          ],
          "carpet": [
           {
            "aaxis": {
             "endlinecolor": "#2a3f5f",
             "gridcolor": "#C8D4E3",
             "linecolor": "#C8D4E3",
             "minorgridcolor": "#C8D4E3",
             "startlinecolor": "#2a3f5f"
            },
            "baxis": {
             "endlinecolor": "#2a3f5f",
             "gridcolor": "#C8D4E3",
             "linecolor": "#C8D4E3",
             "minorgridcolor": "#C8D4E3",
             "startlinecolor": "#2a3f5f"
            },
            "type": "carpet"
           }
          ],
          "choropleth": [
           {
            "colorbar": {
             "outlinewidth": 0,
             "ticks": ""
            },
            "type": "choropleth"
           }
          ],
          "contour": [
           {
            "colorbar": {
             "outlinewidth": 0,
             "ticks": ""
            },
            "colorscale": [
             [
              0,
              "#0d0887"
             ],
             [
              0.1111111111111111,
              "#46039f"
             ],
             [
              0.2222222222222222,
              "#7201a8"
             ],
             [
              0.3333333333333333,
              "#9c179e"
             ],
             [
              0.4444444444444444,
              "#bd3786"
             ],
             [
              0.5555555555555556,
              "#d8576b"
             ],
             [
              0.6666666666666666,
              "#ed7953"
             ],
             [
              0.7777777777777778,
              "#fb9f3a"
             ],
             [
              0.8888888888888888,
              "#fdca26"
             ],
             [
              1,
              "#f0f921"
             ]
            ],
            "type": "contour"
           }
          ],
          "contourcarpet": [
           {
            "colorbar": {
             "outlinewidth": 0,
             "ticks": ""
            },
            "type": "contourcarpet"
           }
          ],
          "heatmap": [
           {
            "colorbar": {
             "outlinewidth": 0,
             "ticks": ""
            },
            "colorscale": [
             [
              0,
              "#0d0887"
             ],
             [
              0.1111111111111111,
              "#46039f"
             ],
             [
              0.2222222222222222,
              "#7201a8"
             ],
             [
              0.3333333333333333,
              "#9c179e"
             ],
             [
              0.4444444444444444,
              "#bd3786"
             ],
             [
              0.5555555555555556,
              "#d8576b"
             ],
             [
              0.6666666666666666,
              "#ed7953"
             ],
             [
              0.7777777777777778,
              "#fb9f3a"
             ],
             [
              0.8888888888888888,
              "#fdca26"
             ],
             [
              1,
              "#f0f921"
             ]
            ],
            "type": "heatmap"
           }
          ],
          "heatmapgl": [
           {
            "colorbar": {
             "outlinewidth": 0,
             "ticks": ""
            },
            "colorscale": [
             [
              0,
              "#0d0887"
             ],
             [
              0.1111111111111111,
              "#46039f"
             ],
             [
              0.2222222222222222,
              "#7201a8"
             ],
             [
              0.3333333333333333,
              "#9c179e"
             ],
             [
              0.4444444444444444,
              "#bd3786"
             ],
             [
              0.5555555555555556,
              "#d8576b"
             ],
             [
              0.6666666666666666,
              "#ed7953"
             ],
             [
              0.7777777777777778,
              "#fb9f3a"
             ],
             [
              0.8888888888888888,
              "#fdca26"
             ],
             [
              1,
              "#f0f921"
             ]
            ],
            "type": "heatmapgl"
           }
          ],
          "histogram": [
           {
            "marker": {
             "pattern": {
              "fillmode": "overlay",
              "size": 10,
              "solidity": 0.2
             }
            },
            "type": "histogram"
           }
          ],
          "histogram2d": [
           {
            "colorbar": {
             "outlinewidth": 0,
             "ticks": ""
            },
            "colorscale": [
             [
              0,
              "#0d0887"
             ],
             [
              0.1111111111111111,
              "#46039f"
             ],
             [
              0.2222222222222222,
              "#7201a8"
             ],
             [
              0.3333333333333333,
              "#9c179e"
             ],
             [
              0.4444444444444444,
              "#bd3786"
             ],
             [
              0.5555555555555556,
              "#d8576b"
             ],
             [
              0.6666666666666666,
              "#ed7953"
             ],
             [
              0.7777777777777778,
              "#fb9f3a"
             ],
             [
              0.8888888888888888,
              "#fdca26"
             ],
             [
              1,
              "#f0f921"
             ]
            ],
            "type": "histogram2d"
           }
          ],
          "histogram2dcontour": [
           {
            "colorbar": {
             "outlinewidth": 0,
             "ticks": ""
            },
            "colorscale": [
             [
              0,
              "#0d0887"
             ],
             [
              0.1111111111111111,
              "#46039f"
             ],
             [
              0.2222222222222222,
              "#7201a8"
             ],
             [
              0.3333333333333333,
              "#9c179e"
             ],
             [
              0.4444444444444444,
              "#bd3786"
             ],
             [
              0.5555555555555556,
              "#d8576b"
             ],
             [
              0.6666666666666666,
              "#ed7953"
             ],
             [
              0.7777777777777778,
              "#fb9f3a"
             ],
             [
              0.8888888888888888,
              "#fdca26"
             ],
             [
              1,
              "#f0f921"
             ]
            ],
            "type": "histogram2dcontour"
           }
          ],
          "mesh3d": [
           {
            "colorbar": {
             "outlinewidth": 0,
             "ticks": ""
            },
            "type": "mesh3d"
           }
          ],
          "parcoords": [
           {
            "line": {
             "colorbar": {
              "outlinewidth": 0,
              "ticks": ""
             }
            },
            "type": "parcoords"
           }
          ],
          "pie": [
           {
            "automargin": true,
            "type": "pie"
           }
          ],
          "scatter": [
           {
            "fillpattern": {
             "fillmode": "overlay",
             "size": 10,
             "solidity": 0.2
            },
            "type": "scatter"
           }
          ],
          "scatter3d": [
           {
            "line": {
             "colorbar": {
              "outlinewidth": 0,
              "ticks": ""
             }
            },
            "marker": {
             "colorbar": {
              "outlinewidth": 0,
              "ticks": ""
             }
            },
            "type": "scatter3d"
           }
          ],
          "scattercarpet": [
           {
            "marker": {
             "colorbar": {
              "outlinewidth": 0,
              "ticks": ""
             }
            },
            "type": "scattercarpet"
           }
          ],
          "scattergeo": [
           {
            "marker": {
             "colorbar": {
              "outlinewidth": 0,
              "ticks": ""
             }
            },
            "type": "scattergeo"
           }
          ],
          "scattergl": [
           {
            "marker": {
             "colorbar": {
              "outlinewidth": 0,
              "ticks": ""
             }
            },
            "type": "scattergl"
           }
          ],
          "scattermapbox": [
           {
            "marker": {
             "colorbar": {
              "outlinewidth": 0,
              "ticks": ""
             }
            },
            "type": "scattermapbox"
           }
          ],
          "scatterpolar": [
           {
            "marker": {
             "colorbar": {
              "outlinewidth": 0,
              "ticks": ""
             }
            },
            "type": "scatterpolar"
           }
          ],
          "scatterpolargl": [
           {
            "marker": {
             "colorbar": {
              "outlinewidth": 0,
              "ticks": ""
             }
            },
            "type": "scatterpolargl"
           }
          ],
          "scatterternary": [
           {
            "marker": {
             "colorbar": {
              "outlinewidth": 0,
              "ticks": ""
             }
            },
            "type": "scatterternary"
           }
          ],
          "surface": [
           {
            "colorbar": {
             "outlinewidth": 0,
             "ticks": ""
            },
            "colorscale": [
             [
              0,
              "#0d0887"
             ],
             [
              0.1111111111111111,
              "#46039f"
             ],
             [
              0.2222222222222222,
              "#7201a8"
             ],
             [
              0.3333333333333333,
              "#9c179e"
             ],
             [
              0.4444444444444444,
              "#bd3786"
             ],
             [
              0.5555555555555556,
              "#d8576b"
             ],
             [
              0.6666666666666666,
              "#ed7953"
             ],
             [
              0.7777777777777778,
              "#fb9f3a"
             ],
             [
              0.8888888888888888,
              "#fdca26"
             ],
             [
              1,
              "#f0f921"
             ]
            ],
            "type": "surface"
           }
          ],
          "table": [
           {
            "cells": {
             "fill": {
              "color": "#EBF0F8"
             },
             "line": {
              "color": "white"
             }
            },
            "header": {
             "fill": {
              "color": "#C8D4E3"
             },
             "line": {
              "color": "white"
             }
            },
            "type": "table"
           }
          ]
         },
         "layout": {
          "annotationdefaults": {
           "arrowcolor": "#2a3f5f",
           "arrowhead": 0,
           "arrowwidth": 1
          },
          "autotypenumbers": "strict",
          "coloraxis": {
           "colorbar": {
            "outlinewidth": 0,
            "ticks": ""
           }
          },
          "colorscale": {
           "diverging": [
            [
             0,
             "#8e0152"
            ],
            [
             0.1,
             "#c51b7d"
            ],
            [
             0.2,
             "#de77ae"
            ],
            [
             0.3,
             "#f1b6da"
            ],
            [
             0.4,
             "#fde0ef"
            ],
            [
             0.5,
             "#f7f7f7"
            ],
            [
             0.6,
             "#e6f5d0"
            ],
            [
             0.7,
             "#b8e186"
            ],
            [
             0.8,
             "#7fbc41"
            ],
            [
             0.9,
             "#4d9221"
            ],
            [
             1,
             "#276419"
            ]
           ],
           "sequential": [
            [
             0,
             "#0d0887"
            ],
            [
             0.1111111111111111,
             "#46039f"
            ],
            [
             0.2222222222222222,
             "#7201a8"
            ],
            [
             0.3333333333333333,
             "#9c179e"
            ],
            [
             0.4444444444444444,
             "#bd3786"
            ],
            [
             0.5555555555555556,
             "#d8576b"
            ],
            [
             0.6666666666666666,
             "#ed7953"
            ],
            [
             0.7777777777777778,
             "#fb9f3a"
            ],
            [
             0.8888888888888888,
             "#fdca26"
            ],
            [
             1,
             "#f0f921"
            ]
           ],
           "sequentialminus": [
            [
             0,
             "#0d0887"
            ],
            [
             0.1111111111111111,
             "#46039f"
            ],
            [
             0.2222222222222222,
             "#7201a8"
            ],
            [
             0.3333333333333333,
             "#9c179e"
            ],
            [
             0.4444444444444444,
             "#bd3786"
            ],
            [
             0.5555555555555556,
             "#d8576b"
            ],
            [
             0.6666666666666666,
             "#ed7953"
            ],
            [
             0.7777777777777778,
             "#fb9f3a"
            ],
            [
             0.8888888888888888,
             "#fdca26"
            ],
            [
             1,
             "#f0f921"
            ]
           ]
          },
          "colorway": [
           "#636efa",
           "#EF553B",
           "#00cc96",
           "#ab63fa",
           "#FFA15A",
           "#19d3f3",
           "#FF6692",
           "#B6E880",
           "#FF97FF",
           "#FECB52"
          ],
          "font": {
           "color": "#2a3f5f"
          },
          "geo": {
           "bgcolor": "white",
           "lakecolor": "white",
           "landcolor": "white",
           "showlakes": true,
           "showland": true,
           "subunitcolor": "#C8D4E3"
          },
          "hoverlabel": {
           "align": "left"
          },
          "hovermode": "closest",
          "mapbox": {
           "style": "light"
          },
          "paper_bgcolor": "white",
          "plot_bgcolor": "white",
          "polar": {
           "angularaxis": {
            "gridcolor": "#EBF0F8",
            "linecolor": "#EBF0F8",
            "ticks": ""
           },
           "bgcolor": "white",
           "radialaxis": {
            "gridcolor": "#EBF0F8",
            "linecolor": "#EBF0F8",
            "ticks": ""
           }
          },
          "scene": {
           "xaxis": {
            "backgroundcolor": "white",
            "gridcolor": "#DFE8F3",
            "gridwidth": 2,
            "linecolor": "#EBF0F8",
            "showbackground": true,
            "ticks": "",
            "zerolinecolor": "#EBF0F8"
           },
           "yaxis": {
            "backgroundcolor": "white",
            "gridcolor": "#DFE8F3",
            "gridwidth": 2,
            "linecolor": "#EBF0F8",
            "showbackground": true,
            "ticks": "",
            "zerolinecolor": "#EBF0F8"
           },
           "zaxis": {
            "backgroundcolor": "white",
            "gridcolor": "#DFE8F3",
            "gridwidth": 2,
            "linecolor": "#EBF0F8",
            "showbackground": true,
            "ticks": "",
            "zerolinecolor": "#EBF0F8"
           }
          },
          "shapedefaults": {
           "line": {
            "color": "#2a3f5f"
           }
          },
          "ternary": {
           "aaxis": {
            "gridcolor": "#DFE8F3",
            "linecolor": "#A2B1C6",
            "ticks": ""
           },
           "baxis": {
            "gridcolor": "#DFE8F3",
            "linecolor": "#A2B1C6",
            "ticks": ""
           },
           "bgcolor": "white",
           "caxis": {
            "gridcolor": "#DFE8F3",
            "linecolor": "#A2B1C6",
            "ticks": ""
           }
          },
          "title": {
           "x": 0.05
          },
          "xaxis": {
           "automargin": true,
           "gridcolor": "#EBF0F8",
           "linecolor": "#EBF0F8",
           "ticks": "",
           "title": {
            "standoff": 15
           },
           "zerolinecolor": "#EBF0F8",
           "zerolinewidth": 2
          },
          "yaxis": {
           "automargin": true,
           "gridcolor": "#EBF0F8",
           "linecolor": "#EBF0F8",
           "ticks": "",
           "title": {
            "standoff": 15
           },
           "zerolinecolor": "#EBF0F8",
           "zerolinewidth": 2
          }
         }
        },
        "title": {
         "text": "Portfolio vs Benchmark Cumulative Returns"
        },
        "xaxis": {
         "title": {
          "text": "Date"
         }
        },
        "yaxis": {
         "tickformat": ".00%",
         "title": {
          "text": "Cumulative Return"
         }
        }
       }
      }
     },
     "metadata": {},
     "output_type": "display_data"
    },
    {
     "name": "stdout",
     "output_type": "stream",
     "text": [
      "Investment period starts at:  2023-09-22\n",
      "Investment period ends at:  2025-02-12\n",
      "Portfolio returns was:  20.66 %\n",
      "Benchmark was:  27.62 %\n",
      "Current weights are:  OrderedDict([('BND', 0.6649), ('GLD', 0.10605), ('HODL.PA', 0.01296), ('SPY', 0.21609)])\n"
     ]
    },
    {
     "data": {
      "application/vnd.plotly.v1+json": {
       "config": {
        "plotlyServerURL": "https://plot.ly"
       },
       "data": [
        {
         "hovertemplate": "Date: %{x}<br>Return: %{y:.1%}<extra></extra>",
         "line": {
          "color": "red",
          "width": 2
         },
         "marker": {
          "size": 6
         },
         "mode": "lines",
         "name": "Portfolio",
         "type": "scatter",
         "x": [
          "2023-09-22",
          "2023-09-25",
          "2023-09-26",
          "2023-09-27",
          "2023-09-28",
          "2023-09-29",
          "2023-10-02",
          "2023-10-03",
          "2023-10-04",
          "2023-10-05",
          "2023-10-06",
          "2023-10-09",
          "2023-10-10",
          "2023-10-11",
          "2023-10-12",
          "2023-10-13",
          "2023-10-16",
          "2023-10-17",
          "2023-10-18",
          "2023-10-19",
          "2023-10-20",
          "2023-10-23",
          "2023-10-24",
          "2023-10-25",
          "2023-10-26",
          "2023-10-27",
          "2023-10-30",
          "2023-10-31",
          "2023-11-01",
          "2023-11-02",
          "2023-11-03",
          "2023-11-06",
          "2023-11-07",
          "2023-11-08",
          "2023-11-09",
          "2023-11-10",
          "2023-11-13",
          "2023-11-14",
          "2023-11-15",
          "2023-11-16",
          "2023-11-17",
          "2023-11-20",
          "2023-11-21",
          "2023-11-22",
          "2023-11-24",
          "2023-11-27",
          "2023-11-28",
          "2023-11-29",
          "2023-11-30",
          "2023-12-01",
          "2023-12-04",
          "2023-12-05",
          "2023-12-06",
          "2023-12-07",
          "2023-12-08",
          "2023-12-11",
          "2023-12-12",
          "2023-12-13",
          "2023-12-14",
          "2023-12-15",
          "2023-12-18",
          "2023-12-19",
          "2023-12-20",
          "2023-12-21",
          "2023-12-22",
          "2023-12-27",
          "2023-12-28",
          "2023-12-29",
          "2024-01-02",
          "2024-01-03",
          "2024-01-04",
          "2024-01-05",
          "2024-01-08",
          "2024-01-09",
          "2024-01-10",
          "2024-01-11",
          "2024-01-12",
          "2024-01-16",
          "2024-01-17",
          "2024-01-18",
          "2024-01-19",
          "2024-01-22",
          "2024-01-23",
          "2024-01-24",
          "2024-01-25",
          "2024-01-26",
          "2024-01-29",
          "2024-01-30",
          "2024-01-31",
          "2024-02-01",
          "2024-02-02",
          "2024-02-05",
          "2024-02-06",
          "2024-02-07",
          "2024-02-08",
          "2024-02-09",
          "2024-02-12",
          "2024-02-13",
          "2024-02-14",
          "2024-02-15",
          "2024-02-16",
          "2024-02-20",
          "2024-02-21",
          "2024-02-22",
          "2024-02-23",
          "2024-02-26",
          "2024-02-27",
          "2024-02-28",
          "2024-02-29",
          "2024-03-01",
          "2024-03-04",
          "2024-03-05",
          "2024-03-06",
          "2024-03-07",
          "2024-03-08",
          "2024-03-11",
          "2024-03-12",
          "2024-03-13",
          "2024-03-14",
          "2024-03-15",
          "2024-03-18",
          "2024-03-19",
          "2024-03-20",
          "2024-03-21",
          "2024-03-22",
          "2024-03-25",
          "2024-03-26",
          "2024-03-27",
          "2024-03-28",
          "2024-04-02",
          "2024-04-03",
          "2024-04-04",
          "2024-04-05",
          "2024-04-08",
          "2024-04-09",
          "2024-04-10",
          "2024-04-11",
          "2024-04-12",
          "2024-04-15",
          "2024-04-16",
          "2024-04-17",
          "2024-04-18",
          "2024-04-19",
          "2024-04-22",
          "2024-04-23",
          "2024-04-24",
          "2024-04-25",
          "2024-04-26",
          "2024-04-29",
          "2024-04-30",
          "2024-05-02",
          "2024-05-03",
          "2024-05-06",
          "2024-05-07",
          "2024-05-08",
          "2024-05-09",
          "2024-05-10",
          "2024-05-13",
          "2024-05-14",
          "2024-05-15",
          "2024-05-16",
          "2024-05-17",
          "2024-05-20",
          "2024-05-21",
          "2024-05-22",
          "2024-05-23",
          "2024-05-24",
          "2024-05-28",
          "2024-05-29",
          "2024-05-30",
          "2024-05-31",
          "2024-06-03",
          "2024-06-04",
          "2024-06-05",
          "2024-06-06",
          "2024-06-07",
          "2024-06-10",
          "2024-06-11",
          "2024-06-12",
          "2024-06-13",
          "2024-06-14",
          "2024-06-17",
          "2024-06-18",
          "2024-06-20",
          "2024-06-21",
          "2024-06-24",
          "2024-06-25",
          "2024-06-26",
          "2024-06-27",
          "2024-06-28",
          "2024-07-01",
          "2024-07-02",
          "2024-07-03",
          "2024-07-05",
          "2024-07-08",
          "2024-07-09",
          "2024-07-10",
          "2024-07-11",
          "2024-07-12",
          "2024-07-15",
          "2024-07-16",
          "2024-07-17",
          "2024-07-18",
          "2024-07-19",
          "2024-07-22",
          "2024-07-23",
          "2024-07-24",
          "2024-07-25",
          "2024-07-26",
          "2024-07-29",
          "2024-07-30",
          "2024-07-31",
          "2024-08-01",
          "2024-08-02",
          "2024-08-05",
          "2024-08-06",
          "2024-08-07",
          "2024-08-08",
          "2024-08-09",
          "2024-08-12",
          "2024-08-13",
          "2024-08-14",
          "2024-08-15",
          "2024-08-16",
          "2024-08-19",
          "2024-08-20",
          "2024-08-21",
          "2024-08-22",
          "2024-08-23",
          "2024-08-26",
          "2024-08-27",
          "2024-08-28",
          "2024-08-29",
          "2024-08-30",
          "2024-09-03",
          "2024-09-04",
          "2024-09-05",
          "2024-09-06",
          "2024-09-09",
          "2024-09-10",
          "2024-09-11",
          "2024-09-12",
          "2024-09-13",
          "2024-09-16",
          "2024-09-17",
          "2024-09-18",
          "2024-09-19",
          "2024-09-20",
          "2024-09-23",
          "2024-09-24",
          "2024-09-25",
          "2024-09-26",
          "2024-09-27",
          "2024-09-30",
          "2024-10-01",
          "2024-10-02",
          "2024-10-03",
          "2024-10-04",
          "2024-10-07",
          "2024-10-08",
          "2024-10-09",
          "2024-10-10",
          "2024-10-11",
          "2024-10-14",
          "2024-10-15",
          "2024-10-16",
          "2024-10-17",
          "2024-10-18",
          "2024-10-21",
          "2024-10-22",
          "2024-10-23",
          "2024-10-24",
          "2024-10-25",
          "2024-10-28",
          "2024-10-29",
          "2024-10-30",
          "2024-10-31",
          "2024-11-01",
          "2024-11-04",
          "2024-11-05",
          "2024-11-06",
          "2024-11-07",
          "2024-11-08",
          "2024-11-11",
          "2024-11-12",
          "2024-11-13",
          "2024-11-14",
          "2024-11-15",
          "2024-11-18",
          "2024-11-19",
          "2024-11-20",
          "2024-11-21",
          "2024-11-22",
          "2024-11-25",
          "2024-11-26",
          "2024-11-27",
          "2024-11-29",
          "2024-12-02",
          "2024-12-03",
          "2024-12-04",
          "2024-12-05",
          "2024-12-06",
          "2024-12-09",
          "2024-12-10",
          "2024-12-11",
          "2024-12-12",
          "2024-12-13",
          "2024-12-16",
          "2024-12-17",
          "2024-12-18",
          "2024-12-19",
          "2024-12-20",
          "2024-12-23",
          "2024-12-24",
          "2024-12-27",
          "2024-12-30",
          "2024-12-31",
          "2025-01-02",
          "2025-01-03",
          "2025-01-06",
          "2025-01-07",
          "2025-01-08",
          "2025-01-10",
          "2025-01-13",
          "2025-01-14",
          "2025-01-15",
          "2025-01-16",
          "2025-01-17",
          "2025-01-21",
          "2025-01-22",
          "2025-01-23",
          "2025-01-24",
          "2025-01-27",
          "2025-01-28",
          "2025-01-29",
          "2025-01-30",
          "2025-01-31",
          "2025-02-03",
          "2025-02-04",
          "2025-02-05",
          "2025-02-06",
          "2025-02-07",
          "2025-02-10",
          "2025-02-11",
          "2025-02-12"
         ],
         "y": [
          0,
          0,
          -0.01,
          -0.01,
          -0.01,
          -0.01,
          -0.01,
          -0.02,
          -0.02,
          -0.02,
          -0.02,
          -0.01,
          -0.01,
          0,
          -0.01,
          0,
          -0.01,
          -0.01,
          -0.01,
          -0.02,
          -0.02,
          -0.01,
          -0.01,
          -0.02,
          -0.02,
          -0.02,
          -0.01,
          -0.01,
          -0.01,
          0,
          0.01,
          0.01,
          0.01,
          0.01,
          0.01,
          0.01,
          0.01,
          0.02,
          0.02,
          0.02,
          0.03,
          0.03,
          0.03,
          0.03,
          0.03,
          0.03,
          0.04,
          0.04,
          0.04,
          0.05,
          0.04,
          0.05,
          0.05,
          0.05,
          0.05,
          0.05,
          0.05,
          0.06,
          0.07,
          0.07,
          0.07,
          0.07,
          0.07,
          0.07,
          0.07,
          0.08,
          0.08,
          0.08,
          0.07,
          0.07,
          0.07,
          0.07,
          0.07,
          0.07,
          0.07,
          0.08,
          0.08,
          0.07,
          0.07,
          0.07,
          0.07,
          0.07,
          0.07,
          0.07,
          0.07,
          0.07,
          0.08,
          0.08,
          0.08,
          0.09,
          0.08,
          0.08,
          0.08,
          0.08,
          0.08,
          0.08,
          0.08,
          0.07,
          0.07,
          0.08,
          0.08,
          0.08,
          0.07,
          0.08,
          0.08,
          0.08,
          0.08,
          0.08,
          0.09,
          0.09,
          0.09,
          0.1,
          0.1,
          0.11,
          0.11,
          0.11,
          0.1,
          0.1,
          0.1,
          0.1,
          0.1,
          0.1,
          0.1,
          0.11,
          0.11,
          0.11,
          0.11,
          0.11,
          0.11,
          0.11,
          0.11,
          0.11,
          0.11,
          0.11,
          0.11,
          0.1,
          0.1,
          0.1,
          0.09,
          0.09,
          0.09,
          0.09,
          0.09,
          0.09,
          0.09,
          0.09,
          0.09,
          0.09,
          0.1,
          0.09,
          0.09,
          0.1,
          0.1,
          0.11,
          0.1,
          0.11,
          0.11,
          0.11,
          0.11,
          0.12,
          0.12,
          0.12,
          0.12,
          0.12,
          0.12,
          0.11,
          0.12,
          0.11,
          0.11,
          0.11,
          0.11,
          0.12,
          0.12,
          0.13,
          0.13,
          0.12,
          0.12,
          0.12,
          0.13,
          0.13,
          0.13,
          0.13,
          0.14,
          0.13,
          0.13,
          0.13,
          0.13,
          0.13,
          0.13,
          0.13,
          0.12,
          0.13,
          0.13,
          0.14,
          0.14,
          0.14,
          0.14,
          0.15,
          0.15,
          0.15,
          0.16,
          0.15,
          0.15,
          0.14,
          0.15,
          0.15,
          0.14,
          0.14,
          0.14,
          0.14,
          0.15,
          0.16,
          0.15,
          0.16,
          0.14,
          0.14,
          0.14,
          0.14,
          0.15,
          0.15,
          0.16,
          0.16,
          0.16,
          0.17,
          0.17,
          0.17,
          0.18,
          0.17,
          0.18,
          0.18,
          0.18,
          0.17,
          0.17,
          0.17,
          0.17,
          0.17,
          0.17,
          0.17,
          0.17,
          0.18,
          0.18,
          0.18,
          0.19,
          0.19,
          0.19,
          0.19,
          0.19,
          0.19,
          0.19,
          0.2,
          0.19,
          0.2,
          0.2,
          0.2,
          0.2,
          0.2,
          0.19,
          0.19,
          0.18,
          0.19,
          0.18,
          0.18,
          0.19,
          0.19,
          0.19,
          0.19,
          0.19,
          0.19,
          0.19,
          0.19,
          0.18,
          0.19,
          0.19,
          0.19,
          0.19,
          0.19,
          0.18,
          0.18,
          0.18,
          0.19,
          0.18,
          0.19,
          0.2,
          0.19,
          0.19,
          0.19,
          0.18,
          0.18,
          0.18,
          0.19,
          0.19,
          0.19,
          0.19,
          0.2,
          0.2,
          0.2,
          0.21,
          0.21,
          0.2,
          0.21,
          0.21,
          0.21,
          0.21,
          0.21,
          0.21,
          0.2,
          0.2,
          0.2,
          0.2,
          0.18,
          0.18,
          0.19,
          0.19,
          0.19,
          0.19,
          0.19,
          0.18,
          0.19,
          0.19,
          0.19,
          0.18,
          0.19,
          0.18,
          0.18,
          0.18,
          0.19,
          0.19,
          0.2,
          0.2,
          0.2,
          0.2,
          0.2,
          0.2,
          0.21,
          0.2,
          0.21,
          0.21,
          0.2,
          0.21,
          0.21,
          0.21,
          0.21,
          0.21,
          0.21,
          0.21
         ]
        },
        {
         "hovertemplate": "Date: %{x}<br>Return: %{y:.1%}<extra></extra>",
         "line": {
          "color": "blue",
          "width": 2
         },
         "marker": {
          "size": 6
         },
         "mode": "lines",
         "name": "Benchmark (60/40 SPY/BND)",
         "type": "scatter",
         "x": [
          "2023-09-22",
          "2023-09-25",
          "2023-09-26",
          "2023-09-27",
          "2023-09-28",
          "2023-09-29",
          "2023-10-02",
          "2023-10-03",
          "2023-10-04",
          "2023-10-05",
          "2023-10-06",
          "2023-10-09",
          "2023-10-10",
          "2023-10-11",
          "2023-10-12",
          "2023-10-13",
          "2023-10-16",
          "2023-10-17",
          "2023-10-18",
          "2023-10-19",
          "2023-10-20",
          "2023-10-23",
          "2023-10-24",
          "2023-10-25",
          "2023-10-26",
          "2023-10-27",
          "2023-10-30",
          "2023-10-31",
          "2023-11-01",
          "2023-11-02",
          "2023-11-03",
          "2023-11-06",
          "2023-11-07",
          "2023-11-08",
          "2023-11-09",
          "2023-11-10",
          "2023-11-13",
          "2023-11-14",
          "2023-11-15",
          "2023-11-16",
          "2023-11-17",
          "2023-11-20",
          "2023-11-21",
          "2023-11-22",
          "2023-11-24",
          "2023-11-27",
          "2023-11-28",
          "2023-11-29",
          "2023-11-30",
          "2023-12-01",
          "2023-12-04",
          "2023-12-05",
          "2023-12-06",
          "2023-12-07",
          "2023-12-08",
          "2023-12-11",
          "2023-12-12",
          "2023-12-13",
          "2023-12-14",
          "2023-12-15",
          "2023-12-18",
          "2023-12-19",
          "2023-12-20",
          "2023-12-21",
          "2023-12-22",
          "2023-12-27",
          "2023-12-28",
          "2023-12-29",
          "2024-01-02",
          "2024-01-03",
          "2024-01-04",
          "2024-01-05",
          "2024-01-08",
          "2024-01-09",
          "2024-01-10",
          "2024-01-11",
          "2024-01-12",
          "2024-01-16",
          "2024-01-17",
          "2024-01-18",
          "2024-01-19",
          "2024-01-22",
          "2024-01-23",
          "2024-01-24",
          "2024-01-25",
          "2024-01-26",
          "2024-01-29",
          "2024-01-30",
          "2024-01-31",
          "2024-02-01",
          "2024-02-02",
          "2024-02-05",
          "2024-02-06",
          "2024-02-07",
          "2024-02-08",
          "2024-02-09",
          "2024-02-12",
          "2024-02-13",
          "2024-02-14",
          "2024-02-15",
          "2024-02-16",
          "2024-02-20",
          "2024-02-21",
          "2024-02-22",
          "2024-02-23",
          "2024-02-26",
          "2024-02-27",
          "2024-02-28",
          "2024-02-29",
          "2024-03-01",
          "2024-03-04",
          "2024-03-05",
          "2024-03-06",
          "2024-03-07",
          "2024-03-08",
          "2024-03-11",
          "2024-03-12",
          "2024-03-13",
          "2024-03-14",
          "2024-03-15",
          "2024-03-18",
          "2024-03-19",
          "2024-03-20",
          "2024-03-21",
          "2024-03-22",
          "2024-03-25",
          "2024-03-26",
          "2024-03-27",
          "2024-03-28",
          "2024-04-02",
          "2024-04-03",
          "2024-04-04",
          "2024-04-05",
          "2024-04-08",
          "2024-04-09",
          "2024-04-10",
          "2024-04-11",
          "2024-04-12",
          "2024-04-15",
          "2024-04-16",
          "2024-04-17",
          "2024-04-18",
          "2024-04-19",
          "2024-04-22",
          "2024-04-23",
          "2024-04-24",
          "2024-04-25",
          "2024-04-26",
          "2024-04-29",
          "2024-04-30",
          "2024-05-02",
          "2024-05-03",
          "2024-05-06",
          "2024-05-07",
          "2024-05-08",
          "2024-05-09",
          "2024-05-10",
          "2024-05-13",
          "2024-05-14",
          "2024-05-15",
          "2024-05-16",
          "2024-05-17",
          "2024-05-20",
          "2024-05-21",
          "2024-05-22",
          "2024-05-23",
          "2024-05-24",
          "2024-05-28",
          "2024-05-29",
          "2024-05-30",
          "2024-05-31",
          "2024-06-03",
          "2024-06-04",
          "2024-06-05",
          "2024-06-06",
          "2024-06-07",
          "2024-06-10",
          "2024-06-11",
          "2024-06-12",
          "2024-06-13",
          "2024-06-14",
          "2024-06-17",
          "2024-06-18",
          "2024-06-20",
          "2024-06-21",
          "2024-06-24",
          "2024-06-25",
          "2024-06-26",
          "2024-06-27",
          "2024-06-28",
          "2024-07-01",
          "2024-07-02",
          "2024-07-03",
          "2024-07-05",
          "2024-07-08",
          "2024-07-09",
          "2024-07-10",
          "2024-07-11",
          "2024-07-12",
          "2024-07-15",
          "2024-07-16",
          "2024-07-17",
          "2024-07-18",
          "2024-07-19",
          "2024-07-22",
          "2024-07-23",
          "2024-07-24",
          "2024-07-25",
          "2024-07-26",
          "2024-07-29",
          "2024-07-30",
          "2024-07-31",
          "2024-08-01",
          "2024-08-02",
          "2024-08-05",
          "2024-08-06",
          "2024-08-07",
          "2024-08-08",
          "2024-08-09",
          "2024-08-12",
          "2024-08-13",
          "2024-08-14",
          "2024-08-15",
          "2024-08-16",
          "2024-08-19",
          "2024-08-20",
          "2024-08-21",
          "2024-08-22",
          "2024-08-23",
          "2024-08-26",
          "2024-08-27",
          "2024-08-28",
          "2024-08-29",
          "2024-08-30",
          "2024-09-03",
          "2024-09-04",
          "2024-09-05",
          "2024-09-06",
          "2024-09-09",
          "2024-09-10",
          "2024-09-11",
          "2024-09-12",
          "2024-09-13",
          "2024-09-16",
          "2024-09-17",
          "2024-09-18",
          "2024-09-19",
          "2024-09-20",
          "2024-09-23",
          "2024-09-24",
          "2024-09-25",
          "2024-09-26",
          "2024-09-27",
          "2024-09-30",
          "2024-10-01",
          "2024-10-02",
          "2024-10-03",
          "2024-10-04",
          "2024-10-07",
          "2024-10-08",
          "2024-10-09",
          "2024-10-10",
          "2024-10-11",
          "2024-10-14",
          "2024-10-15",
          "2024-10-16",
          "2024-10-17",
          "2024-10-18",
          "2024-10-21",
          "2024-10-22",
          "2024-10-23",
          "2024-10-24",
          "2024-10-25",
          "2024-10-28",
          "2024-10-29",
          "2024-10-30",
          "2024-10-31",
          "2024-11-01",
          "2024-11-04",
          "2024-11-05",
          "2024-11-06",
          "2024-11-07",
          "2024-11-08",
          "2024-11-11",
          "2024-11-12",
          "2024-11-13",
          "2024-11-14",
          "2024-11-15",
          "2024-11-18",
          "2024-11-19",
          "2024-11-20",
          "2024-11-21",
          "2024-11-22",
          "2024-11-25",
          "2024-11-26",
          "2024-11-27",
          "2024-11-29",
          "2024-12-02",
          "2024-12-03",
          "2024-12-04",
          "2024-12-05",
          "2024-12-06",
          "2024-12-09",
          "2024-12-10",
          "2024-12-11",
          "2024-12-12",
          "2024-12-13",
          "2024-12-16",
          "2024-12-17",
          "2024-12-18",
          "2024-12-19",
          "2024-12-20",
          "2024-12-23",
          "2024-12-24",
          "2024-12-27",
          "2024-12-30",
          "2024-12-31",
          "2025-01-02",
          "2025-01-03",
          "2025-01-06",
          "2025-01-07",
          "2025-01-08",
          "2025-01-10",
          "2025-01-13",
          "2025-01-14",
          "2025-01-15",
          "2025-01-16",
          "2025-01-17",
          "2025-01-21",
          "2025-01-22",
          "2025-01-23",
          "2025-01-24",
          "2025-01-27",
          "2025-01-28",
          "2025-01-29",
          "2025-01-30",
          "2025-01-31",
          "2025-02-03",
          "2025-02-04",
          "2025-02-05",
          "2025-02-06",
          "2025-02-07",
          "2025-02-10",
          "2025-02-11",
          "2025-02-12"
         ],
         "y": [
          0,
          0,
          -0.01,
          -0.01,
          -0.01,
          -0.01,
          -0.01,
          -0.02,
          -0.01,
          -0.01,
          -0.01,
          0,
          0,
          0.01,
          0,
          0,
          0,
          0,
          -0.01,
          -0.02,
          -0.02,
          -0.02,
          -0.02,
          -0.03,
          -0.03,
          -0.04,
          -0.03,
          -0.03,
          -0.02,
          0,
          0,
          0,
          0.01,
          0.01,
          0,
          0.01,
          0.01,
          0.03,
          0.03,
          0.03,
          0.03,
          0.04,
          0.04,
          0.04,
          0.04,
          0.04,
          0.04,
          0.04,
          0.04,
          0.05,
          0.05,
          0.05,
          0.05,
          0.05,
          0.05,
          0.06,
          0.06,
          0.07,
          0.08,
          0.08,
          0.08,
          0.09,
          0.08,
          0.08,
          0.08,
          0.09,
          0.09,
          0.09,
          0.08,
          0.08,
          0.07,
          0.07,
          0.08,
          0.08,
          0.09,
          0.09,
          0.09,
          0.08,
          0.08,
          0.08,
          0.09,
          0.09,
          0.1,
          0.1,
          0.1,
          0.1,
          0.11,
          0.11,
          0.1,
          0.11,
          0.11,
          0.11,
          0.11,
          0.11,
          0.11,
          0.12,
          0.12,
          0.1,
          0.11,
          0.12,
          0.11,
          0.11,
          0.11,
          0.12,
          0.13,
          0.12,
          0.12,
          0.12,
          0.13,
          0.13,
          0.13,
          0.13,
          0.13,
          0.14,
          0.14,
          0.14,
          0.14,
          0.14,
          0.14,
          0.13,
          0.13,
          0.14,
          0.15,
          0.15,
          0.15,
          0.15,
          0.15,
          0.15,
          0.15,
          0.14,
          0.14,
          0.14,
          0.14,
          0.14,
          0.14,
          0.13,
          0.14,
          0.13,
          0.12,
          0.11,
          0.11,
          0.11,
          0.1,
          0.11,
          0.12,
          0.12,
          0.11,
          0.12,
          0.13,
          0.11,
          0.12,
          0.13,
          0.14,
          0.14,
          0.14,
          0.14,
          0.14,
          0.14,
          0.15,
          0.16,
          0.16,
          0.16,
          0.16,
          0.16,
          0.16,
          0.15,
          0.16,
          0.16,
          0.15,
          0.15,
          0.15,
          0.16,
          0.16,
          0.17,
          0.17,
          0.16,
          0.17,
          0.17,
          0.18,
          0.18,
          0.18,
          0.19,
          0.19,
          0.19,
          0.19,
          0.18,
          0.19,
          0.19,
          0.19,
          0.18,
          0.18,
          0.19,
          0.19,
          0.2,
          0.2,
          0.2,
          0.21,
          0.2,
          0.21,
          0.21,
          0.22,
          0.21,
          0.2,
          0.19,
          0.2,
          0.2,
          0.18,
          0.18,
          0.19,
          0.19,
          0.19,
          0.2,
          0.19,
          0.19,
          0.17,
          0.17,
          0.16,
          0.18,
          0.18,
          0.18,
          0.2,
          0.2,
          0.21,
          0.21,
          0.22,
          0.22,
          0.23,
          0.22,
          0.23,
          0.23,
          0.23,
          0.22,
          0.22,
          0.23,
          0.21,
          0.21,
          0.21,
          0.2,
          0.21,
          0.22,
          0.22,
          0.23,
          0.23,
          0.24,
          0.24,
          0.23,
          0.24,
          0.24,
          0.24,
          0.25,
          0.24,
          0.25,
          0.25,
          0.25,
          0.24,
          0.24,
          0.24,
          0.24,
          0.23,
          0.24,
          0.25,
          0.25,
          0.25,
          0.26,
          0.25,
          0.26,
          0.25,
          0.26,
          0.25,
          0.25,
          0.24,
          0.25,
          0.24,
          0.25,
          0.25,
          0.24,
          0.23,
          0.23,
          0.23,
          0.24,
          0.26,
          0.27,
          0.27,
          0.27,
          0.26,
          0.26,
          0.26,
          0.25,
          0.25,
          0.26,
          0.26,
          0.26,
          0.26,
          0.27,
          0.27,
          0.27,
          0.28,
          0.28,
          0.28,
          0.29,
          0.29,
          0.29,
          0.28,
          0.28,
          0.28,
          0.28,
          0.28,
          0.28,
          0.28,
          0.25,
          0.25,
          0.26,
          0.26,
          0.27,
          0.26,
          0.26,
          0.25,
          0.25,
          0.26,
          0.26,
          0.25,
          0.25,
          0.24,
          0.24,
          0.24,
          0.26,
          0.26,
          0.27,
          0.28,
          0.28,
          0.28,
          0.28,
          0.27,
          0.28,
          0.28,
          0.28,
          0.28,
          0.27,
          0.28,
          0.28,
          0.28,
          0.28,
          0.28,
          0.28,
          0.28
         ]
        }
       ],
       "layout": {
        "annotations": [
         {
          "align": "center",
          "arrowcolor": "red",
          "arrowhead": 2,
          "ax": 0,
          "ay": 60,
          "bgcolor": "rgba(255, 0, 0, 0.7)",
          "bordercolor": "red",
          "captureevents": true,
          "font": {
           "color": "white",
           "size": 12
          },
          "opacity": 1,
          "showarrow": true,
          "text": "<b>0.0%</b>",
          "x": "2023-09-22",
          "y": 0
         },
         {
          "align": "center",
          "arrowcolor": "red",
          "arrowhead": 2,
          "ax": 0,
          "ay": 60,
          "bgcolor": "rgba(255, 0, 0, 0.7)",
          "bordercolor": "red",
          "captureevents": true,
          "font": {
           "color": "white",
           "size": 12
          },
          "opacity": 1,
          "showarrow": true,
          "text": "<b>5.0%</b>",
          "x": "2023-12-01",
          "y": 0.05
         },
         {
          "align": "center",
          "arrowcolor": "red",
          "arrowhead": 2,
          "ax": 0,
          "ay": 60,
          "bgcolor": "rgba(255, 0, 0, 0.7)",
          "bordercolor": "red",
          "captureevents": true,
          "font": {
           "color": "white",
           "size": 12
          },
          "opacity": 1,
          "showarrow": true,
          "text": "<b>7.0%</b>",
          "x": "2024-02-14",
          "y": 0.07
         },
         {
          "align": "center",
          "arrowcolor": "red",
          "arrowhead": 2,
          "ax": 0,
          "ay": 60,
          "bgcolor": "rgba(255, 0, 0, 0.7)",
          "bordercolor": "red",
          "captureevents": true,
          "font": {
           "color": "white",
           "size": 12
          },
          "opacity": 1,
          "showarrow": true,
          "text": "<b>9.0%</b>",
          "x": "2024-04-26",
          "y": 0.09
         },
         {
          "align": "center",
          "arrowcolor": "red",
          "arrowhead": 2,
          "ax": 0,
          "ay": 60,
          "bgcolor": "rgba(255, 0, 0, 0.7)",
          "bordercolor": "red",
          "captureevents": true,
          "font": {
           "color": "white",
           "size": 12
          },
          "opacity": 1,
          "showarrow": true,
          "text": "<b>14.0%</b>",
          "x": "2024-07-10",
          "y": 0.14
         },
         {
          "align": "center",
          "arrowcolor": "red",
          "arrowhead": 2,
          "ax": 0,
          "ay": 60,
          "bgcolor": "rgba(255, 0, 0, 0.7)",
          "bordercolor": "red",
          "captureevents": true,
          "font": {
           "color": "white",
           "size": 12
          },
          "opacity": 1,
          "showarrow": true,
          "text": "<b>19.0%</b>",
          "x": "2024-09-18",
          "y": 0.19
         },
         {
          "align": "center",
          "arrowcolor": "red",
          "arrowhead": 2,
          "ax": 0,
          "ay": 60,
          "bgcolor": "rgba(255, 0, 0, 0.7)",
          "bordercolor": "red",
          "captureevents": true,
          "font": {
           "color": "white",
           "size": 12
          },
          "opacity": 1,
          "showarrow": true,
          "text": "<b>20.0%</b>",
          "x": "2024-11-26",
          "y": 0.2
         },
         {
          "align": "center",
          "arrowcolor": "red",
          "arrowhead": 2,
          "ax": 0,
          "ay": 60,
          "bgcolor": "rgba(255, 0, 0, 0.7)",
          "bordercolor": "red",
          "captureevents": true,
          "font": {
           "color": "white",
           "size": 12
          },
          "opacity": 1,
          "showarrow": true,
          "text": "<b>21.0%</b>",
          "x": "2025-02-11",
          "y": 0.21
         },
         {
          "align": "center",
          "arrowcolor": "blue",
          "arrowhead": 2,
          "ax": 0,
          "ay": -60,
          "bgcolor": "rgba(0, 0, 255, 0.7)",
          "bordercolor": "blue",
          "captureevents": true,
          "font": {
           "color": "white",
           "size": 12
          },
          "opacity": 1,
          "showarrow": true,
          "text": "<b>0.0%</b>",
          "x": "2023-09-22",
          "y": 0
         },
         {
          "align": "center",
          "arrowcolor": "blue",
          "arrowhead": 2,
          "ax": 0,
          "ay": -60,
          "bgcolor": "rgba(0, 0, 255, 0.7)",
          "bordercolor": "blue",
          "captureevents": true,
          "font": {
           "color": "white",
           "size": 12
          },
          "opacity": 1,
          "showarrow": true,
          "text": "<b>5.0%</b>",
          "x": "2023-12-01",
          "y": 0.05
         },
         {
          "align": "center",
          "arrowcolor": "blue",
          "arrowhead": 2,
          "ax": 0,
          "ay": -60,
          "bgcolor": "rgba(0, 0, 255, 0.7)",
          "bordercolor": "blue",
          "captureevents": true,
          "font": {
           "color": "white",
           "size": 12
          },
          "opacity": 1,
          "showarrow": true,
          "text": "<b>11.0%</b>",
          "x": "2024-02-14",
          "y": 0.11
         },
         {
          "align": "center",
          "arrowcolor": "blue",
          "arrowhead": 2,
          "ax": 0,
          "ay": -60,
          "bgcolor": "rgba(0, 0, 255, 0.7)",
          "bordercolor": "blue",
          "captureevents": true,
          "font": {
           "color": "white",
           "size": 12
          },
          "opacity": 1,
          "showarrow": true,
          "text": "<b>12.0%</b>",
          "x": "2024-04-26",
          "y": 0.12
         },
         {
          "align": "center",
          "arrowcolor": "blue",
          "arrowhead": 2,
          "ax": 0,
          "ay": -60,
          "bgcolor": "rgba(0, 0, 255, 0.7)",
          "bordercolor": "blue",
          "captureevents": true,
          "font": {
           "color": "white",
           "size": 12
          },
          "opacity": 1,
          "showarrow": true,
          "text": "<b>21.0%</b>",
          "x": "2024-07-10",
          "y": 0.21
         },
         {
          "align": "center",
          "arrowcolor": "blue",
          "arrowhead": 2,
          "ax": 0,
          "ay": -60,
          "bgcolor": "rgba(0, 0, 255, 0.7)",
          "bordercolor": "blue",
          "captureevents": true,
          "font": {
           "color": "white",
           "size": 12
          },
          "opacity": 1,
          "showarrow": true,
          "text": "<b>23.0%</b>",
          "x": "2024-09-18",
          "y": 0.23
         },
         {
          "align": "center",
          "arrowcolor": "blue",
          "arrowhead": 2,
          "ax": 0,
          "ay": -60,
          "bgcolor": "rgba(0, 0, 255, 0.7)",
          "bordercolor": "blue",
          "captureevents": true,
          "font": {
           "color": "white",
           "size": 12
          },
          "opacity": 1,
          "showarrow": true,
          "text": "<b>27.0%</b>",
          "x": "2024-11-26",
          "y": 0.27
         },
         {
          "align": "center",
          "arrowcolor": "blue",
          "arrowhead": 2,
          "ax": 0,
          "ay": -60,
          "bgcolor": "rgba(0, 0, 255, 0.7)",
          "bordercolor": "blue",
          "captureevents": true,
          "font": {
           "color": "white",
           "size": 12
          },
          "opacity": 1,
          "showarrow": true,
          "text": "<b>28.0%</b>",
          "x": "2025-02-11",
          "y": 0.28
         }
        ],
        "height": 700,
        "legend": {
         "x": 0.01,
         "y": 0.99
        },
        "template": {
         "data": {
          "bar": [
           {
            "error_x": {
             "color": "#2a3f5f"
            },
            "error_y": {
             "color": "#2a3f5f"
            },
            "marker": {
             "line": {
              "color": "white",
              "width": 0.5
             },
             "pattern": {
              "fillmode": "overlay",
              "size": 10,
              "solidity": 0.2
             }
            },
            "type": "bar"
           }
          ],
          "barpolar": [
           {
            "marker": {
             "line": {
              "color": "white",
              "width": 0.5
             },
             "pattern": {
              "fillmode": "overlay",
              "size": 10,
              "solidity": 0.2
             }
            },
            "type": "barpolar"
           }
          ],
          "carpet": [
           {
            "aaxis": {
             "endlinecolor": "#2a3f5f",
             "gridcolor": "#C8D4E3",
             "linecolor": "#C8D4E3",
             "minorgridcolor": "#C8D4E3",
             "startlinecolor": "#2a3f5f"
            },
            "baxis": {
             "endlinecolor": "#2a3f5f",
             "gridcolor": "#C8D4E3",
             "linecolor": "#C8D4E3",
             "minorgridcolor": "#C8D4E3",
             "startlinecolor": "#2a3f5f"
            },
            "type": "carpet"
           }
          ],
          "choropleth": [
           {
            "colorbar": {
             "outlinewidth": 0,
             "ticks": ""
            },
            "type": "choropleth"
           }
          ],
          "contour": [
           {
            "colorbar": {
             "outlinewidth": 0,
             "ticks": ""
            },
            "colorscale": [
             [
              0,
              "#0d0887"
             ],
             [
              0.1111111111111111,
              "#46039f"
             ],
             [
              0.2222222222222222,
              "#7201a8"
             ],
             [
              0.3333333333333333,
              "#9c179e"
             ],
             [
              0.4444444444444444,
              "#bd3786"
             ],
             [
              0.5555555555555556,
              "#d8576b"
             ],
             [
              0.6666666666666666,
              "#ed7953"
             ],
             [
              0.7777777777777778,
              "#fb9f3a"
             ],
             [
              0.8888888888888888,
              "#fdca26"
             ],
             [
              1,
              "#f0f921"
             ]
            ],
            "type": "contour"
           }
          ],
          "contourcarpet": [
           {
            "colorbar": {
             "outlinewidth": 0,
             "ticks": ""
            },
            "type": "contourcarpet"
           }
          ],
          "heatmap": [
           {
            "colorbar": {
             "outlinewidth": 0,
             "ticks": ""
            },
            "colorscale": [
             [
              0,
              "#0d0887"
             ],
             [
              0.1111111111111111,
              "#46039f"
             ],
             [
              0.2222222222222222,
              "#7201a8"
             ],
             [
              0.3333333333333333,
              "#9c179e"
             ],
             [
              0.4444444444444444,
              "#bd3786"
             ],
             [
              0.5555555555555556,
              "#d8576b"
             ],
             [
              0.6666666666666666,
              "#ed7953"
             ],
             [
              0.7777777777777778,
              "#fb9f3a"
             ],
             [
              0.8888888888888888,
              "#fdca26"
             ],
             [
              1,
              "#f0f921"
             ]
            ],
            "type": "heatmap"
           }
          ],
          "heatmapgl": [
           {
            "colorbar": {
             "outlinewidth": 0,
             "ticks": ""
            },
            "colorscale": [
             [
              0,
              "#0d0887"
             ],
             [
              0.1111111111111111,
              "#46039f"
             ],
             [
              0.2222222222222222,
              "#7201a8"
             ],
             [
              0.3333333333333333,
              "#9c179e"
             ],
             [
              0.4444444444444444,
              "#bd3786"
             ],
             [
              0.5555555555555556,
              "#d8576b"
             ],
             [
              0.6666666666666666,
              "#ed7953"
             ],
             [
              0.7777777777777778,
              "#fb9f3a"
             ],
             [
              0.8888888888888888,
              "#fdca26"
             ],
             [
              1,
              "#f0f921"
             ]
            ],
            "type": "heatmapgl"
           }
          ],
          "histogram": [
           {
            "marker": {
             "pattern": {
              "fillmode": "overlay",
              "size": 10,
              "solidity": 0.2
             }
            },
            "type": "histogram"
           }
          ],
          "histogram2d": [
           {
            "colorbar": {
             "outlinewidth": 0,
             "ticks": ""
            },
            "colorscale": [
             [
              0,
              "#0d0887"
             ],
             [
              0.1111111111111111,
              "#46039f"
             ],
             [
              0.2222222222222222,
              "#7201a8"
             ],
             [
              0.3333333333333333,
              "#9c179e"
             ],
             [
              0.4444444444444444,
              "#bd3786"
             ],
             [
              0.5555555555555556,
              "#d8576b"
             ],
             [
              0.6666666666666666,
              "#ed7953"
             ],
             [
              0.7777777777777778,
              "#fb9f3a"
             ],
             [
              0.8888888888888888,
              "#fdca26"
             ],
             [
              1,
              "#f0f921"
             ]
            ],
            "type": "histogram2d"
           }
          ],
          "histogram2dcontour": [
           {
            "colorbar": {
             "outlinewidth": 0,
             "ticks": ""
            },
            "colorscale": [
             [
              0,
              "#0d0887"
             ],
             [
              0.1111111111111111,
              "#46039f"
             ],
             [
              0.2222222222222222,
              "#7201a8"
             ],
             [
              0.3333333333333333,
              "#9c179e"
             ],
             [
              0.4444444444444444,
              "#bd3786"
             ],
             [
              0.5555555555555556,
              "#d8576b"
             ],
             [
              0.6666666666666666,
              "#ed7953"
             ],
             [
              0.7777777777777778,
              "#fb9f3a"
             ],
             [
              0.8888888888888888,
              "#fdca26"
             ],
             [
              1,
              "#f0f921"
             ]
            ],
            "type": "histogram2dcontour"
           }
          ],
          "mesh3d": [
           {
            "colorbar": {
             "outlinewidth": 0,
             "ticks": ""
            },
            "type": "mesh3d"
           }
          ],
          "parcoords": [
           {
            "line": {
             "colorbar": {
              "outlinewidth": 0,
              "ticks": ""
             }
            },
            "type": "parcoords"
           }
          ],
          "pie": [
           {
            "automargin": true,
            "type": "pie"
           }
          ],
          "scatter": [
           {
            "fillpattern": {
             "fillmode": "overlay",
             "size": 10,
             "solidity": 0.2
            },
            "type": "scatter"
           }
          ],
          "scatter3d": [
           {
            "line": {
             "colorbar": {
              "outlinewidth": 0,
              "ticks": ""
             }
            },
            "marker": {
             "colorbar": {
              "outlinewidth": 0,
              "ticks": ""
             }
            },
            "type": "scatter3d"
           }
          ],
          "scattercarpet": [
           {
            "marker": {
             "colorbar": {
              "outlinewidth": 0,
              "ticks": ""
             }
            },
            "type": "scattercarpet"
           }
          ],
          "scattergeo": [
           {
            "marker": {
             "colorbar": {
              "outlinewidth": 0,
              "ticks": ""
             }
            },
            "type": "scattergeo"
           }
          ],
          "scattergl": [
           {
            "marker": {
             "colorbar": {
              "outlinewidth": 0,
              "ticks": ""
             }
            },
            "type": "scattergl"
           }
          ],
          "scattermapbox": [
           {
            "marker": {
             "colorbar": {
              "outlinewidth": 0,
              "ticks": ""
             }
            },
            "type": "scattermapbox"
           }
          ],
          "scatterpolar": [
           {
            "marker": {
             "colorbar": {
              "outlinewidth": 0,
              "ticks": ""
             }
            },
            "type": "scatterpolar"
           }
          ],
          "scatterpolargl": [
           {
            "marker": {
             "colorbar": {
              "outlinewidth": 0,
              "ticks": ""
             }
            },
            "type": "scatterpolargl"
           }
          ],
          "scatterternary": [
           {
            "marker": {
             "colorbar": {
              "outlinewidth": 0,
              "ticks": ""
             }
            },
            "type": "scatterternary"
           }
          ],
          "surface": [
           {
            "colorbar": {
             "outlinewidth": 0,
             "ticks": ""
            },
            "colorscale": [
             [
              0,
              "#0d0887"
             ],
             [
              0.1111111111111111,
              "#46039f"
             ],
             [
              0.2222222222222222,
              "#7201a8"
             ],
             [
              0.3333333333333333,
              "#9c179e"
             ],
             [
              0.4444444444444444,
              "#bd3786"
             ],
             [
              0.5555555555555556,
              "#d8576b"
             ],
             [
              0.6666666666666666,
              "#ed7953"
             ],
             [
              0.7777777777777778,
              "#fb9f3a"
             ],
             [
              0.8888888888888888,
              "#fdca26"
             ],
             [
              1,
              "#f0f921"
             ]
            ],
            "type": "surface"
           }
          ],
          "table": [
           {
            "cells": {
             "fill": {
              "color": "#EBF0F8"
             },
             "line": {
              "color": "white"
             }
            },
            "header": {
             "fill": {
              "color": "#C8D4E3"
             },
             "line": {
              "color": "white"
             }
            },
            "type": "table"
           }
          ]
         },
         "layout": {
          "annotationdefaults": {
           "arrowcolor": "#2a3f5f",
           "arrowhead": 0,
           "arrowwidth": 1
          },
          "autotypenumbers": "strict",
          "coloraxis": {
           "colorbar": {
            "outlinewidth": 0,
            "ticks": ""
           }
          },
          "colorscale": {
           "diverging": [
            [
             0,
             "#8e0152"
            ],
            [
             0.1,
             "#c51b7d"
            ],
            [
             0.2,
             "#de77ae"
            ],
            [
             0.3,
             "#f1b6da"
            ],
            [
             0.4,
             "#fde0ef"
            ],
            [
             0.5,
             "#f7f7f7"
            ],
            [
             0.6,
             "#e6f5d0"
            ],
            [
             0.7,
             "#b8e186"
            ],
            [
             0.8,
             "#7fbc41"
            ],
            [
             0.9,
             "#4d9221"
            ],
            [
             1,
             "#276419"
            ]
           ],
           "sequential": [
            [
             0,
             "#0d0887"
            ],
            [
             0.1111111111111111,
             "#46039f"
            ],
            [
             0.2222222222222222,
             "#7201a8"
            ],
            [
             0.3333333333333333,
             "#9c179e"
            ],
            [
             0.4444444444444444,
             "#bd3786"
            ],
            [
             0.5555555555555556,
             "#d8576b"
            ],
            [
             0.6666666666666666,
             "#ed7953"
            ],
            [
             0.7777777777777778,
             "#fb9f3a"
            ],
            [
             0.8888888888888888,
             "#fdca26"
            ],
            [
             1,
             "#f0f921"
            ]
           ],
           "sequentialminus": [
            [
             0,
             "#0d0887"
            ],
            [
             0.1111111111111111,
             "#46039f"
            ],
            [
             0.2222222222222222,
             "#7201a8"
            ],
            [
             0.3333333333333333,
             "#9c179e"
            ],
            [
             0.4444444444444444,
             "#bd3786"
            ],
            [
             0.5555555555555556,
             "#d8576b"
            ],
            [
             0.6666666666666666,
             "#ed7953"
            ],
            [
             0.7777777777777778,
             "#fb9f3a"
            ],
            [
             0.8888888888888888,
             "#fdca26"
            ],
            [
             1,
             "#f0f921"
            ]
           ]
          },
          "colorway": [
           "#636efa",
           "#EF553B",
           "#00cc96",
           "#ab63fa",
           "#FFA15A",
           "#19d3f3",
           "#FF6692",
           "#B6E880",
           "#FF97FF",
           "#FECB52"
          ],
          "font": {
           "color": "#2a3f5f"
          },
          "geo": {
           "bgcolor": "white",
           "lakecolor": "white",
           "landcolor": "white",
           "showlakes": true,
           "showland": true,
           "subunitcolor": "#C8D4E3"
          },
          "hoverlabel": {
           "align": "left"
          },
          "hovermode": "closest",
          "mapbox": {
           "style": "light"
          },
          "paper_bgcolor": "white",
          "plot_bgcolor": "white",
          "polar": {
           "angularaxis": {
            "gridcolor": "#EBF0F8",
            "linecolor": "#EBF0F8",
            "ticks": ""
           },
           "bgcolor": "white",
           "radialaxis": {
            "gridcolor": "#EBF0F8",
            "linecolor": "#EBF0F8",
            "ticks": ""
           }
          },
          "scene": {
           "xaxis": {
            "backgroundcolor": "white",
            "gridcolor": "#DFE8F3",
            "gridwidth": 2,
            "linecolor": "#EBF0F8",
            "showbackground": true,
            "ticks": "",
            "zerolinecolor": "#EBF0F8"
           },
           "yaxis": {
            "backgroundcolor": "white",
            "gridcolor": "#DFE8F3",
            "gridwidth": 2,
            "linecolor": "#EBF0F8",
            "showbackground": true,
            "ticks": "",
            "zerolinecolor": "#EBF0F8"
           },
           "zaxis": {
            "backgroundcolor": "white",
            "gridcolor": "#DFE8F3",
            "gridwidth": 2,
            "linecolor": "#EBF0F8",
            "showbackground": true,
            "ticks": "",
            "zerolinecolor": "#EBF0F8"
           }
          },
          "shapedefaults": {
           "line": {
            "color": "#2a3f5f"
           }
          },
          "ternary": {
           "aaxis": {
            "gridcolor": "#DFE8F3",
            "linecolor": "#A2B1C6",
            "ticks": ""
           },
           "baxis": {
            "gridcolor": "#DFE8F3",
            "linecolor": "#A2B1C6",
            "ticks": ""
           },
           "bgcolor": "white",
           "caxis": {
            "gridcolor": "#DFE8F3",
            "linecolor": "#A2B1C6",
            "ticks": ""
           }
          },
          "title": {
           "x": 0.05
          },
          "xaxis": {
           "automargin": true,
           "gridcolor": "#EBF0F8",
           "linecolor": "#EBF0F8",
           "ticks": "",
           "title": {
            "standoff": 15
           },
           "zerolinecolor": "#EBF0F8",
           "zerolinewidth": 2
          },
          "yaxis": {
           "automargin": true,
           "gridcolor": "#EBF0F8",
           "linecolor": "#EBF0F8",
           "ticks": "",
           "title": {
            "standoff": 15
           },
           "zerolinecolor": "#EBF0F8",
           "zerolinewidth": 2
          }
         }
        },
        "title": {
         "text": "Portfolio vs Benchmark Cumulative Returns"
        },
        "xaxis": {
         "title": {
          "text": "Date"
         }
        },
        "yaxis": {
         "tickformat": ".00%",
         "title": {
          "text": "Cumulative Return"
         }
        }
       }
      }
     },
     "metadata": {},
     "output_type": "display_data"
    },
    {
     "name": "stdout",
     "output_type": "stream",
     "text": [
      "Investment period starts at:  2023-11-09\n",
      "Investment period ends at:  2025-02-12\n",
      "Portfolio returns was:  19.32 %\n",
      "Benchmark was:  26.35 %\n",
      "Current weights are:  OrderedDict([('BND', 0.6649), ('GLD', 0.10605), ('HODL.PA', 0.01296), ('SPY', 0.21609)])\n"
     ]
    },
    {
     "data": {
      "application/vnd.plotly.v1+json": {
       "config": {
        "plotlyServerURL": "https://plot.ly"
       },
       "data": [
        {
         "hovertemplate": "Date: %{x}<br>Return: %{y:.1%}<extra></extra>",
         "line": {
          "color": "red",
          "width": 2
         },
         "marker": {
          "size": 6
         },
         "mode": "lines",
         "name": "Portfolio",
         "type": "scatter",
         "x": [
          "2023-11-09",
          "2023-11-10",
          "2023-11-13",
          "2023-11-14",
          "2023-11-15",
          "2023-11-16",
          "2023-11-17",
          "2023-11-20",
          "2023-11-21",
          "2023-11-22",
          "2023-11-24",
          "2023-11-27",
          "2023-11-28",
          "2023-11-29",
          "2023-11-30",
          "2023-12-01",
          "2023-12-04",
          "2023-12-05",
          "2023-12-06",
          "2023-12-07",
          "2023-12-08",
          "2023-12-11",
          "2023-12-12",
          "2023-12-13",
          "2023-12-14",
          "2023-12-15",
          "2023-12-18",
          "2023-12-19",
          "2023-12-20",
          "2023-12-21",
          "2023-12-22",
          "2023-12-27",
          "2023-12-28",
          "2023-12-29",
          "2024-01-02",
          "2024-01-03",
          "2024-01-04",
          "2024-01-05",
          "2024-01-08",
          "2024-01-09",
          "2024-01-10",
          "2024-01-11",
          "2024-01-12",
          "2024-01-16",
          "2024-01-17",
          "2024-01-18",
          "2024-01-19",
          "2024-01-22",
          "2024-01-23",
          "2024-01-24",
          "2024-01-25",
          "2024-01-26",
          "2024-01-29",
          "2024-01-30",
          "2024-01-31",
          "2024-02-01",
          "2024-02-02",
          "2024-02-05",
          "2024-02-06",
          "2024-02-07",
          "2024-02-08",
          "2024-02-09",
          "2024-02-12",
          "2024-02-13",
          "2024-02-14",
          "2024-02-15",
          "2024-02-16",
          "2024-02-20",
          "2024-02-21",
          "2024-02-22",
          "2024-02-23",
          "2024-02-26",
          "2024-02-27",
          "2024-02-28",
          "2024-02-29",
          "2024-03-01",
          "2024-03-04",
          "2024-03-05",
          "2024-03-06",
          "2024-03-07",
          "2024-03-08",
          "2024-03-11",
          "2024-03-12",
          "2024-03-13",
          "2024-03-14",
          "2024-03-15",
          "2024-03-18",
          "2024-03-19",
          "2024-03-20",
          "2024-03-21",
          "2024-03-22",
          "2024-03-25",
          "2024-03-26",
          "2024-03-27",
          "2024-03-28",
          "2024-04-02",
          "2024-04-03",
          "2024-04-04",
          "2024-04-05",
          "2024-04-08",
          "2024-04-09",
          "2024-04-10",
          "2024-04-11",
          "2024-04-12",
          "2024-04-15",
          "2024-04-16",
          "2024-04-17",
          "2024-04-18",
          "2024-04-19",
          "2024-04-22",
          "2024-04-23",
          "2024-04-24",
          "2024-04-25",
          "2024-04-26",
          "2024-04-29",
          "2024-04-30",
          "2024-05-02",
          "2024-05-03",
          "2024-05-06",
          "2024-05-07",
          "2024-05-08",
          "2024-05-09",
          "2024-05-10",
          "2024-05-13",
          "2024-05-14",
          "2024-05-15",
          "2024-05-16",
          "2024-05-17",
          "2024-05-20",
          "2024-05-21",
          "2024-05-22",
          "2024-05-23",
          "2024-05-24",
          "2024-05-28",
          "2024-05-29",
          "2024-05-30",
          "2024-05-31",
          "2024-06-03",
          "2024-06-04",
          "2024-06-05",
          "2024-06-06",
          "2024-06-07",
          "2024-06-10",
          "2024-06-11",
          "2024-06-12",
          "2024-06-13",
          "2024-06-14",
          "2024-06-17",
          "2024-06-18",
          "2024-06-20",
          "2024-06-21",
          "2024-06-24",
          "2024-06-25",
          "2024-06-26",
          "2024-06-27",
          "2024-06-28",
          "2024-07-01",
          "2024-07-02",
          "2024-07-03",
          "2024-07-05",
          "2024-07-08",
          "2024-07-09",
          "2024-07-10",
          "2024-07-11",
          "2024-07-12",
          "2024-07-15",
          "2024-07-16",
          "2024-07-17",
          "2024-07-18",
          "2024-07-19",
          "2024-07-22",
          "2024-07-23",
          "2024-07-24",
          "2024-07-25",
          "2024-07-26",
          "2024-07-29",
          "2024-07-30",
          "2024-07-31",
          "2024-08-01",
          "2024-08-02",
          "2024-08-05",
          "2024-08-06",
          "2024-08-07",
          "2024-08-08",
          "2024-08-09",
          "2024-08-12",
          "2024-08-13",
          "2024-08-14",
          "2024-08-15",
          "2024-08-16",
          "2024-08-19",
          "2024-08-20",
          "2024-08-21",
          "2024-08-22",
          "2024-08-23",
          "2024-08-26",
          "2024-08-27",
          "2024-08-28",
          "2024-08-29",
          "2024-08-30",
          "2024-09-03",
          "2024-09-04",
          "2024-09-05",
          "2024-09-06",
          "2024-09-09",
          "2024-09-10",
          "2024-09-11",
          "2024-09-12",
          "2024-09-13",
          "2024-09-16",
          "2024-09-17",
          "2024-09-18",
          "2024-09-19",
          "2024-09-20",
          "2024-09-23",
          "2024-09-24",
          "2024-09-25",
          "2024-09-26",
          "2024-09-27",
          "2024-09-30",
          "2024-10-01",
          "2024-10-02",
          "2024-10-03",
          "2024-10-04",
          "2024-10-07",
          "2024-10-08",
          "2024-10-09",
          "2024-10-10",
          "2024-10-11",
          "2024-10-14",
          "2024-10-15",
          "2024-10-16",
          "2024-10-17",
          "2024-10-18",
          "2024-10-21",
          "2024-10-22",
          "2024-10-23",
          "2024-10-24",
          "2024-10-25",
          "2024-10-28",
          "2024-10-29",
          "2024-10-30",
          "2024-10-31",
          "2024-11-01",
          "2024-11-04",
          "2024-11-05",
          "2024-11-06",
          "2024-11-07",
          "2024-11-08",
          "2024-11-11",
          "2024-11-12",
          "2024-11-13",
          "2024-11-14",
          "2024-11-15",
          "2024-11-18",
          "2024-11-19",
          "2024-11-20",
          "2024-11-21",
          "2024-11-22",
          "2024-11-25",
          "2024-11-26",
          "2024-11-27",
          "2024-11-29",
          "2024-12-02",
          "2024-12-03",
          "2024-12-04",
          "2024-12-05",
          "2024-12-06",
          "2024-12-09",
          "2024-12-10",
          "2024-12-11",
          "2024-12-12",
          "2024-12-13",
          "2024-12-16",
          "2024-12-17",
          "2024-12-18",
          "2024-12-19",
          "2024-12-20",
          "2024-12-23",
          "2024-12-24",
          "2024-12-27",
          "2024-12-30",
          "2024-12-31",
          "2025-01-02",
          "2025-01-03",
          "2025-01-06",
          "2025-01-07",
          "2025-01-08",
          "2025-01-10",
          "2025-01-13",
          "2025-01-14",
          "2025-01-15",
          "2025-01-16",
          "2025-01-17",
          "2025-01-21",
          "2025-01-22",
          "2025-01-23",
          "2025-01-24",
          "2025-01-27",
          "2025-01-28",
          "2025-01-29",
          "2025-01-30",
          "2025-01-31",
          "2025-02-03",
          "2025-02-04",
          "2025-02-05",
          "2025-02-06",
          "2025-02-07",
          "2025-02-10",
          "2025-02-11",
          "2025-02-12"
         ],
         "y": [
          -0.01,
          0,
          0,
          0.01,
          0.01,
          0.01,
          0.01,
          0.02,
          0.02,
          0.02,
          0.02,
          0.02,
          0.03,
          0.03,
          0.03,
          0.04,
          0.03,
          0.04,
          0.04,
          0.04,
          0.04,
          0.03,
          0.04,
          0.05,
          0.06,
          0.06,
          0.06,
          0.06,
          0.06,
          0.06,
          0.06,
          0.07,
          0.07,
          0.07,
          0.06,
          0.06,
          0.06,
          0.05,
          0.06,
          0.06,
          0.06,
          0.06,
          0.07,
          0.06,
          0.05,
          0.06,
          0.06,
          0.06,
          0.06,
          0.06,
          0.06,
          0.06,
          0.07,
          0.07,
          0.07,
          0.08,
          0.07,
          0.06,
          0.07,
          0.07,
          0.07,
          0.07,
          0.07,
          0.06,
          0.06,
          0.07,
          0.06,
          0.06,
          0.06,
          0.07,
          0.07,
          0.07,
          0.07,
          0.07,
          0.07,
          0.08,
          0.08,
          0.08,
          0.09,
          0.09,
          0.09,
          0.09,
          0.09,
          0.09,
          0.09,
          0.08,
          0.08,
          0.09,
          0.09,
          0.09,
          0.09,
          0.09,
          0.09,
          0.1,
          0.1,
          0.09,
          0.1,
          0.09,
          0.09,
          0.1,
          0.1,
          0.09,
          0.09,
          0.09,
          0.08,
          0.08,
          0.08,
          0.08,
          0.08,
          0.08,
          0.08,
          0.08,
          0.08,
          0.08,
          0.08,
          0.07,
          0.08,
          0.09,
          0.09,
          0.09,
          0.09,
          0.1,
          0.1,
          0.09,
          0.1,
          0.11,
          0.11,
          0.11,
          0.11,
          0.11,
          0.11,
          0.1,
          0.1,
          0.1,
          0.1,
          0.1,
          0.1,
          0.11,
          0.11,
          0.12,
          0.12,
          0.11,
          0.11,
          0.11,
          0.12,
          0.12,
          0.12,
          0.12,
          0.12,
          0.12,
          0.12,
          0.12,
          0.12,
          0.12,
          0.12,
          0.11,
          0.11,
          0.12,
          0.12,
          0.13,
          0.13,
          0.13,
          0.13,
          0.13,
          0.14,
          0.14,
          0.14,
          0.14,
          0.14,
          0.13,
          0.13,
          0.13,
          0.13,
          0.12,
          0.13,
          0.13,
          0.13,
          0.14,
          0.14,
          0.14,
          0.13,
          0.13,
          0.13,
          0.13,
          0.14,
          0.14,
          0.15,
          0.15,
          0.15,
          0.15,
          0.16,
          0.16,
          0.16,
          0.16,
          0.16,
          0.16,
          0.16,
          0.16,
          0.16,
          0.16,
          0.16,
          0.16,
          0.16,
          0.16,
          0.16,
          0.17,
          0.17,
          0.17,
          0.18,
          0.18,
          0.18,
          0.17,
          0.18,
          0.18,
          0.18,
          0.18,
          0.18,
          0.18,
          0.18,
          0.18,
          0.18,
          0.18,
          0.18,
          0.17,
          0.17,
          0.17,
          0.17,
          0.17,
          0.17,
          0.18,
          0.18,
          0.18,
          0.18,
          0.18,
          0.18,
          0.18,
          0.17,
          0.17,
          0.17,
          0.17,
          0.18,
          0.17,
          0.17,
          0.16,
          0.17,
          0.17,
          0.17,
          0.18,
          0.18,
          0.18,
          0.17,
          0.17,
          0.17,
          0.17,
          0.17,
          0.17,
          0.17,
          0.18,
          0.18,
          0.18,
          0.18,
          0.19,
          0.19,
          0.19,
          0.19,
          0.2,
          0.2,
          0.2,
          0.2,
          0.19,
          0.2,
          0.19,
          0.19,
          0.19,
          0.19,
          0.17,
          0.17,
          0.17,
          0.17,
          0.18,
          0.17,
          0.17,
          0.17,
          0.17,
          0.18,
          0.18,
          0.17,
          0.17,
          0.17,
          0.16,
          0.17,
          0.18,
          0.18,
          0.18,
          0.19,
          0.19,
          0.19,
          0.19,
          0.19,
          0.19,
          0.19,
          0.2,
          0.19,
          0.19,
          0.2,
          0.2,
          0.2,
          0.2,
          0.2,
          0.2,
          0.19
         ]
        },
        {
         "hovertemplate": "Date: %{x}<br>Return: %{y:.1%}<extra></extra>",
         "line": {
          "color": "blue",
          "width": 2
         },
         "marker": {
          "size": 6
         },
         "mode": "lines",
         "name": "Benchmark (60/40 SPY/BND)",
         "type": "scatter",
         "x": [
          "2023-11-09",
          "2023-11-10",
          "2023-11-13",
          "2023-11-14",
          "2023-11-15",
          "2023-11-16",
          "2023-11-17",
          "2023-11-20",
          "2023-11-21",
          "2023-11-22",
          "2023-11-24",
          "2023-11-27",
          "2023-11-28",
          "2023-11-29",
          "2023-11-30",
          "2023-12-01",
          "2023-12-04",
          "2023-12-05",
          "2023-12-06",
          "2023-12-07",
          "2023-12-08",
          "2023-12-11",
          "2023-12-12",
          "2023-12-13",
          "2023-12-14",
          "2023-12-15",
          "2023-12-18",
          "2023-12-19",
          "2023-12-20",
          "2023-12-21",
          "2023-12-22",
          "2023-12-27",
          "2023-12-28",
          "2023-12-29",
          "2024-01-02",
          "2024-01-03",
          "2024-01-04",
          "2024-01-05",
          "2024-01-08",
          "2024-01-09",
          "2024-01-10",
          "2024-01-11",
          "2024-01-12",
          "2024-01-16",
          "2024-01-17",
          "2024-01-18",
          "2024-01-19",
          "2024-01-22",
          "2024-01-23",
          "2024-01-24",
          "2024-01-25",
          "2024-01-26",
          "2024-01-29",
          "2024-01-30",
          "2024-01-31",
          "2024-02-01",
          "2024-02-02",
          "2024-02-05",
          "2024-02-06",
          "2024-02-07",
          "2024-02-08",
          "2024-02-09",
          "2024-02-12",
          "2024-02-13",
          "2024-02-14",
          "2024-02-15",
          "2024-02-16",
          "2024-02-20",
          "2024-02-21",
          "2024-02-22",
          "2024-02-23",
          "2024-02-26",
          "2024-02-27",
          "2024-02-28",
          "2024-02-29",
          "2024-03-01",
          "2024-03-04",
          "2024-03-05",
          "2024-03-06",
          "2024-03-07",
          "2024-03-08",
          "2024-03-11",
          "2024-03-12",
          "2024-03-13",
          "2024-03-14",
          "2024-03-15",
          "2024-03-18",
          "2024-03-19",
          "2024-03-20",
          "2024-03-21",
          "2024-03-22",
          "2024-03-25",
          "2024-03-26",
          "2024-03-27",
          "2024-03-28",
          "2024-04-02",
          "2024-04-03",
          "2024-04-04",
          "2024-04-05",
          "2024-04-08",
          "2024-04-09",
          "2024-04-10",
          "2024-04-11",
          "2024-04-12",
          "2024-04-15",
          "2024-04-16",
          "2024-04-17",
          "2024-04-18",
          "2024-04-19",
          "2024-04-22",
          "2024-04-23",
          "2024-04-24",
          "2024-04-25",
          "2024-04-26",
          "2024-04-29",
          "2024-04-30",
          "2024-05-02",
          "2024-05-03",
          "2024-05-06",
          "2024-05-07",
          "2024-05-08",
          "2024-05-09",
          "2024-05-10",
          "2024-05-13",
          "2024-05-14",
          "2024-05-15",
          "2024-05-16",
          "2024-05-17",
          "2024-05-20",
          "2024-05-21",
          "2024-05-22",
          "2024-05-23",
          "2024-05-24",
          "2024-05-28",
          "2024-05-29",
          "2024-05-30",
          "2024-05-31",
          "2024-06-03",
          "2024-06-04",
          "2024-06-05",
          "2024-06-06",
          "2024-06-07",
          "2024-06-10",
          "2024-06-11",
          "2024-06-12",
          "2024-06-13",
          "2024-06-14",
          "2024-06-17",
          "2024-06-18",
          "2024-06-20",
          "2024-06-21",
          "2024-06-24",
          "2024-06-25",
          "2024-06-26",
          "2024-06-27",
          "2024-06-28",
          "2024-07-01",
          "2024-07-02",
          "2024-07-03",
          "2024-07-05",
          "2024-07-08",
          "2024-07-09",
          "2024-07-10",
          "2024-07-11",
          "2024-07-12",
          "2024-07-15",
          "2024-07-16",
          "2024-07-17",
          "2024-07-18",
          "2024-07-19",
          "2024-07-22",
          "2024-07-23",
          "2024-07-24",
          "2024-07-25",
          "2024-07-26",
          "2024-07-29",
          "2024-07-30",
          "2024-07-31",
          "2024-08-01",
          "2024-08-02",
          "2024-08-05",
          "2024-08-06",
          "2024-08-07",
          "2024-08-08",
          "2024-08-09",
          "2024-08-12",
          "2024-08-13",
          "2024-08-14",
          "2024-08-15",
          "2024-08-16",
          "2024-08-19",
          "2024-08-20",
          "2024-08-21",
          "2024-08-22",
          "2024-08-23",
          "2024-08-26",
          "2024-08-27",
          "2024-08-28",
          "2024-08-29",
          "2024-08-30",
          "2024-09-03",
          "2024-09-04",
          "2024-09-05",
          "2024-09-06",
          "2024-09-09",
          "2024-09-10",
          "2024-09-11",
          "2024-09-12",
          "2024-09-13",
          "2024-09-16",
          "2024-09-17",
          "2024-09-18",
          "2024-09-19",
          "2024-09-20",
          "2024-09-23",
          "2024-09-24",
          "2024-09-25",
          "2024-09-26",
          "2024-09-27",
          "2024-09-30",
          "2024-10-01",
          "2024-10-02",
          "2024-10-03",
          "2024-10-04",
          "2024-10-07",
          "2024-10-08",
          "2024-10-09",
          "2024-10-10",
          "2024-10-11",
          "2024-10-14",
          "2024-10-15",
          "2024-10-16",
          "2024-10-17",
          "2024-10-18",
          "2024-10-21",
          "2024-10-22",
          "2024-10-23",
          "2024-10-24",
          "2024-10-25",
          "2024-10-28",
          "2024-10-29",
          "2024-10-30",
          "2024-10-31",
          "2024-11-01",
          "2024-11-04",
          "2024-11-05",
          "2024-11-06",
          "2024-11-07",
          "2024-11-08",
          "2024-11-11",
          "2024-11-12",
          "2024-11-13",
          "2024-11-14",
          "2024-11-15",
          "2024-11-18",
          "2024-11-19",
          "2024-11-20",
          "2024-11-21",
          "2024-11-22",
          "2024-11-25",
          "2024-11-26",
          "2024-11-27",
          "2024-11-29",
          "2024-12-02",
          "2024-12-03",
          "2024-12-04",
          "2024-12-05",
          "2024-12-06",
          "2024-12-09",
          "2024-12-10",
          "2024-12-11",
          "2024-12-12",
          "2024-12-13",
          "2024-12-16",
          "2024-12-17",
          "2024-12-18",
          "2024-12-19",
          "2024-12-20",
          "2024-12-23",
          "2024-12-24",
          "2024-12-27",
          "2024-12-30",
          "2024-12-31",
          "2025-01-02",
          "2025-01-03",
          "2025-01-06",
          "2025-01-07",
          "2025-01-08",
          "2025-01-10",
          "2025-01-13",
          "2025-01-14",
          "2025-01-15",
          "2025-01-16",
          "2025-01-17",
          "2025-01-21",
          "2025-01-22",
          "2025-01-23",
          "2025-01-24",
          "2025-01-27",
          "2025-01-28",
          "2025-01-29",
          "2025-01-30",
          "2025-01-31",
          "2025-02-03",
          "2025-02-04",
          "2025-02-05",
          "2025-02-06",
          "2025-02-07",
          "2025-02-10",
          "2025-02-11",
          "2025-02-12"
         ],
         "y": [
          -0.01,
          0,
          0,
          0.02,
          0.02,
          0.02,
          0.02,
          0.03,
          0.03,
          0.03,
          0.03,
          0.03,
          0.03,
          0.03,
          0.03,
          0.04,
          0.04,
          0.04,
          0.04,
          0.04,
          0.04,
          0.05,
          0.05,
          0.06,
          0.07,
          0.07,
          0.07,
          0.07,
          0.07,
          0.07,
          0.07,
          0.08,
          0.08,
          0.08,
          0.07,
          0.07,
          0.06,
          0.06,
          0.07,
          0.07,
          0.08,
          0.08,
          0.08,
          0.07,
          0.07,
          0.07,
          0.08,
          0.08,
          0.08,
          0.08,
          0.09,
          0.09,
          0.1,
          0.1,
          0.09,
          0.1,
          0.1,
          0.1,
          0.1,
          0.1,
          0.1,
          0.11,
          0.11,
          0.09,
          0.1,
          0.11,
          0.1,
          0.1,
          0.1,
          0.11,
          0.11,
          0.11,
          0.11,
          0.11,
          0.11,
          0.12,
          0.12,
          0.12,
          0.12,
          0.13,
          0.12,
          0.12,
          0.13,
          0.13,
          0.12,
          0.12,
          0.12,
          0.13,
          0.13,
          0.14,
          0.14,
          0.13,
          0.13,
          0.14,
          0.14,
          0.13,
          0.13,
          0.12,
          0.13,
          0.13,
          0.13,
          0.12,
          0.13,
          0.12,
          0.11,
          0.1,
          0.1,
          0.1,
          0.09,
          0.1,
          0.11,
          0.11,
          0.1,
          0.11,
          0.11,
          0.1,
          0.11,
          0.12,
          0.13,
          0.13,
          0.13,
          0.13,
          0.13,
          0.13,
          0.14,
          0.15,
          0.15,
          0.15,
          0.15,
          0.15,
          0.15,
          0.14,
          0.15,
          0.14,
          0.14,
          0.13,
          0.14,
          0.15,
          0.15,
          0.16,
          0.16,
          0.15,
          0.15,
          0.16,
          0.17,
          0.17,
          0.17,
          0.17,
          0.18,
          0.17,
          0.17,
          0.17,
          0.18,
          0.17,
          0.18,
          0.17,
          0.17,
          0.18,
          0.18,
          0.19,
          0.19,
          0.19,
          0.2,
          0.19,
          0.2,
          0.2,
          0.21,
          0.2,
          0.19,
          0.18,
          0.19,
          0.19,
          0.17,
          0.17,
          0.18,
          0.18,
          0.18,
          0.19,
          0.18,
          0.17,
          0.15,
          0.16,
          0.15,
          0.17,
          0.17,
          0.17,
          0.19,
          0.19,
          0.2,
          0.2,
          0.21,
          0.21,
          0.21,
          0.21,
          0.22,
          0.21,
          0.21,
          0.21,
          0.21,
          0.21,
          0.2,
          0.2,
          0.2,
          0.19,
          0.2,
          0.2,
          0.21,
          0.22,
          0.22,
          0.22,
          0.22,
          0.22,
          0.23,
          0.23,
          0.23,
          0.23,
          0.23,
          0.23,
          0.23,
          0.24,
          0.23,
          0.23,
          0.23,
          0.23,
          0.22,
          0.23,
          0.23,
          0.23,
          0.24,
          0.24,
          0.24,
          0.24,
          0.24,
          0.24,
          0.24,
          0.24,
          0.23,
          0.23,
          0.23,
          0.23,
          0.24,
          0.23,
          0.22,
          0.22,
          0.22,
          0.23,
          0.24,
          0.25,
          0.26,
          0.26,
          0.25,
          0.25,
          0.25,
          0.24,
          0.24,
          0.24,
          0.24,
          0.25,
          0.25,
          0.26,
          0.26,
          0.26,
          0.27,
          0.27,
          0.27,
          0.27,
          0.27,
          0.28,
          0.27,
          0.27,
          0.27,
          0.27,
          0.26,
          0.27,
          0.26,
          0.24,
          0.24,
          0.25,
          0.25,
          0.26,
          0.25,
          0.24,
          0.24,
          0.24,
          0.25,
          0.25,
          0.24,
          0.24,
          0.23,
          0.23,
          0.23,
          0.25,
          0.25,
          0.25,
          0.26,
          0.27,
          0.27,
          0.27,
          0.26,
          0.27,
          0.26,
          0.27,
          0.26,
          0.26,
          0.26,
          0.27,
          0.27,
          0.26,
          0.27,
          0.27,
          0.26
         ]
        }
       ],
       "layout": {
        "annotations": [
         {
          "align": "center",
          "arrowcolor": "red",
          "arrowhead": 2,
          "ax": 0,
          "ay": 60,
          "bgcolor": "rgba(255, 0, 0, 0.7)",
          "bordercolor": "red",
          "captureevents": true,
          "font": {
           "color": "white",
           "size": 12
          },
          "opacity": 1,
          "showarrow": true,
          "text": "<b>-1.0%</b>",
          "x": "2023-11-09",
          "y": -0.01
         },
         {
          "align": "center",
          "arrowcolor": "red",
          "arrowhead": 2,
          "ax": 0,
          "ay": 60,
          "bgcolor": "rgba(255, 0, 0, 0.7)",
          "bordercolor": "red",
          "captureevents": true,
          "font": {
           "color": "white",
           "size": 12
          },
          "opacity": 1,
          "showarrow": true,
          "text": "<b>5.0%</b>",
          "x": "2024-01-17",
          "y": 0.05
         },
         {
          "align": "center",
          "arrowcolor": "red",
          "arrowhead": 2,
          "ax": 0,
          "ay": 60,
          "bgcolor": "rgba(255, 0, 0, 0.7)",
          "bordercolor": "red",
          "captureevents": true,
          "font": {
           "color": "white",
           "size": 12
          },
          "opacity": 1,
          "showarrow": true,
          "text": "<b>9.0%</b>",
          "x": "2024-03-20",
          "y": 0.09
         },
         {
          "align": "center",
          "arrowcolor": "red",
          "arrowhead": 2,
          "ax": 0,
          "ay": 60,
          "bgcolor": "rgba(255, 0, 0, 0.7)",
          "bordercolor": "red",
          "captureevents": true,
          "font": {
           "color": "white",
           "size": 12
          },
          "opacity": 1,
          "showarrow": true,
          "text": "<b>10.0%</b>",
          "x": "2024-05-24",
          "y": 0.1
         },
         {
          "align": "center",
          "arrowcolor": "red",
          "arrowhead": 2,
          "ax": 0,
          "ay": 60,
          "bgcolor": "rgba(255, 0, 0, 0.7)",
          "bordercolor": "red",
          "captureevents": true,
          "font": {
           "color": "white",
           "size": 12
          },
          "opacity": 1,
          "showarrow": true,
          "text": "<b>13.0%</b>",
          "x": "2024-07-30",
          "y": 0.13
         },
         {
          "align": "center",
          "arrowcolor": "red",
          "arrowhead": 2,
          "ax": 0,
          "ay": 60,
          "bgcolor": "rgba(255, 0, 0, 0.7)",
          "bordercolor": "red",
          "captureevents": true,
          "font": {
           "color": "white",
           "size": 12
          },
          "opacity": 1,
          "showarrow": true,
          "text": "<b>18.0%</b>",
          "x": "2024-10-01",
          "y": 0.18
         },
         {
          "align": "center",
          "arrowcolor": "red",
          "arrowhead": 2,
          "ax": 0,
          "ay": 60,
          "bgcolor": "rgba(255, 0, 0, 0.7)",
          "bordercolor": "red",
          "captureevents": true,
          "font": {
           "color": "white",
           "size": 12
          },
          "opacity": 1,
          "showarrow": true,
          "text": "<b>19.0%</b>",
          "x": "2024-12-03",
          "y": 0.19
         },
         {
          "align": "center",
          "arrowcolor": "red",
          "arrowhead": 2,
          "ax": 0,
          "ay": 60,
          "bgcolor": "rgba(255, 0, 0, 0.7)",
          "bordercolor": "red",
          "captureevents": true,
          "font": {
           "color": "white",
           "size": 12
          },
          "opacity": 1,
          "showarrow": true,
          "text": "<b>20.0%</b>",
          "x": "2025-02-10",
          "y": 0.2
         },
         {
          "align": "center",
          "arrowcolor": "blue",
          "arrowhead": 2,
          "ax": 0,
          "ay": -60,
          "bgcolor": "rgba(0, 0, 255, 0.7)",
          "bordercolor": "blue",
          "captureevents": true,
          "font": {
           "color": "white",
           "size": 12
          },
          "opacity": 1,
          "showarrow": true,
          "text": "<b>-1.0%</b>",
          "x": "2023-11-09",
          "y": -0.01
         },
         {
          "align": "center",
          "arrowcolor": "blue",
          "arrowhead": 2,
          "ax": 0,
          "ay": -60,
          "bgcolor": "rgba(0, 0, 255, 0.7)",
          "bordercolor": "blue",
          "captureevents": true,
          "font": {
           "color": "white",
           "size": 12
          },
          "opacity": 1,
          "showarrow": true,
          "text": "<b>7.0%</b>",
          "x": "2024-01-17",
          "y": 0.07
         },
         {
          "align": "center",
          "arrowcolor": "blue",
          "arrowhead": 2,
          "ax": 0,
          "ay": -60,
          "bgcolor": "rgba(0, 0, 255, 0.7)",
          "bordercolor": "blue",
          "captureevents": true,
          "font": {
           "color": "white",
           "size": 12
          },
          "opacity": 1,
          "showarrow": true,
          "text": "<b>13.0%</b>",
          "x": "2024-03-20",
          "y": 0.13
         },
         {
          "align": "center",
          "arrowcolor": "blue",
          "arrowhead": 2,
          "ax": 0,
          "ay": -60,
          "bgcolor": "rgba(0, 0, 255, 0.7)",
          "bordercolor": "blue",
          "captureevents": true,
          "font": {
           "color": "white",
           "size": 12
          },
          "opacity": 1,
          "showarrow": true,
          "text": "<b>15.0%</b>",
          "x": "2024-05-24",
          "y": 0.15
         },
         {
          "align": "center",
          "arrowcolor": "blue",
          "arrowhead": 2,
          "ax": 0,
          "ay": -60,
          "bgcolor": "rgba(0, 0, 255, 0.7)",
          "bordercolor": "blue",
          "captureevents": true,
          "font": {
           "color": "white",
           "size": 12
          },
          "opacity": 1,
          "showarrow": true,
          "text": "<b>18.0%</b>",
          "x": "2024-07-30",
          "y": 0.18
         },
         {
          "align": "center",
          "arrowcolor": "blue",
          "arrowhead": 2,
          "ax": 0,
          "ay": -60,
          "bgcolor": "rgba(0, 0, 255, 0.7)",
          "bordercolor": "blue",
          "captureevents": true,
          "font": {
           "color": "white",
           "size": 12
          },
          "opacity": 1,
          "showarrow": true,
          "text": "<b>23.0%</b>",
          "x": "2024-10-01",
          "y": 0.23
         },
         {
          "align": "center",
          "arrowcolor": "blue",
          "arrowhead": 2,
          "ax": 0,
          "ay": -60,
          "bgcolor": "rgba(0, 0, 255, 0.7)",
          "bordercolor": "blue",
          "captureevents": true,
          "font": {
           "color": "white",
           "size": 12
          },
          "opacity": 1,
          "showarrow": true,
          "text": "<b>27.0%</b>",
          "x": "2024-12-03",
          "y": 0.27
         },
         {
          "align": "center",
          "arrowcolor": "blue",
          "arrowhead": 2,
          "ax": 0,
          "ay": -60,
          "bgcolor": "rgba(0, 0, 255, 0.7)",
          "bordercolor": "blue",
          "captureevents": true,
          "font": {
           "color": "white",
           "size": 12
          },
          "opacity": 1,
          "showarrow": true,
          "text": "<b>27.0%</b>",
          "x": "2025-02-10",
          "y": 0.27
         }
        ],
        "height": 700,
        "legend": {
         "x": 0.01,
         "y": 0.99
        },
        "template": {
         "data": {
          "bar": [
           {
            "error_x": {
             "color": "#2a3f5f"
            },
            "error_y": {
             "color": "#2a3f5f"
            },
            "marker": {
             "line": {
              "color": "white",
              "width": 0.5
             },
             "pattern": {
              "fillmode": "overlay",
              "size": 10,
              "solidity": 0.2
             }
            },
            "type": "bar"
           }
          ],
          "barpolar": [
           {
            "marker": {
             "line": {
              "color": "white",
              "width": 0.5
             },
             "pattern": {
              "fillmode": "overlay",
              "size": 10,
              "solidity": 0.2
             }
            },
            "type": "barpolar"
           }
          ],
          "carpet": [
           {
            "aaxis": {
             "endlinecolor": "#2a3f5f",
             "gridcolor": "#C8D4E3",
             "linecolor": "#C8D4E3",
             "minorgridcolor": "#C8D4E3",
             "startlinecolor": "#2a3f5f"
            },
            "baxis": {
             "endlinecolor": "#2a3f5f",
             "gridcolor": "#C8D4E3",
             "linecolor": "#C8D4E3",
             "minorgridcolor": "#C8D4E3",
             "startlinecolor": "#2a3f5f"
            },
            "type": "carpet"
           }
          ],
          "choropleth": [
           {
            "colorbar": {
             "outlinewidth": 0,
             "ticks": ""
            },
            "type": "choropleth"
           }
          ],
          "contour": [
           {
            "colorbar": {
             "outlinewidth": 0,
             "ticks": ""
            },
            "colorscale": [
             [
              0,
              "#0d0887"
             ],
             [
              0.1111111111111111,
              "#46039f"
             ],
             [
              0.2222222222222222,
              "#7201a8"
             ],
             [
              0.3333333333333333,
              "#9c179e"
             ],
             [
              0.4444444444444444,
              "#bd3786"
             ],
             [
              0.5555555555555556,
              "#d8576b"
             ],
             [
              0.6666666666666666,
              "#ed7953"
             ],
             [
              0.7777777777777778,
              "#fb9f3a"
             ],
             [
              0.8888888888888888,
              "#fdca26"
             ],
             [
              1,
              "#f0f921"
             ]
            ],
            "type": "contour"
           }
          ],
          "contourcarpet": [
           {
            "colorbar": {
             "outlinewidth": 0,
             "ticks": ""
            },
            "type": "contourcarpet"
           }
          ],
          "heatmap": [
           {
            "colorbar": {
             "outlinewidth": 0,
             "ticks": ""
            },
            "colorscale": [
             [
              0,
              "#0d0887"
             ],
             [
              0.1111111111111111,
              "#46039f"
             ],
             [
              0.2222222222222222,
              "#7201a8"
             ],
             [
              0.3333333333333333,
              "#9c179e"
             ],
             [
              0.4444444444444444,
              "#bd3786"
             ],
             [
              0.5555555555555556,
              "#d8576b"
             ],
             [
              0.6666666666666666,
              "#ed7953"
             ],
             [
              0.7777777777777778,
              "#fb9f3a"
             ],
             [
              0.8888888888888888,
              "#fdca26"
             ],
             [
              1,
              "#f0f921"
             ]
            ],
            "type": "heatmap"
           }
          ],
          "heatmapgl": [
           {
            "colorbar": {
             "outlinewidth": 0,
             "ticks": ""
            },
            "colorscale": [
             [
              0,
              "#0d0887"
             ],
             [
              0.1111111111111111,
              "#46039f"
             ],
             [
              0.2222222222222222,
              "#7201a8"
             ],
             [
              0.3333333333333333,
              "#9c179e"
             ],
             [
              0.4444444444444444,
              "#bd3786"
             ],
             [
              0.5555555555555556,
              "#d8576b"
             ],
             [
              0.6666666666666666,
              "#ed7953"
             ],
             [
              0.7777777777777778,
              "#fb9f3a"
             ],
             [
              0.8888888888888888,
              "#fdca26"
             ],
             [
              1,
              "#f0f921"
             ]
            ],
            "type": "heatmapgl"
           }
          ],
          "histogram": [
           {
            "marker": {
             "pattern": {
              "fillmode": "overlay",
              "size": 10,
              "solidity": 0.2
             }
            },
            "type": "histogram"
           }
          ],
          "histogram2d": [
           {
            "colorbar": {
             "outlinewidth": 0,
             "ticks": ""
            },
            "colorscale": [
             [
              0,
              "#0d0887"
             ],
             [
              0.1111111111111111,
              "#46039f"
             ],
             [
              0.2222222222222222,
              "#7201a8"
             ],
             [
              0.3333333333333333,
              "#9c179e"
             ],
             [
              0.4444444444444444,
              "#bd3786"
             ],
             [
              0.5555555555555556,
              "#d8576b"
             ],
             [
              0.6666666666666666,
              "#ed7953"
             ],
             [
              0.7777777777777778,
              "#fb9f3a"
             ],
             [
              0.8888888888888888,
              "#fdca26"
             ],
             [
              1,
              "#f0f921"
             ]
            ],
            "type": "histogram2d"
           }
          ],
          "histogram2dcontour": [
           {
            "colorbar": {
             "outlinewidth": 0,
             "ticks": ""
            },
            "colorscale": [
             [
              0,
              "#0d0887"
             ],
             [
              0.1111111111111111,
              "#46039f"
             ],
             [
              0.2222222222222222,
              "#7201a8"
             ],
             [
              0.3333333333333333,
              "#9c179e"
             ],
             [
              0.4444444444444444,
              "#bd3786"
             ],
             [
              0.5555555555555556,
              "#d8576b"
             ],
             [
              0.6666666666666666,
              "#ed7953"
             ],
             [
              0.7777777777777778,
              "#fb9f3a"
             ],
             [
              0.8888888888888888,
              "#fdca26"
             ],
             [
              1,
              "#f0f921"
             ]
            ],
            "type": "histogram2dcontour"
           }
          ],
          "mesh3d": [
           {
            "colorbar": {
             "outlinewidth": 0,
             "ticks": ""
            },
            "type": "mesh3d"
           }
          ],
          "parcoords": [
           {
            "line": {
             "colorbar": {
              "outlinewidth": 0,
              "ticks": ""
             }
            },
            "type": "parcoords"
           }
          ],
          "pie": [
           {
            "automargin": true,
            "type": "pie"
           }
          ],
          "scatter": [
           {
            "fillpattern": {
             "fillmode": "overlay",
             "size": 10,
             "solidity": 0.2
            },
            "type": "scatter"
           }
          ],
          "scatter3d": [
           {
            "line": {
             "colorbar": {
              "outlinewidth": 0,
              "ticks": ""
             }
            },
            "marker": {
             "colorbar": {
              "outlinewidth": 0,
              "ticks": ""
             }
            },
            "type": "scatter3d"
           }
          ],
          "scattercarpet": [
           {
            "marker": {
             "colorbar": {
              "outlinewidth": 0,
              "ticks": ""
             }
            },
            "type": "scattercarpet"
           }
          ],
          "scattergeo": [
           {
            "marker": {
             "colorbar": {
              "outlinewidth": 0,
              "ticks": ""
             }
            },
            "type": "scattergeo"
           }
          ],
          "scattergl": [
           {
            "marker": {
             "colorbar": {
              "outlinewidth": 0,
              "ticks": ""
             }
            },
            "type": "scattergl"
           }
          ],
          "scattermapbox": [
           {
            "marker": {
             "colorbar": {
              "outlinewidth": 0,
              "ticks": ""
             }
            },
            "type": "scattermapbox"
           }
          ],
          "scatterpolar": [
           {
            "marker": {
             "colorbar": {
              "outlinewidth": 0,
              "ticks": ""
             }
            },
            "type": "scatterpolar"
           }
          ],
          "scatterpolargl": [
           {
            "marker": {
             "colorbar": {
              "outlinewidth": 0,
              "ticks": ""
             }
            },
            "type": "scatterpolargl"
           }
          ],
          "scatterternary": [
           {
            "marker": {
             "colorbar": {
              "outlinewidth": 0,
              "ticks": ""
             }
            },
            "type": "scatterternary"
           }
          ],
          "surface": [
           {
            "colorbar": {
             "outlinewidth": 0,
             "ticks": ""
            },
            "colorscale": [
             [
              0,
              "#0d0887"
             ],
             [
              0.1111111111111111,
              "#46039f"
             ],
             [
              0.2222222222222222,
              "#7201a8"
             ],
             [
              0.3333333333333333,
              "#9c179e"
             ],
             [
              0.4444444444444444,
              "#bd3786"
             ],
             [
              0.5555555555555556,
              "#d8576b"
             ],
             [
              0.6666666666666666,
              "#ed7953"
             ],
             [
              0.7777777777777778,
              "#fb9f3a"
             ],
             [
              0.8888888888888888,
              "#fdca26"
             ],
             [
              1,
              "#f0f921"
             ]
            ],
            "type": "surface"
           }
          ],
          "table": [
           {
            "cells": {
             "fill": {
              "color": "#EBF0F8"
             },
             "line": {
              "color": "white"
             }
            },
            "header": {
             "fill": {
              "color": "#C8D4E3"
             },
             "line": {
              "color": "white"
             }
            },
            "type": "table"
           }
          ]
         },
         "layout": {
          "annotationdefaults": {
           "arrowcolor": "#2a3f5f",
           "arrowhead": 0,
           "arrowwidth": 1
          },
          "autotypenumbers": "strict",
          "coloraxis": {
           "colorbar": {
            "outlinewidth": 0,
            "ticks": ""
           }
          },
          "colorscale": {
           "diverging": [
            [
             0,
             "#8e0152"
            ],
            [
             0.1,
             "#c51b7d"
            ],
            [
             0.2,
             "#de77ae"
            ],
            [
             0.3,
             "#f1b6da"
            ],
            [
             0.4,
             "#fde0ef"
            ],
            [
             0.5,
             "#f7f7f7"
            ],
            [
             0.6,
             "#e6f5d0"
            ],
            [
             0.7,
             "#b8e186"
            ],
            [
             0.8,
             "#7fbc41"
            ],
            [
             0.9,
             "#4d9221"
            ],
            [
             1,
             "#276419"
            ]
           ],
           "sequential": [
            [
             0,
             "#0d0887"
            ],
            [
             0.1111111111111111,
             "#46039f"
            ],
            [
             0.2222222222222222,
             "#7201a8"
            ],
            [
             0.3333333333333333,
             "#9c179e"
            ],
            [
             0.4444444444444444,
             "#bd3786"
            ],
            [
             0.5555555555555556,
             "#d8576b"
            ],
            [
             0.6666666666666666,
             "#ed7953"
            ],
            [
             0.7777777777777778,
             "#fb9f3a"
            ],
            [
             0.8888888888888888,
             "#fdca26"
            ],
            [
             1,
             "#f0f921"
            ]
           ],
           "sequentialminus": [
            [
             0,
             "#0d0887"
            ],
            [
             0.1111111111111111,
             "#46039f"
            ],
            [
             0.2222222222222222,
             "#7201a8"
            ],
            [
             0.3333333333333333,
             "#9c179e"
            ],
            [
             0.4444444444444444,
             "#bd3786"
            ],
            [
             0.5555555555555556,
             "#d8576b"
            ],
            [
             0.6666666666666666,
             "#ed7953"
            ],
            [
             0.7777777777777778,
             "#fb9f3a"
            ],
            [
             0.8888888888888888,
             "#fdca26"
            ],
            [
             1,
             "#f0f921"
            ]
           ]
          },
          "colorway": [
           "#636efa",
           "#EF553B",
           "#00cc96",
           "#ab63fa",
           "#FFA15A",
           "#19d3f3",
           "#FF6692",
           "#B6E880",
           "#FF97FF",
           "#FECB52"
          ],
          "font": {
           "color": "#2a3f5f"
          },
          "geo": {
           "bgcolor": "white",
           "lakecolor": "white",
           "landcolor": "white",
           "showlakes": true,
           "showland": true,
           "subunitcolor": "#C8D4E3"
          },
          "hoverlabel": {
           "align": "left"
          },
          "hovermode": "closest",
          "mapbox": {
           "style": "light"
          },
          "paper_bgcolor": "white",
          "plot_bgcolor": "white",
          "polar": {
           "angularaxis": {
            "gridcolor": "#EBF0F8",
            "linecolor": "#EBF0F8",
            "ticks": ""
           },
           "bgcolor": "white",
           "radialaxis": {
            "gridcolor": "#EBF0F8",
            "linecolor": "#EBF0F8",
            "ticks": ""
           }
          },
          "scene": {
           "xaxis": {
            "backgroundcolor": "white",
            "gridcolor": "#DFE8F3",
            "gridwidth": 2,
            "linecolor": "#EBF0F8",
            "showbackground": true,
            "ticks": "",
            "zerolinecolor": "#EBF0F8"
           },
           "yaxis": {
            "backgroundcolor": "white",
            "gridcolor": "#DFE8F3",
            "gridwidth": 2,
            "linecolor": "#EBF0F8",
            "showbackground": true,
            "ticks": "",
            "zerolinecolor": "#EBF0F8"
           },
           "zaxis": {
            "backgroundcolor": "white",
            "gridcolor": "#DFE8F3",
            "gridwidth": 2,
            "linecolor": "#EBF0F8",
            "showbackground": true,
            "ticks": "",
            "zerolinecolor": "#EBF0F8"
           }
          },
          "shapedefaults": {
           "line": {
            "color": "#2a3f5f"
           }
          },
          "ternary": {
           "aaxis": {
            "gridcolor": "#DFE8F3",
            "linecolor": "#A2B1C6",
            "ticks": ""
           },
           "baxis": {
            "gridcolor": "#DFE8F3",
            "linecolor": "#A2B1C6",
            "ticks": ""
           },
           "bgcolor": "white",
           "caxis": {
            "gridcolor": "#DFE8F3",
            "linecolor": "#A2B1C6",
            "ticks": ""
           }
          },
          "title": {
           "x": 0.05
          },
          "xaxis": {
           "automargin": true,
           "gridcolor": "#EBF0F8",
           "linecolor": "#EBF0F8",
           "ticks": "",
           "title": {
            "standoff": 15
           },
           "zerolinecolor": "#EBF0F8",
           "zerolinewidth": 2
          },
          "yaxis": {
           "automargin": true,
           "gridcolor": "#EBF0F8",
           "linecolor": "#EBF0F8",
           "ticks": "",
           "title": {
            "standoff": 15
           },
           "zerolinecolor": "#EBF0F8",
           "zerolinewidth": 2
          }
         }
        },
        "title": {
         "text": "Portfolio vs Benchmark Cumulative Returns"
        },
        "xaxis": {
         "title": {
          "text": "Date"
         }
        },
        "yaxis": {
         "tickformat": ".00%",
         "title": {
          "text": "Cumulative Return"
         }
        }
       }
      }
     },
     "metadata": {},
     "output_type": "display_data"
    },
    {
     "name": "stdout",
     "output_type": "stream",
     "text": [
      "Investment period starts at:  2024-01-03\n",
      "Investment period ends at:  2025-02-12\n",
      "Portfolio returns was:  12.35 %\n",
      "Benchmark was:  17.89 %\n",
      "Current weights are:  OrderedDict([('BND', 0.6649), ('GLD', 0.10605), ('HODL.PA', 0.01296), ('SPY', 0.21609)])\n"
     ]
    },
    {
     "data": {
      "application/vnd.plotly.v1+json": {
       "config": {
        "plotlyServerURL": "https://plot.ly"
       },
       "data": [
        {
         "hovertemplate": "Date: %{x}<br>Return: %{y:.1%}<extra></extra>",
         "line": {
          "color": "red",
          "width": 2
         },
         "marker": {
          "size": 6
         },
         "mode": "lines",
         "name": "Portfolio",
         "type": "scatter",
         "x": [
          "2024-01-03",
          "2024-01-04",
          "2024-01-05",
          "2024-01-08",
          "2024-01-09",
          "2024-01-10",
          "2024-01-11",
          "2024-01-12",
          "2024-01-16",
          "2024-01-17",
          "2024-01-18",
          "2024-01-19",
          "2024-01-22",
          "2024-01-23",
          "2024-01-24",
          "2024-01-25",
          "2024-01-26",
          "2024-01-29",
          "2024-01-30",
          "2024-01-31",
          "2024-02-01",
          "2024-02-02",
          "2024-02-05",
          "2024-02-06",
          "2024-02-07",
          "2024-02-08",
          "2024-02-09",
          "2024-02-12",
          "2024-02-13",
          "2024-02-14",
          "2024-02-15",
          "2024-02-16",
          "2024-02-20",
          "2024-02-21",
          "2024-02-22",
          "2024-02-23",
          "2024-02-26",
          "2024-02-27",
          "2024-02-28",
          "2024-02-29",
          "2024-03-01",
          "2024-03-04",
          "2024-03-05",
          "2024-03-06",
          "2024-03-07",
          "2024-03-08",
          "2024-03-11",
          "2024-03-12",
          "2024-03-13",
          "2024-03-14",
          "2024-03-15",
          "2024-03-18",
          "2024-03-19",
          "2024-03-20",
          "2024-03-21",
          "2024-03-22",
          "2024-03-25",
          "2024-03-26",
          "2024-03-27",
          "2024-03-28",
          "2024-04-02",
          "2024-04-03",
          "2024-04-04",
          "2024-04-05",
          "2024-04-08",
          "2024-04-09",
          "2024-04-10",
          "2024-04-11",
          "2024-04-12",
          "2024-04-15",
          "2024-04-16",
          "2024-04-17",
          "2024-04-18",
          "2024-04-19",
          "2024-04-22",
          "2024-04-23",
          "2024-04-24",
          "2024-04-25",
          "2024-04-26",
          "2024-04-29",
          "2024-04-30",
          "2024-05-02",
          "2024-05-03",
          "2024-05-06",
          "2024-05-07",
          "2024-05-08",
          "2024-05-09",
          "2024-05-10",
          "2024-05-13",
          "2024-05-14",
          "2024-05-15",
          "2024-05-16",
          "2024-05-17",
          "2024-05-20",
          "2024-05-21",
          "2024-05-22",
          "2024-05-23",
          "2024-05-24",
          "2024-05-28",
          "2024-05-29",
          "2024-05-30",
          "2024-05-31",
          "2024-06-03",
          "2024-06-04",
          "2024-06-05",
          "2024-06-06",
          "2024-06-07",
          "2024-06-10",
          "2024-06-11",
          "2024-06-12",
          "2024-06-13",
          "2024-06-14",
          "2024-06-17",
          "2024-06-18",
          "2024-06-20",
          "2024-06-21",
          "2024-06-24",
          "2024-06-25",
          "2024-06-26",
          "2024-06-27",
          "2024-06-28",
          "2024-07-01",
          "2024-07-02",
          "2024-07-03",
          "2024-07-05",
          "2024-07-08",
          "2024-07-09",
          "2024-07-10",
          "2024-07-11",
          "2024-07-12",
          "2024-07-15",
          "2024-07-16",
          "2024-07-17",
          "2024-07-18",
          "2024-07-19",
          "2024-07-22",
          "2024-07-23",
          "2024-07-24",
          "2024-07-25",
          "2024-07-26",
          "2024-07-29",
          "2024-07-30",
          "2024-07-31",
          "2024-08-01",
          "2024-08-02",
          "2024-08-05",
          "2024-08-06",
          "2024-08-07",
          "2024-08-08",
          "2024-08-09",
          "2024-08-12",
          "2024-08-13",
          "2024-08-14",
          "2024-08-15",
          "2024-08-16",
          "2024-08-19",
          "2024-08-20",
          "2024-08-21",
          "2024-08-22",
          "2024-08-23",
          "2024-08-26",
          "2024-08-27",
          "2024-08-28",
          "2024-08-29",
          "2024-08-30",
          "2024-09-03",
          "2024-09-04",
          "2024-09-05",
          "2024-09-06",
          "2024-09-09",
          "2024-09-10",
          "2024-09-11",
          "2024-09-12",
          "2024-09-13",
          "2024-09-16",
          "2024-09-17",
          "2024-09-18",
          "2024-09-19",
          "2024-09-20",
          "2024-09-23",
          "2024-09-24",
          "2024-09-25",
          "2024-09-26",
          "2024-09-27",
          "2024-09-30",
          "2024-10-01",
          "2024-10-02",
          "2024-10-03",
          "2024-10-04",
          "2024-10-07",
          "2024-10-08",
          "2024-10-09",
          "2024-10-10",
          "2024-10-11",
          "2024-10-14",
          "2024-10-15",
          "2024-10-16",
          "2024-10-17",
          "2024-10-18",
          "2024-10-21",
          "2024-10-22",
          "2024-10-23",
          "2024-10-24",
          "2024-10-25",
          "2024-10-28",
          "2024-10-29",
          "2024-10-30",
          "2024-10-31",
          "2024-11-01",
          "2024-11-04",
          "2024-11-05",
          "2024-11-06",
          "2024-11-07",
          "2024-11-08",
          "2024-11-11",
          "2024-11-12",
          "2024-11-13",
          "2024-11-14",
          "2024-11-15",
          "2024-11-18",
          "2024-11-19",
          "2024-11-20",
          "2024-11-21",
          "2024-11-22",
          "2024-11-25",
          "2024-11-26",
          "2024-11-27",
          "2024-11-29",
          "2024-12-02",
          "2024-12-03",
          "2024-12-04",
          "2024-12-05",
          "2024-12-06",
          "2024-12-09",
          "2024-12-10",
          "2024-12-11",
          "2024-12-12",
          "2024-12-13",
          "2024-12-16",
          "2024-12-17",
          "2024-12-18",
          "2024-12-19",
          "2024-12-20",
          "2024-12-23",
          "2024-12-24",
          "2024-12-27",
          "2024-12-30",
          "2024-12-31",
          "2025-01-02",
          "2025-01-03",
          "2025-01-06",
          "2025-01-07",
          "2025-01-08",
          "2025-01-10",
          "2025-01-13",
          "2025-01-14",
          "2025-01-15",
          "2025-01-16",
          "2025-01-17",
          "2025-01-21",
          "2025-01-22",
          "2025-01-23",
          "2025-01-24",
          "2025-01-27",
          "2025-01-28",
          "2025-01-29",
          "2025-01-30",
          "2025-01-31",
          "2025-02-03",
          "2025-02-04",
          "2025-02-05",
          "2025-02-06",
          "2025-02-07",
          "2025-02-10",
          "2025-02-11",
          "2025-02-12"
         ],
         "y": [
          0,
          -0.01,
          -0.01,
          0,
          0,
          0,
          0,
          0,
          0,
          -0.01,
          -0.01,
          0,
          0,
          0,
          -0.01,
          0,
          0,
          0,
          0.01,
          0,
          0.01,
          0.01,
          0,
          0.01,
          0.01,
          0,
          0.01,
          0.01,
          0,
          0,
          0,
          0,
          0,
          0,
          0.01,
          0.01,
          0.01,
          0.01,
          0.01,
          0.01,
          0.02,
          0.02,
          0.02,
          0.02,
          0.03,
          0.03,
          0.03,
          0.03,
          0.03,
          0.02,
          0.02,
          0.02,
          0.02,
          0.03,
          0.03,
          0.03,
          0.03,
          0.03,
          0.03,
          0.04,
          0.03,
          0.03,
          0.03,
          0.03,
          0.03,
          0.03,
          0.02,
          0.03,
          0.02,
          0.02,
          0.02,
          0.02,
          0.01,
          0.01,
          0.01,
          0.02,
          0.02,
          0.01,
          0.02,
          0.02,
          0.01,
          0.02,
          0.02,
          0.03,
          0.03,
          0.03,
          0.03,
          0.03,
          0.03,
          0.03,
          0.04,
          0.04,
          0.04,
          0.04,
          0.05,
          0.04,
          0.04,
          0.04,
          0.04,
          0.03,
          0.03,
          0.04,
          0.04,
          0.04,
          0.05,
          0.05,
          0.04,
          0.04,
          0.04,
          0.05,
          0.05,
          0.06,
          0.05,
          0.06,
          0.06,
          0.05,
          0.05,
          0.06,
          0.05,
          0.05,
          0.05,
          0.05,
          0.05,
          0.06,
          0.06,
          0.06,
          0.06,
          0.06,
          0.07,
          0.07,
          0.07,
          0.08,
          0.07,
          0.07,
          0.06,
          0.07,
          0.07,
          0.06,
          0.06,
          0.06,
          0.07,
          0.07,
          0.08,
          0.07,
          0.08,
          0.07,
          0.06,
          0.06,
          0.07,
          0.07,
          0.07,
          0.08,
          0.08,
          0.08,
          0.09,
          0.09,
          0.09,
          0.09,
          0.09,
          0.1,
          0.1,
          0.1,
          0.09,
          0.09,
          0.09,
          0.09,
          0.09,
          0.09,
          0.09,
          0.09,
          0.1,
          0.1,
          0.1,
          0.11,
          0.11,
          0.11,
          0.1,
          0.11,
          0.11,
          0.11,
          0.12,
          0.11,
          0.11,
          0.12,
          0.11,
          0.11,
          0.11,
          0.11,
          0.11,
          0.1,
          0.1,
          0.1,
          0.1,
          0.11,
          0.11,
          0.11,
          0.11,
          0.11,
          0.11,
          0.11,
          0.11,
          0.1,
          0.11,
          0.1,
          0.1,
          0.11,
          0.11,
          0.1,
          0.1,
          0.1,
          0.1,
          0.1,
          0.11,
          0.11,
          0.11,
          0.1,
          0.1,
          0.1,
          0.1,
          0.1,
          0.11,
          0.11,
          0.11,
          0.11,
          0.12,
          0.12,
          0.12,
          0.12,
          0.12,
          0.12,
          0.13,
          0.13,
          0.13,
          0.13,
          0.12,
          0.13,
          0.12,
          0.12,
          0.12,
          0.12,
          0.1,
          0.1,
          0.11,
          0.1,
          0.11,
          0.1,
          0.1,
          0.1,
          0.11,
          0.11,
          0.11,
          0.1,
          0.1,
          0.1,
          0.1,
          0.1,
          0.11,
          0.11,
          0.11,
          0.12,
          0.12,
          0.12,
          0.12,
          0.12,
          0.12,
          0.12,
          0.13,
          0.12,
          0.12,
          0.13,
          0.13,
          0.13,
          0.13,
          0.13,
          0.13,
          0.12
         ]
        },
        {
         "hovertemplate": "Date: %{x}<br>Return: %{y:.1%}<extra></extra>",
         "line": {
          "color": "blue",
          "width": 2
         },
         "marker": {
          "size": 6
         },
         "mode": "lines",
         "name": "Benchmark (60/40 SPY/BND)",
         "type": "scatter",
         "x": [
          "2024-01-03",
          "2024-01-04",
          "2024-01-05",
          "2024-01-08",
          "2024-01-09",
          "2024-01-10",
          "2024-01-11",
          "2024-01-12",
          "2024-01-16",
          "2024-01-17",
          "2024-01-18",
          "2024-01-19",
          "2024-01-22",
          "2024-01-23",
          "2024-01-24",
          "2024-01-25",
          "2024-01-26",
          "2024-01-29",
          "2024-01-30",
          "2024-01-31",
          "2024-02-01",
          "2024-02-02",
          "2024-02-05",
          "2024-02-06",
          "2024-02-07",
          "2024-02-08",
          "2024-02-09",
          "2024-02-12",
          "2024-02-13",
          "2024-02-14",
          "2024-02-15",
          "2024-02-16",
          "2024-02-20",
          "2024-02-21",
          "2024-02-22",
          "2024-02-23",
          "2024-02-26",
          "2024-02-27",
          "2024-02-28",
          "2024-02-29",
          "2024-03-01",
          "2024-03-04",
          "2024-03-05",
          "2024-03-06",
          "2024-03-07",
          "2024-03-08",
          "2024-03-11",
          "2024-03-12",
          "2024-03-13",
          "2024-03-14",
          "2024-03-15",
          "2024-03-18",
          "2024-03-19",
          "2024-03-20",
          "2024-03-21",
          "2024-03-22",
          "2024-03-25",
          "2024-03-26",
          "2024-03-27",
          "2024-03-28",
          "2024-04-02",
          "2024-04-03",
          "2024-04-04",
          "2024-04-05",
          "2024-04-08",
          "2024-04-09",
          "2024-04-10",
          "2024-04-11",
          "2024-04-12",
          "2024-04-15",
          "2024-04-16",
          "2024-04-17",
          "2024-04-18",
          "2024-04-19",
          "2024-04-22",
          "2024-04-23",
          "2024-04-24",
          "2024-04-25",
          "2024-04-26",
          "2024-04-29",
          "2024-04-30",
          "2024-05-02",
          "2024-05-03",
          "2024-05-06",
          "2024-05-07",
          "2024-05-08",
          "2024-05-09",
          "2024-05-10",
          "2024-05-13",
          "2024-05-14",
          "2024-05-15",
          "2024-05-16",
          "2024-05-17",
          "2024-05-20",
          "2024-05-21",
          "2024-05-22",
          "2024-05-23",
          "2024-05-24",
          "2024-05-28",
          "2024-05-29",
          "2024-05-30",
          "2024-05-31",
          "2024-06-03",
          "2024-06-04",
          "2024-06-05",
          "2024-06-06",
          "2024-06-07",
          "2024-06-10",
          "2024-06-11",
          "2024-06-12",
          "2024-06-13",
          "2024-06-14",
          "2024-06-17",
          "2024-06-18",
          "2024-06-20",
          "2024-06-21",
          "2024-06-24",
          "2024-06-25",
          "2024-06-26",
          "2024-06-27",
          "2024-06-28",
          "2024-07-01",
          "2024-07-02",
          "2024-07-03",
          "2024-07-05",
          "2024-07-08",
          "2024-07-09",
          "2024-07-10",
          "2024-07-11",
          "2024-07-12",
          "2024-07-15",
          "2024-07-16",
          "2024-07-17",
          "2024-07-18",
          "2024-07-19",
          "2024-07-22",
          "2024-07-23",
          "2024-07-24",
          "2024-07-25",
          "2024-07-26",
          "2024-07-29",
          "2024-07-30",
          "2024-07-31",
          "2024-08-01",
          "2024-08-02",
          "2024-08-05",
          "2024-08-06",
          "2024-08-07",
          "2024-08-08",
          "2024-08-09",
          "2024-08-12",
          "2024-08-13",
          "2024-08-14",
          "2024-08-15",
          "2024-08-16",
          "2024-08-19",
          "2024-08-20",
          "2024-08-21",
          "2024-08-22",
          "2024-08-23",
          "2024-08-26",
          "2024-08-27",
          "2024-08-28",
          "2024-08-29",
          "2024-08-30",
          "2024-09-03",
          "2024-09-04",
          "2024-09-05",
          "2024-09-06",
          "2024-09-09",
          "2024-09-10",
          "2024-09-11",
          "2024-09-12",
          "2024-09-13",
          "2024-09-16",
          "2024-09-17",
          "2024-09-18",
          "2024-09-19",
          "2024-09-20",
          "2024-09-23",
          "2024-09-24",
          "2024-09-25",
          "2024-09-26",
          "2024-09-27",
          "2024-09-30",
          "2024-10-01",
          "2024-10-02",
          "2024-10-03",
          "2024-10-04",
          "2024-10-07",
          "2024-10-08",
          "2024-10-09",
          "2024-10-10",
          "2024-10-11",
          "2024-10-14",
          "2024-10-15",
          "2024-10-16",
          "2024-10-17",
          "2024-10-18",
          "2024-10-21",
          "2024-10-22",
          "2024-10-23",
          "2024-10-24",
          "2024-10-25",
          "2024-10-28",
          "2024-10-29",
          "2024-10-30",
          "2024-10-31",
          "2024-11-01",
          "2024-11-04",
          "2024-11-05",
          "2024-11-06",
          "2024-11-07",
          "2024-11-08",
          "2024-11-11",
          "2024-11-12",
          "2024-11-13",
          "2024-11-14",
          "2024-11-15",
          "2024-11-18",
          "2024-11-19",
          "2024-11-20",
          "2024-11-21",
          "2024-11-22",
          "2024-11-25",
          "2024-11-26",
          "2024-11-27",
          "2024-11-29",
          "2024-12-02",
          "2024-12-03",
          "2024-12-04",
          "2024-12-05",
          "2024-12-06",
          "2024-12-09",
          "2024-12-10",
          "2024-12-11",
          "2024-12-12",
          "2024-12-13",
          "2024-12-16",
          "2024-12-17",
          "2024-12-18",
          "2024-12-19",
          "2024-12-20",
          "2024-12-23",
          "2024-12-24",
          "2024-12-27",
          "2024-12-30",
          "2024-12-31",
          "2025-01-02",
          "2025-01-03",
          "2025-01-06",
          "2025-01-07",
          "2025-01-08",
          "2025-01-10",
          "2025-01-13",
          "2025-01-14",
          "2025-01-15",
          "2025-01-16",
          "2025-01-17",
          "2025-01-21",
          "2025-01-22",
          "2025-01-23",
          "2025-01-24",
          "2025-01-27",
          "2025-01-28",
          "2025-01-29",
          "2025-01-30",
          "2025-01-31",
          "2025-02-03",
          "2025-02-04",
          "2025-02-05",
          "2025-02-06",
          "2025-02-07",
          "2025-02-10",
          "2025-02-11",
          "2025-02-12"
         ],
         "y": [
          0,
          -0.01,
          -0.01,
          0,
          0,
          0,
          0.01,
          0.01,
          0,
          0,
          0,
          0.01,
          0.01,
          0.01,
          0.01,
          0.02,
          0.02,
          0.02,
          0.02,
          0.01,
          0.02,
          0.03,
          0.02,
          0.03,
          0.03,
          0.03,
          0.03,
          0.03,
          0.02,
          0.03,
          0.03,
          0.03,
          0.03,
          0.02,
          0.04,
          0.04,
          0.04,
          0.04,
          0.04,
          0.04,
          0.05,
          0.05,
          0.04,
          0.05,
          0.05,
          0.05,
          0.05,
          0.05,
          0.05,
          0.05,
          0.04,
          0.05,
          0.05,
          0.06,
          0.06,
          0.06,
          0.06,
          0.06,
          0.06,
          0.06,
          0.06,
          0.06,
          0.05,
          0.05,
          0.05,
          0.06,
          0.04,
          0.05,
          0.04,
          0.03,
          0.03,
          0.03,
          0.03,
          0.02,
          0.03,
          0.03,
          0.03,
          0.03,
          0.04,
          0.04,
          0.03,
          0.03,
          0.04,
          0.05,
          0.05,
          0.05,
          0.06,
          0.06,
          0.06,
          0.06,
          0.07,
          0.07,
          0.07,
          0.07,
          0.07,
          0.07,
          0.06,
          0.07,
          0.07,
          0.06,
          0.06,
          0.07,
          0.07,
          0.07,
          0.08,
          0.08,
          0.08,
          0.08,
          0.08,
          0.09,
          0.09,
          0.09,
          0.1,
          0.1,
          0.1,
          0.1,
          0.09,
          0.1,
          0.1,
          0.1,
          0.09,
          0.09,
          0.1,
          0.1,
          0.11,
          0.11,
          0.11,
          0.12,
          0.11,
          0.12,
          0.12,
          0.12,
          0.12,
          0.11,
          0.1,
          0.11,
          0.11,
          0.09,
          0.09,
          0.1,
          0.1,
          0.1,
          0.11,
          0.1,
          0.1,
          0.08,
          0.08,
          0.07,
          0.09,
          0.09,
          0.09,
          0.11,
          0.11,
          0.12,
          0.12,
          0.13,
          0.13,
          0.13,
          0.12,
          0.13,
          0.13,
          0.13,
          0.13,
          0.13,
          0.13,
          0.12,
          0.12,
          0.12,
          0.11,
          0.12,
          0.12,
          0.13,
          0.13,
          0.14,
          0.14,
          0.14,
          0.14,
          0.15,
          0.15,
          0.15,
          0.15,
          0.15,
          0.15,
          0.15,
          0.15,
          0.15,
          0.15,
          0.15,
          0.15,
          0.14,
          0.15,
          0.15,
          0.15,
          0.15,
          0.16,
          0.16,
          0.16,
          0.16,
          0.16,
          0.16,
          0.16,
          0.15,
          0.15,
          0.15,
          0.15,
          0.15,
          0.15,
          0.14,
          0.14,
          0.14,
          0.15,
          0.16,
          0.17,
          0.17,
          0.17,
          0.17,
          0.17,
          0.16,
          0.15,
          0.16,
          0.16,
          0.16,
          0.16,
          0.17,
          0.17,
          0.18,
          0.18,
          0.18,
          0.18,
          0.18,
          0.19,
          0.19,
          0.19,
          0.19,
          0.18,
          0.19,
          0.18,
          0.18,
          0.18,
          0.18,
          0.16,
          0.15,
          0.16,
          0.17,
          0.17,
          0.17,
          0.16,
          0.16,
          0.16,
          0.16,
          0.17,
          0.16,
          0.16,
          0.15,
          0.15,
          0.15,
          0.16,
          0.16,
          0.17,
          0.18,
          0.18,
          0.18,
          0.18,
          0.18,
          0.18,
          0.18,
          0.18,
          0.18,
          0.17,
          0.18,
          0.18,
          0.19,
          0.18,
          0.18,
          0.18,
          0.18
         ]
        }
       ],
       "layout": {
        "annotations": [
         {
          "align": "center",
          "arrowcolor": "red",
          "arrowhead": 2,
          "ax": 0,
          "ay": 60,
          "bgcolor": "rgba(255, 0, 0, 0.7)",
          "bordercolor": "red",
          "captureevents": true,
          "font": {
           "color": "white",
           "size": 12
          },
          "opacity": 1,
          "showarrow": true,
          "text": "<b>-0.0%</b>",
          "x": "2024-01-03",
          "y": 0
         },
         {
          "align": "center",
          "arrowcolor": "red",
          "arrowhead": 2,
          "ax": 0,
          "ay": 60,
          "bgcolor": "rgba(255, 0, 0, 0.7)",
          "bordercolor": "red",
          "captureevents": true,
          "font": {
           "color": "white",
           "size": 12
          },
          "opacity": 1,
          "showarrow": true,
          "text": "<b>1.0%</b>",
          "x": "2024-02-29",
          "y": 0.01
         },
         {
          "align": "center",
          "arrowcolor": "red",
          "arrowhead": 2,
          "ax": 0,
          "ay": 60,
          "bgcolor": "rgba(255, 0, 0, 0.7)",
          "bordercolor": "red",
          "captureevents": true,
          "font": {
           "color": "white",
           "size": 12
          },
          "opacity": 1,
          "showarrow": true,
          "text": "<b>2.0%</b>",
          "x": "2024-04-26",
          "y": 0.02
         },
         {
          "align": "center",
          "arrowcolor": "red",
          "arrowhead": 2,
          "ax": 0,
          "ay": 60,
          "bgcolor": "rgba(255, 0, 0, 0.7)",
          "bordercolor": "red",
          "captureevents": true,
          "font": {
           "color": "white",
           "size": 12
          },
          "opacity": 1,
          "showarrow": true,
          "text": "<b>6.0%</b>",
          "x": "2024-06-25",
          "y": 0.06
         },
         {
          "align": "center",
          "arrowcolor": "red",
          "arrowhead": 2,
          "ax": 0,
          "ay": 60,
          "bgcolor": "rgba(255, 0, 0, 0.7)",
          "bordercolor": "red",
          "captureevents": true,
          "font": {
           "color": "white",
           "size": 12
          },
          "opacity": 1,
          "showarrow": true,
          "text": "<b>9.0%</b>",
          "x": "2024-08-20",
          "y": 0.09
         },
         {
          "align": "center",
          "arrowcolor": "red",
          "arrowhead": 2,
          "ax": 0,
          "ay": 60,
          "bgcolor": "rgba(255, 0, 0, 0.7)",
          "bordercolor": "red",
          "captureevents": true,
          "font": {
           "color": "white",
           "size": 12
          },
          "opacity": 1,
          "showarrow": true,
          "text": "<b>11.0%</b>",
          "x": "2024-10-15",
          "y": 0.11
         },
         {
          "align": "center",
          "arrowcolor": "red",
          "arrowhead": 2,
          "ax": 0,
          "ay": 60,
          "bgcolor": "rgba(255, 0, 0, 0.7)",
          "bordercolor": "red",
          "captureevents": true,
          "font": {
           "color": "white",
           "size": 12
          },
          "opacity": 1,
          "showarrow": true,
          "text": "<b>12.0%</b>",
          "x": "2024-12-10",
          "y": 0.12
         },
         {
          "align": "center",
          "arrowcolor": "red",
          "arrowhead": 2,
          "ax": 0,
          "ay": 60,
          "bgcolor": "rgba(255, 0, 0, 0.7)",
          "bordercolor": "red",
          "captureevents": true,
          "font": {
           "color": "white",
           "size": 12
          },
          "opacity": 1,
          "showarrow": true,
          "text": "<b>13.0%</b>",
          "x": "2025-02-10",
          "y": 0.13
         },
         {
          "align": "center",
          "arrowcolor": "blue",
          "arrowhead": 2,
          "ax": 0,
          "ay": -60,
          "bgcolor": "rgba(0, 0, 255, 0.7)",
          "bordercolor": "blue",
          "captureevents": true,
          "font": {
           "color": "white",
           "size": 12
          },
          "opacity": 1,
          "showarrow": true,
          "text": "<b>-0.0%</b>",
          "x": "2024-01-03",
          "y": 0
         },
         {
          "align": "center",
          "arrowcolor": "blue",
          "arrowhead": 2,
          "ax": 0,
          "ay": -60,
          "bgcolor": "rgba(0, 0, 255, 0.7)",
          "bordercolor": "blue",
          "captureevents": true,
          "font": {
           "color": "white",
           "size": 12
          },
          "opacity": 1,
          "showarrow": true,
          "text": "<b>4.0%</b>",
          "x": "2024-02-29",
          "y": 0.04
         },
         {
          "align": "center",
          "arrowcolor": "blue",
          "arrowhead": 2,
          "ax": 0,
          "ay": -60,
          "bgcolor": "rgba(0, 0, 255, 0.7)",
          "bordercolor": "blue",
          "captureevents": true,
          "font": {
           "color": "white",
           "size": 12
          },
          "opacity": 1,
          "showarrow": true,
          "text": "<b>4.0%</b>",
          "x": "2024-04-26",
          "y": 0.04
         },
         {
          "align": "center",
          "arrowcolor": "blue",
          "arrowhead": 2,
          "ax": 0,
          "ay": -60,
          "bgcolor": "rgba(0, 0, 255, 0.7)",
          "bordercolor": "blue",
          "captureevents": true,
          "font": {
           "color": "white",
           "size": 12
          },
          "opacity": 1,
          "showarrow": true,
          "text": "<b>10.0%</b>",
          "x": "2024-06-25",
          "y": 0.1
         },
         {
          "align": "center",
          "arrowcolor": "blue",
          "arrowhead": 2,
          "ax": 0,
          "ay": -60,
          "bgcolor": "rgba(0, 0, 255, 0.7)",
          "bordercolor": "blue",
          "captureevents": true,
          "font": {
           "color": "white",
           "size": 12
          },
          "opacity": 1,
          "showarrow": true,
          "text": "<b>13.0%</b>",
          "x": "2024-08-20",
          "y": 0.13
         },
         {
          "align": "center",
          "arrowcolor": "blue",
          "arrowhead": 2,
          "ax": 0,
          "ay": -60,
          "bgcolor": "rgba(0, 0, 255, 0.7)",
          "bordercolor": "blue",
          "captureevents": true,
          "font": {
           "color": "white",
           "size": 12
          },
          "opacity": 1,
          "showarrow": true,
          "text": "<b>16.0%</b>",
          "x": "2024-10-15",
          "y": 0.16
         },
         {
          "align": "center",
          "arrowcolor": "blue",
          "arrowhead": 2,
          "ax": 0,
          "ay": -60,
          "bgcolor": "rgba(0, 0, 255, 0.7)",
          "bordercolor": "blue",
          "captureevents": true,
          "font": {
           "color": "white",
           "size": 12
          },
          "opacity": 1,
          "showarrow": true,
          "text": "<b>18.0%</b>",
          "x": "2024-12-10",
          "y": 0.18
         },
         {
          "align": "center",
          "arrowcolor": "blue",
          "arrowhead": 2,
          "ax": 0,
          "ay": -60,
          "bgcolor": "rgba(0, 0, 255, 0.7)",
          "bordercolor": "blue",
          "captureevents": true,
          "font": {
           "color": "white",
           "size": 12
          },
          "opacity": 1,
          "showarrow": true,
          "text": "<b>18.0%</b>",
          "x": "2025-02-10",
          "y": 0.18
         }
        ],
        "height": 700,
        "legend": {
         "x": 0.01,
         "y": 0.99
        },
        "template": {
         "data": {
          "bar": [
           {
            "error_x": {
             "color": "#2a3f5f"
            },
            "error_y": {
             "color": "#2a3f5f"
            },
            "marker": {
             "line": {
              "color": "white",
              "width": 0.5
             },
             "pattern": {
              "fillmode": "overlay",
              "size": 10,
              "solidity": 0.2
             }
            },
            "type": "bar"
           }
          ],
          "barpolar": [
           {
            "marker": {
             "line": {
              "color": "white",
              "width": 0.5
             },
             "pattern": {
              "fillmode": "overlay",
              "size": 10,
              "solidity": 0.2
             }
            },
            "type": "barpolar"
           }
          ],
          "carpet": [
           {
            "aaxis": {
             "endlinecolor": "#2a3f5f",
             "gridcolor": "#C8D4E3",
             "linecolor": "#C8D4E3",
             "minorgridcolor": "#C8D4E3",
             "startlinecolor": "#2a3f5f"
            },
            "baxis": {
             "endlinecolor": "#2a3f5f",
             "gridcolor": "#C8D4E3",
             "linecolor": "#C8D4E3",
             "minorgridcolor": "#C8D4E3",
             "startlinecolor": "#2a3f5f"
            },
            "type": "carpet"
           }
          ],
          "choropleth": [
           {
            "colorbar": {
             "outlinewidth": 0,
             "ticks": ""
            },
            "type": "choropleth"
           }
          ],
          "contour": [
           {
            "colorbar": {
             "outlinewidth": 0,
             "ticks": ""
            },
            "colorscale": [
             [
              0,
              "#0d0887"
             ],
             [
              0.1111111111111111,
              "#46039f"
             ],
             [
              0.2222222222222222,
              "#7201a8"
             ],
             [
              0.3333333333333333,
              "#9c179e"
             ],
             [
              0.4444444444444444,
              "#bd3786"
             ],
             [
              0.5555555555555556,
              "#d8576b"
             ],
             [
              0.6666666666666666,
              "#ed7953"
             ],
             [
              0.7777777777777778,
              "#fb9f3a"
             ],
             [
              0.8888888888888888,
              "#fdca26"
             ],
             [
              1,
              "#f0f921"
             ]
            ],
            "type": "contour"
           }
          ],
          "contourcarpet": [
           {
            "colorbar": {
             "outlinewidth": 0,
             "ticks": ""
            },
            "type": "contourcarpet"
           }
          ],
          "heatmap": [
           {
            "colorbar": {
             "outlinewidth": 0,
             "ticks": ""
            },
            "colorscale": [
             [
              0,
              "#0d0887"
             ],
             [
              0.1111111111111111,
              "#46039f"
             ],
             [
              0.2222222222222222,
              "#7201a8"
             ],
             [
              0.3333333333333333,
              "#9c179e"
             ],
             [
              0.4444444444444444,
              "#bd3786"
             ],
             [
              0.5555555555555556,
              "#d8576b"
             ],
             [
              0.6666666666666666,
              "#ed7953"
             ],
             [
              0.7777777777777778,
              "#fb9f3a"
             ],
             [
              0.8888888888888888,
              "#fdca26"
             ],
             [
              1,
              "#f0f921"
             ]
            ],
            "type": "heatmap"
           }
          ],
          "heatmapgl": [
           {
            "colorbar": {
             "outlinewidth": 0,
             "ticks": ""
            },
            "colorscale": [
             [
              0,
              "#0d0887"
             ],
             [
              0.1111111111111111,
              "#46039f"
             ],
             [
              0.2222222222222222,
              "#7201a8"
             ],
             [
              0.3333333333333333,
              "#9c179e"
             ],
             [
              0.4444444444444444,
              "#bd3786"
             ],
             [
              0.5555555555555556,
              "#d8576b"
             ],
             [
              0.6666666666666666,
              "#ed7953"
             ],
             [
              0.7777777777777778,
              "#fb9f3a"
             ],
             [
              0.8888888888888888,
              "#fdca26"
             ],
             [
              1,
              "#f0f921"
             ]
            ],
            "type": "heatmapgl"
           }
          ],
          "histogram": [
           {
            "marker": {
             "pattern": {
              "fillmode": "overlay",
              "size": 10,
              "solidity": 0.2
             }
            },
            "type": "histogram"
           }
          ],
          "histogram2d": [
           {
            "colorbar": {
             "outlinewidth": 0,
             "ticks": ""
            },
            "colorscale": [
             [
              0,
              "#0d0887"
             ],
             [
              0.1111111111111111,
              "#46039f"
             ],
             [
              0.2222222222222222,
              "#7201a8"
             ],
             [
              0.3333333333333333,
              "#9c179e"
             ],
             [
              0.4444444444444444,
              "#bd3786"
             ],
             [
              0.5555555555555556,
              "#d8576b"
             ],
             [
              0.6666666666666666,
              "#ed7953"
             ],
             [
              0.7777777777777778,
              "#fb9f3a"
             ],
             [
              0.8888888888888888,
              "#fdca26"
             ],
             [
              1,
              "#f0f921"
             ]
            ],
            "type": "histogram2d"
           }
          ],
          "histogram2dcontour": [
           {
            "colorbar": {
             "outlinewidth": 0,
             "ticks": ""
            },
            "colorscale": [
             [
              0,
              "#0d0887"
             ],
             [
              0.1111111111111111,
              "#46039f"
             ],
             [
              0.2222222222222222,
              "#7201a8"
             ],
             [
              0.3333333333333333,
              "#9c179e"
             ],
             [
              0.4444444444444444,
              "#bd3786"
             ],
             [
              0.5555555555555556,
              "#d8576b"
             ],
             [
              0.6666666666666666,
              "#ed7953"
             ],
             [
              0.7777777777777778,
              "#fb9f3a"
             ],
             [
              0.8888888888888888,
              "#fdca26"
             ],
             [
              1,
              "#f0f921"
             ]
            ],
            "type": "histogram2dcontour"
           }
          ],
          "mesh3d": [
           {
            "colorbar": {
             "outlinewidth": 0,
             "ticks": ""
            },
            "type": "mesh3d"
           }
          ],
          "parcoords": [
           {
            "line": {
             "colorbar": {
              "outlinewidth": 0,
              "ticks": ""
             }
            },
            "type": "parcoords"
           }
          ],
          "pie": [
           {
            "automargin": true,
            "type": "pie"
           }
          ],
          "scatter": [
           {
            "fillpattern": {
             "fillmode": "overlay",
             "size": 10,
             "solidity": 0.2
            },
            "type": "scatter"
           }
          ],
          "scatter3d": [
           {
            "line": {
             "colorbar": {
              "outlinewidth": 0,
              "ticks": ""
             }
            },
            "marker": {
             "colorbar": {
              "outlinewidth": 0,
              "ticks": ""
             }
            },
            "type": "scatter3d"
           }
          ],
          "scattercarpet": [
           {
            "marker": {
             "colorbar": {
              "outlinewidth": 0,
              "ticks": ""
             }
            },
            "type": "scattercarpet"
           }
          ],
          "scattergeo": [
           {
            "marker": {
             "colorbar": {
              "outlinewidth": 0,
              "ticks": ""
             }
            },
            "type": "scattergeo"
           }
          ],
          "scattergl": [
           {
            "marker": {
             "colorbar": {
              "outlinewidth": 0,
              "ticks": ""
             }
            },
            "type": "scattergl"
           }
          ],
          "scattermapbox": [
           {
            "marker": {
             "colorbar": {
              "outlinewidth": 0,
              "ticks": ""
             }
            },
            "type": "scattermapbox"
           }
          ],
          "scatterpolar": [
           {
            "marker": {
             "colorbar": {
              "outlinewidth": 0,
              "ticks": ""
             }
            },
            "type": "scatterpolar"
           }
          ],
          "scatterpolargl": [
           {
            "marker": {
             "colorbar": {
              "outlinewidth": 0,
              "ticks": ""
             }
            },
            "type": "scatterpolargl"
           }
          ],
          "scatterternary": [
           {
            "marker": {
             "colorbar": {
              "outlinewidth": 0,
              "ticks": ""
             }
            },
            "type": "scatterternary"
           }
          ],
          "surface": [
           {
            "colorbar": {
             "outlinewidth": 0,
             "ticks": ""
            },
            "colorscale": [
             [
              0,
              "#0d0887"
             ],
             [
              0.1111111111111111,
              "#46039f"
             ],
             [
              0.2222222222222222,
              "#7201a8"
             ],
             [
              0.3333333333333333,
              "#9c179e"
             ],
             [
              0.4444444444444444,
              "#bd3786"
             ],
             [
              0.5555555555555556,
              "#d8576b"
             ],
             [
              0.6666666666666666,
              "#ed7953"
             ],
             [
              0.7777777777777778,
              "#fb9f3a"
             ],
             [
              0.8888888888888888,
              "#fdca26"
             ],
             [
              1,
              "#f0f921"
             ]
            ],
            "type": "surface"
           }
          ],
          "table": [
           {
            "cells": {
             "fill": {
              "color": "#EBF0F8"
             },
             "line": {
              "color": "white"
             }
            },
            "header": {
             "fill": {
              "color": "#C8D4E3"
             },
             "line": {
              "color": "white"
             }
            },
            "type": "table"
           }
          ]
         },
         "layout": {
          "annotationdefaults": {
           "arrowcolor": "#2a3f5f",
           "arrowhead": 0,
           "arrowwidth": 1
          },
          "autotypenumbers": "strict",
          "coloraxis": {
           "colorbar": {
            "outlinewidth": 0,
            "ticks": ""
           }
          },
          "colorscale": {
           "diverging": [
            [
             0,
             "#8e0152"
            ],
            [
             0.1,
             "#c51b7d"
            ],
            [
             0.2,
             "#de77ae"
            ],
            [
             0.3,
             "#f1b6da"
            ],
            [
             0.4,
             "#fde0ef"
            ],
            [
             0.5,
             "#f7f7f7"
            ],
            [
             0.6,
             "#e6f5d0"
            ],
            [
             0.7,
             "#b8e186"
            ],
            [
             0.8,
             "#7fbc41"
            ],
            [
             0.9,
             "#4d9221"
            ],
            [
             1,
             "#276419"
            ]
           ],
           "sequential": [
            [
             0,
             "#0d0887"
            ],
            [
             0.1111111111111111,
             "#46039f"
            ],
            [
             0.2222222222222222,
             "#7201a8"
            ],
            [
             0.3333333333333333,
             "#9c179e"
            ],
            [
             0.4444444444444444,
             "#bd3786"
            ],
            [
             0.5555555555555556,
             "#d8576b"
            ],
            [
             0.6666666666666666,
             "#ed7953"
            ],
            [
             0.7777777777777778,
             "#fb9f3a"
            ],
            [
             0.8888888888888888,
             "#fdca26"
            ],
            [
             1,
             "#f0f921"
            ]
           ],
           "sequentialminus": [
            [
             0,
             "#0d0887"
            ],
            [
             0.1111111111111111,
             "#46039f"
            ],
            [
             0.2222222222222222,
             "#7201a8"
            ],
            [
             0.3333333333333333,
             "#9c179e"
            ],
            [
             0.4444444444444444,
             "#bd3786"
            ],
            [
             0.5555555555555556,
             "#d8576b"
            ],
            [
             0.6666666666666666,
             "#ed7953"
            ],
            [
             0.7777777777777778,
             "#fb9f3a"
            ],
            [
             0.8888888888888888,
             "#fdca26"
            ],
            [
             1,
             "#f0f921"
            ]
           ]
          },
          "colorway": [
           "#636efa",
           "#EF553B",
           "#00cc96",
           "#ab63fa",
           "#FFA15A",
           "#19d3f3",
           "#FF6692",
           "#B6E880",
           "#FF97FF",
           "#FECB52"
          ],
          "font": {
           "color": "#2a3f5f"
          },
          "geo": {
           "bgcolor": "white",
           "lakecolor": "white",
           "landcolor": "white",
           "showlakes": true,
           "showland": true,
           "subunitcolor": "#C8D4E3"
          },
          "hoverlabel": {
           "align": "left"
          },
          "hovermode": "closest",
          "mapbox": {
           "style": "light"
          },
          "paper_bgcolor": "white",
          "plot_bgcolor": "white",
          "polar": {
           "angularaxis": {
            "gridcolor": "#EBF0F8",
            "linecolor": "#EBF0F8",
            "ticks": ""
           },
           "bgcolor": "white",
           "radialaxis": {
            "gridcolor": "#EBF0F8",
            "linecolor": "#EBF0F8",
            "ticks": ""
           }
          },
          "scene": {
           "xaxis": {
            "backgroundcolor": "white",
            "gridcolor": "#DFE8F3",
            "gridwidth": 2,
            "linecolor": "#EBF0F8",
            "showbackground": true,
            "ticks": "",
            "zerolinecolor": "#EBF0F8"
           },
           "yaxis": {
            "backgroundcolor": "white",
            "gridcolor": "#DFE8F3",
            "gridwidth": 2,
            "linecolor": "#EBF0F8",
            "showbackground": true,
            "ticks": "",
            "zerolinecolor": "#EBF0F8"
           },
           "zaxis": {
            "backgroundcolor": "white",
            "gridcolor": "#DFE8F3",
            "gridwidth": 2,
            "linecolor": "#EBF0F8",
            "showbackground": true,
            "ticks": "",
            "zerolinecolor": "#EBF0F8"
           }
          },
          "shapedefaults": {
           "line": {
            "color": "#2a3f5f"
           }
          },
          "ternary": {
           "aaxis": {
            "gridcolor": "#DFE8F3",
            "linecolor": "#A2B1C6",
            "ticks": ""
           },
           "baxis": {
            "gridcolor": "#DFE8F3",
            "linecolor": "#A2B1C6",
            "ticks": ""
           },
           "bgcolor": "white",
           "caxis": {
            "gridcolor": "#DFE8F3",
            "linecolor": "#A2B1C6",
            "ticks": ""
           }
          },
          "title": {
           "x": 0.05
          },
          "xaxis": {
           "automargin": true,
           "gridcolor": "#EBF0F8",
           "linecolor": "#EBF0F8",
           "ticks": "",
           "title": {
            "standoff": 15
           },
           "zerolinecolor": "#EBF0F8",
           "zerolinewidth": 2
          },
          "yaxis": {
           "automargin": true,
           "gridcolor": "#EBF0F8",
           "linecolor": "#EBF0F8",
           "ticks": "",
           "title": {
            "standoff": 15
           },
           "zerolinecolor": "#EBF0F8",
           "zerolinewidth": 2
          }
         }
        },
        "title": {
         "text": "Portfolio vs Benchmark Cumulative Returns"
        },
        "xaxis": {
         "title": {
          "text": "Date"
         }
        },
        "yaxis": {
         "tickformat": ".00%",
         "title": {
          "text": "Cumulative Return"
         }
        }
       }
      }
     },
     "metadata": {},
     "output_type": "display_data"
    },
    {
     "name": "stdout",
     "output_type": "stream",
     "text": [
      "Investment period starts at:  2024-02-22\n",
      "Investment period ends at:  2025-02-12\n",
      "Portfolio returns was:  12.28 %\n",
      "Benchmark was:  15.06 %\n",
      "Current weights are:  OrderedDict([('BND', 0.6649), ('GLD', 0.10605), ('HODL.PA', 0.01296), ('SPY', 0.21609)])\n"
     ]
    },
    {
     "data": {
      "application/vnd.plotly.v1+json": {
       "config": {
        "plotlyServerURL": "https://plot.ly"
       },
       "data": [
        {
         "hovertemplate": "Date: %{x}<br>Return: %{y:.1%}<extra></extra>",
         "line": {
          "color": "red",
          "width": 2
         },
         "marker": {
          "size": 6
         },
         "mode": "lines",
         "name": "Portfolio",
         "type": "scatter",
         "x": [
          "2024-02-22",
          "2024-02-23",
          "2024-02-26",
          "2024-02-27",
          "2024-02-28",
          "2024-02-29",
          "2024-03-01",
          "2024-03-04",
          "2024-03-05",
          "2024-03-06",
          "2024-03-07",
          "2024-03-08",
          "2024-03-11",
          "2024-03-12",
          "2024-03-13",
          "2024-03-14",
          "2024-03-15",
          "2024-03-18",
          "2024-03-19",
          "2024-03-20",
          "2024-03-21",
          "2024-03-22",
          "2024-03-25",
          "2024-03-26",
          "2024-03-27",
          "2024-03-28",
          "2024-04-02",
          "2024-04-03",
          "2024-04-04",
          "2024-04-05",
          "2024-04-08",
          "2024-04-09",
          "2024-04-10",
          "2024-04-11",
          "2024-04-12",
          "2024-04-15",
          "2024-04-16",
          "2024-04-17",
          "2024-04-18",
          "2024-04-19",
          "2024-04-22",
          "2024-04-23",
          "2024-04-24",
          "2024-04-25",
          "2024-04-26",
          "2024-04-29",
          "2024-04-30",
          "2024-05-02",
          "2024-05-03",
          "2024-05-06",
          "2024-05-07",
          "2024-05-08",
          "2024-05-09",
          "2024-05-10",
          "2024-05-13",
          "2024-05-14",
          "2024-05-15",
          "2024-05-16",
          "2024-05-17",
          "2024-05-20",
          "2024-05-21",
          "2024-05-22",
          "2024-05-23",
          "2024-05-24",
          "2024-05-28",
          "2024-05-29",
          "2024-05-30",
          "2024-05-31",
          "2024-06-03",
          "2024-06-04",
          "2024-06-05",
          "2024-06-06",
          "2024-06-07",
          "2024-06-10",
          "2024-06-11",
          "2024-06-12",
          "2024-06-13",
          "2024-06-14",
          "2024-06-17",
          "2024-06-18",
          "2024-06-20",
          "2024-06-21",
          "2024-06-24",
          "2024-06-25",
          "2024-06-26",
          "2024-06-27",
          "2024-06-28",
          "2024-07-01",
          "2024-07-02",
          "2024-07-03",
          "2024-07-05",
          "2024-07-08",
          "2024-07-09",
          "2024-07-10",
          "2024-07-11",
          "2024-07-12",
          "2024-07-15",
          "2024-07-16",
          "2024-07-17",
          "2024-07-18",
          "2024-07-19",
          "2024-07-22",
          "2024-07-23",
          "2024-07-24",
          "2024-07-25",
          "2024-07-26",
          "2024-07-29",
          "2024-07-30",
          "2024-07-31",
          "2024-08-01",
          "2024-08-02",
          "2024-08-05",
          "2024-08-06",
          "2024-08-07",
          "2024-08-08",
          "2024-08-09",
          "2024-08-12",
          "2024-08-13",
          "2024-08-14",
          "2024-08-15",
          "2024-08-16",
          "2024-08-19",
          "2024-08-20",
          "2024-08-21",
          "2024-08-22",
          "2024-08-23",
          "2024-08-26",
          "2024-08-27",
          "2024-08-28",
          "2024-08-29",
          "2024-08-30",
          "2024-09-03",
          "2024-09-04",
          "2024-09-05",
          "2024-09-06",
          "2024-09-09",
          "2024-09-10",
          "2024-09-11",
          "2024-09-12",
          "2024-09-13",
          "2024-09-16",
          "2024-09-17",
          "2024-09-18",
          "2024-09-19",
          "2024-09-20",
          "2024-09-23",
          "2024-09-24",
          "2024-09-25",
          "2024-09-26",
          "2024-09-27",
          "2024-09-30",
          "2024-10-01",
          "2024-10-02",
          "2024-10-03",
          "2024-10-04",
          "2024-10-07",
          "2024-10-08",
          "2024-10-09",
          "2024-10-10",
          "2024-10-11",
          "2024-10-14",
          "2024-10-15",
          "2024-10-16",
          "2024-10-17",
          "2024-10-18",
          "2024-10-21",
          "2024-10-22",
          "2024-10-23",
          "2024-10-24",
          "2024-10-25",
          "2024-10-28",
          "2024-10-29",
          "2024-10-30",
          "2024-10-31",
          "2024-11-01",
          "2024-11-04",
          "2024-11-05",
          "2024-11-06",
          "2024-11-07",
          "2024-11-08",
          "2024-11-11",
          "2024-11-12",
          "2024-11-13",
          "2024-11-14",
          "2024-11-15",
          "2024-11-18",
          "2024-11-19",
          "2024-11-20",
          "2024-11-21",
          "2024-11-22",
          "2024-11-25",
          "2024-11-26",
          "2024-11-27",
          "2024-11-29",
          "2024-12-02",
          "2024-12-03",
          "2024-12-04",
          "2024-12-05",
          "2024-12-06",
          "2024-12-09",
          "2024-12-10",
          "2024-12-11",
          "2024-12-12",
          "2024-12-13",
          "2024-12-16",
          "2024-12-17",
          "2024-12-18",
          "2024-12-19",
          "2024-12-20",
          "2024-12-23",
          "2024-12-24",
          "2024-12-27",
          "2024-12-30",
          "2024-12-31",
          "2025-01-02",
          "2025-01-03",
          "2025-01-06",
          "2025-01-07",
          "2025-01-08",
          "2025-01-10",
          "2025-01-13",
          "2025-01-14",
          "2025-01-15",
          "2025-01-16",
          "2025-01-17",
          "2025-01-21",
          "2025-01-22",
          "2025-01-23",
          "2025-01-24",
          "2025-01-27",
          "2025-01-28",
          "2025-01-29",
          "2025-01-30",
          "2025-01-31",
          "2025-02-03",
          "2025-02-04",
          "2025-02-05",
          "2025-02-06",
          "2025-02-07",
          "2025-02-10",
          "2025-02-11",
          "2025-02-12"
         ],
         "y": [
          0,
          0.01,
          0.01,
          0.01,
          0.01,
          0.01,
          0.02,
          0.02,
          0.02,
          0.02,
          0.03,
          0.03,
          0.03,
          0.03,
          0.03,
          0.02,
          0.02,
          0.02,
          0.02,
          0.03,
          0.03,
          0.03,
          0.03,
          0.03,
          0.03,
          0.03,
          0.03,
          0.03,
          0.03,
          0.03,
          0.03,
          0.03,
          0.02,
          0.03,
          0.02,
          0.02,
          0.01,
          0.02,
          0.01,
          0.01,
          0.01,
          0.02,
          0.02,
          0.01,
          0.02,
          0.02,
          0.01,
          0.02,
          0.02,
          0.03,
          0.03,
          0.03,
          0.03,
          0.03,
          0.03,
          0.03,
          0.04,
          0.04,
          0.04,
          0.04,
          0.05,
          0.04,
          0.04,
          0.04,
          0.04,
          0.03,
          0.03,
          0.04,
          0.04,
          0.04,
          0.05,
          0.05,
          0.04,
          0.04,
          0.04,
          0.05,
          0.05,
          0.05,
          0.05,
          0.06,
          0.06,
          0.05,
          0.05,
          0.05,
          0.05,
          0.05,
          0.05,
          0.05,
          0.05,
          0.06,
          0.06,
          0.06,
          0.06,
          0.06,
          0.07,
          0.07,
          0.07,
          0.08,
          0.07,
          0.07,
          0.06,
          0.07,
          0.07,
          0.06,
          0.06,
          0.06,
          0.06,
          0.07,
          0.08,
          0.07,
          0.08,
          0.07,
          0.06,
          0.06,
          0.07,
          0.07,
          0.07,
          0.08,
          0.08,
          0.08,
          0.09,
          0.09,
          0.09,
          0.09,
          0.09,
          0.1,
          0.09,
          0.1,
          0.09,
          0.09,
          0.09,
          0.09,
          0.09,
          0.09,
          0.09,
          0.09,
          0.1,
          0.1,
          0.1,
          0.11,
          0.11,
          0.11,
          0.1,
          0.11,
          0.11,
          0.11,
          0.11,
          0.11,
          0.11,
          0.11,
          0.11,
          0.11,
          0.11,
          0.11,
          0.1,
          0.1,
          0.1,
          0.1,
          0.1,
          0.11,
          0.11,
          0.11,
          0.11,
          0.11,
          0.11,
          0.11,
          0.11,
          0.1,
          0.1,
          0.1,
          0.1,
          0.11,
          0.11,
          0.1,
          0.1,
          0.1,
          0.1,
          0.1,
          0.11,
          0.11,
          0.11,
          0.1,
          0.1,
          0.1,
          0.1,
          0.1,
          0.11,
          0.11,
          0.11,
          0.11,
          0.12,
          0.11,
          0.12,
          0.12,
          0.12,
          0.12,
          0.13,
          0.13,
          0.13,
          0.12,
          0.12,
          0.13,
          0.12,
          0.12,
          0.12,
          0.12,
          0.1,
          0.1,
          0.11,
          0.1,
          0.11,
          0.1,
          0.1,
          0.1,
          0.1,
          0.11,
          0.11,
          0.1,
          0.1,
          0.1,
          0.09,
          0.1,
          0.11,
          0.11,
          0.11,
          0.12,
          0.12,
          0.12,
          0.12,
          0.12,
          0.12,
          0.12,
          0.12,
          0.12,
          0.12,
          0.12,
          0.13,
          0.13,
          0.13,
          0.13,
          0.13,
          0.12
         ]
        },
        {
         "hovertemplate": "Date: %{x}<br>Return: %{y:.1%}<extra></extra>",
         "line": {
          "color": "blue",
          "width": 2
         },
         "marker": {
          "size": 6
         },
         "mode": "lines",
         "name": "Benchmark (60/40 SPY/BND)",
         "type": "scatter",
         "x": [
          "2024-02-22",
          "2024-02-23",
          "2024-02-26",
          "2024-02-27",
          "2024-02-28",
          "2024-02-29",
          "2024-03-01",
          "2024-03-04",
          "2024-03-05",
          "2024-03-06",
          "2024-03-07",
          "2024-03-08",
          "2024-03-11",
          "2024-03-12",
          "2024-03-13",
          "2024-03-14",
          "2024-03-15",
          "2024-03-18",
          "2024-03-19",
          "2024-03-20",
          "2024-03-21",
          "2024-03-22",
          "2024-03-25",
          "2024-03-26",
          "2024-03-27",
          "2024-03-28",
          "2024-04-02",
          "2024-04-03",
          "2024-04-04",
          "2024-04-05",
          "2024-04-08",
          "2024-04-09",
          "2024-04-10",
          "2024-04-11",
          "2024-04-12",
          "2024-04-15",
          "2024-04-16",
          "2024-04-17",
          "2024-04-18",
          "2024-04-19",
          "2024-04-22",
          "2024-04-23",
          "2024-04-24",
          "2024-04-25",
          "2024-04-26",
          "2024-04-29",
          "2024-04-30",
          "2024-05-02",
          "2024-05-03",
          "2024-05-06",
          "2024-05-07",
          "2024-05-08",
          "2024-05-09",
          "2024-05-10",
          "2024-05-13",
          "2024-05-14",
          "2024-05-15",
          "2024-05-16",
          "2024-05-17",
          "2024-05-20",
          "2024-05-21",
          "2024-05-22",
          "2024-05-23",
          "2024-05-24",
          "2024-05-28",
          "2024-05-29",
          "2024-05-30",
          "2024-05-31",
          "2024-06-03",
          "2024-06-04",
          "2024-06-05",
          "2024-06-06",
          "2024-06-07",
          "2024-06-10",
          "2024-06-11",
          "2024-06-12",
          "2024-06-13",
          "2024-06-14",
          "2024-06-17",
          "2024-06-18",
          "2024-06-20",
          "2024-06-21",
          "2024-06-24",
          "2024-06-25",
          "2024-06-26",
          "2024-06-27",
          "2024-06-28",
          "2024-07-01",
          "2024-07-02",
          "2024-07-03",
          "2024-07-05",
          "2024-07-08",
          "2024-07-09",
          "2024-07-10",
          "2024-07-11",
          "2024-07-12",
          "2024-07-15",
          "2024-07-16",
          "2024-07-17",
          "2024-07-18",
          "2024-07-19",
          "2024-07-22",
          "2024-07-23",
          "2024-07-24",
          "2024-07-25",
          "2024-07-26",
          "2024-07-29",
          "2024-07-30",
          "2024-07-31",
          "2024-08-01",
          "2024-08-02",
          "2024-08-05",
          "2024-08-06",
          "2024-08-07",
          "2024-08-08",
          "2024-08-09",
          "2024-08-12",
          "2024-08-13",
          "2024-08-14",
          "2024-08-15",
          "2024-08-16",
          "2024-08-19",
          "2024-08-20",
          "2024-08-21",
          "2024-08-22",
          "2024-08-23",
          "2024-08-26",
          "2024-08-27",
          "2024-08-28",
          "2024-08-29",
          "2024-08-30",
          "2024-09-03",
          "2024-09-04",
          "2024-09-05",
          "2024-09-06",
          "2024-09-09",
          "2024-09-10",
          "2024-09-11",
          "2024-09-12",
          "2024-09-13",
          "2024-09-16",
          "2024-09-17",
          "2024-09-18",
          "2024-09-19",
          "2024-09-20",
          "2024-09-23",
          "2024-09-24",
          "2024-09-25",
          "2024-09-26",
          "2024-09-27",
          "2024-09-30",
          "2024-10-01",
          "2024-10-02",
          "2024-10-03",
          "2024-10-04",
          "2024-10-07",
          "2024-10-08",
          "2024-10-09",
          "2024-10-10",
          "2024-10-11",
          "2024-10-14",
          "2024-10-15",
          "2024-10-16",
          "2024-10-17",
          "2024-10-18",
          "2024-10-21",
          "2024-10-22",
          "2024-10-23",
          "2024-10-24",
          "2024-10-25",
          "2024-10-28",
          "2024-10-29",
          "2024-10-30",
          "2024-10-31",
          "2024-11-01",
          "2024-11-04",
          "2024-11-05",
          "2024-11-06",
          "2024-11-07",
          "2024-11-08",
          "2024-11-11",
          "2024-11-12",
          "2024-11-13",
          "2024-11-14",
          "2024-11-15",
          "2024-11-18",
          "2024-11-19",
          "2024-11-20",
          "2024-11-21",
          "2024-11-22",
          "2024-11-25",
          "2024-11-26",
          "2024-11-27",
          "2024-11-29",
          "2024-12-02",
          "2024-12-03",
          "2024-12-04",
          "2024-12-05",
          "2024-12-06",
          "2024-12-09",
          "2024-12-10",
          "2024-12-11",
          "2024-12-12",
          "2024-12-13",
          "2024-12-16",
          "2024-12-17",
          "2024-12-18",
          "2024-12-19",
          "2024-12-20",
          "2024-12-23",
          "2024-12-24",
          "2024-12-27",
          "2024-12-30",
          "2024-12-31",
          "2025-01-02",
          "2025-01-03",
          "2025-01-06",
          "2025-01-07",
          "2025-01-08",
          "2025-01-10",
          "2025-01-13",
          "2025-01-14",
          "2025-01-15",
          "2025-01-16",
          "2025-01-17",
          "2025-01-21",
          "2025-01-22",
          "2025-01-23",
          "2025-01-24",
          "2025-01-27",
          "2025-01-28",
          "2025-01-29",
          "2025-01-30",
          "2025-01-31",
          "2025-02-03",
          "2025-02-04",
          "2025-02-05",
          "2025-02-06",
          "2025-02-07",
          "2025-02-10",
          "2025-02-11",
          "2025-02-12"
         ],
         "y": [
          0.01,
          0.01,
          0.01,
          0.01,
          0.01,
          0.01,
          0.02,
          0.02,
          0.02,
          0.02,
          0.03,
          0.02,
          0.02,
          0.03,
          0.03,
          0.02,
          0.02,
          0.02,
          0.03,
          0.03,
          0.04,
          0.04,
          0.03,
          0.03,
          0.04,
          0.04,
          0.03,
          0.03,
          0.02,
          0.03,
          0.03,
          0.03,
          0.02,
          0.02,
          0.02,
          0.01,
          0,
          0,
          0,
          0,
          0,
          0.01,
          0.01,
          0,
          0.01,
          0.01,
          0,
          0.01,
          0.02,
          0.03,
          0.03,
          0.03,
          0.03,
          0.03,
          0.03,
          0.04,
          0.05,
          0.04,
          0.04,
          0.04,
          0.05,
          0.04,
          0.04,
          0.04,
          0.04,
          0.04,
          0.03,
          0.04,
          0.04,
          0.05,
          0.05,
          0.05,
          0.05,
          0.05,
          0.05,
          0.06,
          0.06,
          0.07,
          0.07,
          0.07,
          0.07,
          0.07,
          0.07,
          0.07,
          0.07,
          0.07,
          0.07,
          0.07,
          0.07,
          0.08,
          0.08,
          0.08,
          0.08,
          0.09,
          0.09,
          0.09,
          0.09,
          0.1,
          0.09,
          0.08,
          0.08,
          0.08,
          0.08,
          0.07,
          0.06,
          0.07,
          0.07,
          0.07,
          0.08,
          0.08,
          0.07,
          0.05,
          0.05,
          0.05,
          0.06,
          0.07,
          0.07,
          0.08,
          0.08,
          0.09,
          0.09,
          0.1,
          0.1,
          0.1,
          0.1,
          0.11,
          0.1,
          0.11,
          0.1,
          0.1,
          0.11,
          0.09,
          0.09,
          0.09,
          0.08,
          0.09,
          0.1,
          0.1,
          0.11,
          0.11,
          0.11,
          0.11,
          0.11,
          0.12,
          0.12,
          0.12,
          0.12,
          0.12,
          0.12,
          0.12,
          0.13,
          0.12,
          0.12,
          0.12,
          0.12,
          0.11,
          0.12,
          0.12,
          0.12,
          0.13,
          0.13,
          0.13,
          0.13,
          0.13,
          0.13,
          0.13,
          0.13,
          0.12,
          0.12,
          0.12,
          0.12,
          0.12,
          0.12,
          0.11,
          0.11,
          0.11,
          0.12,
          0.13,
          0.14,
          0.15,
          0.15,
          0.14,
          0.14,
          0.14,
          0.13,
          0.13,
          0.13,
          0.13,
          0.14,
          0.14,
          0.15,
          0.15,
          0.15,
          0.15,
          0.16,
          0.15,
          0.16,
          0.16,
          0.16,
          0.16,
          0.15,
          0.16,
          0.15,
          0.15,
          0.15,
          0.15,
          0.13,
          0.13,
          0.14,
          0.14,
          0.15,
          0.14,
          0.13,
          0.13,
          0.13,
          0.14,
          0.14,
          0.13,
          0.13,
          0.12,
          0.12,
          0.12,
          0.14,
          0.14,
          0.14,
          0.15,
          0.15,
          0.16,
          0.16,
          0.15,
          0.15,
          0.15,
          0.15,
          0.15,
          0.15,
          0.15,
          0.16,
          0.16,
          0.15,
          0.16,
          0.16,
          0.15
         ]
        }
       ],
       "layout": {
        "annotations": [
         {
          "align": "center",
          "arrowcolor": "red",
          "arrowhead": 2,
          "ax": 0,
          "ay": 60,
          "bgcolor": "rgba(255, 0, 0, 0.7)",
          "bordercolor": "red",
          "captureevents": true,
          "font": {
           "color": "white",
           "size": 12
          },
          "opacity": 1,
          "showarrow": true,
          "text": "<b>0.0%</b>",
          "x": "2024-02-22",
          "y": 0
         },
         {
          "align": "center",
          "arrowcolor": "red",
          "arrowhead": 2,
          "ax": 0,
          "ay": 60,
          "bgcolor": "rgba(255, 0, 0, 0.7)",
          "bordercolor": "red",
          "captureevents": true,
          "font": {
           "color": "white",
           "size": 12
          },
          "opacity": 1,
          "showarrow": true,
          "text": "<b>2.0%</b>",
          "x": "2024-04-12",
          "y": 0.02
         },
         {
          "align": "center",
          "arrowcolor": "red",
          "arrowhead": 2,
          "ax": 0,
          "ay": 60,
          "bgcolor": "rgba(255, 0, 0, 0.7)",
          "bordercolor": "red",
          "captureevents": true,
          "font": {
           "color": "white",
           "size": 12
          },
          "opacity": 1,
          "showarrow": true,
          "text": "<b>4.0%</b>",
          "x": "2024-06-03",
          "y": 0.04
         },
         {
          "align": "center",
          "arrowcolor": "red",
          "arrowhead": 2,
          "ax": 0,
          "ay": 60,
          "bgcolor": "rgba(255, 0, 0, 0.7)",
          "bordercolor": "red",
          "captureevents": true,
          "font": {
           "color": "white",
           "size": 12
          },
          "opacity": 1,
          "showarrow": true,
          "text": "<b>7.0%</b>",
          "x": "2024-07-23",
          "y": 0.07
         },
         {
          "align": "center",
          "arrowcolor": "red",
          "arrowhead": 2,
          "ax": 0,
          "ay": 60,
          "bgcolor": "rgba(255, 0, 0, 0.7)",
          "bordercolor": "red",
          "captureevents": true,
          "font": {
           "color": "white",
           "size": 12
          },
          "opacity": 1,
          "showarrow": true,
          "text": "<b>10.0%</b>",
          "x": "2024-09-10",
          "y": 0.1
         },
         {
          "align": "center",
          "arrowcolor": "red",
          "arrowhead": 2,
          "ax": 0,
          "ay": 60,
          "bgcolor": "rgba(255, 0, 0, 0.7)",
          "bordercolor": "red",
          "captureevents": true,
          "font": {
           "color": "white",
           "size": 12
          },
          "opacity": 1,
          "showarrow": true,
          "text": "<b>10.0%</b>",
          "x": "2024-10-28",
          "y": 0.1
         },
         {
          "align": "center",
          "arrowcolor": "red",
          "arrowhead": 2,
          "ax": 0,
          "ay": 60,
          "bgcolor": "rgba(255, 0, 0, 0.7)",
          "bordercolor": "red",
          "captureevents": true,
          "font": {
           "color": "white",
           "size": 12
          },
          "opacity": 1,
          "showarrow": true,
          "text": "<b>12.0%</b>",
          "x": "2024-12-16",
          "y": 0.12
         },
         {
          "align": "center",
          "arrowcolor": "red",
          "arrowhead": 2,
          "ax": 0,
          "ay": 60,
          "bgcolor": "rgba(255, 0, 0, 0.7)",
          "bordercolor": "red",
          "captureevents": true,
          "font": {
           "color": "white",
           "size": 12
          },
          "opacity": 1,
          "showarrow": true,
          "text": "<b>13.0%</b>",
          "x": "2025-02-07",
          "y": 0.13
         },
         {
          "align": "center",
          "arrowcolor": "blue",
          "arrowhead": 2,
          "ax": 0,
          "ay": -60,
          "bgcolor": "rgba(0, 0, 255, 0.7)",
          "bordercolor": "blue",
          "captureevents": true,
          "font": {
           "color": "white",
           "size": 12
          },
          "opacity": 1,
          "showarrow": true,
          "text": "<b>1.0%</b>",
          "x": "2024-02-22",
          "y": 0.01
         },
         {
          "align": "center",
          "arrowcolor": "blue",
          "arrowhead": 2,
          "ax": 0,
          "ay": -60,
          "bgcolor": "rgba(0, 0, 255, 0.7)",
          "bordercolor": "blue",
          "captureevents": true,
          "font": {
           "color": "white",
           "size": 12
          },
          "opacity": 1,
          "showarrow": true,
          "text": "<b>2.0%</b>",
          "x": "2024-04-12",
          "y": 0.02
         },
         {
          "align": "center",
          "arrowcolor": "blue",
          "arrowhead": 2,
          "ax": 0,
          "ay": -60,
          "bgcolor": "rgba(0, 0, 255, 0.7)",
          "bordercolor": "blue",
          "captureevents": true,
          "font": {
           "color": "white",
           "size": 12
          },
          "opacity": 1,
          "showarrow": true,
          "text": "<b>4.0%</b>",
          "x": "2024-06-03",
          "y": 0.04
         },
         {
          "align": "center",
          "arrowcolor": "blue",
          "arrowhead": 2,
          "ax": 0,
          "ay": -60,
          "bgcolor": "rgba(0, 0, 255, 0.7)",
          "bordercolor": "blue",
          "captureevents": true,
          "font": {
           "color": "white",
           "size": 12
          },
          "opacity": 1,
          "showarrow": true,
          "text": "<b>8.0%</b>",
          "x": "2024-07-23",
          "y": 0.08
         },
         {
          "align": "center",
          "arrowcolor": "blue",
          "arrowhead": 2,
          "ax": 0,
          "ay": -60,
          "bgcolor": "rgba(0, 0, 255, 0.7)",
          "bordercolor": "blue",
          "captureevents": true,
          "font": {
           "color": "white",
           "size": 12
          },
          "opacity": 1,
          "showarrow": true,
          "text": "<b>10.0%</b>",
          "x": "2024-09-10",
          "y": 0.1
         },
         {
          "align": "center",
          "arrowcolor": "blue",
          "arrowhead": 2,
          "ax": 0,
          "ay": -60,
          "bgcolor": "rgba(0, 0, 255, 0.7)",
          "bordercolor": "blue",
          "captureevents": true,
          "font": {
           "color": "white",
           "size": 12
          },
          "opacity": 1,
          "showarrow": true,
          "text": "<b>12.0%</b>",
          "x": "2024-10-28",
          "y": 0.12
         },
         {
          "align": "center",
          "arrowcolor": "blue",
          "arrowhead": 2,
          "ax": 0,
          "ay": -60,
          "bgcolor": "rgba(0, 0, 255, 0.7)",
          "bordercolor": "blue",
          "captureevents": true,
          "font": {
           "color": "white",
           "size": 12
          },
          "opacity": 1,
          "showarrow": true,
          "text": "<b>15.0%</b>",
          "x": "2024-12-16",
          "y": 0.15
         },
         {
          "align": "center",
          "arrowcolor": "blue",
          "arrowhead": 2,
          "ax": 0,
          "ay": -60,
          "bgcolor": "rgba(0, 0, 255, 0.7)",
          "bordercolor": "blue",
          "captureevents": true,
          "font": {
           "color": "white",
           "size": 12
          },
          "opacity": 1,
          "showarrow": true,
          "text": "<b>15.0%</b>",
          "x": "2025-02-07",
          "y": 0.15
         }
        ],
        "height": 700,
        "legend": {
         "x": 0.01,
         "y": 0.99
        },
        "template": {
         "data": {
          "bar": [
           {
            "error_x": {
             "color": "#2a3f5f"
            },
            "error_y": {
             "color": "#2a3f5f"
            },
            "marker": {
             "line": {
              "color": "white",
              "width": 0.5
             },
             "pattern": {
              "fillmode": "overlay",
              "size": 10,
              "solidity": 0.2
             }
            },
            "type": "bar"
           }
          ],
          "barpolar": [
           {
            "marker": {
             "line": {
              "color": "white",
              "width": 0.5
             },
             "pattern": {
              "fillmode": "overlay",
              "size": 10,
              "solidity": 0.2
             }
            },
            "type": "barpolar"
           }
          ],
          "carpet": [
           {
            "aaxis": {
             "endlinecolor": "#2a3f5f",
             "gridcolor": "#C8D4E3",
             "linecolor": "#C8D4E3",
             "minorgridcolor": "#C8D4E3",
             "startlinecolor": "#2a3f5f"
            },
            "baxis": {
             "endlinecolor": "#2a3f5f",
             "gridcolor": "#C8D4E3",
             "linecolor": "#C8D4E3",
             "minorgridcolor": "#C8D4E3",
             "startlinecolor": "#2a3f5f"
            },
            "type": "carpet"
           }
          ],
          "choropleth": [
           {
            "colorbar": {
             "outlinewidth": 0,
             "ticks": ""
            },
            "type": "choropleth"
           }
          ],
          "contour": [
           {
            "colorbar": {
             "outlinewidth": 0,
             "ticks": ""
            },
            "colorscale": [
             [
              0,
              "#0d0887"
             ],
             [
              0.1111111111111111,
              "#46039f"
             ],
             [
              0.2222222222222222,
              "#7201a8"
             ],
             [
              0.3333333333333333,
              "#9c179e"
             ],
             [
              0.4444444444444444,
              "#bd3786"
             ],
             [
              0.5555555555555556,
              "#d8576b"
             ],
             [
              0.6666666666666666,
              "#ed7953"
             ],
             [
              0.7777777777777778,
              "#fb9f3a"
             ],
             [
              0.8888888888888888,
              "#fdca26"
             ],
             [
              1,
              "#f0f921"
             ]
            ],
            "type": "contour"
           }
          ],
          "contourcarpet": [
           {
            "colorbar": {
             "outlinewidth": 0,
             "ticks": ""
            },
            "type": "contourcarpet"
           }
          ],
          "heatmap": [
           {
            "colorbar": {
             "outlinewidth": 0,
             "ticks": ""
            },
            "colorscale": [
             [
              0,
              "#0d0887"
             ],
             [
              0.1111111111111111,
              "#46039f"
             ],
             [
              0.2222222222222222,
              "#7201a8"
             ],
             [
              0.3333333333333333,
              "#9c179e"
             ],
             [
              0.4444444444444444,
              "#bd3786"
             ],
             [
              0.5555555555555556,
              "#d8576b"
             ],
             [
              0.6666666666666666,
              "#ed7953"
             ],
             [
              0.7777777777777778,
              "#fb9f3a"
             ],
             [
              0.8888888888888888,
              "#fdca26"
             ],
             [
              1,
              "#f0f921"
             ]
            ],
            "type": "heatmap"
           }
          ],
          "heatmapgl": [
           {
            "colorbar": {
             "outlinewidth": 0,
             "ticks": ""
            },
            "colorscale": [
             [
              0,
              "#0d0887"
             ],
             [
              0.1111111111111111,
              "#46039f"
             ],
             [
              0.2222222222222222,
              "#7201a8"
             ],
             [
              0.3333333333333333,
              "#9c179e"
             ],
             [
              0.4444444444444444,
              "#bd3786"
             ],
             [
              0.5555555555555556,
              "#d8576b"
             ],
             [
              0.6666666666666666,
              "#ed7953"
             ],
             [
              0.7777777777777778,
              "#fb9f3a"
             ],
             [
              0.8888888888888888,
              "#fdca26"
             ],
             [
              1,
              "#f0f921"
             ]
            ],
            "type": "heatmapgl"
           }
          ],
          "histogram": [
           {
            "marker": {
             "pattern": {
              "fillmode": "overlay",
              "size": 10,
              "solidity": 0.2
             }
            },
            "type": "histogram"
           }
          ],
          "histogram2d": [
           {
            "colorbar": {
             "outlinewidth": 0,
             "ticks": ""
            },
            "colorscale": [
             [
              0,
              "#0d0887"
             ],
             [
              0.1111111111111111,
              "#46039f"
             ],
             [
              0.2222222222222222,
              "#7201a8"
             ],
             [
              0.3333333333333333,
              "#9c179e"
             ],
             [
              0.4444444444444444,
              "#bd3786"
             ],
             [
              0.5555555555555556,
              "#d8576b"
             ],
             [
              0.6666666666666666,
              "#ed7953"
             ],
             [
              0.7777777777777778,
              "#fb9f3a"
             ],
             [
              0.8888888888888888,
              "#fdca26"
             ],
             [
              1,
              "#f0f921"
             ]
            ],
            "type": "histogram2d"
           }
          ],
          "histogram2dcontour": [
           {
            "colorbar": {
             "outlinewidth": 0,
             "ticks": ""
            },
            "colorscale": [
             [
              0,
              "#0d0887"
             ],
             [
              0.1111111111111111,
              "#46039f"
             ],
             [
              0.2222222222222222,
              "#7201a8"
             ],
             [
              0.3333333333333333,
              "#9c179e"
             ],
             [
              0.4444444444444444,
              "#bd3786"
             ],
             [
              0.5555555555555556,
              "#d8576b"
             ],
             [
              0.6666666666666666,
              "#ed7953"
             ],
             [
              0.7777777777777778,
              "#fb9f3a"
             ],
             [
              0.8888888888888888,
              "#fdca26"
             ],
             [
              1,
              "#f0f921"
             ]
            ],
            "type": "histogram2dcontour"
           }
          ],
          "mesh3d": [
           {
            "colorbar": {
             "outlinewidth": 0,
             "ticks": ""
            },
            "type": "mesh3d"
           }
          ],
          "parcoords": [
           {
            "line": {
             "colorbar": {
              "outlinewidth": 0,
              "ticks": ""
             }
            },
            "type": "parcoords"
           }
          ],
          "pie": [
           {
            "automargin": true,
            "type": "pie"
           }
          ],
          "scatter": [
           {
            "fillpattern": {
             "fillmode": "overlay",
             "size": 10,
             "solidity": 0.2
            },
            "type": "scatter"
           }
          ],
          "scatter3d": [
           {
            "line": {
             "colorbar": {
              "outlinewidth": 0,
              "ticks": ""
             }
            },
            "marker": {
             "colorbar": {
              "outlinewidth": 0,
              "ticks": ""
             }
            },
            "type": "scatter3d"
           }
          ],
          "scattercarpet": [
           {
            "marker": {
             "colorbar": {
              "outlinewidth": 0,
              "ticks": ""
             }
            },
            "type": "scattercarpet"
           }
          ],
          "scattergeo": [
           {
            "marker": {
             "colorbar": {
              "outlinewidth": 0,
              "ticks": ""
             }
            },
            "type": "scattergeo"
           }
          ],
          "scattergl": [
           {
            "marker": {
             "colorbar": {
              "outlinewidth": 0,
              "ticks": ""
             }
            },
            "type": "scattergl"
           }
          ],
          "scattermapbox": [
           {
            "marker": {
             "colorbar": {
              "outlinewidth": 0,
              "ticks": ""
             }
            },
            "type": "scattermapbox"
           }
          ],
          "scatterpolar": [
           {
            "marker": {
             "colorbar": {
              "outlinewidth": 0,
              "ticks": ""
             }
            },
            "type": "scatterpolar"
           }
          ],
          "scatterpolargl": [
           {
            "marker": {
             "colorbar": {
              "outlinewidth": 0,
              "ticks": ""
             }
            },
            "type": "scatterpolargl"
           }
          ],
          "scatterternary": [
           {
            "marker": {
             "colorbar": {
              "outlinewidth": 0,
              "ticks": ""
             }
            },
            "type": "scatterternary"
           }
          ],
          "surface": [
           {
            "colorbar": {
             "outlinewidth": 0,
             "ticks": ""
            },
            "colorscale": [
             [
              0,
              "#0d0887"
             ],
             [
              0.1111111111111111,
              "#46039f"
             ],
             [
              0.2222222222222222,
              "#7201a8"
             ],
             [
              0.3333333333333333,
              "#9c179e"
             ],
             [
              0.4444444444444444,
              "#bd3786"
             ],
             [
              0.5555555555555556,
              "#d8576b"
             ],
             [
              0.6666666666666666,
              "#ed7953"
             ],
             [
              0.7777777777777778,
              "#fb9f3a"
             ],
             [
              0.8888888888888888,
              "#fdca26"
             ],
             [
              1,
              "#f0f921"
             ]
            ],
            "type": "surface"
           }
          ],
          "table": [
           {
            "cells": {
             "fill": {
              "color": "#EBF0F8"
             },
             "line": {
              "color": "white"
             }
            },
            "header": {
             "fill": {
              "color": "#C8D4E3"
             },
             "line": {
              "color": "white"
             }
            },
            "type": "table"
           }
          ]
         },
         "layout": {
          "annotationdefaults": {
           "arrowcolor": "#2a3f5f",
           "arrowhead": 0,
           "arrowwidth": 1
          },
          "autotypenumbers": "strict",
          "coloraxis": {
           "colorbar": {
            "outlinewidth": 0,
            "ticks": ""
           }
          },
          "colorscale": {
           "diverging": [
            [
             0,
             "#8e0152"
            ],
            [
             0.1,
             "#c51b7d"
            ],
            [
             0.2,
             "#de77ae"
            ],
            [
             0.3,
             "#f1b6da"
            ],
            [
             0.4,
             "#fde0ef"
            ],
            [
             0.5,
             "#f7f7f7"
            ],
            [
             0.6,
             "#e6f5d0"
            ],
            [
             0.7,
             "#b8e186"
            ],
            [
             0.8,
             "#7fbc41"
            ],
            [
             0.9,
             "#4d9221"
            ],
            [
             1,
             "#276419"
            ]
           ],
           "sequential": [
            [
             0,
             "#0d0887"
            ],
            [
             0.1111111111111111,
             "#46039f"
            ],
            [
             0.2222222222222222,
             "#7201a8"
            ],
            [
             0.3333333333333333,
             "#9c179e"
            ],
            [
             0.4444444444444444,
             "#bd3786"
            ],
            [
             0.5555555555555556,
             "#d8576b"
            ],
            [
             0.6666666666666666,
             "#ed7953"
            ],
            [
             0.7777777777777778,
             "#fb9f3a"
            ],
            [
             0.8888888888888888,
             "#fdca26"
            ],
            [
             1,
             "#f0f921"
            ]
           ],
           "sequentialminus": [
            [
             0,
             "#0d0887"
            ],
            [
             0.1111111111111111,
             "#46039f"
            ],
            [
             0.2222222222222222,
             "#7201a8"
            ],
            [
             0.3333333333333333,
             "#9c179e"
            ],
            [
             0.4444444444444444,
             "#bd3786"
            ],
            [
             0.5555555555555556,
             "#d8576b"
            ],
            [
             0.6666666666666666,
             "#ed7953"
            ],
            [
             0.7777777777777778,
             "#fb9f3a"
            ],
            [
             0.8888888888888888,
             "#fdca26"
            ],
            [
             1,
             "#f0f921"
            ]
           ]
          },
          "colorway": [
           "#636efa",
           "#EF553B",
           "#00cc96",
           "#ab63fa",
           "#FFA15A",
           "#19d3f3",
           "#FF6692",
           "#B6E880",
           "#FF97FF",
           "#FECB52"
          ],
          "font": {
           "color": "#2a3f5f"
          },
          "geo": {
           "bgcolor": "white",
           "lakecolor": "white",
           "landcolor": "white",
           "showlakes": true,
           "showland": true,
           "subunitcolor": "#C8D4E3"
          },
          "hoverlabel": {
           "align": "left"
          },
          "hovermode": "closest",
          "mapbox": {
           "style": "light"
          },
          "paper_bgcolor": "white",
          "plot_bgcolor": "white",
          "polar": {
           "angularaxis": {
            "gridcolor": "#EBF0F8",
            "linecolor": "#EBF0F8",
            "ticks": ""
           },
           "bgcolor": "white",
           "radialaxis": {
            "gridcolor": "#EBF0F8",
            "linecolor": "#EBF0F8",
            "ticks": ""
           }
          },
          "scene": {
           "xaxis": {
            "backgroundcolor": "white",
            "gridcolor": "#DFE8F3",
            "gridwidth": 2,
            "linecolor": "#EBF0F8",
            "showbackground": true,
            "ticks": "",
            "zerolinecolor": "#EBF0F8"
           },
           "yaxis": {
            "backgroundcolor": "white",
            "gridcolor": "#DFE8F3",
            "gridwidth": 2,
            "linecolor": "#EBF0F8",
            "showbackground": true,
            "ticks": "",
            "zerolinecolor": "#EBF0F8"
           },
           "zaxis": {
            "backgroundcolor": "white",
            "gridcolor": "#DFE8F3",
            "gridwidth": 2,
            "linecolor": "#EBF0F8",
            "showbackground": true,
            "ticks": "",
            "zerolinecolor": "#EBF0F8"
           }
          },
          "shapedefaults": {
           "line": {
            "color": "#2a3f5f"
           }
          },
          "ternary": {
           "aaxis": {
            "gridcolor": "#DFE8F3",
            "linecolor": "#A2B1C6",
            "ticks": ""
           },
           "baxis": {
            "gridcolor": "#DFE8F3",
            "linecolor": "#A2B1C6",
            "ticks": ""
           },
           "bgcolor": "white",
           "caxis": {
            "gridcolor": "#DFE8F3",
            "linecolor": "#A2B1C6",
            "ticks": ""
           }
          },
          "title": {
           "x": 0.05
          },
          "xaxis": {
           "automargin": true,
           "gridcolor": "#EBF0F8",
           "linecolor": "#EBF0F8",
           "ticks": "",
           "title": {
            "standoff": 15
           },
           "zerolinecolor": "#EBF0F8",
           "zerolinewidth": 2
          },
          "yaxis": {
           "automargin": true,
           "gridcolor": "#EBF0F8",
           "linecolor": "#EBF0F8",
           "ticks": "",
           "title": {
            "standoff": 15
           },
           "zerolinecolor": "#EBF0F8",
           "zerolinewidth": 2
          }
         }
        },
        "title": {
         "text": "Portfolio vs Benchmark Cumulative Returns"
        },
        "xaxis": {
         "title": {
          "text": "Date"
         }
        },
        "yaxis": {
         "tickformat": ".00%",
         "title": {
          "text": "Cumulative Return"
         }
        }
       }
      }
     },
     "metadata": {},
     "output_type": "display_data"
    },
    {
     "name": "stdout",
     "output_type": "stream",
     "text": [
      "Investment period starts at:  2024-04-12\n",
      "Investment period ends at:  2025-02-12\n",
      "Portfolio returns was:  9.39 %\n",
      "Benchmark was:  12.31 %\n",
      "Current weights are:  OrderedDict([('BND', 0.6649), ('GLD', 0.10605), ('HODL.PA', 0.01296), ('SPY', 0.21609)])\n"
     ]
    },
    {
     "data": {
      "application/vnd.plotly.v1+json": {
       "config": {
        "plotlyServerURL": "https://plot.ly"
       },
       "data": [
        {
         "hovertemplate": "Date: %{x}<br>Return: %{y:.1%}<extra></extra>",
         "line": {
          "color": "red",
          "width": 2
         },
         "marker": {
          "size": 6
         },
         "mode": "lines",
         "name": "Portfolio",
         "type": "scatter",
         "x": [
          "2024-04-12",
          "2024-04-15",
          "2024-04-16",
          "2024-04-17",
          "2024-04-18",
          "2024-04-19",
          "2024-04-22",
          "2024-04-23",
          "2024-04-24",
          "2024-04-25",
          "2024-04-26",
          "2024-04-29",
          "2024-04-30",
          "2024-05-02",
          "2024-05-03",
          "2024-05-06",
          "2024-05-07",
          "2024-05-08",
          "2024-05-09",
          "2024-05-10",
          "2024-05-13",
          "2024-05-14",
          "2024-05-15",
          "2024-05-16",
          "2024-05-17",
          "2024-05-20",
          "2024-05-21",
          "2024-05-22",
          "2024-05-23",
          "2024-05-24",
          "2024-05-28",
          "2024-05-29",
          "2024-05-30",
          "2024-05-31",
          "2024-06-03",
          "2024-06-04",
          "2024-06-05",
          "2024-06-06",
          "2024-06-07",
          "2024-06-10",
          "2024-06-11",
          "2024-06-12",
          "2024-06-13",
          "2024-06-14",
          "2024-06-17",
          "2024-06-18",
          "2024-06-20",
          "2024-06-21",
          "2024-06-24",
          "2024-06-25",
          "2024-06-26",
          "2024-06-27",
          "2024-06-28",
          "2024-07-01",
          "2024-07-02",
          "2024-07-03",
          "2024-07-05",
          "2024-07-08",
          "2024-07-09",
          "2024-07-10",
          "2024-07-11",
          "2024-07-12",
          "2024-07-15",
          "2024-07-16",
          "2024-07-17",
          "2024-07-18",
          "2024-07-19",
          "2024-07-22",
          "2024-07-23",
          "2024-07-24",
          "2024-07-25",
          "2024-07-26",
          "2024-07-29",
          "2024-07-30",
          "2024-07-31",
          "2024-08-01",
          "2024-08-02",
          "2024-08-05",
          "2024-08-06",
          "2024-08-07",
          "2024-08-08",
          "2024-08-09",
          "2024-08-12",
          "2024-08-13",
          "2024-08-14",
          "2024-08-15",
          "2024-08-16",
          "2024-08-19",
          "2024-08-20",
          "2024-08-21",
          "2024-08-22",
          "2024-08-23",
          "2024-08-26",
          "2024-08-27",
          "2024-08-28",
          "2024-08-29",
          "2024-08-30",
          "2024-09-03",
          "2024-09-04",
          "2024-09-05",
          "2024-09-06",
          "2024-09-09",
          "2024-09-10",
          "2024-09-11",
          "2024-09-12",
          "2024-09-13",
          "2024-09-16",
          "2024-09-17",
          "2024-09-18",
          "2024-09-19",
          "2024-09-20",
          "2024-09-23",
          "2024-09-24",
          "2024-09-25",
          "2024-09-26",
          "2024-09-27",
          "2024-09-30",
          "2024-10-01",
          "2024-10-02",
          "2024-10-03",
          "2024-10-04",
          "2024-10-07",
          "2024-10-08",
          "2024-10-09",
          "2024-10-10",
          "2024-10-11",
          "2024-10-14",
          "2024-10-15",
          "2024-10-16",
          "2024-10-17",
          "2024-10-18",
          "2024-10-21",
          "2024-10-22",
          "2024-10-23",
          "2024-10-24",
          "2024-10-25",
          "2024-10-28",
          "2024-10-29",
          "2024-10-30",
          "2024-10-31",
          "2024-11-01",
          "2024-11-04",
          "2024-11-05",
          "2024-11-06",
          "2024-11-07",
          "2024-11-08",
          "2024-11-11",
          "2024-11-12",
          "2024-11-13",
          "2024-11-14",
          "2024-11-15",
          "2024-11-18",
          "2024-11-19",
          "2024-11-20",
          "2024-11-21",
          "2024-11-22",
          "2024-11-25",
          "2024-11-26",
          "2024-11-27",
          "2024-11-29",
          "2024-12-02",
          "2024-12-03",
          "2024-12-04",
          "2024-12-05",
          "2024-12-06",
          "2024-12-09",
          "2024-12-10",
          "2024-12-11",
          "2024-12-12",
          "2024-12-13",
          "2024-12-16",
          "2024-12-17",
          "2024-12-18",
          "2024-12-19",
          "2024-12-20",
          "2024-12-23",
          "2024-12-24",
          "2024-12-27",
          "2024-12-30",
          "2024-12-31",
          "2025-01-02",
          "2025-01-03",
          "2025-01-06",
          "2025-01-07",
          "2025-01-08",
          "2025-01-10",
          "2025-01-13",
          "2025-01-14",
          "2025-01-15",
          "2025-01-16",
          "2025-01-17",
          "2025-01-21",
          "2025-01-22",
          "2025-01-23",
          "2025-01-24",
          "2025-01-27",
          "2025-01-28",
          "2025-01-29",
          "2025-01-30",
          "2025-01-31",
          "2025-02-03",
          "2025-02-04",
          "2025-02-05",
          "2025-02-06",
          "2025-02-07",
          "2025-02-10",
          "2025-02-11",
          "2025-02-12"
         ],
         "y": [
          0,
          -0.01,
          -0.01,
          -0.01,
          -0.01,
          -0.01,
          -0.01,
          -0.01,
          -0.01,
          -0.01,
          -0.01,
          -0.01,
          -0.02,
          -0.01,
          0,
          0,
          0,
          0,
          0.01,
          0,
          0,
          0.01,
          0.02,
          0.01,
          0.02,
          0.02,
          0.02,
          0.01,
          0.01,
          0.01,
          0.01,
          0,
          0.01,
          0.01,
          0.01,
          0.02,
          0.02,
          0.02,
          0.01,
          0.01,
          0.02,
          0.02,
          0.02,
          0.03,
          0.03,
          0.03,
          0.03,
          0.03,
          0.03,
          0.03,
          0.02,
          0.03,
          0.02,
          0.02,
          0.02,
          0.03,
          0.03,
          0.03,
          0.03,
          0.04,
          0.04,
          0.04,
          0.04,
          0.05,
          0.05,
          0.04,
          0.04,
          0.04,
          0.04,
          0.03,
          0.03,
          0.04,
          0.04,
          0.04,
          0.05,
          0.05,
          0.05,
          0.04,
          0.04,
          0.03,
          0.04,
          0.04,
          0.05,
          0.05,
          0.05,
          0.05,
          0.06,
          0.06,
          0.06,
          0.07,
          0.06,
          0.07,
          0.07,
          0.07,
          0.06,
          0.06,
          0.06,
          0.06,
          0.06,
          0.06,
          0.06,
          0.06,
          0.07,
          0.07,
          0.07,
          0.08,
          0.08,
          0.08,
          0.08,
          0.08,
          0.08,
          0.08,
          0.09,
          0.08,
          0.08,
          0.09,
          0.08,
          0.08,
          0.08,
          0.08,
          0.08,
          0.07,
          0.07,
          0.07,
          0.07,
          0.08,
          0.08,
          0.08,
          0.08,
          0.08,
          0.08,
          0.08,
          0.08,
          0.07,
          0.08,
          0.07,
          0.07,
          0.08,
          0.08,
          0.07,
          0.07,
          0.07,
          0.07,
          0.07,
          0.08,
          0.08,
          0.08,
          0.08,
          0.07,
          0.07,
          0.07,
          0.07,
          0.08,
          0.08,
          0.08,
          0.08,
          0.09,
          0.09,
          0.09,
          0.09,
          0.09,
          0.09,
          0.1,
          0.1,
          0.1,
          0.1,
          0.1,
          0.1,
          0.09,
          0.09,
          0.09,
          0.09,
          0.07,
          0.07,
          0.08,
          0.07,
          0.08,
          0.08,
          0.07,
          0.07,
          0.08,
          0.08,
          0.08,
          0.07,
          0.07,
          0.07,
          0.07,
          0.07,
          0.08,
          0.08,
          0.08,
          0.09,
          0.09,
          0.09,
          0.09,
          0.09,
          0.09,
          0.09,
          0.1,
          0.09,
          0.09,
          0.1,
          0.1,
          0.1,
          0.1,
          0.1,
          0.1,
          0.09
         ]
        },
        {
         "hovertemplate": "Date: %{x}<br>Return: %{y:.1%}<extra></extra>",
         "line": {
          "color": "blue",
          "width": 2
         },
         "marker": {
          "size": 6
         },
         "mode": "lines",
         "name": "Benchmark (60/40 SPY/BND)",
         "type": "scatter",
         "x": [
          "2024-04-12",
          "2024-04-15",
          "2024-04-16",
          "2024-04-17",
          "2024-04-18",
          "2024-04-19",
          "2024-04-22",
          "2024-04-23",
          "2024-04-24",
          "2024-04-25",
          "2024-04-26",
          "2024-04-29",
          "2024-04-30",
          "2024-05-02",
          "2024-05-03",
          "2024-05-06",
          "2024-05-07",
          "2024-05-08",
          "2024-05-09",
          "2024-05-10",
          "2024-05-13",
          "2024-05-14",
          "2024-05-15",
          "2024-05-16",
          "2024-05-17",
          "2024-05-20",
          "2024-05-21",
          "2024-05-22",
          "2024-05-23",
          "2024-05-24",
          "2024-05-28",
          "2024-05-29",
          "2024-05-30",
          "2024-05-31",
          "2024-06-03",
          "2024-06-04",
          "2024-06-05",
          "2024-06-06",
          "2024-06-07",
          "2024-06-10",
          "2024-06-11",
          "2024-06-12",
          "2024-06-13",
          "2024-06-14",
          "2024-06-17",
          "2024-06-18",
          "2024-06-20",
          "2024-06-21",
          "2024-06-24",
          "2024-06-25",
          "2024-06-26",
          "2024-06-27",
          "2024-06-28",
          "2024-07-01",
          "2024-07-02",
          "2024-07-03",
          "2024-07-05",
          "2024-07-08",
          "2024-07-09",
          "2024-07-10",
          "2024-07-11",
          "2024-07-12",
          "2024-07-15",
          "2024-07-16",
          "2024-07-17",
          "2024-07-18",
          "2024-07-19",
          "2024-07-22",
          "2024-07-23",
          "2024-07-24",
          "2024-07-25",
          "2024-07-26",
          "2024-07-29",
          "2024-07-30",
          "2024-07-31",
          "2024-08-01",
          "2024-08-02",
          "2024-08-05",
          "2024-08-06",
          "2024-08-07",
          "2024-08-08",
          "2024-08-09",
          "2024-08-12",
          "2024-08-13",
          "2024-08-14",
          "2024-08-15",
          "2024-08-16",
          "2024-08-19",
          "2024-08-20",
          "2024-08-21",
          "2024-08-22",
          "2024-08-23",
          "2024-08-26",
          "2024-08-27",
          "2024-08-28",
          "2024-08-29",
          "2024-08-30",
          "2024-09-03",
          "2024-09-04",
          "2024-09-05",
          "2024-09-06",
          "2024-09-09",
          "2024-09-10",
          "2024-09-11",
          "2024-09-12",
          "2024-09-13",
          "2024-09-16",
          "2024-09-17",
          "2024-09-18",
          "2024-09-19",
          "2024-09-20",
          "2024-09-23",
          "2024-09-24",
          "2024-09-25",
          "2024-09-26",
          "2024-09-27",
          "2024-09-30",
          "2024-10-01",
          "2024-10-02",
          "2024-10-03",
          "2024-10-04",
          "2024-10-07",
          "2024-10-08",
          "2024-10-09",
          "2024-10-10",
          "2024-10-11",
          "2024-10-14",
          "2024-10-15",
          "2024-10-16",
          "2024-10-17",
          "2024-10-18",
          "2024-10-21",
          "2024-10-22",
          "2024-10-23",
          "2024-10-24",
          "2024-10-25",
          "2024-10-28",
          "2024-10-29",
          "2024-10-30",
          "2024-10-31",
          "2024-11-01",
          "2024-11-04",
          "2024-11-05",
          "2024-11-06",
          "2024-11-07",
          "2024-11-08",
          "2024-11-11",
          "2024-11-12",
          "2024-11-13",
          "2024-11-14",
          "2024-11-15",
          "2024-11-18",
          "2024-11-19",
          "2024-11-20",
          "2024-11-21",
          "2024-11-22",
          "2024-11-25",
          "2024-11-26",
          "2024-11-27",
          "2024-11-29",
          "2024-12-02",
          "2024-12-03",
          "2024-12-04",
          "2024-12-05",
          "2024-12-06",
          "2024-12-09",
          "2024-12-10",
          "2024-12-11",
          "2024-12-12",
          "2024-12-13",
          "2024-12-16",
          "2024-12-17",
          "2024-12-18",
          "2024-12-19",
          "2024-12-20",
          "2024-12-23",
          "2024-12-24",
          "2024-12-27",
          "2024-12-30",
          "2024-12-31",
          "2025-01-02",
          "2025-01-03",
          "2025-01-06",
          "2025-01-07",
          "2025-01-08",
          "2025-01-10",
          "2025-01-13",
          "2025-01-14",
          "2025-01-15",
          "2025-01-16",
          "2025-01-17",
          "2025-01-21",
          "2025-01-22",
          "2025-01-23",
          "2025-01-24",
          "2025-01-27",
          "2025-01-28",
          "2025-01-29",
          "2025-01-30",
          "2025-01-31",
          "2025-02-03",
          "2025-02-04",
          "2025-02-05",
          "2025-02-06",
          "2025-02-07",
          "2025-02-10",
          "2025-02-11",
          "2025-02-12"
         ],
         "y": [
          -0.01,
          -0.02,
          -0.02,
          -0.02,
          -0.02,
          -0.03,
          -0.02,
          -0.01,
          -0.02,
          -0.02,
          -0.01,
          -0.01,
          -0.02,
          -0.01,
          0,
          0,
          0,
          0,
          0.01,
          0.01,
          0.01,
          0.01,
          0.02,
          0.02,
          0.02,
          0.02,
          0.02,
          0.02,
          0.01,
          0.02,
          0.02,
          0.01,
          0.01,
          0.02,
          0.02,
          0.02,
          0.03,
          0.03,
          0.03,
          0.03,
          0.03,
          0.04,
          0.04,
          0.04,
          0.04,
          0.05,
          0.04,
          0.04,
          0.04,
          0.04,
          0.04,
          0.05,
          0.04,
          0.04,
          0.05,
          0.05,
          0.06,
          0.06,
          0.06,
          0.06,
          0.06,
          0.07,
          0.07,
          0.07,
          0.06,
          0.06,
          0.05,
          0.06,
          0.06,
          0.04,
          0.04,
          0.05,
          0.05,
          0.05,
          0.06,
          0.05,
          0.04,
          0.03,
          0.03,
          0.02,
          0.04,
          0.04,
          0.04,
          0.05,
          0.06,
          0.07,
          0.07,
          0.07,
          0.08,
          0.08,
          0.07,
          0.08,
          0.08,
          0.08,
          0.07,
          0.07,
          0.08,
          0.07,
          0.07,
          0.07,
          0.06,
          0.07,
          0.07,
          0.08,
          0.08,
          0.09,
          0.09,
          0.09,
          0.08,
          0.1,
          0.09,
          0.1,
          0.1,
          0.09,
          0.1,
          0.1,
          0.1,
          0.09,
          0.09,
          0.09,
          0.09,
          0.09,
          0.09,
          0.1,
          0.1,
          0.1,
          0.1,
          0.1,
          0.1,
          0.1,
          0.11,
          0.1,
          0.1,
          0.09,
          0.1,
          0.1,
          0.1,
          0.1,
          0.1,
          0.08,
          0.08,
          0.08,
          0.09,
          0.11,
          0.11,
          0.12,
          0.12,
          0.11,
          0.11,
          0.11,
          0.1,
          0.1,
          0.11,
          0.11,
          0.11,
          0.11,
          0.12,
          0.12,
          0.12,
          0.13,
          0.13,
          0.13,
          0.13,
          0.13,
          0.13,
          0.13,
          0.13,
          0.13,
          0.13,
          0.12,
          0.13,
          0.12,
          0.1,
          0.1,
          0.11,
          0.11,
          0.12,
          0.11,
          0.11,
          0.1,
          0.1,
          0.11,
          0.11,
          0.1,
          0.1,
          0.09,
          0.09,
          0.09,
          0.11,
          0.11,
          0.12,
          0.12,
          0.13,
          0.13,
          0.13,
          0.12,
          0.13,
          0.12,
          0.13,
          0.12,
          0.12,
          0.12,
          0.13,
          0.13,
          0.12,
          0.13,
          0.13,
          0.12
         ]
        }
       ],
       "layout": {
        "annotations": [
         {
          "align": "center",
          "arrowcolor": "red",
          "arrowhead": 2,
          "ax": 0,
          "ay": 60,
          "bgcolor": "rgba(255, 0, 0, 0.7)",
          "bordercolor": "red",
          "captureevents": true,
          "font": {
           "color": "white",
           "size": 12
          },
          "opacity": 1,
          "showarrow": true,
          "text": "<b>-0.0%</b>",
          "x": "2024-04-12",
          "y": 0
         },
         {
          "align": "center",
          "arrowcolor": "red",
          "arrowhead": 2,
          "ax": 0,
          "ay": 60,
          "bgcolor": "rgba(255, 0, 0, 0.7)",
          "bordercolor": "red",
          "captureevents": true,
          "font": {
           "color": "white",
           "size": 12
          },
          "opacity": 1,
          "showarrow": true,
          "text": "<b>1.0%</b>",
          "x": "2024-05-24",
          "y": 0.01
         },
         {
          "align": "center",
          "arrowcolor": "red",
          "arrowhead": 2,
          "ax": 0,
          "ay": 60,
          "bgcolor": "rgba(255, 0, 0, 0.7)",
          "bordercolor": "red",
          "captureevents": true,
          "font": {
           "color": "white",
           "size": 12
          },
          "opacity": 1,
          "showarrow": true,
          "text": "<b>3.0%</b>",
          "x": "2024-07-09",
          "y": 0.03
         },
         {
          "align": "center",
          "arrowcolor": "red",
          "arrowhead": 2,
          "ax": 0,
          "ay": 60,
          "bgcolor": "rgba(255, 0, 0, 0.7)",
          "bordercolor": "red",
          "captureevents": true,
          "font": {
           "color": "white",
           "size": 12
          },
          "opacity": 1,
          "showarrow": true,
          "text": "<b>6.0%</b>",
          "x": "2024-08-19",
          "y": 0.06
         },
         {
          "align": "center",
          "arrowcolor": "red",
          "arrowhead": 2,
          "ax": 0,
          "ay": 60,
          "bgcolor": "rgba(255, 0, 0, 0.7)",
          "bordercolor": "red",
          "captureevents": true,
          "font": {
           "color": "white",
           "size": 12
          },
          "opacity": 1,
          "showarrow": true,
          "text": "<b>8.0%</b>",
          "x": "2024-09-30",
          "y": 0.08
         },
         {
          "align": "center",
          "arrowcolor": "red",
          "arrowhead": 2,
          "ax": 0,
          "ay": 60,
          "bgcolor": "rgba(255, 0, 0, 0.7)",
          "bordercolor": "red",
          "captureevents": true,
          "font": {
           "color": "white",
           "size": 12
          },
          "opacity": 1,
          "showarrow": true,
          "text": "<b>8.0%</b>",
          "x": "2024-11-08",
          "y": 0.08
         },
         {
          "align": "center",
          "arrowcolor": "red",
          "arrowhead": 2,
          "ax": 0,
          "ay": 60,
          "bgcolor": "rgba(255, 0, 0, 0.7)",
          "bordercolor": "red",
          "captureevents": true,
          "font": {
           "color": "white",
           "size": 12
          },
          "opacity": 1,
          "showarrow": true,
          "text": "<b>8.0%</b>",
          "x": "2024-12-20",
          "y": 0.08
         },
         {
          "align": "center",
          "arrowcolor": "red",
          "arrowhead": 2,
          "ax": 0,
          "ay": 60,
          "bgcolor": "rgba(255, 0, 0, 0.7)",
          "bordercolor": "red",
          "captureevents": true,
          "font": {
           "color": "white",
           "size": 12
          },
          "opacity": 1,
          "showarrow": true,
          "text": "<b>10.0%</b>",
          "x": "2025-02-06",
          "y": 0.1
         },
         {
          "align": "center",
          "arrowcolor": "blue",
          "arrowhead": 2,
          "ax": 0,
          "ay": -60,
          "bgcolor": "rgba(0, 0, 255, 0.7)",
          "bordercolor": "blue",
          "captureevents": true,
          "font": {
           "color": "white",
           "size": 12
          },
          "opacity": 1,
          "showarrow": true,
          "text": "<b>-1.0%</b>",
          "x": "2024-04-12",
          "y": -0.01
         },
         {
          "align": "center",
          "arrowcolor": "blue",
          "arrowhead": 2,
          "ax": 0,
          "ay": -60,
          "bgcolor": "rgba(0, 0, 255, 0.7)",
          "bordercolor": "blue",
          "captureevents": true,
          "font": {
           "color": "white",
           "size": 12
          },
          "opacity": 1,
          "showarrow": true,
          "text": "<b>2.0%</b>",
          "x": "2024-05-24",
          "y": 0.02
         },
         {
          "align": "center",
          "arrowcolor": "blue",
          "arrowhead": 2,
          "ax": 0,
          "ay": -60,
          "bgcolor": "rgba(0, 0, 255, 0.7)",
          "bordercolor": "blue",
          "captureevents": true,
          "font": {
           "color": "white",
           "size": 12
          },
          "opacity": 1,
          "showarrow": true,
          "text": "<b>6.0%</b>",
          "x": "2024-07-09",
          "y": 0.06
         },
         {
          "align": "center",
          "arrowcolor": "blue",
          "arrowhead": 2,
          "ax": 0,
          "ay": -60,
          "bgcolor": "rgba(0, 0, 255, 0.7)",
          "bordercolor": "blue",
          "captureevents": true,
          "font": {
           "color": "white",
           "size": 12
          },
          "opacity": 1,
          "showarrow": true,
          "text": "<b>7.0%</b>",
          "x": "2024-08-19",
          "y": 0.07
         },
         {
          "align": "center",
          "arrowcolor": "blue",
          "arrowhead": 2,
          "ax": 0,
          "ay": -60,
          "bgcolor": "rgba(0, 0, 255, 0.7)",
          "bordercolor": "blue",
          "captureevents": true,
          "font": {
           "color": "white",
           "size": 12
          },
          "opacity": 1,
          "showarrow": true,
          "text": "<b>10.0%</b>",
          "x": "2024-09-30",
          "y": 0.1
         },
         {
          "align": "center",
          "arrowcolor": "blue",
          "arrowhead": 2,
          "ax": 0,
          "ay": -60,
          "bgcolor": "rgba(0, 0, 255, 0.7)",
          "bordercolor": "blue",
          "captureevents": true,
          "font": {
           "color": "white",
           "size": 12
          },
          "opacity": 1,
          "showarrow": true,
          "text": "<b>12.0%</b>",
          "x": "2024-11-08",
          "y": 0.12
         },
         {
          "align": "center",
          "arrowcolor": "blue",
          "arrowhead": 2,
          "ax": 0,
          "ay": -60,
          "bgcolor": "rgba(0, 0, 255, 0.7)",
          "bordercolor": "blue",
          "captureevents": true,
          "font": {
           "color": "white",
           "size": 12
          },
          "opacity": 1,
          "showarrow": true,
          "text": "<b>11.0%</b>",
          "x": "2024-12-20",
          "y": 0.11
         },
         {
          "align": "center",
          "arrowcolor": "blue",
          "arrowhead": 2,
          "ax": 0,
          "ay": -60,
          "bgcolor": "rgba(0, 0, 255, 0.7)",
          "bordercolor": "blue",
          "captureevents": true,
          "font": {
           "color": "white",
           "size": 12
          },
          "opacity": 1,
          "showarrow": true,
          "text": "<b>13.0%</b>",
          "x": "2025-02-06",
          "y": 0.13
         }
        ],
        "height": 700,
        "legend": {
         "x": 0.01,
         "y": 0.99
        },
        "template": {
         "data": {
          "bar": [
           {
            "error_x": {
             "color": "#2a3f5f"
            },
            "error_y": {
             "color": "#2a3f5f"
            },
            "marker": {
             "line": {
              "color": "white",
              "width": 0.5
             },
             "pattern": {
              "fillmode": "overlay",
              "size": 10,
              "solidity": 0.2
             }
            },
            "type": "bar"
           }
          ],
          "barpolar": [
           {
            "marker": {
             "line": {
              "color": "white",
              "width": 0.5
             },
             "pattern": {
              "fillmode": "overlay",
              "size": 10,
              "solidity": 0.2
             }
            },
            "type": "barpolar"
           }
          ],
          "carpet": [
           {
            "aaxis": {
             "endlinecolor": "#2a3f5f",
             "gridcolor": "#C8D4E3",
             "linecolor": "#C8D4E3",
             "minorgridcolor": "#C8D4E3",
             "startlinecolor": "#2a3f5f"
            },
            "baxis": {
             "endlinecolor": "#2a3f5f",
             "gridcolor": "#C8D4E3",
             "linecolor": "#C8D4E3",
             "minorgridcolor": "#C8D4E3",
             "startlinecolor": "#2a3f5f"
            },
            "type": "carpet"
           }
          ],
          "choropleth": [
           {
            "colorbar": {
             "outlinewidth": 0,
             "ticks": ""
            },
            "type": "choropleth"
           }
          ],
          "contour": [
           {
            "colorbar": {
             "outlinewidth": 0,
             "ticks": ""
            },
            "colorscale": [
             [
              0,
              "#0d0887"
             ],
             [
              0.1111111111111111,
              "#46039f"
             ],
             [
              0.2222222222222222,
              "#7201a8"
             ],
             [
              0.3333333333333333,
              "#9c179e"
             ],
             [
              0.4444444444444444,
              "#bd3786"
             ],
             [
              0.5555555555555556,
              "#d8576b"
             ],
             [
              0.6666666666666666,
              "#ed7953"
             ],
             [
              0.7777777777777778,
              "#fb9f3a"
             ],
             [
              0.8888888888888888,
              "#fdca26"
             ],
             [
              1,
              "#f0f921"
             ]
            ],
            "type": "contour"
           }
          ],
          "contourcarpet": [
           {
            "colorbar": {
             "outlinewidth": 0,
             "ticks": ""
            },
            "type": "contourcarpet"
           }
          ],
          "heatmap": [
           {
            "colorbar": {
             "outlinewidth": 0,
             "ticks": ""
            },
            "colorscale": [
             [
              0,
              "#0d0887"
             ],
             [
              0.1111111111111111,
              "#46039f"
             ],
             [
              0.2222222222222222,
              "#7201a8"
             ],
             [
              0.3333333333333333,
              "#9c179e"
             ],
             [
              0.4444444444444444,
              "#bd3786"
             ],
             [
              0.5555555555555556,
              "#d8576b"
             ],
             [
              0.6666666666666666,
              "#ed7953"
             ],
             [
              0.7777777777777778,
              "#fb9f3a"
             ],
             [
              0.8888888888888888,
              "#fdca26"
             ],
             [
              1,
              "#f0f921"
             ]
            ],
            "type": "heatmap"
           }
          ],
          "heatmapgl": [
           {
            "colorbar": {
             "outlinewidth": 0,
             "ticks": ""
            },
            "colorscale": [
             [
              0,
              "#0d0887"
             ],
             [
              0.1111111111111111,
              "#46039f"
             ],
             [
              0.2222222222222222,
              "#7201a8"
             ],
             [
              0.3333333333333333,
              "#9c179e"
             ],
             [
              0.4444444444444444,
              "#bd3786"
             ],
             [
              0.5555555555555556,
              "#d8576b"
             ],
             [
              0.6666666666666666,
              "#ed7953"
             ],
             [
              0.7777777777777778,
              "#fb9f3a"
             ],
             [
              0.8888888888888888,
              "#fdca26"
             ],
             [
              1,
              "#f0f921"
             ]
            ],
            "type": "heatmapgl"
           }
          ],
          "histogram": [
           {
            "marker": {
             "pattern": {
              "fillmode": "overlay",
              "size": 10,
              "solidity": 0.2
             }
            },
            "type": "histogram"
           }
          ],
          "histogram2d": [
           {
            "colorbar": {
             "outlinewidth": 0,
             "ticks": ""
            },
            "colorscale": [
             [
              0,
              "#0d0887"
             ],
             [
              0.1111111111111111,
              "#46039f"
             ],
             [
              0.2222222222222222,
              "#7201a8"
             ],
             [
              0.3333333333333333,
              "#9c179e"
             ],
             [
              0.4444444444444444,
              "#bd3786"
             ],
             [
              0.5555555555555556,
              "#d8576b"
             ],
             [
              0.6666666666666666,
              "#ed7953"
             ],
             [
              0.7777777777777778,
              "#fb9f3a"
             ],
             [
              0.8888888888888888,
              "#fdca26"
             ],
             [
              1,
              "#f0f921"
             ]
            ],
            "type": "histogram2d"
           }
          ],
          "histogram2dcontour": [
           {
            "colorbar": {
             "outlinewidth": 0,
             "ticks": ""
            },
            "colorscale": [
             [
              0,
              "#0d0887"
             ],
             [
              0.1111111111111111,
              "#46039f"
             ],
             [
              0.2222222222222222,
              "#7201a8"
             ],
             [
              0.3333333333333333,
              "#9c179e"
             ],
             [
              0.4444444444444444,
              "#bd3786"
             ],
             [
              0.5555555555555556,
              "#d8576b"
             ],
             [
              0.6666666666666666,
              "#ed7953"
             ],
             [
              0.7777777777777778,
              "#fb9f3a"
             ],
             [
              0.8888888888888888,
              "#fdca26"
             ],
             [
              1,
              "#f0f921"
             ]
            ],
            "type": "histogram2dcontour"
           }
          ],
          "mesh3d": [
           {
            "colorbar": {
             "outlinewidth": 0,
             "ticks": ""
            },
            "type": "mesh3d"
           }
          ],
          "parcoords": [
           {
            "line": {
             "colorbar": {
              "outlinewidth": 0,
              "ticks": ""
             }
            },
            "type": "parcoords"
           }
          ],
          "pie": [
           {
            "automargin": true,
            "type": "pie"
           }
          ],
          "scatter": [
           {
            "fillpattern": {
             "fillmode": "overlay",
             "size": 10,
             "solidity": 0.2
            },
            "type": "scatter"
           }
          ],
          "scatter3d": [
           {
            "line": {
             "colorbar": {
              "outlinewidth": 0,
              "ticks": ""
             }
            },
            "marker": {
             "colorbar": {
              "outlinewidth": 0,
              "ticks": ""
             }
            },
            "type": "scatter3d"
           }
          ],
          "scattercarpet": [
           {
            "marker": {
             "colorbar": {
              "outlinewidth": 0,
              "ticks": ""
             }
            },
            "type": "scattercarpet"
           }
          ],
          "scattergeo": [
           {
            "marker": {
             "colorbar": {
              "outlinewidth": 0,
              "ticks": ""
             }
            },
            "type": "scattergeo"
           }
          ],
          "scattergl": [
           {
            "marker": {
             "colorbar": {
              "outlinewidth": 0,
              "ticks": ""
             }
            },
            "type": "scattergl"
           }
          ],
          "scattermapbox": [
           {
            "marker": {
             "colorbar": {
              "outlinewidth": 0,
              "ticks": ""
             }
            },
            "type": "scattermapbox"
           }
          ],
          "scatterpolar": [
           {
            "marker": {
             "colorbar": {
              "outlinewidth": 0,
              "ticks": ""
             }
            },
            "type": "scatterpolar"
           }
          ],
          "scatterpolargl": [
           {
            "marker": {
             "colorbar": {
              "outlinewidth": 0,
              "ticks": ""
             }
            },
            "type": "scatterpolargl"
           }
          ],
          "scatterternary": [
           {
            "marker": {
             "colorbar": {
              "outlinewidth": 0,
              "ticks": ""
             }
            },
            "type": "scatterternary"
           }
          ],
          "surface": [
           {
            "colorbar": {
             "outlinewidth": 0,
             "ticks": ""
            },
            "colorscale": [
             [
              0,
              "#0d0887"
             ],
             [
              0.1111111111111111,
              "#46039f"
             ],
             [
              0.2222222222222222,
              "#7201a8"
             ],
             [
              0.3333333333333333,
              "#9c179e"
             ],
             [
              0.4444444444444444,
              "#bd3786"
             ],
             [
              0.5555555555555556,
              "#d8576b"
             ],
             [
              0.6666666666666666,
              "#ed7953"
             ],
             [
              0.7777777777777778,
              "#fb9f3a"
             ],
             [
              0.8888888888888888,
              "#fdca26"
             ],
             [
              1,
              "#f0f921"
             ]
            ],
            "type": "surface"
           }
          ],
          "table": [
           {
            "cells": {
             "fill": {
              "color": "#EBF0F8"
             },
             "line": {
              "color": "white"
             }
            },
            "header": {
             "fill": {
              "color": "#C8D4E3"
             },
             "line": {
              "color": "white"
             }
            },
            "type": "table"
           }
          ]
         },
         "layout": {
          "annotationdefaults": {
           "arrowcolor": "#2a3f5f",
           "arrowhead": 0,
           "arrowwidth": 1
          },
          "autotypenumbers": "strict",
          "coloraxis": {
           "colorbar": {
            "outlinewidth": 0,
            "ticks": ""
           }
          },
          "colorscale": {
           "diverging": [
            [
             0,
             "#8e0152"
            ],
            [
             0.1,
             "#c51b7d"
            ],
            [
             0.2,
             "#de77ae"
            ],
            [
             0.3,
             "#f1b6da"
            ],
            [
             0.4,
             "#fde0ef"
            ],
            [
             0.5,
             "#f7f7f7"
            ],
            [
             0.6,
             "#e6f5d0"
            ],
            [
             0.7,
             "#b8e186"
            ],
            [
             0.8,
             "#7fbc41"
            ],
            [
             0.9,
             "#4d9221"
            ],
            [
             1,
             "#276419"
            ]
           ],
           "sequential": [
            [
             0,
             "#0d0887"
            ],
            [
             0.1111111111111111,
             "#46039f"
            ],
            [
             0.2222222222222222,
             "#7201a8"
            ],
            [
             0.3333333333333333,
             "#9c179e"
            ],
            [
             0.4444444444444444,
             "#bd3786"
            ],
            [
             0.5555555555555556,
             "#d8576b"
            ],
            [
             0.6666666666666666,
             "#ed7953"
            ],
            [
             0.7777777777777778,
             "#fb9f3a"
            ],
            [
             0.8888888888888888,
             "#fdca26"
            ],
            [
             1,
             "#f0f921"
            ]
           ],
           "sequentialminus": [
            [
             0,
             "#0d0887"
            ],
            [
             0.1111111111111111,
             "#46039f"
            ],
            [
             0.2222222222222222,
             "#7201a8"
            ],
            [
             0.3333333333333333,
             "#9c179e"
            ],
            [
             0.4444444444444444,
             "#bd3786"
            ],
            [
             0.5555555555555556,
             "#d8576b"
            ],
            [
             0.6666666666666666,
             "#ed7953"
            ],
            [
             0.7777777777777778,
             "#fb9f3a"
            ],
            [
             0.8888888888888888,
             "#fdca26"
            ],
            [
             1,
             "#f0f921"
            ]
           ]
          },
          "colorway": [
           "#636efa",
           "#EF553B",
           "#00cc96",
           "#ab63fa",
           "#FFA15A",
           "#19d3f3",
           "#FF6692",
           "#B6E880",
           "#FF97FF",
           "#FECB52"
          ],
          "font": {
           "color": "#2a3f5f"
          },
          "geo": {
           "bgcolor": "white",
           "lakecolor": "white",
           "landcolor": "white",
           "showlakes": true,
           "showland": true,
           "subunitcolor": "#C8D4E3"
          },
          "hoverlabel": {
           "align": "left"
          },
          "hovermode": "closest",
          "mapbox": {
           "style": "light"
          },
          "paper_bgcolor": "white",
          "plot_bgcolor": "white",
          "polar": {
           "angularaxis": {
            "gridcolor": "#EBF0F8",
            "linecolor": "#EBF0F8",
            "ticks": ""
           },
           "bgcolor": "white",
           "radialaxis": {
            "gridcolor": "#EBF0F8",
            "linecolor": "#EBF0F8",
            "ticks": ""
           }
          },
          "scene": {
           "xaxis": {
            "backgroundcolor": "white",
            "gridcolor": "#DFE8F3",
            "gridwidth": 2,
            "linecolor": "#EBF0F8",
            "showbackground": true,
            "ticks": "",
            "zerolinecolor": "#EBF0F8"
           },
           "yaxis": {
            "backgroundcolor": "white",
            "gridcolor": "#DFE8F3",
            "gridwidth": 2,
            "linecolor": "#EBF0F8",
            "showbackground": true,
            "ticks": "",
            "zerolinecolor": "#EBF0F8"
           },
           "zaxis": {
            "backgroundcolor": "white",
            "gridcolor": "#DFE8F3",
            "gridwidth": 2,
            "linecolor": "#EBF0F8",
            "showbackground": true,
            "ticks": "",
            "zerolinecolor": "#EBF0F8"
           }
          },
          "shapedefaults": {
           "line": {
            "color": "#2a3f5f"
           }
          },
          "ternary": {
           "aaxis": {
            "gridcolor": "#DFE8F3",
            "linecolor": "#A2B1C6",
            "ticks": ""
           },
           "baxis": {
            "gridcolor": "#DFE8F3",
            "linecolor": "#A2B1C6",
            "ticks": ""
           },
           "bgcolor": "white",
           "caxis": {
            "gridcolor": "#DFE8F3",
            "linecolor": "#A2B1C6",
            "ticks": ""
           }
          },
          "title": {
           "x": 0.05
          },
          "xaxis": {
           "automargin": true,
           "gridcolor": "#EBF0F8",
           "linecolor": "#EBF0F8",
           "ticks": "",
           "title": {
            "standoff": 15
           },
           "zerolinecolor": "#EBF0F8",
           "zerolinewidth": 2
          },
          "yaxis": {
           "automargin": true,
           "gridcolor": "#EBF0F8",
           "linecolor": "#EBF0F8",
           "ticks": "",
           "title": {
            "standoff": 15
           },
           "zerolinecolor": "#EBF0F8",
           "zerolinewidth": 2
          }
         }
        },
        "title": {
         "text": "Portfolio vs Benchmark Cumulative Returns"
        },
        "xaxis": {
         "title": {
          "text": "Date"
         }
        },
        "yaxis": {
         "tickformat": ".00%",
         "title": {
          "text": "Cumulative Return"
         }
        }
       }
      }
     },
     "metadata": {},
     "output_type": "display_data"
    },
    {
     "name": "stdout",
     "output_type": "stream",
     "text": [
      "Investment period starts at:  2024-06-04\n",
      "Investment period ends at:  2025-02-12\n",
      "Portfolio returns was:  7.81 %\n",
      "Benchmark was:  10.28 %\n",
      "Current weights are:  OrderedDict([('BND', 0.6649), ('GLD', 0.10605), ('HODL.PA', 0.01296), ('SPY', 0.21609)])\n"
     ]
    },
    {
     "data": {
      "application/vnd.plotly.v1+json": {
       "config": {
        "plotlyServerURL": "https://plot.ly"
       },
       "data": [
        {
         "hovertemplate": "Date: %{x}<br>Return: %{y:.1%}<extra></extra>",
         "line": {
          "color": "red",
          "width": 2
         },
         "marker": {
          "size": 6
         },
         "mode": "lines",
         "name": "Portfolio",
         "type": "scatter",
         "x": [
          "2024-06-04",
          "2024-06-05",
          "2024-06-06",
          "2024-06-07",
          "2024-06-10",
          "2024-06-11",
          "2024-06-12",
          "2024-06-13",
          "2024-06-14",
          "2024-06-17",
          "2024-06-18",
          "2024-06-20",
          "2024-06-21",
          "2024-06-24",
          "2024-06-25",
          "2024-06-26",
          "2024-06-27",
          "2024-06-28",
          "2024-07-01",
          "2024-07-02",
          "2024-07-03",
          "2024-07-05",
          "2024-07-08",
          "2024-07-09",
          "2024-07-10",
          "2024-07-11",
          "2024-07-12",
          "2024-07-15",
          "2024-07-16",
          "2024-07-17",
          "2024-07-18",
          "2024-07-19",
          "2024-07-22",
          "2024-07-23",
          "2024-07-24",
          "2024-07-25",
          "2024-07-26",
          "2024-07-29",
          "2024-07-30",
          "2024-07-31",
          "2024-08-01",
          "2024-08-02",
          "2024-08-05",
          "2024-08-06",
          "2024-08-07",
          "2024-08-08",
          "2024-08-09",
          "2024-08-12",
          "2024-08-13",
          "2024-08-14",
          "2024-08-15",
          "2024-08-16",
          "2024-08-19",
          "2024-08-20",
          "2024-08-21",
          "2024-08-22",
          "2024-08-23",
          "2024-08-26",
          "2024-08-27",
          "2024-08-28",
          "2024-08-29",
          "2024-08-30",
          "2024-09-03",
          "2024-09-04",
          "2024-09-05",
          "2024-09-06",
          "2024-09-09",
          "2024-09-10",
          "2024-09-11",
          "2024-09-12",
          "2024-09-13",
          "2024-09-16",
          "2024-09-17",
          "2024-09-18",
          "2024-09-19",
          "2024-09-20",
          "2024-09-23",
          "2024-09-24",
          "2024-09-25",
          "2024-09-26",
          "2024-09-27",
          "2024-09-30",
          "2024-10-01",
          "2024-10-02",
          "2024-10-03",
          "2024-10-04",
          "2024-10-07",
          "2024-10-08",
          "2024-10-09",
          "2024-10-10",
          "2024-10-11",
          "2024-10-14",
          "2024-10-15",
          "2024-10-16",
          "2024-10-17",
          "2024-10-18",
          "2024-10-21",
          "2024-10-22",
          "2024-10-23",
          "2024-10-24",
          "2024-10-25",
          "2024-10-28",
          "2024-10-29",
          "2024-10-30",
          "2024-10-31",
          "2024-11-01",
          "2024-11-04",
          "2024-11-05",
          "2024-11-06",
          "2024-11-07",
          "2024-11-08",
          "2024-11-11",
          "2024-11-12",
          "2024-11-13",
          "2024-11-14",
          "2024-11-15",
          "2024-11-18",
          "2024-11-19",
          "2024-11-20",
          "2024-11-21",
          "2024-11-22",
          "2024-11-25",
          "2024-11-26",
          "2024-11-27",
          "2024-11-29",
          "2024-12-02",
          "2024-12-03",
          "2024-12-04",
          "2024-12-05",
          "2024-12-06",
          "2024-12-09",
          "2024-12-10",
          "2024-12-11",
          "2024-12-12",
          "2024-12-13",
          "2024-12-16",
          "2024-12-17",
          "2024-12-18",
          "2024-12-19",
          "2024-12-20",
          "2024-12-23",
          "2024-12-24",
          "2024-12-27",
          "2024-12-30",
          "2024-12-31",
          "2025-01-02",
          "2025-01-03",
          "2025-01-06",
          "2025-01-07",
          "2025-01-08",
          "2025-01-10",
          "2025-01-13",
          "2025-01-14",
          "2025-01-15",
          "2025-01-16",
          "2025-01-17",
          "2025-01-21",
          "2025-01-22",
          "2025-01-23",
          "2025-01-24",
          "2025-01-27",
          "2025-01-28",
          "2025-01-29",
          "2025-01-30",
          "2025-01-31",
          "2025-02-03",
          "2025-02-04",
          "2025-02-05",
          "2025-02-06",
          "2025-02-07",
          "2025-02-10",
          "2025-02-11",
          "2025-02-12"
         ],
         "y": [
          0,
          0.01,
          0.01,
          0,
          0,
          0,
          0.01,
          0.01,
          0.01,
          0.01,
          0.01,
          0.01,
          0.01,
          0.01,
          0.01,
          0.01,
          0.01,
          0.01,
          0,
          0.01,
          0.01,
          0.02,
          0.02,
          0.02,
          0.02,
          0.02,
          0.03,
          0.03,
          0.03,
          0.03,
          0.03,
          0.02,
          0.02,
          0.02,
          0.02,
          0.01,
          0.02,
          0.02,
          0.02,
          0.03,
          0.03,
          0.03,
          0.02,
          0.02,
          0.02,
          0.02,
          0.03,
          0.03,
          0.04,
          0.04,
          0.04,
          0.04,
          0.05,
          0.05,
          0.05,
          0.04,
          0.05,
          0.05,
          0.05,
          0.05,
          0.05,
          0.05,
          0.05,
          0.05,
          0.05,
          0.05,
          0.05,
          0.05,
          0.06,
          0.06,
          0.06,
          0.06,
          0.06,
          0.06,
          0.07,
          0.07,
          0.07,
          0.07,
          0.07,
          0.07,
          0.07,
          0.07,
          0.07,
          0.07,
          0.06,
          0.06,
          0.06,
          0.06,
          0.06,
          0.06,
          0.06,
          0.06,
          0.06,
          0.07,
          0.06,
          0.07,
          0.06,
          0.06,
          0.06,
          0.06,
          0.06,
          0.06,
          0.06,
          0.06,
          0.05,
          0.05,
          0.05,
          0.06,
          0.06,
          0.07,
          0.07,
          0.07,
          0.06,
          0.06,
          0.06,
          0.05,
          0.06,
          0.06,
          0.06,
          0.06,
          0.07,
          0.07,
          0.07,
          0.07,
          0.08,
          0.08,
          0.08,
          0.08,
          0.08,
          0.08,
          0.08,
          0.08,
          0.08,
          0.08,
          0.07,
          0.07,
          0.07,
          0.06,
          0.06,
          0.06,
          0.06,
          0.06,
          0.06,
          0.06,
          0.06,
          0.06,
          0.06,
          0.06,
          0.06,
          0.06,
          0.05,
          0.05,
          0.05,
          0.06,
          0.07,
          0.07,
          0.07,
          0.07,
          0.07,
          0.08,
          0.07,
          0.08,
          0.08,
          0.08,
          0.08,
          0.08,
          0.08,
          0.08,
          0.08,
          0.08,
          0.08,
          0.08,
          0.08
         ]
        },
        {
         "hovertemplate": "Date: %{x}<br>Return: %{y:.1%}<extra></extra>",
         "line": {
          "color": "blue",
          "width": 2
         },
         "marker": {
          "size": 6
         },
         "mode": "lines",
         "name": "Benchmark (60/40 SPY/BND)",
         "type": "scatter",
         "x": [
          "2024-06-04",
          "2024-06-05",
          "2024-06-06",
          "2024-06-07",
          "2024-06-10",
          "2024-06-11",
          "2024-06-12",
          "2024-06-13",
          "2024-06-14",
          "2024-06-17",
          "2024-06-18",
          "2024-06-20",
          "2024-06-21",
          "2024-06-24",
          "2024-06-25",
          "2024-06-26",
          "2024-06-27",
          "2024-06-28",
          "2024-07-01",
          "2024-07-02",
          "2024-07-03",
          "2024-07-05",
          "2024-07-08",
          "2024-07-09",
          "2024-07-10",
          "2024-07-11",
          "2024-07-12",
          "2024-07-15",
          "2024-07-16",
          "2024-07-17",
          "2024-07-18",
          "2024-07-19",
          "2024-07-22",
          "2024-07-23",
          "2024-07-24",
          "2024-07-25",
          "2024-07-26",
          "2024-07-29",
          "2024-07-30",
          "2024-07-31",
          "2024-08-01",
          "2024-08-02",
          "2024-08-05",
          "2024-08-06",
          "2024-08-07",
          "2024-08-08",
          "2024-08-09",
          "2024-08-12",
          "2024-08-13",
          "2024-08-14",
          "2024-08-15",
          "2024-08-16",
          "2024-08-19",
          "2024-08-20",
          "2024-08-21",
          "2024-08-22",
          "2024-08-23",
          "2024-08-26",
          "2024-08-27",
          "2024-08-28",
          "2024-08-29",
          "2024-08-30",
          "2024-09-03",
          "2024-09-04",
          "2024-09-05",
          "2024-09-06",
          "2024-09-09",
          "2024-09-10",
          "2024-09-11",
          "2024-09-12",
          "2024-09-13",
          "2024-09-16",
          "2024-09-17",
          "2024-09-18",
          "2024-09-19",
          "2024-09-20",
          "2024-09-23",
          "2024-09-24",
          "2024-09-25",
          "2024-09-26",
          "2024-09-27",
          "2024-09-30",
          "2024-10-01",
          "2024-10-02",
          "2024-10-03",
          "2024-10-04",
          "2024-10-07",
          "2024-10-08",
          "2024-10-09",
          "2024-10-10",
          "2024-10-11",
          "2024-10-14",
          "2024-10-15",
          "2024-10-16",
          "2024-10-17",
          "2024-10-18",
          "2024-10-21",
          "2024-10-22",
          "2024-10-23",
          "2024-10-24",
          "2024-10-25",
          "2024-10-28",
          "2024-10-29",
          "2024-10-30",
          "2024-10-31",
          "2024-11-01",
          "2024-11-04",
          "2024-11-05",
          "2024-11-06",
          "2024-11-07",
          "2024-11-08",
          "2024-11-11",
          "2024-11-12",
          "2024-11-13",
          "2024-11-14",
          "2024-11-15",
          "2024-11-18",
          "2024-11-19",
          "2024-11-20",
          "2024-11-21",
          "2024-11-22",
          "2024-11-25",
          "2024-11-26",
          "2024-11-27",
          "2024-11-29",
          "2024-12-02",
          "2024-12-03",
          "2024-12-04",
          "2024-12-05",
          "2024-12-06",
          "2024-12-09",
          "2024-12-10",
          "2024-12-11",
          "2024-12-12",
          "2024-12-13",
          "2024-12-16",
          "2024-12-17",
          "2024-12-18",
          "2024-12-19",
          "2024-12-20",
          "2024-12-23",
          "2024-12-24",
          "2024-12-27",
          "2024-12-30",
          "2024-12-31",
          "2025-01-02",
          "2025-01-03",
          "2025-01-06",
          "2025-01-07",
          "2025-01-08",
          "2025-01-10",
          "2025-01-13",
          "2025-01-14",
          "2025-01-15",
          "2025-01-16",
          "2025-01-17",
          "2025-01-21",
          "2025-01-22",
          "2025-01-23",
          "2025-01-24",
          "2025-01-27",
          "2025-01-28",
          "2025-01-29",
          "2025-01-30",
          "2025-01-31",
          "2025-02-03",
          "2025-02-04",
          "2025-02-05",
          "2025-02-06",
          "2025-02-07",
          "2025-02-10",
          "2025-02-11",
          "2025-02-12"
         ],
         "y": [
          0,
          0.01,
          0.01,
          0.01,
          0.01,
          0.01,
          0.02,
          0.02,
          0.02,
          0.03,
          0.03,
          0.03,
          0.02,
          0.02,
          0.03,
          0.02,
          0.03,
          0.02,
          0.02,
          0.03,
          0.03,
          0.04,
          0.04,
          0.04,
          0.04,
          0.04,
          0.05,
          0.05,
          0.05,
          0.04,
          0.04,
          0.03,
          0.04,
          0.04,
          0.02,
          0.02,
          0.03,
          0.03,
          0.03,
          0.04,
          0.03,
          0.02,
          0.01,
          0.01,
          0,
          0.02,
          0.02,
          0.02,
          0.03,
          0.04,
          0.05,
          0.05,
          0.06,
          0.06,
          0.06,
          0.05,
          0.06,
          0.06,
          0.06,
          0.06,
          0.05,
          0.06,
          0.05,
          0.05,
          0.05,
          0.04,
          0.05,
          0.05,
          0.06,
          0.06,
          0.07,
          0.07,
          0.07,
          0.06,
          0.08,
          0.07,
          0.08,
          0.08,
          0.07,
          0.08,
          0.08,
          0.08,
          0.07,
          0.07,
          0.07,
          0.07,
          0.07,
          0.07,
          0.08,
          0.08,
          0.08,
          0.08,
          0.08,
          0.08,
          0.08,
          0.09,
          0.08,
          0.08,
          0.07,
          0.08,
          0.08,
          0.08,
          0.08,
          0.08,
          0.06,
          0.06,
          0.06,
          0.07,
          0.09,
          0.09,
          0.1,
          0.1,
          0.09,
          0.09,
          0.09,
          0.08,
          0.08,
          0.09,
          0.09,
          0.09,
          0.09,
          0.1,
          0.1,
          0.1,
          0.11,
          0.11,
          0.11,
          0.11,
          0.11,
          0.11,
          0.11,
          0.11,
          0.11,
          0.11,
          0.1,
          0.11,
          0.1,
          0.08,
          0.08,
          0.09,
          0.09,
          0.1,
          0.09,
          0.09,
          0.08,
          0.08,
          0.09,
          0.09,
          0.08,
          0.08,
          0.07,
          0.07,
          0.07,
          0.09,
          0.09,
          0.1,
          0.1,
          0.11,
          0.11,
          0.11,
          0.1,
          0.11,
          0.1,
          0.11,
          0.1,
          0.1,
          0.1,
          0.11,
          0.11,
          0.1,
          0.11,
          0.11,
          0.1
         ]
        }
       ],
       "layout": {
        "annotations": [
         {
          "align": "center",
          "arrowcolor": "red",
          "arrowhead": 2,
          "ax": 0,
          "ay": 60,
          "bgcolor": "rgba(255, 0, 0, 0.7)",
          "bordercolor": "red",
          "captureevents": true,
          "font": {
           "color": "white",
           "size": 12
          },
          "opacity": 1,
          "showarrow": true,
          "text": "<b>0.0%</b>",
          "x": "2024-06-04",
          "y": 0
         },
         {
          "align": "center",
          "arrowcolor": "red",
          "arrowhead": 2,
          "ax": 0,
          "ay": 60,
          "bgcolor": "rgba(255, 0, 0, 0.7)",
          "bordercolor": "red",
          "captureevents": true,
          "font": {
           "color": "white",
           "size": 12
          },
          "opacity": 1,
          "showarrow": true,
          "text": "<b>2.0%</b>",
          "x": "2024-07-10",
          "y": 0.02
         },
         {
          "align": "center",
          "arrowcolor": "red",
          "arrowhead": 2,
          "ax": 0,
          "ay": 60,
          "bgcolor": "rgba(255, 0, 0, 0.7)",
          "bordercolor": "red",
          "captureevents": true,
          "font": {
           "color": "white",
           "size": 12
          },
          "opacity": 1,
          "showarrow": true,
          "text": "<b>4.0%</b>",
          "x": "2024-08-13",
          "y": 0.04
         },
         {
          "align": "center",
          "arrowcolor": "red",
          "arrowhead": 2,
          "ax": 0,
          "ay": 60,
          "bgcolor": "rgba(255, 0, 0, 0.7)",
          "bordercolor": "red",
          "captureevents": true,
          "font": {
           "color": "white",
           "size": 12
          },
          "opacity": 1,
          "showarrow": true,
          "text": "<b>6.0%</b>",
          "x": "2024-09-17",
          "y": 0.06
         },
         {
          "align": "center",
          "arrowcolor": "red",
          "arrowhead": 2,
          "ax": 0,
          "ay": 60,
          "bgcolor": "rgba(255, 0, 0, 0.7)",
          "bordercolor": "red",
          "captureevents": true,
          "font": {
           "color": "white",
           "size": 12
          },
          "opacity": 1,
          "showarrow": true,
          "text": "<b>6.0%</b>",
          "x": "2024-10-21",
          "y": 0.06
         },
         {
          "align": "center",
          "arrowcolor": "red",
          "arrowhead": 2,
          "ax": 0,
          "ay": 60,
          "bgcolor": "rgba(255, 0, 0, 0.7)",
          "bordercolor": "red",
          "captureevents": true,
          "font": {
           "color": "white",
           "size": 12
          },
          "opacity": 1,
          "showarrow": true,
          "text": "<b>7.0%</b>",
          "x": "2024-11-22",
          "y": 0.07
         },
         {
          "align": "center",
          "arrowcolor": "red",
          "arrowhead": 2,
          "ax": 0,
          "ay": 60,
          "bgcolor": "rgba(255, 0, 0, 0.7)",
          "bordercolor": "red",
          "captureevents": true,
          "font": {
           "color": "white",
           "size": 12
          },
          "opacity": 1,
          "showarrow": true,
          "text": "<b>6.0%</b>",
          "x": "2024-12-31",
          "y": 0.06
         },
         {
          "align": "center",
          "arrowcolor": "red",
          "arrowhead": 2,
          "ax": 0,
          "ay": 60,
          "bgcolor": "rgba(255, 0, 0, 0.7)",
          "bordercolor": "red",
          "captureevents": true,
          "font": {
           "color": "white",
           "size": 12
          },
          "opacity": 1,
          "showarrow": true,
          "text": "<b>8.0%</b>",
          "x": "2025-02-06",
          "y": 0.08
         },
         {
          "align": "center",
          "arrowcolor": "blue",
          "arrowhead": 2,
          "ax": 0,
          "ay": -60,
          "bgcolor": "rgba(0, 0, 255, 0.7)",
          "bordercolor": "blue",
          "captureevents": true,
          "font": {
           "color": "white",
           "size": 12
          },
          "opacity": 1,
          "showarrow": true,
          "text": "<b>0.0%</b>",
          "x": "2024-06-04",
          "y": 0
         },
         {
          "align": "center",
          "arrowcolor": "blue",
          "arrowhead": 2,
          "ax": 0,
          "ay": -60,
          "bgcolor": "rgba(0, 0, 255, 0.7)",
          "bordercolor": "blue",
          "captureevents": true,
          "font": {
           "color": "white",
           "size": 12
          },
          "opacity": 1,
          "showarrow": true,
          "text": "<b>4.0%</b>",
          "x": "2024-07-10",
          "y": 0.04
         },
         {
          "align": "center",
          "arrowcolor": "blue",
          "arrowhead": 2,
          "ax": 0,
          "ay": -60,
          "bgcolor": "rgba(0, 0, 255, 0.7)",
          "bordercolor": "blue",
          "captureevents": true,
          "font": {
           "color": "white",
           "size": 12
          },
          "opacity": 1,
          "showarrow": true,
          "text": "<b>3.0%</b>",
          "x": "2024-08-13",
          "y": 0.03
         },
         {
          "align": "center",
          "arrowcolor": "blue",
          "arrowhead": 2,
          "ax": 0,
          "ay": -60,
          "bgcolor": "rgba(0, 0, 255, 0.7)",
          "bordercolor": "blue",
          "captureevents": true,
          "font": {
           "color": "white",
           "size": 12
          },
          "opacity": 1,
          "showarrow": true,
          "text": "<b>7.0%</b>",
          "x": "2024-09-17",
          "y": 0.07
         },
         {
          "align": "center",
          "arrowcolor": "blue",
          "arrowhead": 2,
          "ax": 0,
          "ay": -60,
          "bgcolor": "rgba(0, 0, 255, 0.7)",
          "bordercolor": "blue",
          "captureevents": true,
          "font": {
           "color": "white",
           "size": 12
          },
          "opacity": 1,
          "showarrow": true,
          "text": "<b>8.0%</b>",
          "x": "2024-10-21",
          "y": 0.08
         },
         {
          "align": "center",
          "arrowcolor": "blue",
          "arrowhead": 2,
          "ax": 0,
          "ay": -60,
          "bgcolor": "rgba(0, 0, 255, 0.7)",
          "bordercolor": "blue",
          "captureevents": true,
          "font": {
           "color": "white",
           "size": 12
          },
          "opacity": 1,
          "showarrow": true,
          "text": "<b>9.0%</b>",
          "x": "2024-11-22",
          "y": 0.09
         },
         {
          "align": "center",
          "arrowcolor": "blue",
          "arrowhead": 2,
          "ax": 0,
          "ay": -60,
          "bgcolor": "rgba(0, 0, 255, 0.7)",
          "bordercolor": "blue",
          "captureevents": true,
          "font": {
           "color": "white",
           "size": 12
          },
          "opacity": 1,
          "showarrow": true,
          "text": "<b>8.0%</b>",
          "x": "2024-12-31",
          "y": 0.08
         },
         {
          "align": "center",
          "arrowcolor": "blue",
          "arrowhead": 2,
          "ax": 0,
          "ay": -60,
          "bgcolor": "rgba(0, 0, 255, 0.7)",
          "bordercolor": "blue",
          "captureevents": true,
          "font": {
           "color": "white",
           "size": 12
          },
          "opacity": 1,
          "showarrow": true,
          "text": "<b>11.0%</b>",
          "x": "2025-02-06",
          "y": 0.11
         }
        ],
        "height": 700,
        "legend": {
         "x": 0.01,
         "y": 0.99
        },
        "template": {
         "data": {
          "bar": [
           {
            "error_x": {
             "color": "#2a3f5f"
            },
            "error_y": {
             "color": "#2a3f5f"
            },
            "marker": {
             "line": {
              "color": "white",
              "width": 0.5
             },
             "pattern": {
              "fillmode": "overlay",
              "size": 10,
              "solidity": 0.2
             }
            },
            "type": "bar"
           }
          ],
          "barpolar": [
           {
            "marker": {
             "line": {
              "color": "white",
              "width": 0.5
             },
             "pattern": {
              "fillmode": "overlay",
              "size": 10,
              "solidity": 0.2
             }
            },
            "type": "barpolar"
           }
          ],
          "carpet": [
           {
            "aaxis": {
             "endlinecolor": "#2a3f5f",
             "gridcolor": "#C8D4E3",
             "linecolor": "#C8D4E3",
             "minorgridcolor": "#C8D4E3",
             "startlinecolor": "#2a3f5f"
            },
            "baxis": {
             "endlinecolor": "#2a3f5f",
             "gridcolor": "#C8D4E3",
             "linecolor": "#C8D4E3",
             "minorgridcolor": "#C8D4E3",
             "startlinecolor": "#2a3f5f"
            },
            "type": "carpet"
           }
          ],
          "choropleth": [
           {
            "colorbar": {
             "outlinewidth": 0,
             "ticks": ""
            },
            "type": "choropleth"
           }
          ],
          "contour": [
           {
            "colorbar": {
             "outlinewidth": 0,
             "ticks": ""
            },
            "colorscale": [
             [
              0,
              "#0d0887"
             ],
             [
              0.1111111111111111,
              "#46039f"
             ],
             [
              0.2222222222222222,
              "#7201a8"
             ],
             [
              0.3333333333333333,
              "#9c179e"
             ],
             [
              0.4444444444444444,
              "#bd3786"
             ],
             [
              0.5555555555555556,
              "#d8576b"
             ],
             [
              0.6666666666666666,
              "#ed7953"
             ],
             [
              0.7777777777777778,
              "#fb9f3a"
             ],
             [
              0.8888888888888888,
              "#fdca26"
             ],
             [
              1,
              "#f0f921"
             ]
            ],
            "type": "contour"
           }
          ],
          "contourcarpet": [
           {
            "colorbar": {
             "outlinewidth": 0,
             "ticks": ""
            },
            "type": "contourcarpet"
           }
          ],
          "heatmap": [
           {
            "colorbar": {
             "outlinewidth": 0,
             "ticks": ""
            },
            "colorscale": [
             [
              0,
              "#0d0887"
             ],
             [
              0.1111111111111111,
              "#46039f"
             ],
             [
              0.2222222222222222,
              "#7201a8"
             ],
             [
              0.3333333333333333,
              "#9c179e"
             ],
             [
              0.4444444444444444,
              "#bd3786"
             ],
             [
              0.5555555555555556,
              "#d8576b"
             ],
             [
              0.6666666666666666,
              "#ed7953"
             ],
             [
              0.7777777777777778,
              "#fb9f3a"
             ],
             [
              0.8888888888888888,
              "#fdca26"
             ],
             [
              1,
              "#f0f921"
             ]
            ],
            "type": "heatmap"
           }
          ],
          "heatmapgl": [
           {
            "colorbar": {
             "outlinewidth": 0,
             "ticks": ""
            },
            "colorscale": [
             [
              0,
              "#0d0887"
             ],
             [
              0.1111111111111111,
              "#46039f"
             ],
             [
              0.2222222222222222,
              "#7201a8"
             ],
             [
              0.3333333333333333,
              "#9c179e"
             ],
             [
              0.4444444444444444,
              "#bd3786"
             ],
             [
              0.5555555555555556,
              "#d8576b"
             ],
             [
              0.6666666666666666,
              "#ed7953"
             ],
             [
              0.7777777777777778,
              "#fb9f3a"
             ],
             [
              0.8888888888888888,
              "#fdca26"
             ],
             [
              1,
              "#f0f921"
             ]
            ],
            "type": "heatmapgl"
           }
          ],
          "histogram": [
           {
            "marker": {
             "pattern": {
              "fillmode": "overlay",
              "size": 10,
              "solidity": 0.2
             }
            },
            "type": "histogram"
           }
          ],
          "histogram2d": [
           {
            "colorbar": {
             "outlinewidth": 0,
             "ticks": ""
            },
            "colorscale": [
             [
              0,
              "#0d0887"
             ],
             [
              0.1111111111111111,
              "#46039f"
             ],
             [
              0.2222222222222222,
              "#7201a8"
             ],
             [
              0.3333333333333333,
              "#9c179e"
             ],
             [
              0.4444444444444444,
              "#bd3786"
             ],
             [
              0.5555555555555556,
              "#d8576b"
             ],
             [
              0.6666666666666666,
              "#ed7953"
             ],
             [
              0.7777777777777778,
              "#fb9f3a"
             ],
             [
              0.8888888888888888,
              "#fdca26"
             ],
             [
              1,
              "#f0f921"
             ]
            ],
            "type": "histogram2d"
           }
          ],
          "histogram2dcontour": [
           {
            "colorbar": {
             "outlinewidth": 0,
             "ticks": ""
            },
            "colorscale": [
             [
              0,
              "#0d0887"
             ],
             [
              0.1111111111111111,
              "#46039f"
             ],
             [
              0.2222222222222222,
              "#7201a8"
             ],
             [
              0.3333333333333333,
              "#9c179e"
             ],
             [
              0.4444444444444444,
              "#bd3786"
             ],
             [
              0.5555555555555556,
              "#d8576b"
             ],
             [
              0.6666666666666666,
              "#ed7953"
             ],
             [
              0.7777777777777778,
              "#fb9f3a"
             ],
             [
              0.8888888888888888,
              "#fdca26"
             ],
             [
              1,
              "#f0f921"
             ]
            ],
            "type": "histogram2dcontour"
           }
          ],
          "mesh3d": [
           {
            "colorbar": {
             "outlinewidth": 0,
             "ticks": ""
            },
            "type": "mesh3d"
           }
          ],
          "parcoords": [
           {
            "line": {
             "colorbar": {
              "outlinewidth": 0,
              "ticks": ""
             }
            },
            "type": "parcoords"
           }
          ],
          "pie": [
           {
            "automargin": true,
            "type": "pie"
           }
          ],
          "scatter": [
           {
            "fillpattern": {
             "fillmode": "overlay",
             "size": 10,
             "solidity": 0.2
            },
            "type": "scatter"
           }
          ],
          "scatter3d": [
           {
            "line": {
             "colorbar": {
              "outlinewidth": 0,
              "ticks": ""
             }
            },
            "marker": {
             "colorbar": {
              "outlinewidth": 0,
              "ticks": ""
             }
            },
            "type": "scatter3d"
           }
          ],
          "scattercarpet": [
           {
            "marker": {
             "colorbar": {
              "outlinewidth": 0,
              "ticks": ""
             }
            },
            "type": "scattercarpet"
           }
          ],
          "scattergeo": [
           {
            "marker": {
             "colorbar": {
              "outlinewidth": 0,
              "ticks": ""
             }
            },
            "type": "scattergeo"
           }
          ],
          "scattergl": [
           {
            "marker": {
             "colorbar": {
              "outlinewidth": 0,
              "ticks": ""
             }
            },
            "type": "scattergl"
           }
          ],
          "scattermapbox": [
           {
            "marker": {
             "colorbar": {
              "outlinewidth": 0,
              "ticks": ""
             }
            },
            "type": "scattermapbox"
           }
          ],
          "scatterpolar": [
           {
            "marker": {
             "colorbar": {
              "outlinewidth": 0,
              "ticks": ""
             }
            },
            "type": "scatterpolar"
           }
          ],
          "scatterpolargl": [
           {
            "marker": {
             "colorbar": {
              "outlinewidth": 0,
              "ticks": ""
             }
            },
            "type": "scatterpolargl"
           }
          ],
          "scatterternary": [
           {
            "marker": {
             "colorbar": {
              "outlinewidth": 0,
              "ticks": ""
             }
            },
            "type": "scatterternary"
           }
          ],
          "surface": [
           {
            "colorbar": {
             "outlinewidth": 0,
             "ticks": ""
            },
            "colorscale": [
             [
              0,
              "#0d0887"
             ],
             [
              0.1111111111111111,
              "#46039f"
             ],
             [
              0.2222222222222222,
              "#7201a8"
             ],
             [
              0.3333333333333333,
              "#9c179e"
             ],
             [
              0.4444444444444444,
              "#bd3786"
             ],
             [
              0.5555555555555556,
              "#d8576b"
             ],
             [
              0.6666666666666666,
              "#ed7953"
             ],
             [
              0.7777777777777778,
              "#fb9f3a"
             ],
             [
              0.8888888888888888,
              "#fdca26"
             ],
             [
              1,
              "#f0f921"
             ]
            ],
            "type": "surface"
           }
          ],
          "table": [
           {
            "cells": {
             "fill": {
              "color": "#EBF0F8"
             },
             "line": {
              "color": "white"
             }
            },
            "header": {
             "fill": {
              "color": "#C8D4E3"
             },
             "line": {
              "color": "white"
             }
            },
            "type": "table"
           }
          ]
         },
         "layout": {
          "annotationdefaults": {
           "arrowcolor": "#2a3f5f",
           "arrowhead": 0,
           "arrowwidth": 1
          },
          "autotypenumbers": "strict",
          "coloraxis": {
           "colorbar": {
            "outlinewidth": 0,
            "ticks": ""
           }
          },
          "colorscale": {
           "diverging": [
            [
             0,
             "#8e0152"
            ],
            [
             0.1,
             "#c51b7d"
            ],
            [
             0.2,
             "#de77ae"
            ],
            [
             0.3,
             "#f1b6da"
            ],
            [
             0.4,
             "#fde0ef"
            ],
            [
             0.5,
             "#f7f7f7"
            ],
            [
             0.6,
             "#e6f5d0"
            ],
            [
             0.7,
             "#b8e186"
            ],
            [
             0.8,
             "#7fbc41"
            ],
            [
             0.9,
             "#4d9221"
            ],
            [
             1,
             "#276419"
            ]
           ],
           "sequential": [
            [
             0,
             "#0d0887"
            ],
            [
             0.1111111111111111,
             "#46039f"
            ],
            [
             0.2222222222222222,
             "#7201a8"
            ],
            [
             0.3333333333333333,
             "#9c179e"
            ],
            [
             0.4444444444444444,
             "#bd3786"
            ],
            [
             0.5555555555555556,
             "#d8576b"
            ],
            [
             0.6666666666666666,
             "#ed7953"
            ],
            [
             0.7777777777777778,
             "#fb9f3a"
            ],
            [
             0.8888888888888888,
             "#fdca26"
            ],
            [
             1,
             "#f0f921"
            ]
           ],
           "sequentialminus": [
            [
             0,
             "#0d0887"
            ],
            [
             0.1111111111111111,
             "#46039f"
            ],
            [
             0.2222222222222222,
             "#7201a8"
            ],
            [
             0.3333333333333333,
             "#9c179e"
            ],
            [
             0.4444444444444444,
             "#bd3786"
            ],
            [
             0.5555555555555556,
             "#d8576b"
            ],
            [
             0.6666666666666666,
             "#ed7953"
            ],
            [
             0.7777777777777778,
             "#fb9f3a"
            ],
            [
             0.8888888888888888,
             "#fdca26"
            ],
            [
             1,
             "#f0f921"
            ]
           ]
          },
          "colorway": [
           "#636efa",
           "#EF553B",
           "#00cc96",
           "#ab63fa",
           "#FFA15A",
           "#19d3f3",
           "#FF6692",
           "#B6E880",
           "#FF97FF",
           "#FECB52"
          ],
          "font": {
           "color": "#2a3f5f"
          },
          "geo": {
           "bgcolor": "white",
           "lakecolor": "white",
           "landcolor": "white",
           "showlakes": true,
           "showland": true,
           "subunitcolor": "#C8D4E3"
          },
          "hoverlabel": {
           "align": "left"
          },
          "hovermode": "closest",
          "mapbox": {
           "style": "light"
          },
          "paper_bgcolor": "white",
          "plot_bgcolor": "white",
          "polar": {
           "angularaxis": {
            "gridcolor": "#EBF0F8",
            "linecolor": "#EBF0F8",
            "ticks": ""
           },
           "bgcolor": "white",
           "radialaxis": {
            "gridcolor": "#EBF0F8",
            "linecolor": "#EBF0F8",
            "ticks": ""
           }
          },
          "scene": {
           "xaxis": {
            "backgroundcolor": "white",
            "gridcolor": "#DFE8F3",
            "gridwidth": 2,
            "linecolor": "#EBF0F8",
            "showbackground": true,
            "ticks": "",
            "zerolinecolor": "#EBF0F8"
           },
           "yaxis": {
            "backgroundcolor": "white",
            "gridcolor": "#DFE8F3",
            "gridwidth": 2,
            "linecolor": "#EBF0F8",
            "showbackground": true,
            "ticks": "",
            "zerolinecolor": "#EBF0F8"
           },
           "zaxis": {
            "backgroundcolor": "white",
            "gridcolor": "#DFE8F3",
            "gridwidth": 2,
            "linecolor": "#EBF0F8",
            "showbackground": true,
            "ticks": "",
            "zerolinecolor": "#EBF0F8"
           }
          },
          "shapedefaults": {
           "line": {
            "color": "#2a3f5f"
           }
          },
          "ternary": {
           "aaxis": {
            "gridcolor": "#DFE8F3",
            "linecolor": "#A2B1C6",
            "ticks": ""
           },
           "baxis": {
            "gridcolor": "#DFE8F3",
            "linecolor": "#A2B1C6",
            "ticks": ""
           },
           "bgcolor": "white",
           "caxis": {
            "gridcolor": "#DFE8F3",
            "linecolor": "#A2B1C6",
            "ticks": ""
           }
          },
          "title": {
           "x": 0.05
          },
          "xaxis": {
           "automargin": true,
           "gridcolor": "#EBF0F8",
           "linecolor": "#EBF0F8",
           "ticks": "",
           "title": {
            "standoff": 15
           },
           "zerolinecolor": "#EBF0F8",
           "zerolinewidth": 2
          },
          "yaxis": {
           "automargin": true,
           "gridcolor": "#EBF0F8",
           "linecolor": "#EBF0F8",
           "ticks": "",
           "title": {
            "standoff": 15
           },
           "zerolinecolor": "#EBF0F8",
           "zerolinewidth": 2
          }
         }
        },
        "title": {
         "text": "Portfolio vs Benchmark Cumulative Returns"
        },
        "xaxis": {
         "title": {
          "text": "Date"
         }
        },
        "yaxis": {
         "tickformat": ".00%",
         "title": {
          "text": "Cumulative Return"
         }
        }
       }
      }
     },
     "metadata": {},
     "output_type": "display_data"
    },
    {
     "name": "stdout",
     "output_type": "stream",
     "text": [
      "Investment period starts at:  2024-07-25\n",
      "Investment period ends at:  2025-02-12\n",
      "Portfolio returns was:  6.05 %\n",
      "Benchmark was:  7.86 %\n",
      "Current weights are:  OrderedDict([('BND', 0.6649), ('GLD', 0.10605), ('HODL.PA', 0.01296), ('SPY', 0.21609)])\n"
     ]
    },
    {
     "data": {
      "application/vnd.plotly.v1+json": {
       "config": {
        "plotlyServerURL": "https://plot.ly"
       },
       "data": [
        {
         "hovertemplate": "Date: %{x}<br>Return: %{y:.1%}<extra></extra>",
         "line": {
          "color": "red",
          "width": 2
         },
         "marker": {
          "size": 6
         },
         "mode": "lines",
         "name": "Portfolio",
         "type": "scatter",
         "x": [
          "2024-07-25",
          "2024-07-26",
          "2024-07-29",
          "2024-07-30",
          "2024-07-31",
          "2024-08-01",
          "2024-08-02",
          "2024-08-05",
          "2024-08-06",
          "2024-08-07",
          "2024-08-08",
          "2024-08-09",
          "2024-08-12",
          "2024-08-13",
          "2024-08-14",
          "2024-08-15",
          "2024-08-16",
          "2024-08-19",
          "2024-08-20",
          "2024-08-21",
          "2024-08-22",
          "2024-08-23",
          "2024-08-26",
          "2024-08-27",
          "2024-08-28",
          "2024-08-29",
          "2024-08-30",
          "2024-09-03",
          "2024-09-04",
          "2024-09-05",
          "2024-09-06",
          "2024-09-09",
          "2024-09-10",
          "2024-09-11",
          "2024-09-12",
          "2024-09-13",
          "2024-09-16",
          "2024-09-17",
          "2024-09-18",
          "2024-09-19",
          "2024-09-20",
          "2024-09-23",
          "2024-09-24",
          "2024-09-25",
          "2024-09-26",
          "2024-09-27",
          "2024-09-30",
          "2024-10-01",
          "2024-10-02",
          "2024-10-03",
          "2024-10-04",
          "2024-10-07",
          "2024-10-08",
          "2024-10-09",
          "2024-10-10",
          "2024-10-11",
          "2024-10-14",
          "2024-10-15",
          "2024-10-16",
          "2024-10-17",
          "2024-10-18",
          "2024-10-21",
          "2024-10-22",
          "2024-10-23",
          "2024-10-24",
          "2024-10-25",
          "2024-10-28",
          "2024-10-29",
          "2024-10-30",
          "2024-10-31",
          "2024-11-01",
          "2024-11-04",
          "2024-11-05",
          "2024-11-06",
          "2024-11-07",
          "2024-11-08",
          "2024-11-11",
          "2024-11-12",
          "2024-11-13",
          "2024-11-14",
          "2024-11-15",
          "2024-11-18",
          "2024-11-19",
          "2024-11-20",
          "2024-11-21",
          "2024-11-22",
          "2024-11-25",
          "2024-11-26",
          "2024-11-27",
          "2024-11-29",
          "2024-12-02",
          "2024-12-03",
          "2024-12-04",
          "2024-12-05",
          "2024-12-06",
          "2024-12-09",
          "2024-12-10",
          "2024-12-11",
          "2024-12-12",
          "2024-12-13",
          "2024-12-16",
          "2024-12-17",
          "2024-12-18",
          "2024-12-19",
          "2024-12-20",
          "2024-12-23",
          "2024-12-24",
          "2024-12-27",
          "2024-12-30",
          "2024-12-31",
          "2025-01-02",
          "2025-01-03",
          "2025-01-06",
          "2025-01-07",
          "2025-01-08",
          "2025-01-10",
          "2025-01-13",
          "2025-01-14",
          "2025-01-15",
          "2025-01-16",
          "2025-01-17",
          "2025-01-21",
          "2025-01-22",
          "2025-01-23",
          "2025-01-24",
          "2025-01-27",
          "2025-01-28",
          "2025-01-29",
          "2025-01-30",
          "2025-01-31",
          "2025-02-03",
          "2025-02-04",
          "2025-02-05",
          "2025-02-06",
          "2025-02-07",
          "2025-02-10",
          "2025-02-11",
          "2025-02-12"
         ],
         "y": [
          0,
          0,
          0.01,
          0.01,
          0.02,
          0.01,
          0.02,
          0.01,
          0,
          0,
          0.01,
          0.01,
          0.01,
          0.02,
          0.02,
          0.02,
          0.03,
          0.03,
          0.03,
          0.03,
          0.03,
          0.03,
          0.03,
          0.03,
          0.03,
          0.03,
          0.03,
          0.03,
          0.03,
          0.03,
          0.03,
          0.03,
          0.04,
          0.04,
          0.04,
          0.05,
          0.05,
          0.05,
          0.04,
          0.05,
          0.05,
          0.05,
          0.05,
          0.05,
          0.05,
          0.05,
          0.05,
          0.05,
          0.05,
          0.05,
          0.04,
          0.04,
          0.04,
          0.04,
          0.04,
          0.04,
          0.05,
          0.05,
          0.05,
          0.05,
          0.05,
          0.04,
          0.05,
          0.04,
          0.04,
          0.04,
          0.04,
          0.04,
          0.04,
          0.04,
          0.04,
          0.04,
          0.04,
          0.04,
          0.05,
          0.05,
          0.05,
          0.04,
          0.04,
          0.04,
          0.04,
          0.04,
          0.04,
          0.04,
          0.05,
          0.05,
          0.05,
          0.05,
          0.05,
          0.06,
          0.06,
          0.06,
          0.06,
          0.06,
          0.07,
          0.06,
          0.06,
          0.06,
          0.06,
          0.05,
          0.06,
          0.06,
          0.04,
          0.04,
          0.04,
          0.04,
          0.05,
          0.04,
          0.04,
          0.04,
          0.04,
          0.04,
          0.05,
          0.04,
          0.04,
          0.04,
          0.03,
          0.04,
          0.05,
          0.05,
          0.05,
          0.06,
          0.06,
          0.06,
          0.06,
          0.06,
          0.06,
          0.06,
          0.06,
          0.06,
          0.06,
          0.06,
          0.07,
          0.07,
          0.06,
          0.07,
          0.07,
          0.06
         ]
        },
        {
         "hovertemplate": "Date: %{x}<br>Return: %{y:.1%}<extra></extra>",
         "line": {
          "color": "blue",
          "width": 2
         },
         "marker": {
          "size": 6
         },
         "mode": "lines",
         "name": "Benchmark (60/40 SPY/BND)",
         "type": "scatter",
         "x": [
          "2024-07-25",
          "2024-07-26",
          "2024-07-29",
          "2024-07-30",
          "2024-07-31",
          "2024-08-01",
          "2024-08-02",
          "2024-08-05",
          "2024-08-06",
          "2024-08-07",
          "2024-08-08",
          "2024-08-09",
          "2024-08-12",
          "2024-08-13",
          "2024-08-14",
          "2024-08-15",
          "2024-08-16",
          "2024-08-19",
          "2024-08-20",
          "2024-08-21",
          "2024-08-22",
          "2024-08-23",
          "2024-08-26",
          "2024-08-27",
          "2024-08-28",
          "2024-08-29",
          "2024-08-30",
          "2024-09-03",
          "2024-09-04",
          "2024-09-05",
          "2024-09-06",
          "2024-09-09",
          "2024-09-10",
          "2024-09-11",
          "2024-09-12",
          "2024-09-13",
          "2024-09-16",
          "2024-09-17",
          "2024-09-18",
          "2024-09-19",
          "2024-09-20",
          "2024-09-23",
          "2024-09-24",
          "2024-09-25",
          "2024-09-26",
          "2024-09-27",
          "2024-09-30",
          "2024-10-01",
          "2024-10-02",
          "2024-10-03",
          "2024-10-04",
          "2024-10-07",
          "2024-10-08",
          "2024-10-09",
          "2024-10-10",
          "2024-10-11",
          "2024-10-14",
          "2024-10-15",
          "2024-10-16",
          "2024-10-17",
          "2024-10-18",
          "2024-10-21",
          "2024-10-22",
          "2024-10-23",
          "2024-10-24",
          "2024-10-25",
          "2024-10-28",
          "2024-10-29",
          "2024-10-30",
          "2024-10-31",
          "2024-11-01",
          "2024-11-04",
          "2024-11-05",
          "2024-11-06",
          "2024-11-07",
          "2024-11-08",
          "2024-11-11",
          "2024-11-12",
          "2024-11-13",
          "2024-11-14",
          "2024-11-15",
          "2024-11-18",
          "2024-11-19",
          "2024-11-20",
          "2024-11-21",
          "2024-11-22",
          "2024-11-25",
          "2024-11-26",
          "2024-11-27",
          "2024-11-29",
          "2024-12-02",
          "2024-12-03",
          "2024-12-04",
          "2024-12-05",
          "2024-12-06",
          "2024-12-09",
          "2024-12-10",
          "2024-12-11",
          "2024-12-12",
          "2024-12-13",
          "2024-12-16",
          "2024-12-17",
          "2024-12-18",
          "2024-12-19",
          "2024-12-20",
          "2024-12-23",
          "2024-12-24",
          "2024-12-27",
          "2024-12-30",
          "2024-12-31",
          "2025-01-02",
          "2025-01-03",
          "2025-01-06",
          "2025-01-07",
          "2025-01-08",
          "2025-01-10",
          "2025-01-13",
          "2025-01-14",
          "2025-01-15",
          "2025-01-16",
          "2025-01-17",
          "2025-01-21",
          "2025-01-22",
          "2025-01-23",
          "2025-01-24",
          "2025-01-27",
          "2025-01-28",
          "2025-01-29",
          "2025-01-30",
          "2025-01-31",
          "2025-02-03",
          "2025-02-04",
          "2025-02-05",
          "2025-02-06",
          "2025-02-07",
          "2025-02-10",
          "2025-02-11",
          "2025-02-12"
         ],
         "y": [
          0,
          0.01,
          0.01,
          0,
          0.02,
          0.01,
          0,
          -0.02,
          -0.01,
          -0.02,
          0,
          0,
          0,
          0.01,
          0.01,
          0.02,
          0.03,
          0.03,
          0.03,
          0.04,
          0.03,
          0.04,
          0.04,
          0.04,
          0.03,
          0.03,
          0.04,
          0.03,
          0.03,
          0.03,
          0.02,
          0.02,
          0.03,
          0.03,
          0.04,
          0.04,
          0.04,
          0.04,
          0.04,
          0.05,
          0.05,
          0.05,
          0.05,
          0.05,
          0.05,
          0.05,
          0.06,
          0.05,
          0.05,
          0.05,
          0.05,
          0.04,
          0.05,
          0.05,
          0.05,
          0.06,
          0.06,
          0.06,
          0.06,
          0.06,
          0.06,
          0.06,
          0.06,
          0.05,
          0.05,
          0.05,
          0.05,
          0.05,
          0.05,
          0.04,
          0.04,
          0.04,
          0.05,
          0.06,
          0.07,
          0.07,
          0.07,
          0.07,
          0.07,
          0.06,
          0.06,
          0.06,
          0.06,
          0.06,
          0.07,
          0.07,
          0.07,
          0.08,
          0.08,
          0.08,
          0.08,
          0.08,
          0.09,
          0.09,
          0.09,
          0.08,
          0.08,
          0.09,
          0.08,
          0.08,
          0.08,
          0.08,
          0.06,
          0.06,
          0.06,
          0.07,
          0.07,
          0.07,
          0.06,
          0.06,
          0.06,
          0.06,
          0.07,
          0.06,
          0.06,
          0.05,
          0.05,
          0.05,
          0.07,
          0.06,
          0.07,
          0.08,
          0.08,
          0.08,
          0.08,
          0.08,
          0.08,
          0.08,
          0.08,
          0.08,
          0.07,
          0.08,
          0.08,
          0.09,
          0.08,
          0.08,
          0.08,
          0.08
         ]
        }
       ],
       "layout": {
        "annotations": [
         {
          "align": "center",
          "arrowcolor": "red",
          "arrowhead": 2,
          "ax": 0,
          "ay": 60,
          "bgcolor": "rgba(255, 0, 0, 0.7)",
          "bordercolor": "red",
          "captureevents": true,
          "font": {
           "color": "white",
           "size": 12
          },
          "opacity": 1,
          "showarrow": true,
          "text": "<b>-0.0%</b>",
          "x": "2024-07-25",
          "y": 0
         },
         {
          "align": "center",
          "arrowcolor": "red",
          "arrowhead": 2,
          "ax": 0,
          "ay": 60,
          "bgcolor": "rgba(255, 0, 0, 0.7)",
          "bordercolor": "red",
          "captureevents": true,
          "font": {
           "color": "white",
           "size": 12
          },
          "opacity": 1,
          "showarrow": true,
          "text": "<b>3.0%</b>",
          "x": "2024-08-21",
          "y": 0.03
         },
         {
          "align": "center",
          "arrowcolor": "red",
          "arrowhead": 2,
          "ax": 0,
          "ay": 60,
          "bgcolor": "rgba(255, 0, 0, 0.7)",
          "bordercolor": "red",
          "captureevents": true,
          "font": {
           "color": "white",
           "size": 12
          },
          "opacity": 1,
          "showarrow": true,
          "text": "<b>4.0%</b>",
          "x": "2024-09-18",
          "y": 0.04
         },
         {
          "align": "center",
          "arrowcolor": "red",
          "arrowhead": 2,
          "ax": 0,
          "ay": 60,
          "bgcolor": "rgba(255, 0, 0, 0.7)",
          "bordercolor": "red",
          "captureevents": true,
          "font": {
           "color": "white",
           "size": 12
          },
          "opacity": 1,
          "showarrow": true,
          "text": "<b>5.0%</b>",
          "x": "2024-10-15",
          "y": 0.05
         },
         {
          "align": "center",
          "arrowcolor": "red",
          "arrowhead": 2,
          "ax": 0,
          "ay": 60,
          "bgcolor": "rgba(255, 0, 0, 0.7)",
          "bordercolor": "red",
          "captureevents": true,
          "font": {
           "color": "white",
           "size": 12
          },
          "opacity": 1,
          "showarrow": true,
          "text": "<b>5.0%</b>",
          "x": "2024-11-11",
          "y": 0.05
         },
         {
          "align": "center",
          "arrowcolor": "red",
          "arrowhead": 2,
          "ax": 0,
          "ay": 60,
          "bgcolor": "rgba(255, 0, 0, 0.7)",
          "bordercolor": "red",
          "captureevents": true,
          "font": {
           "color": "white",
           "size": 12
          },
          "opacity": 1,
          "showarrow": true,
          "text": "<b>6.0%</b>",
          "x": "2024-12-09",
          "y": 0.06
         },
         {
          "align": "center",
          "arrowcolor": "red",
          "arrowhead": 2,
          "ax": 0,
          "ay": 60,
          "bgcolor": "rgba(255, 0, 0, 0.7)",
          "bordercolor": "red",
          "captureevents": true,
          "font": {
           "color": "white",
           "size": 12
          },
          "opacity": 1,
          "showarrow": true,
          "text": "<b>4.0%</b>",
          "x": "2025-01-08",
          "y": 0.04
         },
         {
          "align": "center",
          "arrowcolor": "red",
          "arrowhead": 2,
          "ax": 0,
          "ay": 60,
          "bgcolor": "rgba(255, 0, 0, 0.7)",
          "bordercolor": "red",
          "captureevents": true,
          "font": {
           "color": "white",
           "size": 12
          },
          "opacity": 1,
          "showarrow": true,
          "text": "<b>7.0%</b>",
          "x": "2025-02-06",
          "y": 0.07
         },
         {
          "align": "center",
          "arrowcolor": "blue",
          "arrowhead": 2,
          "ax": 0,
          "ay": -60,
          "bgcolor": "rgba(0, 0, 255, 0.7)",
          "bordercolor": "blue",
          "captureevents": true,
          "font": {
           "color": "white",
           "size": 12
          },
          "opacity": 1,
          "showarrow": true,
          "text": "<b>-0.0%</b>",
          "x": "2024-07-25",
          "y": 0
         },
         {
          "align": "center",
          "arrowcolor": "blue",
          "arrowhead": 2,
          "ax": 0,
          "ay": -60,
          "bgcolor": "rgba(0, 0, 255, 0.7)",
          "bordercolor": "blue",
          "captureevents": true,
          "font": {
           "color": "white",
           "size": 12
          },
          "opacity": 1,
          "showarrow": true,
          "text": "<b>4.0%</b>",
          "x": "2024-08-21",
          "y": 0.04
         },
         {
          "align": "center",
          "arrowcolor": "blue",
          "arrowhead": 2,
          "ax": 0,
          "ay": -60,
          "bgcolor": "rgba(0, 0, 255, 0.7)",
          "bordercolor": "blue",
          "captureevents": true,
          "font": {
           "color": "white",
           "size": 12
          },
          "opacity": 1,
          "showarrow": true,
          "text": "<b>4.0%</b>",
          "x": "2024-09-18",
          "y": 0.04
         },
         {
          "align": "center",
          "arrowcolor": "blue",
          "arrowhead": 2,
          "ax": 0,
          "ay": -60,
          "bgcolor": "rgba(0, 0, 255, 0.7)",
          "bordercolor": "blue",
          "captureevents": true,
          "font": {
           "color": "white",
           "size": 12
          },
          "opacity": 1,
          "showarrow": true,
          "text": "<b>6.0%</b>",
          "x": "2024-10-15",
          "y": 0.06
         },
         {
          "align": "center",
          "arrowcolor": "blue",
          "arrowhead": 2,
          "ax": 0,
          "ay": -60,
          "bgcolor": "rgba(0, 0, 255, 0.7)",
          "bordercolor": "blue",
          "captureevents": true,
          "font": {
           "color": "white",
           "size": 12
          },
          "opacity": 1,
          "showarrow": true,
          "text": "<b>7.0%</b>",
          "x": "2024-11-11",
          "y": 0.07
         },
         {
          "align": "center",
          "arrowcolor": "blue",
          "arrowhead": 2,
          "ax": 0,
          "ay": -60,
          "bgcolor": "rgba(0, 0, 255, 0.7)",
          "bordercolor": "blue",
          "captureevents": true,
          "font": {
           "color": "white",
           "size": 12
          },
          "opacity": 1,
          "showarrow": true,
          "text": "<b>8.0%</b>",
          "x": "2024-12-09",
          "y": 0.08
         },
         {
          "align": "center",
          "arrowcolor": "blue",
          "arrowhead": 2,
          "ax": 0,
          "ay": -60,
          "bgcolor": "rgba(0, 0, 255, 0.7)",
          "bordercolor": "blue",
          "captureevents": true,
          "font": {
           "color": "white",
           "size": 12
          },
          "opacity": 1,
          "showarrow": true,
          "text": "<b>6.0%</b>",
          "x": "2025-01-08",
          "y": 0.06
         },
         {
          "align": "center",
          "arrowcolor": "blue",
          "arrowhead": 2,
          "ax": 0,
          "ay": -60,
          "bgcolor": "rgba(0, 0, 255, 0.7)",
          "bordercolor": "blue",
          "captureevents": true,
          "font": {
           "color": "white",
           "size": 12
          },
          "opacity": 1,
          "showarrow": true,
          "text": "<b>9.0%</b>",
          "x": "2025-02-06",
          "y": 0.09
         }
        ],
        "height": 700,
        "legend": {
         "x": 0.01,
         "y": 0.99
        },
        "template": {
         "data": {
          "bar": [
           {
            "error_x": {
             "color": "#2a3f5f"
            },
            "error_y": {
             "color": "#2a3f5f"
            },
            "marker": {
             "line": {
              "color": "white",
              "width": 0.5
             },
             "pattern": {
              "fillmode": "overlay",
              "size": 10,
              "solidity": 0.2
             }
            },
            "type": "bar"
           }
          ],
          "barpolar": [
           {
            "marker": {
             "line": {
              "color": "white",
              "width": 0.5
             },
             "pattern": {
              "fillmode": "overlay",
              "size": 10,
              "solidity": 0.2
             }
            },
            "type": "barpolar"
           }
          ],
          "carpet": [
           {
            "aaxis": {
             "endlinecolor": "#2a3f5f",
             "gridcolor": "#C8D4E3",
             "linecolor": "#C8D4E3",
             "minorgridcolor": "#C8D4E3",
             "startlinecolor": "#2a3f5f"
            },
            "baxis": {
             "endlinecolor": "#2a3f5f",
             "gridcolor": "#C8D4E3",
             "linecolor": "#C8D4E3",
             "minorgridcolor": "#C8D4E3",
             "startlinecolor": "#2a3f5f"
            },
            "type": "carpet"
           }
          ],
          "choropleth": [
           {
            "colorbar": {
             "outlinewidth": 0,
             "ticks": ""
            },
            "type": "choropleth"
           }
          ],
          "contour": [
           {
            "colorbar": {
             "outlinewidth": 0,
             "ticks": ""
            },
            "colorscale": [
             [
              0,
              "#0d0887"
             ],
             [
              0.1111111111111111,
              "#46039f"
             ],
             [
              0.2222222222222222,
              "#7201a8"
             ],
             [
              0.3333333333333333,
              "#9c179e"
             ],
             [
              0.4444444444444444,
              "#bd3786"
             ],
             [
              0.5555555555555556,
              "#d8576b"
             ],
             [
              0.6666666666666666,
              "#ed7953"
             ],
             [
              0.7777777777777778,
              "#fb9f3a"
             ],
             [
              0.8888888888888888,
              "#fdca26"
             ],
             [
              1,
              "#f0f921"
             ]
            ],
            "type": "contour"
           }
          ],
          "contourcarpet": [
           {
            "colorbar": {
             "outlinewidth": 0,
             "ticks": ""
            },
            "type": "contourcarpet"
           }
          ],
          "heatmap": [
           {
            "colorbar": {
             "outlinewidth": 0,
             "ticks": ""
            },
            "colorscale": [
             [
              0,
              "#0d0887"
             ],
             [
              0.1111111111111111,
              "#46039f"
             ],
             [
              0.2222222222222222,
              "#7201a8"
             ],
             [
              0.3333333333333333,
              "#9c179e"
             ],
             [
              0.4444444444444444,
              "#bd3786"
             ],
             [
              0.5555555555555556,
              "#d8576b"
             ],
             [
              0.6666666666666666,
              "#ed7953"
             ],
             [
              0.7777777777777778,
              "#fb9f3a"
             ],
             [
              0.8888888888888888,
              "#fdca26"
             ],
             [
              1,
              "#f0f921"
             ]
            ],
            "type": "heatmap"
           }
          ],
          "heatmapgl": [
           {
            "colorbar": {
             "outlinewidth": 0,
             "ticks": ""
            },
            "colorscale": [
             [
              0,
              "#0d0887"
             ],
             [
              0.1111111111111111,
              "#46039f"
             ],
             [
              0.2222222222222222,
              "#7201a8"
             ],
             [
              0.3333333333333333,
              "#9c179e"
             ],
             [
              0.4444444444444444,
              "#bd3786"
             ],
             [
              0.5555555555555556,
              "#d8576b"
             ],
             [
              0.6666666666666666,
              "#ed7953"
             ],
             [
              0.7777777777777778,
              "#fb9f3a"
             ],
             [
              0.8888888888888888,
              "#fdca26"
             ],
             [
              1,
              "#f0f921"
             ]
            ],
            "type": "heatmapgl"
           }
          ],
          "histogram": [
           {
            "marker": {
             "pattern": {
              "fillmode": "overlay",
              "size": 10,
              "solidity": 0.2
             }
            },
            "type": "histogram"
           }
          ],
          "histogram2d": [
           {
            "colorbar": {
             "outlinewidth": 0,
             "ticks": ""
            },
            "colorscale": [
             [
              0,
              "#0d0887"
             ],
             [
              0.1111111111111111,
              "#46039f"
             ],
             [
              0.2222222222222222,
              "#7201a8"
             ],
             [
              0.3333333333333333,
              "#9c179e"
             ],
             [
              0.4444444444444444,
              "#bd3786"
             ],
             [
              0.5555555555555556,
              "#d8576b"
             ],
             [
              0.6666666666666666,
              "#ed7953"
             ],
             [
              0.7777777777777778,
              "#fb9f3a"
             ],
             [
              0.8888888888888888,
              "#fdca26"
             ],
             [
              1,
              "#f0f921"
             ]
            ],
            "type": "histogram2d"
           }
          ],
          "histogram2dcontour": [
           {
            "colorbar": {
             "outlinewidth": 0,
             "ticks": ""
            },
            "colorscale": [
             [
              0,
              "#0d0887"
             ],
             [
              0.1111111111111111,
              "#46039f"
             ],
             [
              0.2222222222222222,
              "#7201a8"
             ],
             [
              0.3333333333333333,
              "#9c179e"
             ],
             [
              0.4444444444444444,
              "#bd3786"
             ],
             [
              0.5555555555555556,
              "#d8576b"
             ],
             [
              0.6666666666666666,
              "#ed7953"
             ],
             [
              0.7777777777777778,
              "#fb9f3a"
             ],
             [
              0.8888888888888888,
              "#fdca26"
             ],
             [
              1,
              "#f0f921"
             ]
            ],
            "type": "histogram2dcontour"
           }
          ],
          "mesh3d": [
           {
            "colorbar": {
             "outlinewidth": 0,
             "ticks": ""
            },
            "type": "mesh3d"
           }
          ],
          "parcoords": [
           {
            "line": {
             "colorbar": {
              "outlinewidth": 0,
              "ticks": ""
             }
            },
            "type": "parcoords"
           }
          ],
          "pie": [
           {
            "automargin": true,
            "type": "pie"
           }
          ],
          "scatter": [
           {
            "fillpattern": {
             "fillmode": "overlay",
             "size": 10,
             "solidity": 0.2
            },
            "type": "scatter"
           }
          ],
          "scatter3d": [
           {
            "line": {
             "colorbar": {
              "outlinewidth": 0,
              "ticks": ""
             }
            },
            "marker": {
             "colorbar": {
              "outlinewidth": 0,
              "ticks": ""
             }
            },
            "type": "scatter3d"
           }
          ],
          "scattercarpet": [
           {
            "marker": {
             "colorbar": {
              "outlinewidth": 0,
              "ticks": ""
             }
            },
            "type": "scattercarpet"
           }
          ],
          "scattergeo": [
           {
            "marker": {
             "colorbar": {
              "outlinewidth": 0,
              "ticks": ""
             }
            },
            "type": "scattergeo"
           }
          ],
          "scattergl": [
           {
            "marker": {
             "colorbar": {
              "outlinewidth": 0,
              "ticks": ""
             }
            },
            "type": "scattergl"
           }
          ],
          "scattermapbox": [
           {
            "marker": {
             "colorbar": {
              "outlinewidth": 0,
              "ticks": ""
             }
            },
            "type": "scattermapbox"
           }
          ],
          "scatterpolar": [
           {
            "marker": {
             "colorbar": {
              "outlinewidth": 0,
              "ticks": ""
             }
            },
            "type": "scatterpolar"
           }
          ],
          "scatterpolargl": [
           {
            "marker": {
             "colorbar": {
              "outlinewidth": 0,
              "ticks": ""
             }
            },
            "type": "scatterpolargl"
           }
          ],
          "scatterternary": [
           {
            "marker": {
             "colorbar": {
              "outlinewidth": 0,
              "ticks": ""
             }
            },
            "type": "scatterternary"
           }
          ],
          "surface": [
           {
            "colorbar": {
             "outlinewidth": 0,
             "ticks": ""
            },
            "colorscale": [
             [
              0,
              "#0d0887"
             ],
             [
              0.1111111111111111,
              "#46039f"
             ],
             [
              0.2222222222222222,
              "#7201a8"
             ],
             [
              0.3333333333333333,
              "#9c179e"
             ],
             [
              0.4444444444444444,
              "#bd3786"
             ],
             [
              0.5555555555555556,
              "#d8576b"
             ],
             [
              0.6666666666666666,
              "#ed7953"
             ],
             [
              0.7777777777777778,
              "#fb9f3a"
             ],
             [
              0.8888888888888888,
              "#fdca26"
             ],
             [
              1,
              "#f0f921"
             ]
            ],
            "type": "surface"
           }
          ],
          "table": [
           {
            "cells": {
             "fill": {
              "color": "#EBF0F8"
             },
             "line": {
              "color": "white"
             }
            },
            "header": {
             "fill": {
              "color": "#C8D4E3"
             },
             "line": {
              "color": "white"
             }
            },
            "type": "table"
           }
          ]
         },
         "layout": {
          "annotationdefaults": {
           "arrowcolor": "#2a3f5f",
           "arrowhead": 0,
           "arrowwidth": 1
          },
          "autotypenumbers": "strict",
          "coloraxis": {
           "colorbar": {
            "outlinewidth": 0,
            "ticks": ""
           }
          },
          "colorscale": {
           "diverging": [
            [
             0,
             "#8e0152"
            ],
            [
             0.1,
             "#c51b7d"
            ],
            [
             0.2,
             "#de77ae"
            ],
            [
             0.3,
             "#f1b6da"
            ],
            [
             0.4,
             "#fde0ef"
            ],
            [
             0.5,
             "#f7f7f7"
            ],
            [
             0.6,
             "#e6f5d0"
            ],
            [
             0.7,
             "#b8e186"
            ],
            [
             0.8,
             "#7fbc41"
            ],
            [
             0.9,
             "#4d9221"
            ],
            [
             1,
             "#276419"
            ]
           ],
           "sequential": [
            [
             0,
             "#0d0887"
            ],
            [
             0.1111111111111111,
             "#46039f"
            ],
            [
             0.2222222222222222,
             "#7201a8"
            ],
            [
             0.3333333333333333,
             "#9c179e"
            ],
            [
             0.4444444444444444,
             "#bd3786"
            ],
            [
             0.5555555555555556,
             "#d8576b"
            ],
            [
             0.6666666666666666,
             "#ed7953"
            ],
            [
             0.7777777777777778,
             "#fb9f3a"
            ],
            [
             0.8888888888888888,
             "#fdca26"
            ],
            [
             1,
             "#f0f921"
            ]
           ],
           "sequentialminus": [
            [
             0,
             "#0d0887"
            ],
            [
             0.1111111111111111,
             "#46039f"
            ],
            [
             0.2222222222222222,
             "#7201a8"
            ],
            [
             0.3333333333333333,
             "#9c179e"
            ],
            [
             0.4444444444444444,
             "#bd3786"
            ],
            [
             0.5555555555555556,
             "#d8576b"
            ],
            [
             0.6666666666666666,
             "#ed7953"
            ],
            [
             0.7777777777777778,
             "#fb9f3a"
            ],
            [
             0.8888888888888888,
             "#fdca26"
            ],
            [
             1,
             "#f0f921"
            ]
           ]
          },
          "colorway": [
           "#636efa",
           "#EF553B",
           "#00cc96",
           "#ab63fa",
           "#FFA15A",
           "#19d3f3",
           "#FF6692",
           "#B6E880",
           "#FF97FF",
           "#FECB52"
          ],
          "font": {
           "color": "#2a3f5f"
          },
          "geo": {
           "bgcolor": "white",
           "lakecolor": "white",
           "landcolor": "white",
           "showlakes": true,
           "showland": true,
           "subunitcolor": "#C8D4E3"
          },
          "hoverlabel": {
           "align": "left"
          },
          "hovermode": "closest",
          "mapbox": {
           "style": "light"
          },
          "paper_bgcolor": "white",
          "plot_bgcolor": "white",
          "polar": {
           "angularaxis": {
            "gridcolor": "#EBF0F8",
            "linecolor": "#EBF0F8",
            "ticks": ""
           },
           "bgcolor": "white",
           "radialaxis": {
            "gridcolor": "#EBF0F8",
            "linecolor": "#EBF0F8",
            "ticks": ""
           }
          },
          "scene": {
           "xaxis": {
            "backgroundcolor": "white",
            "gridcolor": "#DFE8F3",
            "gridwidth": 2,
            "linecolor": "#EBF0F8",
            "showbackground": true,
            "ticks": "",
            "zerolinecolor": "#EBF0F8"
           },
           "yaxis": {
            "backgroundcolor": "white",
            "gridcolor": "#DFE8F3",
            "gridwidth": 2,
            "linecolor": "#EBF0F8",
            "showbackground": true,
            "ticks": "",
            "zerolinecolor": "#EBF0F8"
           },
           "zaxis": {
            "backgroundcolor": "white",
            "gridcolor": "#DFE8F3",
            "gridwidth": 2,
            "linecolor": "#EBF0F8",
            "showbackground": true,
            "ticks": "",
            "zerolinecolor": "#EBF0F8"
           }
          },
          "shapedefaults": {
           "line": {
            "color": "#2a3f5f"
           }
          },
          "ternary": {
           "aaxis": {
            "gridcolor": "#DFE8F3",
            "linecolor": "#A2B1C6",
            "ticks": ""
           },
           "baxis": {
            "gridcolor": "#DFE8F3",
            "linecolor": "#A2B1C6",
            "ticks": ""
           },
           "bgcolor": "white",
           "caxis": {
            "gridcolor": "#DFE8F3",
            "linecolor": "#A2B1C6",
            "ticks": ""
           }
          },
          "title": {
           "x": 0.05
          },
          "xaxis": {
           "automargin": true,
           "gridcolor": "#EBF0F8",
           "linecolor": "#EBF0F8",
           "ticks": "",
           "title": {
            "standoff": 15
           },
           "zerolinecolor": "#EBF0F8",
           "zerolinewidth": 2
          },
          "yaxis": {
           "automargin": true,
           "gridcolor": "#EBF0F8",
           "linecolor": "#EBF0F8",
           "ticks": "",
           "title": {
            "standoff": 15
           },
           "zerolinecolor": "#EBF0F8",
           "zerolinewidth": 2
          }
         }
        },
        "title": {
         "text": "Portfolio vs Benchmark Cumulative Returns"
        },
        "xaxis": {
         "title": {
          "text": "Date"
         }
        },
        "yaxis": {
         "tickformat": ".00%",
         "title": {
          "text": "Cumulative Return"
         }
        }
       }
      }
     },
     "metadata": {},
     "output_type": "display_data"
    },
    {
     "name": "stdout",
     "output_type": "stream",
     "text": [
      "Investment period starts at:  2024-09-12\n",
      "Investment period ends at:  2025-02-12\n",
      "Portfolio returns was:  2.15 %\n",
      "Benchmark was:  4.36 %\n",
      "Current weights are:  OrderedDict([('BND', 0.6649), ('GLD', 0.10605), ('HODL.PA', 0.01296), ('SPY', 0.21609)])\n"
     ]
    },
    {
     "data": {
      "application/vnd.plotly.v1+json": {
       "config": {
        "plotlyServerURL": "https://plot.ly"
       },
       "data": [
        {
         "hovertemplate": "Date: %{x}<br>Return: %{y:.1%}<extra></extra>",
         "line": {
          "color": "red",
          "width": 2
         },
         "marker": {
          "size": 6
         },
         "mode": "lines",
         "name": "Portfolio",
         "type": "scatter",
         "x": [
          "2024-09-12",
          "2024-09-13",
          "2024-09-16",
          "2024-09-17",
          "2024-09-18",
          "2024-09-19",
          "2024-09-20",
          "2024-09-23",
          "2024-09-24",
          "2024-09-25",
          "2024-09-26",
          "2024-09-27",
          "2024-09-30",
          "2024-10-01",
          "2024-10-02",
          "2024-10-03",
          "2024-10-04",
          "2024-10-07",
          "2024-10-08",
          "2024-10-09",
          "2024-10-10",
          "2024-10-11",
          "2024-10-14",
          "2024-10-15",
          "2024-10-16",
          "2024-10-17",
          "2024-10-18",
          "2024-10-21",
          "2024-10-22",
          "2024-10-23",
          "2024-10-24",
          "2024-10-25",
          "2024-10-28",
          "2024-10-29",
          "2024-10-30",
          "2024-10-31",
          "2024-11-01",
          "2024-11-04",
          "2024-11-05",
          "2024-11-06",
          "2024-11-07",
          "2024-11-08",
          "2024-11-11",
          "2024-11-12",
          "2024-11-13",
          "2024-11-14",
          "2024-11-15",
          "2024-11-18",
          "2024-11-19",
          "2024-11-20",
          "2024-11-21",
          "2024-11-22",
          "2024-11-25",
          "2024-11-26",
          "2024-11-27",
          "2024-11-29",
          "2024-12-02",
          "2024-12-03",
          "2024-12-04",
          "2024-12-05",
          "2024-12-06",
          "2024-12-09",
          "2024-12-10",
          "2024-12-11",
          "2024-12-12",
          "2024-12-13",
          "2024-12-16",
          "2024-12-17",
          "2024-12-18",
          "2024-12-19",
          "2024-12-20",
          "2024-12-23",
          "2024-12-24",
          "2024-12-27",
          "2024-12-30",
          "2024-12-31",
          "2025-01-02",
          "2025-01-03",
          "2025-01-06",
          "2025-01-07",
          "2025-01-08",
          "2025-01-10",
          "2025-01-13",
          "2025-01-14",
          "2025-01-15",
          "2025-01-16",
          "2025-01-17",
          "2025-01-21",
          "2025-01-22",
          "2025-01-23",
          "2025-01-24",
          "2025-01-27",
          "2025-01-28",
          "2025-01-29",
          "2025-01-30",
          "2025-01-31",
          "2025-02-03",
          "2025-02-04",
          "2025-02-05",
          "2025-02-06",
          "2025-02-07",
          "2025-02-10",
          "2025-02-11",
          "2025-02-12"
         ],
         "y": [
          0,
          0.01,
          0.01,
          0.01,
          0,
          0.01,
          0.01,
          0.01,
          0.01,
          0.01,
          0.01,
          0.01,
          0.01,
          0.01,
          0.01,
          0.01,
          0.01,
          0,
          0,
          0,
          0,
          0.01,
          0.01,
          0.01,
          0.01,
          0.01,
          0.01,
          0.01,
          0.01,
          0,
          0.01,
          0,
          0,
          0.01,
          0.01,
          0,
          0,
          0,
          0,
          0,
          0.01,
          0.01,
          0.01,
          0,
          0,
          0,
          0,
          0,
          0.01,
          0.01,
          0.01,
          0.01,
          0.01,
          0.01,
          0.02,
          0.02,
          0.02,
          0.02,
          0.02,
          0.02,
          0.03,
          0.02,
          0.02,
          0.03,
          0.02,
          0.02,
          0.02,
          0.02,
          0,
          0,
          0.01,
          0,
          0.01,
          0,
          0,
          0,
          0,
          0.01,
          0.01,
          0,
          0,
          0,
          0,
          0,
          0.01,
          0.01,
          0.01,
          0.02,
          0.02,
          0.02,
          0.02,
          0.02,
          0.02,
          0.02,
          0.02,
          0.02,
          0.02,
          0.02,
          0.03,
          0.03,
          0.02,
          0.03,
          0.03,
          0.02
         ]
        },
        {
         "hovertemplate": "Date: %{x}<br>Return: %{y:.1%}<extra></extra>",
         "line": {
          "color": "blue",
          "width": 2
         },
         "marker": {
          "size": 6
         },
         "mode": "lines",
         "name": "Benchmark (60/40 SPY/BND)",
         "type": "scatter",
         "x": [
          "2024-09-12",
          "2024-09-13",
          "2024-09-16",
          "2024-09-17",
          "2024-09-18",
          "2024-09-19",
          "2024-09-20",
          "2024-09-23",
          "2024-09-24",
          "2024-09-25",
          "2024-09-26",
          "2024-09-27",
          "2024-09-30",
          "2024-10-01",
          "2024-10-02",
          "2024-10-03",
          "2024-10-04",
          "2024-10-07",
          "2024-10-08",
          "2024-10-09",
          "2024-10-10",
          "2024-10-11",
          "2024-10-14",
          "2024-10-15",
          "2024-10-16",
          "2024-10-17",
          "2024-10-18",
          "2024-10-21",
          "2024-10-22",
          "2024-10-23",
          "2024-10-24",
          "2024-10-25",
          "2024-10-28",
          "2024-10-29",
          "2024-10-30",
          "2024-10-31",
          "2024-11-01",
          "2024-11-04",
          "2024-11-05",
          "2024-11-06",
          "2024-11-07",
          "2024-11-08",
          "2024-11-11",
          "2024-11-12",
          "2024-11-13",
          "2024-11-14",
          "2024-11-15",
          "2024-11-18",
          "2024-11-19",
          "2024-11-20",
          "2024-11-21",
          "2024-11-22",
          "2024-11-25",
          "2024-11-26",
          "2024-11-27",
          "2024-11-29",
          "2024-12-02",
          "2024-12-03",
          "2024-12-04",
          "2024-12-05",
          "2024-12-06",
          "2024-12-09",
          "2024-12-10",
          "2024-12-11",
          "2024-12-12",
          "2024-12-13",
          "2024-12-16",
          "2024-12-17",
          "2024-12-18",
          "2024-12-19",
          "2024-12-20",
          "2024-12-23",
          "2024-12-24",
          "2024-12-27",
          "2024-12-30",
          "2024-12-31",
          "2025-01-02",
          "2025-01-03",
          "2025-01-06",
          "2025-01-07",
          "2025-01-08",
          "2025-01-10",
          "2025-01-13",
          "2025-01-14",
          "2025-01-15",
          "2025-01-16",
          "2025-01-17",
          "2025-01-21",
          "2025-01-22",
          "2025-01-23",
          "2025-01-24",
          "2025-01-27",
          "2025-01-28",
          "2025-01-29",
          "2025-01-30",
          "2025-01-31",
          "2025-02-03",
          "2025-02-04",
          "2025-02-05",
          "2025-02-06",
          "2025-02-07",
          "2025-02-10",
          "2025-02-11",
          "2025-02-12"
         ],
         "y": [
          0,
          0.01,
          0.01,
          0.01,
          0.01,
          0.02,
          0.02,
          0.02,
          0.02,
          0.02,
          0.02,
          0.02,
          0.02,
          0.02,
          0.02,
          0.01,
          0.02,
          0.01,
          0.02,
          0.02,
          0.02,
          0.02,
          0.03,
          0.02,
          0.03,
          0.02,
          0.03,
          0.02,
          0.02,
          0.02,
          0.02,
          0.02,
          0.02,
          0.02,
          0.02,
          0.01,
          0.01,
          0.01,
          0.02,
          0.03,
          0.04,
          0.04,
          0.04,
          0.03,
          0.03,
          0.03,
          0.02,
          0.03,
          0.03,
          0.03,
          0.03,
          0.03,
          0.04,
          0.04,
          0.04,
          0.05,
          0.05,
          0.05,
          0.05,
          0.05,
          0.05,
          0.05,
          0.05,
          0.05,
          0.05,
          0.04,
          0.05,
          0.04,
          0.02,
          0.02,
          0.03,
          0.03,
          0.04,
          0.03,
          0.03,
          0.02,
          0.02,
          0.03,
          0.03,
          0.02,
          0.03,
          0.01,
          0.02,
          0.02,
          0.03,
          0.03,
          0.04,
          0.04,
          0.05,
          0.05,
          0.05,
          0.04,
          0.05,
          0.04,
          0.05,
          0.04,
          0.04,
          0.04,
          0.05,
          0.05,
          0.04,
          0.05,
          0.05,
          0.04
         ]
        }
       ],
       "layout": {
        "annotations": [
         {
          "align": "center",
          "arrowcolor": "red",
          "arrowhead": 2,
          "ax": 0,
          "ay": 60,
          "bgcolor": "rgba(255, 0, 0, 0.7)",
          "bordercolor": "red",
          "captureevents": true,
          "font": {
           "color": "white",
           "size": 12
          },
          "opacity": 1,
          "showarrow": true,
          "text": "<b>0.0%</b>",
          "x": "2024-09-12",
          "y": 0
         },
         {
          "align": "center",
          "arrowcolor": "red",
          "arrowhead": 2,
          "ax": 0,
          "ay": 60,
          "bgcolor": "rgba(255, 0, 0, 0.7)",
          "bordercolor": "red",
          "captureevents": true,
          "font": {
           "color": "white",
           "size": 12
          },
          "opacity": 1,
          "showarrow": true,
          "text": "<b>1.0%</b>",
          "x": "2024-10-02",
          "y": 0.01
         },
         {
          "align": "center",
          "arrowcolor": "red",
          "arrowhead": 2,
          "ax": 0,
          "ay": 60,
          "bgcolor": "rgba(255, 0, 0, 0.7)",
          "bordercolor": "red",
          "captureevents": true,
          "font": {
           "color": "white",
           "size": 12
          },
          "opacity": 1,
          "showarrow": true,
          "text": "<b>1.0%</b>",
          "x": "2024-10-22",
          "y": 0.01
         },
         {
          "align": "center",
          "arrowcolor": "red",
          "arrowhead": 2,
          "ax": 0,
          "ay": 60,
          "bgcolor": "rgba(255, 0, 0, 0.7)",
          "bordercolor": "red",
          "captureevents": true,
          "font": {
           "color": "white",
           "size": 12
          },
          "opacity": 1,
          "showarrow": true,
          "text": "<b>1.0%</b>",
          "x": "2024-11-11",
          "y": 0.01
         },
         {
          "align": "center",
          "arrowcolor": "red",
          "arrowhead": 2,
          "ax": 0,
          "ay": 60,
          "bgcolor": "rgba(255, 0, 0, 0.7)",
          "bordercolor": "red",
          "captureevents": true,
          "font": {
           "color": "white",
           "size": 12
          },
          "opacity": 1,
          "showarrow": true,
          "text": "<b>2.0%</b>",
          "x": "2024-12-02",
          "y": 0.02
         },
         {
          "align": "center",
          "arrowcolor": "red",
          "arrowhead": 2,
          "ax": 0,
          "ay": 60,
          "bgcolor": "rgba(255, 0, 0, 0.7)",
          "bordercolor": "red",
          "captureevents": true,
          "font": {
           "color": "white",
           "size": 12
          },
          "opacity": 1,
          "showarrow": true,
          "text": "<b>1.0%</b>",
          "x": "2024-12-20",
          "y": 0.01
         },
         {
          "align": "center",
          "arrowcolor": "red",
          "arrowhead": 2,
          "ax": 0,
          "ay": 60,
          "bgcolor": "rgba(255, 0, 0, 0.7)",
          "bordercolor": "red",
          "captureevents": true,
          "font": {
           "color": "white",
           "size": 12
          },
          "opacity": 1,
          "showarrow": true,
          "text": "<b>1.0%</b>",
          "x": "2025-01-15",
          "y": 0.01
         },
         {
          "align": "center",
          "arrowcolor": "red",
          "arrowhead": 2,
          "ax": 0,
          "ay": 60,
          "bgcolor": "rgba(255, 0, 0, 0.7)",
          "bordercolor": "red",
          "captureevents": true,
          "font": {
           "color": "white",
           "size": 12
          },
          "opacity": 1,
          "showarrow": true,
          "text": "<b>3.0%</b>",
          "x": "2025-02-05",
          "y": 0.03
         },
         {
          "align": "center",
          "arrowcolor": "blue",
          "arrowhead": 2,
          "ax": 0,
          "ay": -60,
          "bgcolor": "rgba(0, 0, 255, 0.7)",
          "bordercolor": "blue",
          "captureevents": true,
          "font": {
           "color": "white",
           "size": 12
          },
          "opacity": 1,
          "showarrow": true,
          "text": "<b>0.0%</b>",
          "x": "2024-09-12",
          "y": 0
         },
         {
          "align": "center",
          "arrowcolor": "blue",
          "arrowhead": 2,
          "ax": 0,
          "ay": -60,
          "bgcolor": "rgba(0, 0, 255, 0.7)",
          "bordercolor": "blue",
          "captureevents": true,
          "font": {
           "color": "white",
           "size": 12
          },
          "opacity": 1,
          "showarrow": true,
          "text": "<b>2.0%</b>",
          "x": "2024-10-02",
          "y": 0.02
         },
         {
          "align": "center",
          "arrowcolor": "blue",
          "arrowhead": 2,
          "ax": 0,
          "ay": -60,
          "bgcolor": "rgba(0, 0, 255, 0.7)",
          "bordercolor": "blue",
          "captureevents": true,
          "font": {
           "color": "white",
           "size": 12
          },
          "opacity": 1,
          "showarrow": true,
          "text": "<b>2.0%</b>",
          "x": "2024-10-22",
          "y": 0.02
         },
         {
          "align": "center",
          "arrowcolor": "blue",
          "arrowhead": 2,
          "ax": 0,
          "ay": -60,
          "bgcolor": "rgba(0, 0, 255, 0.7)",
          "bordercolor": "blue",
          "captureevents": true,
          "font": {
           "color": "white",
           "size": 12
          },
          "opacity": 1,
          "showarrow": true,
          "text": "<b>4.0%</b>",
          "x": "2024-11-11",
          "y": 0.04
         },
         {
          "align": "center",
          "arrowcolor": "blue",
          "arrowhead": 2,
          "ax": 0,
          "ay": -60,
          "bgcolor": "rgba(0, 0, 255, 0.7)",
          "bordercolor": "blue",
          "captureevents": true,
          "font": {
           "color": "white",
           "size": 12
          },
          "opacity": 1,
          "showarrow": true,
          "text": "<b>5.0%</b>",
          "x": "2024-12-02",
          "y": 0.05
         },
         {
          "align": "center",
          "arrowcolor": "blue",
          "arrowhead": 2,
          "ax": 0,
          "ay": -60,
          "bgcolor": "rgba(0, 0, 255, 0.7)",
          "bordercolor": "blue",
          "captureevents": true,
          "font": {
           "color": "white",
           "size": 12
          },
          "opacity": 1,
          "showarrow": true,
          "text": "<b>3.0%</b>",
          "x": "2024-12-20",
          "y": 0.03
         },
         {
          "align": "center",
          "arrowcolor": "blue",
          "arrowhead": 2,
          "ax": 0,
          "ay": -60,
          "bgcolor": "rgba(0, 0, 255, 0.7)",
          "bordercolor": "blue",
          "captureevents": true,
          "font": {
           "color": "white",
           "size": 12
          },
          "opacity": 1,
          "showarrow": true,
          "text": "<b>3.0%</b>",
          "x": "2025-01-15",
          "y": 0.03
         },
         {
          "align": "center",
          "arrowcolor": "blue",
          "arrowhead": 2,
          "ax": 0,
          "ay": -60,
          "bgcolor": "rgba(0, 0, 255, 0.7)",
          "bordercolor": "blue",
          "captureevents": true,
          "font": {
           "color": "white",
           "size": 12
          },
          "opacity": 1,
          "showarrow": true,
          "text": "<b>5.0%</b>",
          "x": "2025-02-05",
          "y": 0.05
         }
        ],
        "height": 700,
        "legend": {
         "x": 0.01,
         "y": 0.99
        },
        "template": {
         "data": {
          "bar": [
           {
            "error_x": {
             "color": "#2a3f5f"
            },
            "error_y": {
             "color": "#2a3f5f"
            },
            "marker": {
             "line": {
              "color": "white",
              "width": 0.5
             },
             "pattern": {
              "fillmode": "overlay",
              "size": 10,
              "solidity": 0.2
             }
            },
            "type": "bar"
           }
          ],
          "barpolar": [
           {
            "marker": {
             "line": {
              "color": "white",
              "width": 0.5
             },
             "pattern": {
              "fillmode": "overlay",
              "size": 10,
              "solidity": 0.2
             }
            },
            "type": "barpolar"
           }
          ],
          "carpet": [
           {
            "aaxis": {
             "endlinecolor": "#2a3f5f",
             "gridcolor": "#C8D4E3",
             "linecolor": "#C8D4E3",
             "minorgridcolor": "#C8D4E3",
             "startlinecolor": "#2a3f5f"
            },
            "baxis": {
             "endlinecolor": "#2a3f5f",
             "gridcolor": "#C8D4E3",
             "linecolor": "#C8D4E3",
             "minorgridcolor": "#C8D4E3",
             "startlinecolor": "#2a3f5f"
            },
            "type": "carpet"
           }
          ],
          "choropleth": [
           {
            "colorbar": {
             "outlinewidth": 0,
             "ticks": ""
            },
            "type": "choropleth"
           }
          ],
          "contour": [
           {
            "colorbar": {
             "outlinewidth": 0,
             "ticks": ""
            },
            "colorscale": [
             [
              0,
              "#0d0887"
             ],
             [
              0.1111111111111111,
              "#46039f"
             ],
             [
              0.2222222222222222,
              "#7201a8"
             ],
             [
              0.3333333333333333,
              "#9c179e"
             ],
             [
              0.4444444444444444,
              "#bd3786"
             ],
             [
              0.5555555555555556,
              "#d8576b"
             ],
             [
              0.6666666666666666,
              "#ed7953"
             ],
             [
              0.7777777777777778,
              "#fb9f3a"
             ],
             [
              0.8888888888888888,
              "#fdca26"
             ],
             [
              1,
              "#f0f921"
             ]
            ],
            "type": "contour"
           }
          ],
          "contourcarpet": [
           {
            "colorbar": {
             "outlinewidth": 0,
             "ticks": ""
            },
            "type": "contourcarpet"
           }
          ],
          "heatmap": [
           {
            "colorbar": {
             "outlinewidth": 0,
             "ticks": ""
            },
            "colorscale": [
             [
              0,
              "#0d0887"
             ],
             [
              0.1111111111111111,
              "#46039f"
             ],
             [
              0.2222222222222222,
              "#7201a8"
             ],
             [
              0.3333333333333333,
              "#9c179e"
             ],
             [
              0.4444444444444444,
              "#bd3786"
             ],
             [
              0.5555555555555556,
              "#d8576b"
             ],
             [
              0.6666666666666666,
              "#ed7953"
             ],
             [
              0.7777777777777778,
              "#fb9f3a"
             ],
             [
              0.8888888888888888,
              "#fdca26"
             ],
             [
              1,
              "#f0f921"
             ]
            ],
            "type": "heatmap"
           }
          ],
          "heatmapgl": [
           {
            "colorbar": {
             "outlinewidth": 0,
             "ticks": ""
            },
            "colorscale": [
             [
              0,
              "#0d0887"
             ],
             [
              0.1111111111111111,
              "#46039f"
             ],
             [
              0.2222222222222222,
              "#7201a8"
             ],
             [
              0.3333333333333333,
              "#9c179e"
             ],
             [
              0.4444444444444444,
              "#bd3786"
             ],
             [
              0.5555555555555556,
              "#d8576b"
             ],
             [
              0.6666666666666666,
              "#ed7953"
             ],
             [
              0.7777777777777778,
              "#fb9f3a"
             ],
             [
              0.8888888888888888,
              "#fdca26"
             ],
             [
              1,
              "#f0f921"
             ]
            ],
            "type": "heatmapgl"
           }
          ],
          "histogram": [
           {
            "marker": {
             "pattern": {
              "fillmode": "overlay",
              "size": 10,
              "solidity": 0.2
             }
            },
            "type": "histogram"
           }
          ],
          "histogram2d": [
           {
            "colorbar": {
             "outlinewidth": 0,
             "ticks": ""
            },
            "colorscale": [
             [
              0,
              "#0d0887"
             ],
             [
              0.1111111111111111,
              "#46039f"
             ],
             [
              0.2222222222222222,
              "#7201a8"
             ],
             [
              0.3333333333333333,
              "#9c179e"
             ],
             [
              0.4444444444444444,
              "#bd3786"
             ],
             [
              0.5555555555555556,
              "#d8576b"
             ],
             [
              0.6666666666666666,
              "#ed7953"
             ],
             [
              0.7777777777777778,
              "#fb9f3a"
             ],
             [
              0.8888888888888888,
              "#fdca26"
             ],
             [
              1,
              "#f0f921"
             ]
            ],
            "type": "histogram2d"
           }
          ],
          "histogram2dcontour": [
           {
            "colorbar": {
             "outlinewidth": 0,
             "ticks": ""
            },
            "colorscale": [
             [
              0,
              "#0d0887"
             ],
             [
              0.1111111111111111,
              "#46039f"
             ],
             [
              0.2222222222222222,
              "#7201a8"
             ],
             [
              0.3333333333333333,
              "#9c179e"
             ],
             [
              0.4444444444444444,
              "#bd3786"
             ],
             [
              0.5555555555555556,
              "#d8576b"
             ],
             [
              0.6666666666666666,
              "#ed7953"
             ],
             [
              0.7777777777777778,
              "#fb9f3a"
             ],
             [
              0.8888888888888888,
              "#fdca26"
             ],
             [
              1,
              "#f0f921"
             ]
            ],
            "type": "histogram2dcontour"
           }
          ],
          "mesh3d": [
           {
            "colorbar": {
             "outlinewidth": 0,
             "ticks": ""
            },
            "type": "mesh3d"
           }
          ],
          "parcoords": [
           {
            "line": {
             "colorbar": {
              "outlinewidth": 0,
              "ticks": ""
             }
            },
            "type": "parcoords"
           }
          ],
          "pie": [
           {
            "automargin": true,
            "type": "pie"
           }
          ],
          "scatter": [
           {
            "fillpattern": {
             "fillmode": "overlay",
             "size": 10,
             "solidity": 0.2
            },
            "type": "scatter"
           }
          ],
          "scatter3d": [
           {
            "line": {
             "colorbar": {
              "outlinewidth": 0,
              "ticks": ""
             }
            },
            "marker": {
             "colorbar": {
              "outlinewidth": 0,
              "ticks": ""
             }
            },
            "type": "scatter3d"
           }
          ],
          "scattercarpet": [
           {
            "marker": {
             "colorbar": {
              "outlinewidth": 0,
              "ticks": ""
             }
            },
            "type": "scattercarpet"
           }
          ],
          "scattergeo": [
           {
            "marker": {
             "colorbar": {
              "outlinewidth": 0,
              "ticks": ""
             }
            },
            "type": "scattergeo"
           }
          ],
          "scattergl": [
           {
            "marker": {
             "colorbar": {
              "outlinewidth": 0,
              "ticks": ""
             }
            },
            "type": "scattergl"
           }
          ],
          "scattermapbox": [
           {
            "marker": {
             "colorbar": {
              "outlinewidth": 0,
              "ticks": ""
             }
            },
            "type": "scattermapbox"
           }
          ],
          "scatterpolar": [
           {
            "marker": {
             "colorbar": {
              "outlinewidth": 0,
              "ticks": ""
             }
            },
            "type": "scatterpolar"
           }
          ],
          "scatterpolargl": [
           {
            "marker": {
             "colorbar": {
              "outlinewidth": 0,
              "ticks": ""
             }
            },
            "type": "scatterpolargl"
           }
          ],
          "scatterternary": [
           {
            "marker": {
             "colorbar": {
              "outlinewidth": 0,
              "ticks": ""
             }
            },
            "type": "scatterternary"
           }
          ],
          "surface": [
           {
            "colorbar": {
             "outlinewidth": 0,
             "ticks": ""
            },
            "colorscale": [
             [
              0,
              "#0d0887"
             ],
             [
              0.1111111111111111,
              "#46039f"
             ],
             [
              0.2222222222222222,
              "#7201a8"
             ],
             [
              0.3333333333333333,
              "#9c179e"
             ],
             [
              0.4444444444444444,
              "#bd3786"
             ],
             [
              0.5555555555555556,
              "#d8576b"
             ],
             [
              0.6666666666666666,
              "#ed7953"
             ],
             [
              0.7777777777777778,
              "#fb9f3a"
             ],
             [
              0.8888888888888888,
              "#fdca26"
             ],
             [
              1,
              "#f0f921"
             ]
            ],
            "type": "surface"
           }
          ],
          "table": [
           {
            "cells": {
             "fill": {
              "color": "#EBF0F8"
             },
             "line": {
              "color": "white"
             }
            },
            "header": {
             "fill": {
              "color": "#C8D4E3"
             },
             "line": {
              "color": "white"
             }
            },
            "type": "table"
           }
          ]
         },
         "layout": {
          "annotationdefaults": {
           "arrowcolor": "#2a3f5f",
           "arrowhead": 0,
           "arrowwidth": 1
          },
          "autotypenumbers": "strict",
          "coloraxis": {
           "colorbar": {
            "outlinewidth": 0,
            "ticks": ""
           }
          },
          "colorscale": {
           "diverging": [
            [
             0,
             "#8e0152"
            ],
            [
             0.1,
             "#c51b7d"
            ],
            [
             0.2,
             "#de77ae"
            ],
            [
             0.3,
             "#f1b6da"
            ],
            [
             0.4,
             "#fde0ef"
            ],
            [
             0.5,
             "#f7f7f7"
            ],
            [
             0.6,
             "#e6f5d0"
            ],
            [
             0.7,
             "#b8e186"
            ],
            [
             0.8,
             "#7fbc41"
            ],
            [
             0.9,
             "#4d9221"
            ],
            [
             1,
             "#276419"
            ]
           ],
           "sequential": [
            [
             0,
             "#0d0887"
            ],
            [
             0.1111111111111111,
             "#46039f"
            ],
            [
             0.2222222222222222,
             "#7201a8"
            ],
            [
             0.3333333333333333,
             "#9c179e"
            ],
            [
             0.4444444444444444,
             "#bd3786"
            ],
            [
             0.5555555555555556,
             "#d8576b"
            ],
            [
             0.6666666666666666,
             "#ed7953"
            ],
            [
             0.7777777777777778,
             "#fb9f3a"
            ],
            [
             0.8888888888888888,
             "#fdca26"
            ],
            [
             1,
             "#f0f921"
            ]
           ],
           "sequentialminus": [
            [
             0,
             "#0d0887"
            ],
            [
             0.1111111111111111,
             "#46039f"
            ],
            [
             0.2222222222222222,
             "#7201a8"
            ],
            [
             0.3333333333333333,
             "#9c179e"
            ],
            [
             0.4444444444444444,
             "#bd3786"
            ],
            [
             0.5555555555555556,
             "#d8576b"
            ],
            [
             0.6666666666666666,
             "#ed7953"
            ],
            [
             0.7777777777777778,
             "#fb9f3a"
            ],
            [
             0.8888888888888888,
             "#fdca26"
            ],
            [
             1,
             "#f0f921"
            ]
           ]
          },
          "colorway": [
           "#636efa",
           "#EF553B",
           "#00cc96",
           "#ab63fa",
           "#FFA15A",
           "#19d3f3",
           "#FF6692",
           "#B6E880",
           "#FF97FF",
           "#FECB52"
          ],
          "font": {
           "color": "#2a3f5f"
          },
          "geo": {
           "bgcolor": "white",
           "lakecolor": "white",
           "landcolor": "white",
           "showlakes": true,
           "showland": true,
           "subunitcolor": "#C8D4E3"
          },
          "hoverlabel": {
           "align": "left"
          },
          "hovermode": "closest",
          "mapbox": {
           "style": "light"
          },
          "paper_bgcolor": "white",
          "plot_bgcolor": "white",
          "polar": {
           "angularaxis": {
            "gridcolor": "#EBF0F8",
            "linecolor": "#EBF0F8",
            "ticks": ""
           },
           "bgcolor": "white",
           "radialaxis": {
            "gridcolor": "#EBF0F8",
            "linecolor": "#EBF0F8",
            "ticks": ""
           }
          },
          "scene": {
           "xaxis": {
            "backgroundcolor": "white",
            "gridcolor": "#DFE8F3",
            "gridwidth": 2,
            "linecolor": "#EBF0F8",
            "showbackground": true,
            "ticks": "",
            "zerolinecolor": "#EBF0F8"
           },
           "yaxis": {
            "backgroundcolor": "white",
            "gridcolor": "#DFE8F3",
            "gridwidth": 2,
            "linecolor": "#EBF0F8",
            "showbackground": true,
            "ticks": "",
            "zerolinecolor": "#EBF0F8"
           },
           "zaxis": {
            "backgroundcolor": "white",
            "gridcolor": "#DFE8F3",
            "gridwidth": 2,
            "linecolor": "#EBF0F8",
            "showbackground": true,
            "ticks": "",
            "zerolinecolor": "#EBF0F8"
           }
          },
          "shapedefaults": {
           "line": {
            "color": "#2a3f5f"
           }
          },
          "ternary": {
           "aaxis": {
            "gridcolor": "#DFE8F3",
            "linecolor": "#A2B1C6",
            "ticks": ""
           },
           "baxis": {
            "gridcolor": "#DFE8F3",
            "linecolor": "#A2B1C6",
            "ticks": ""
           },
           "bgcolor": "white",
           "caxis": {
            "gridcolor": "#DFE8F3",
            "linecolor": "#A2B1C6",
            "ticks": ""
           }
          },
          "title": {
           "x": 0.05
          },
          "xaxis": {
           "automargin": true,
           "gridcolor": "#EBF0F8",
           "linecolor": "#EBF0F8",
           "ticks": "",
           "title": {
            "standoff": 15
           },
           "zerolinecolor": "#EBF0F8",
           "zerolinewidth": 2
          },
          "yaxis": {
           "automargin": true,
           "gridcolor": "#EBF0F8",
           "linecolor": "#EBF0F8",
           "ticks": "",
           "title": {
            "standoff": 15
           },
           "zerolinecolor": "#EBF0F8",
           "zerolinewidth": 2
          }
         }
        },
        "title": {
         "text": "Portfolio vs Benchmark Cumulative Returns"
        },
        "xaxis": {
         "title": {
          "text": "Date"
         }
        },
        "yaxis": {
         "tickformat": ".00%",
         "title": {
          "text": "Cumulative Return"
         }
        }
       }
      }
     },
     "metadata": {},
     "output_type": "display_data"
    },
    {
     "data": {
      "image/png": "[encoded data removed]",
      "text/plain": [
       "<Figure size 1000x600 with 1 Axes>"
      ]
     },
     "metadata": {},
     "output_type": "display_data"
    }
   ],
   "source": [
    "portfolio_returns = []\n",
    "benchmarks = []\n",
    "start_dates = []\n",
    "\n",
    "\n",
    "returns, benchmark = calculate_portfolio_returns(int(80 / 100 * len(closing_prices.values)))\n",
    "\n",
    "for i in range(45, 90, 5):  # Modify this loop for a range of percentages, using steps of 5%\n",
    "    n = int(i / 100 * len(closing_prices.values))  # Convert percentage to index position\n",
    "    returns, benchmark = calculate_portfolio_returns(n)\n",
    "    portfolio_returns.append(returns*100)\n",
    "    benchmarks.append(benchmark*100)\n",
    "    start_dates.append(closing_prices['Date'].iloc[n])\n",
    "\n",
    "# Now plot the results:\n",
    "plt.figure(figsize=(10, 6))\n",
    "plt.plot(start_dates, portfolio_returns, label='Portfolio Returns', marker='o', color='red')\n",
    "plt.plot(start_dates, benchmarks, label='Benchmark', marker='x', color='blue')\n",
    "\n",
    "plt.title('Portfolio Returns vs Benchmark for Different Start Dates')\n",
    "plt.xlabel('Start Date of Investment Period')\n",
    "plt.ylabel('Cumulative Returns (%)')\n",
    "plt.legend()\n",
    "plt.grid(True)\n",
    "plt.show()"
   ]
  }
 ],
 "metadata": {
  "kernelspec": {
   "display_name": "FGI",
   "language": "python",
   "name": "python3"
  },
  "language_info": {
   "codemirror_mode": {
    "name": "ipython",
    "version": 3
   },
   "file_extension": ".py",
   "mimetype": "text/x-python",
   "name": "python",
   "nbconvert_exporter": "python",
   "pygments_lexer": "ipython3",
   "version": "3.9.6"
  }
 },
 "nbformat": 4,
 "nbformat_minor": 5
}
